{
  "nbformat": 4,
  "nbformat_minor": 0,
  "metadata": {
    "colab": {
      "name": "ResNet50_final.ipynb",
      "provenance": [],
      "collapsed_sections": []
    },
    "kernelspec": {
      "name": "python3",
      "display_name": "Python 3"
    },
    "accelerator": "GPU"
  },
  "cells": [
    {
      "cell_type": "code",
      "metadata": {
        "id": "6SvqlNI0oRR7",
        "colab_type": "code",
        "colab": {}
      },
      "source": [
        "# Use GPU\n",
        "import os\n",
        "os.environ[\"CUDA_VISIBLE_DEVICES\"] = \"0\""
      ],
      "execution_count": 0,
      "outputs": []
    },
    {
      "cell_type": "code",
      "metadata": {
        "id": "2K-3GoRkoUr4",
        "colab_type": "code",
        "outputId": "6b1b6439-0672-4b58-9c85-6c3940a9cec2",
        "colab": {
          "base_uri": "https://localhost:8080/",
          "height": 224
        }
      },
      "source": [
        "!apt-get install -y -qq software-properties-common python-software-properties module-init-tools\n",
        "!add-apt-repository -y ppa:alessandro-strada/ppa 2>&1 > /dev/null\n",
        "!apt-get update -qq 2>&1 > /dev/null\n",
        "!apt-get -y install -qq google-drive-ocamlfuse fuse\n",
        "from google.colab import auth\n",
        "auth.authenticate_user()\n",
        "from oauth2client.client import GoogleCredentials\n",
        "creds = GoogleCredentials.get_application_default()\n",
        "import getpass\n",
        "!google-drive-ocamlfuse -headless -id={creds.client_id} -secret={creds.client_secret} < /dev/null 2>&1 | grep URL\n",
        "vcode = getpass.getpass()\n",
        "!echo {vcode} | google-drive-ocamlfuse -headless -id={creds.client_id} -secret={creds.client_secret}"
      ],
      "execution_count": 0,
      "outputs": [
        {
          "output_type": "stream",
          "text": [
            "E: Package 'python-software-properties' has no installation candidate\n",
            "Selecting previously unselected package google-drive-ocamlfuse.\n",
            "(Reading database ... 132681 files and directories currently installed.)\n",
            "Preparing to unpack .../google-drive-ocamlfuse_0.7.13-0ubuntu1~ubuntu18.04.1_amd64.deb ...\n",
            "Unpacking google-drive-ocamlfuse (0.7.13-0ubuntu1~ubuntu18.04.1) ...\n",
            "Setting up google-drive-ocamlfuse (0.7.13-0ubuntu1~ubuntu18.04.1) ...\n",
            "Processing triggers for man-db (2.8.3-2ubuntu0.1) ...\n",
            "Please, open the following URL in a web browser: https://accounts.google.com/o/oauth2/auth?client_id=32555940559.apps.googleusercontent.com&redirect_uri=urn%3Aietf%3Awg%3Aoauth%3A2.0%3Aoob&scope=https%3A%2F%2Fwww.googleapis.com%2Fauth%2Fdrive&response_type=code&access_type=offline&approval_prompt=force\n",
            "··········\n",
            "Please, open the following URL in a web browser: https://accounts.google.com/o/oauth2/auth?client_id=32555940559.apps.googleusercontent.com&redirect_uri=urn%3Aietf%3Awg%3Aoauth%3A2.0%3Aoob&scope=https%3A%2F%2Fwww.googleapis.com%2Fauth%2Fdrive&response_type=code&access_type=offline&approval_prompt=force\n",
            "Please enter the verification code: Access token retrieved correctly.\n"
          ],
          "name": "stdout"
        }
      ]
    },
    {
      "cell_type": "code",
      "metadata": {
        "id": "HYpzauj7oqTE",
        "colab_type": "code",
        "colab": {}
      },
      "source": [
        "!mkdir -p drive\n",
        "!google-drive-ocamlfuse -o nonempty drive"
      ],
      "execution_count": 0,
      "outputs": []
    },
    {
      "cell_type": "code",
      "metadata": {
        "id": "Hi1U7HL_orF5",
        "colab_type": "code",
        "outputId": "6f60ba97-2334-44c7-db6c-86470a5a0293",
        "colab": {
          "base_uri": "https://localhost:8080/",
          "height": 122
        }
      },
      "source": [
        "# Mount drive\n",
        "from google.colab import drive\n",
        "drive.mount('/content/drive')"
      ],
      "execution_count": 0,
      "outputs": [
        {
          "output_type": "stream",
          "text": [
            "Go to this URL in a browser: https://accounts.google.com/o/oauth2/auth?client_id=947318989803-6bn6qk8qdgf4n4g3pfee6491hc0brc4i.apps.googleusercontent.com&redirect_uri=urn%3Aietf%3Awg%3Aoauth%3A2.0%3Aoob&scope=email%20https%3A%2F%2Fwww.googleapis.com%2Fauth%2Fdocs.test%20https%3A%2F%2Fwww.googleapis.com%2Fauth%2Fdrive%20https%3A%2F%2Fwww.googleapis.com%2Fauth%2Fdrive.photos.readonly%20https%3A%2F%2Fwww.googleapis.com%2Fauth%2Fpeopleapi.readonly&response_type=code\n",
            "\n",
            "Enter your authorization code:\n",
            "··········\n",
            "Mounted at /content/drive\n"
          ],
          "name": "stdout"
        }
      ]
    },
    {
      "cell_type": "code",
      "metadata": {
        "id": "KiHSop0nox1Q",
        "colab_type": "code",
        "outputId": "bbe03208-70f4-4d52-f1ac-5dc61cb1e9a5",
        "colab": {
          "base_uri": "https://localhost:8080/",
          "height": 34
        }
      },
      "source": [
        "import os\n",
        "os.getcwd()\n",
        "os.chdir('/content/drive/My Drive')\n",
        "os.getcwd()"
      ],
      "execution_count": 0,
      "outputs": [
        {
          "output_type": "execute_result",
          "data": {
            "text/plain": [
              "'/content/drive/My Drive'"
            ]
          },
          "metadata": {
            "tags": []
          },
          "execution_count": 5
        }
      ]
    },
    {
      "cell_type": "code",
      "metadata": {
        "id": "EC4A3OAbozws",
        "colab_type": "code",
        "outputId": "e67a9c4c-52a4-412b-ddce-df48f027ccf7",
        "colab": {
          "base_uri": "https://localhost:8080/",
          "height": 134
        }
      },
      "source": [
        "#import library\n",
        "import pandas as pd\n",
        "import numpy as np\n",
        "from glob import glob\n",
        "import fnmatch\n",
        "import cv2\n",
        "\n",
        "\n",
        "from keras import layers\n",
        "from keras.layers import Input, Add, Dense, Activation, ZeroPadding2D, BatchNormalization, Flatten, Conv2D, AveragePooling2D, MaxPooling2D, GlobalMaxPooling2D\n",
        "from keras.models import Model, load_model\n",
        "from keras.preprocessing import image\n",
        "from keras.utils import layer_utils\n",
        "from keras.utils.data_utils import get_file\n",
        "from keras.applications.imagenet_utils import preprocess_input\n",
        "import pydot\n",
        "from IPython.display import SVG\n",
        "from keras.utils.vis_utils import model_to_dot\n",
        "from keras.utils import plot_model\n",
        "#from resnets_utils import *\n",
        "from keras.initializers import glorot_uniform\n",
        "import scipy.misc\n",
        "import matplotlib.pyplot as plt\n",
        "from matplotlib.pyplot import imshow\n",
        "from keras.preprocessing.image import ImageDataGenerator\n",
        "\n",
        "import keras.backend as K\n",
        "K.set_image_data_format('channels_last')\n",
        "K.set_learning_phase(1)"
      ],
      "execution_count": 0,
      "outputs": [
        {
          "output_type": "stream",
          "text": [
            "Using TensorFlow backend.\n"
          ],
          "name": "stderr"
        },
        {
          "output_type": "display_data",
          "data": {
            "text/html": [
              "<p style=\"color: red;\">\n",
              "The default version of TensorFlow in Colab will soon switch to TensorFlow 2.x.<br>\n",
              "We recommend you <a href=\"https://www.tensorflow.org/guide/migrate\" target=\"_blank\">upgrade</a> now \n",
              "or ensure your notebook will continue to use TensorFlow 1.x via the <code>%tensorflow_version 1.x</code> magic:\n",
              "<a href=\"https://colab.research.google.com/notebooks/tensorflow_version.ipynb\" target=\"_blank\">more info</a>.</p>\n"
            ],
            "text/plain": [
              "<IPython.core.display.HTML object>"
            ]
          },
          "metadata": {
            "tags": []
          }
        },
        {
          "output_type": "stream",
          "text": [
            "WARNING:tensorflow:From /usr/local/lib/python3.6/dist-packages/keras/backend/tensorflow_backend.py:66: The name tf.get_default_graph is deprecated. Please use tf.compat.v1.get_default_graph instead.\n",
            "\n"
          ],
          "name": "stdout"
        }
      ]
    },
    {
      "cell_type": "code",
      "metadata": {
        "id": "1umsgykMo2I7",
        "colab_type": "code",
        "colab": {}
      },
      "source": [
        "X1=np.load('X_new.npy')\n",
        "Y1=np.load('Y_new.npy')\n",
        "\n",
        "X=X1[0:40000]\n",
        "Y=Y1[0:40000]"
      ],
      "execution_count": 0,
      "outputs": []
    },
    {
      "cell_type": "code",
      "metadata": {
        "id": "9LZ5_Skto4qV",
        "colab_type": "code",
        "outputId": "6585f8d0-a44a-43b6-93b9-99d69b041ac8",
        "colab": {
          "base_uri": "https://localhost:8080/",
          "height": 85
        }
      },
      "source": [
        "def describe_data(x,y):\n",
        "    print('Total number: {}'.format(len(x)))\n",
        "    print('Number of IDC(-): {}'.format(np.sum(y==0)))\n",
        "    print('Number of IDC(+): {}'.format(np.sum(y==1)))\n",
        "    print('Percentage of IDC(+) : {:.2f}%'.format(100*np.mean(y)))\n",
        "describe_data(X, Y)"
      ],
      "execution_count": 0,
      "outputs": [
        {
          "output_type": "stream",
          "text": [
            "Total number: 40000\n",
            "Number of IDC(-): 30556\n",
            "Number of IDC(+): 9444\n",
            "Percentage of IDC(+) : 23.61%\n"
          ],
          "name": "stdout"
        }
      ]
    },
    {
      "cell_type": "code",
      "metadata": {
        "id": "WoBXQEQHo7Ys",
        "colab_type": "code",
        "colab": {}
      },
      "source": [
        "x_sub = np.array(X)\n",
        "x_sub=x_sub/255.0\n",
        "x_sub_shape = x_sub.shape[1] * x_sub.shape[2] * x_sub.shape[3]\n",
        "x_flat = x_sub.reshape(x_sub.shape[0], x_sub_shape)"
      ],
      "execution_count": 0,
      "outputs": []
    },
    {
      "cell_type": "code",
      "metadata": {
        "id": "Q50B_Ie6o9jJ",
        "colab_type": "code",
        "outputId": "0bea08c3-d156-457c-f985-5e1c79fa27c1",
        "colab": {
          "base_uri": "https://localhost:8080/",
          "height": 173
        }
      },
      "source": [
        "r = pd.value_counts(Y)\n",
        "print(r)\n",
        "from imblearn.under_sampling import RandomUnderSampler\n",
        "rus=RandomUnderSampler(ratio='auto')\n",
        "x_flat_resample,y_sub_resample=rus.fit_sample(x_flat,Y)\n",
        "len(x_flat_resample)\n",
        "r = pd.value_counts(y_sub_resample)\n",
        "print(r)"
      ],
      "execution_count": 0,
      "outputs": [
        {
          "output_type": "stream",
          "text": [
            "0    30556\n",
            "1     9444\n",
            "dtype: int64\n"
          ],
          "name": "stdout"
        },
        {
          "output_type": "stream",
          "text": [
            "/usr/local/lib/python3.6/dist-packages/sklearn/externals/six.py:31: DeprecationWarning: The module is deprecated in version 0.21 and will be removed in version 0.23 since we've dropped support for Python 2.7. Please rely on the official version of six (https://pypi.org/project/six/).\n",
            "  \"(https://pypi.org/project/six/).\", DeprecationWarning)\n"
          ],
          "name": "stderr"
        },
        {
          "output_type": "stream",
          "text": [
            "1    9444\n",
            "0    9444\n",
            "dtype: int64\n"
          ],
          "name": "stdout"
        }
      ]
    },
    {
      "cell_type": "code",
      "metadata": {
        "id": "nWcR9wVSo_fR",
        "colab_type": "code",
        "colab": {}
      },
      "source": [
        "from sklearn.model_selection import train_test_split\n",
        "X_train, X_test, y_train, y_test = train_test_split(x_flat_resample, y_sub_resample, test_size=0.2, random_state = 2) # 0.2 test_size means 20%"
      ],
      "execution_count": 0,
      "outputs": []
    },
    {
      "cell_type": "code",
      "metadata": {
        "id": "qtGga-Z_pBrj",
        "colab_type": "code",
        "outputId": "f6647009-7935-4ef3-bb7c-3c2e51b3d1e3",
        "colab": {
          "base_uri": "https://localhost:8080/",
          "height": 51
        }
      },
      "source": [
        "print(\"Training Data Shape:\", X_train.shape)\n",
        "print(\"Testing Data Shape:\", X_test.shape)"
      ],
      "execution_count": 0,
      "outputs": [
        {
          "output_type": "stream",
          "text": [
            "Training Data Shape: (15110, 7500)\n",
            "Testing Data Shape: (3778, 7500)\n"
          ],
          "name": "stdout"
        }
      ]
    },
    {
      "cell_type": "code",
      "metadata": {
        "id": "nmUArx1_pDhJ",
        "colab_type": "code",
        "colab": {}
      },
      "source": [
        "for i in range(len(X_train)):\n",
        "    height, width, channels = 50,50,3\n",
        "    X_train_reshape = X_train.reshape(len(X_train),height,width,channels)\n",
        "\n",
        "for i in range(len(X_test)):\n",
        "    height, width, channels = 50,50,3\n",
        "    X_test_reshape = X_test.reshape(len(X_test),height,width,channels)"
      ],
      "execution_count": 0,
      "outputs": []
    },
    {
      "cell_type": "code",
      "metadata": {
        "id": "dz7THVmJpLDB",
        "colab_type": "code",
        "colab": {}
      },
      "source": [
        "from keras.utils.np_utils import to_categorical\n",
        "y_train_c = to_categorical(y_train, num_classes = 2)\n",
        "y_test_c = to_categorical(y_test, num_classes = 2)\n",
        "\n",
        "datagen = ImageDataGenerator(\n",
        "        rotation_range=20,  # randomly rotate images in the range (degrees, 0 to 180)\n",
        "        width_shift_range=0.2,  # randomly shift images horizontally (fraction of total width)\n",
        "        height_shift_range=0.2,\n",
        "        shear_range=0.2,\n",
        "        zoom_range=0.2,\n",
        "        horizontal_flip=True,  # randomly flip images\n",
        "        vertical_flip=True) "
      ],
      "execution_count": 0,
      "outputs": []
    },
    {
      "cell_type": "code",
      "metadata": {
        "id": "DeObrRY-pP64",
        "colab_type": "code",
        "outputId": "65cf0ac0-c24f-49b7-bc5d-ee405798884e",
        "colab": {
          "base_uri": "https://localhost:8080/",
          "height": 85
        }
      },
      "source": [
        "print(X_train_reshape.shape)\n",
        "print(y_train_c.shape)\n",
        "print(X_test_reshape.shape)\n",
        "print(y_test_c.shape)"
      ],
      "execution_count": 0,
      "outputs": [
        {
          "output_type": "stream",
          "text": [
            "(15110, 50, 50, 3)\n",
            "(15110, 2)\n",
            "(3778, 50, 50, 3)\n",
            "(3778, 2)\n"
          ],
          "name": "stdout"
        }
      ]
    },
    {
      "cell_type": "code",
      "metadata": {
        "id": "jPqRYp-jpUig",
        "colab_type": "code",
        "colab": {}
      },
      "source": [
        "def identity_block(X, f, filters, stage, block):\n",
        " \n",
        "    conv_name_base = 'res' + str(stage) + block + '_branch'\n",
        "    bn_name_base = 'bn' + str(stage) + block + '_branch'\n",
        " \n",
        "    F1, F2, F3 = filters\n",
        " \n",
        "    X_shortcut = X\n",
        " \n",
        "    X = Conv2D(filters = F1, kernel_size = (1,1), strides = (1,1), padding = 'valid', name = conv_name_base + '2a', kernel_initializer = glorot_uniform(seed = 0))(X)\n",
        "    X = BatchNormalization(axis = 3, name = bn_name_base + '2a')(X)\n",
        "    X = Activation('relu')(X)\n",
        " \n",
        "    X = Conv2D(filters = F2, kernel_size = (f,f), strides = (1,1), padding = 'same', name = conv_name_base + '2b', kernel_initializer = glorot_uniform(seed = 0))(X)\n",
        "    X = BatchNormalization(axis = 3, name = bn_name_base + '2b')(X)\n",
        "    X = Activation('relu')(X)\n",
        " \n",
        "    X = Conv2D(filters = F3, kernel_size = (1,1), strides = (1,1), padding = 'valid', name = conv_name_base + '2c', kernel_initializer = glorot_uniform(seed = 0))(X)\n",
        "    X = BatchNormalization(axis = 3, name = bn_name_base + '2c')(X)\n",
        " \n",
        "    X = Add()([X, X_shortcut])\n",
        "    X = Activation('relu')(X)\n",
        " \n",
        "    return X"
      ],
      "execution_count": 0,
      "outputs": []
    },
    {
      "cell_type": "code",
      "metadata": {
        "id": "sivWXbD9pQuc",
        "colab_type": "code",
        "colab": {}
      },
      "source": [
        "def convolution_block(X, f, filters, stage, block, s=2):\n",
        " \n",
        "    conv_name_base = 'res' + str(stage) + block + '_branch'\n",
        "    bn_name_base = 'bn' + str(stage) + block + '_branch'\n",
        "    F1, F2, F3 = filters\n",
        " \n",
        "    X_shortcut = X\n",
        " \n",
        "    X = Conv2D(filters = F1, kernel_size = (1,1), strides = (s,s), name = conv_name_base + '2a', kernel_initializer = glorot_uniform(seed = 0))(X)\n",
        "    X = BatchNormalization(axis = 3, name = bn_name_base + '2a')(X)\n",
        "    X = Activation('relu')(X)\n",
        " \n",
        "    X = Conv2D(filters = F2, kernel_size = (f,f), strides = (1,1), padding = 'same', name = conv_name_base + '2b', kernel_initializer = glorot_uniform(seed = 0))(X)\n",
        "    X = BatchNormalization(axis = 3, name = bn_name_base + '2b')(X)\n",
        "    X = Activation('relu')(X)\n",
        " \n",
        "    X = Conv2D(filters = F3, kernel_size = (1,1), strides = (1,1), name = conv_name_base + '2c', kernel_initializer = glorot_uniform(seed = 0))(X)\n",
        "    X = BatchNormalization(axis = 3, name = bn_name_base + '2c')(X)\n",
        " \n",
        "    X_shortcut = Conv2D(F3, (1,1), strides = (s,s), name = conv_name_base + '1', kernel_initializer = glorot_uniform(seed=0))(X_shortcut)\n",
        "    X_shortcut = BatchNormalization(axis = 3, name=bn_name_base + '1')(X_shortcut)\n",
        " \n",
        "    X = Add()([X, X_shortcut])\n",
        "    X = Activation('relu')(X)\n",
        " \n",
        "    return X\n"
      ],
      "execution_count": 0,
      "outputs": []
    },
    {
      "cell_type": "code",
      "metadata": {
        "id": "3_2wHMZupZNh",
        "colab_type": "code",
        "colab": {}
      },
      "source": [
        "def ResNet50(input_shape = (64, 64, 3), classes = 6):\n",
        " \n",
        "    X_input = Input(input_shape)\n",
        " \n",
        "    X = ZeroPadding2D((3, 3))(X_input)\n",
        " \n",
        "    X = Conv2D(64, (7, 7), strides = (2,2), name = 'conv1', kernel_initializer = glorot_uniform(seed=0))(X)\n",
        "    X = BatchNormalization(axis = 3, name = 'bn_conv1')(X)\n",
        "    X = Activation('relu')(X)\n",
        "    X = MaxPooling2D((3, 3), strides = (2,2))(X)\n",
        " \n",
        "    X = convolution_block(X, f = 3, filters = [64,64,256], stage = 2, block = 'a', s = 1)\n",
        "    X = identity_block(X, 3, [64,64,256], stage=2, block='b')\n",
        "    X = identity_block(X, 3, [64,64,256], stage=2, block='c')\n",
        " \n",
        "    X = convolution_block(X, f = 3, filters = [128,128,512], stage = 3, block = 'a', s = 2)\n",
        "    X = identity_block(X, 3, [128,128,512], stage=3, block='b')\n",
        "    X = identity_block(X, 3, [128,128,512], stage=3, block='c')\n",
        "    X = identity_block(X, 3, [128,128,512], stage=3, block='d')\n",
        " \n",
        "    X = convolution_block(X, f = 3, filters = [256,256,1024], stage = 4, block = 'a', s = 2)\n",
        "    X = identity_block(X, 3, [256,256,1024], stage=4, block='b')\n",
        "    X = identity_block(X, 3, [256,256,1024], stage=4, block='c')\n",
        "    X = identity_block(X, 3, [256,256,1024], stage=4, block='d')    \n",
        "    X = identity_block(X, 3, [256,256,1024], stage=4, block='e')\n",
        "    X = identity_block(X, 3, [256,256,1024], stage=4, block='f')\n",
        " \n",
        "    X = convolution_block(X, f = 3, filters = [512,512,2048], stage = 5, block = 'a', s = 2)\n",
        "    X = identity_block(X, 3, [512,512,2048], stage=5, block='b')\n",
        "    X = identity_block(X, 3, [512,512,2048], stage=5, block='c')\n",
        " \n",
        "    X = AveragePooling2D((2, 2), name='avg_pool')(X)\n",
        " \n",
        "    X = Flatten()(X)\n",
        "    X = Dense(classes, activation = 'softmax', name = 'fc' + str(classes), kernel_initializer = glorot_uniform(seed=0))(X)\n",
        " \n",
        "    model = Model(inputs = X_input, outputs = X, name = 'ResNet50')\n",
        " \n",
        "    return model\n"
      ],
      "execution_count": 0,
      "outputs": []
    },
    {
      "cell_type": "code",
      "metadata": {
        "id": "VvofYQ03pbqr",
        "colab_type": "code",
        "colab": {}
      },
      "source": [
        "from keras.callbacks import Callback, EarlyStopping, ReduceLROnPlateau, ModelCheckpoint\n",
        "class MetricsCheckpoint(Callback):\n",
        "    def __init__(self, savepath):\n",
        "        super(MetricsCheckpoint, self).__init__()\n",
        "        self.savepath = savepath\n",
        "        self.history = {}\n",
        "    def on_epoch_end(self, epoch, logs=None):\n",
        "        for k, v in logs.items():\n",
        "            self.history.setdefault(k, []).append(v)\n",
        "        np.save(self.savepath, self.history)"
      ],
      "execution_count": 0,
      "outputs": []
    },
    {
      "cell_type": "code",
      "metadata": {
        "id": "6jJZzFDipdtD",
        "colab_type": "code",
        "outputId": "4df0d2cc-b5a9-494f-8441-27046ebed1b1",
        "colab": {
          "base_uri": "https://localhost:8080/",
          "height": 1000
        }
      },
      "source": [
        "model = ResNet50(input_shape = (50,50,3), classes = 2)\n",
        "model.compile(optimizer='adam', loss = 'categorical_crossentropy', metrics=['accuracy'])\n",
        "history = model.fit_generator(datagen.flow(X_train_reshape,y_train_c, batch_size=32),validation_data=(X_test_reshape,y_test_c),\n",
        "                        steps_per_epoch=len(X_train) / 32, epochs=150,callbacks = [MetricsCheckpoint('logs')],verbose=1)\n"
      ],
      "execution_count": 0,
      "outputs": [
        {
          "output_type": "stream",
          "text": [
            "WARNING:tensorflow:From /usr/local/lib/python3.6/dist-packages/keras/backend/tensorflow_backend.py:541: The name tf.placeholder is deprecated. Please use tf.compat.v1.placeholder instead.\n",
            "\n",
            "WARNING:tensorflow:From /usr/local/lib/python3.6/dist-packages/keras/backend/tensorflow_backend.py:4432: The name tf.random_uniform is deprecated. Please use tf.random.uniform instead.\n",
            "\n",
            "WARNING:tensorflow:From /usr/local/lib/python3.6/dist-packages/keras/backend/tensorflow_backend.py:190: The name tf.get_default_session is deprecated. Please use tf.compat.v1.get_default_session instead.\n",
            "\n",
            "WARNING:tensorflow:From /usr/local/lib/python3.6/dist-packages/keras/backend/tensorflow_backend.py:197: The name tf.ConfigProto is deprecated. Please use tf.compat.v1.ConfigProto instead.\n",
            "\n",
            "WARNING:tensorflow:From /usr/local/lib/python3.6/dist-packages/keras/backend/tensorflow_backend.py:203: The name tf.Session is deprecated. Please use tf.compat.v1.Session instead.\n",
            "\n",
            "WARNING:tensorflow:From /usr/local/lib/python3.6/dist-packages/keras/backend/tensorflow_backend.py:207: The name tf.global_variables is deprecated. Please use tf.compat.v1.global_variables instead.\n",
            "\n",
            "WARNING:tensorflow:From /usr/local/lib/python3.6/dist-packages/keras/backend/tensorflow_backend.py:216: The name tf.is_variable_initialized is deprecated. Please use tf.compat.v1.is_variable_initialized instead.\n",
            "\n",
            "WARNING:tensorflow:From /usr/local/lib/python3.6/dist-packages/keras/backend/tensorflow_backend.py:223: The name tf.variables_initializer is deprecated. Please use tf.compat.v1.variables_initializer instead.\n",
            "\n",
            "WARNING:tensorflow:From /usr/local/lib/python3.6/dist-packages/keras/backend/tensorflow_backend.py:2041: The name tf.nn.fused_batch_norm is deprecated. Please use tf.compat.v1.nn.fused_batch_norm instead.\n",
            "\n",
            "WARNING:tensorflow:From /usr/local/lib/python3.6/dist-packages/keras/backend/tensorflow_backend.py:4267: The name tf.nn.max_pool is deprecated. Please use tf.nn.max_pool2d instead.\n",
            "\n",
            "WARNING:tensorflow:From /usr/local/lib/python3.6/dist-packages/keras/backend/tensorflow_backend.py:4271: The name tf.nn.avg_pool is deprecated. Please use tf.nn.avg_pool2d instead.\n",
            "\n",
            "WARNING:tensorflow:From /usr/local/lib/python3.6/dist-packages/keras/optimizers.py:793: The name tf.train.Optimizer is deprecated. Please use tf.compat.v1.train.Optimizer instead.\n",
            "\n",
            "WARNING:tensorflow:From /usr/local/lib/python3.6/dist-packages/keras/backend/tensorflow_backend.py:3576: The name tf.log is deprecated. Please use tf.math.log instead.\n",
            "\n",
            "WARNING:tensorflow:From /usr/local/lib/python3.6/dist-packages/tensorflow_core/python/ops/math_grad.py:1424: where (from tensorflow.python.ops.array_ops) is deprecated and will be removed in a future version.\n",
            "Instructions for updating:\n",
            "Use tf.where in 2.0, which has the same broadcast rule as np.where\n",
            "WARNING:tensorflow:From /usr/local/lib/python3.6/dist-packages/keras/backend/tensorflow_backend.py:1033: The name tf.assign_add is deprecated. Please use tf.compat.v1.assign_add instead.\n",
            "\n",
            "WARNING:tensorflow:From /usr/local/lib/python3.6/dist-packages/keras/backend/tensorflow_backend.py:1020: The name tf.assign is deprecated. Please use tf.compat.v1.assign instead.\n",
            "\n",
            "Epoch 1/150\n",
            "473/472 [==============================] - 64s 135ms/step - loss: 0.7459 - acc: 0.7633 - val_loss: 0.5880 - val_acc: 0.7914\n",
            "Epoch 2/150\n",
            "473/472 [==============================] - 48s 102ms/step - loss: 0.7039 - acc: 0.7335 - val_loss: 0.6661 - val_acc: 0.7409\n",
            "Epoch 3/150\n",
            "473/472 [==============================] - 48s 102ms/step - loss: 0.5978 - acc: 0.7660 - val_loss: 0.6190 - val_acc: 0.7906\n",
            "Epoch 4/150\n",
            "473/472 [==============================] - 48s 101ms/step - loss: 0.6796 - acc: 0.7554 - val_loss: 0.6392 - val_acc: 0.7684\n",
            "Epoch 5/150\n",
            "473/472 [==============================] - 48s 102ms/step - loss: 0.5629 - acc: 0.7838 - val_loss: 0.5023 - val_acc: 0.7882\n",
            "Epoch 6/150\n",
            "473/472 [==============================] - 48s 102ms/step - loss: 0.5902 - acc: 0.7681 - val_loss: 0.6392 - val_acc: 0.7520\n",
            "Epoch 7/150\n",
            "473/472 [==============================] - 48s 102ms/step - loss: 0.7086 - acc: 0.7596 - val_loss: 0.6211 - val_acc: 0.7380\n",
            "Epoch 8/150\n",
            "473/472 [==============================] - 48s 102ms/step - loss: 0.5075 - acc: 0.7876 - val_loss: 0.4871 - val_acc: 0.7946\n",
            "Epoch 9/150\n",
            "473/472 [==============================] - 48s 102ms/step - loss: 0.5066 - acc: 0.7945 - val_loss: 0.4971 - val_acc: 0.7991\n",
            "Epoch 10/150\n",
            "473/472 [==============================] - 48s 102ms/step - loss: 0.5701 - acc: 0.7646 - val_loss: 0.6676 - val_acc: 0.7763\n",
            "Epoch 11/150\n",
            "473/472 [==============================] - 48s 103ms/step - loss: 0.6881 - acc: 0.7738 - val_loss: 0.5951 - val_acc: 0.7763\n",
            "Epoch 12/150\n",
            "473/472 [==============================] - 48s 102ms/step - loss: 0.6453 - acc: 0.7655 - val_loss: 0.5188 - val_acc: 0.7949\n",
            "Epoch 13/150\n",
            "473/472 [==============================] - 48s 102ms/step - loss: 0.4965 - acc: 0.7883 - val_loss: 0.4925 - val_acc: 0.8004\n",
            "Epoch 14/150\n",
            "473/472 [==============================] - 48s 102ms/step - loss: 0.5120 - acc: 0.7854 - val_loss: 0.4947 - val_acc: 0.7949\n",
            "Epoch 15/150\n",
            "473/472 [==============================] - 48s 101ms/step - loss: 0.5335 - acc: 0.7920 - val_loss: 0.5073 - val_acc: 0.8028\n",
            "Epoch 16/150\n",
            "473/472 [==============================] - 48s 102ms/step - loss: 0.4692 - acc: 0.8016 - val_loss: 0.4591 - val_acc: 0.8028\n",
            "Epoch 17/150\n",
            "473/472 [==============================] - 48s 102ms/step - loss: 0.5360 - acc: 0.7971 - val_loss: 0.5615 - val_acc: 0.7962\n",
            "Epoch 18/150\n",
            "473/472 [==============================] - 48s 102ms/step - loss: 0.6080 - acc: 0.7774 - val_loss: 0.5425 - val_acc: 0.7917\n",
            "Epoch 19/150\n",
            "473/472 [==============================] - 49s 103ms/step - loss: 0.5218 - acc: 0.7951 - val_loss: 0.5200 - val_acc: 0.8062\n",
            "Epoch 20/150\n",
            "473/472 [==============================] - 48s 102ms/step - loss: 0.5610 - acc: 0.7944 - val_loss: 0.5526 - val_acc: 0.8036\n",
            "Epoch 21/150\n",
            "473/472 [==============================] - 48s 102ms/step - loss: 0.4993 - acc: 0.8075 - val_loss: 0.5005 - val_acc: 0.8102\n",
            "Epoch 22/150\n",
            "473/472 [==============================] - 48s 102ms/step - loss: 0.7185 - acc: 0.7453 - val_loss: 0.8287 - val_acc: 0.5556\n",
            "Epoch 23/150\n",
            "473/472 [==============================] - 48s 102ms/step - loss: 0.7705 - acc: 0.6748 - val_loss: 0.6460 - val_acc: 0.6850\n",
            "Epoch 24/150\n",
            "473/472 [==============================] - 48s 101ms/step - loss: 0.6316 - acc: 0.6835 - val_loss: 0.6084 - val_acc: 0.6866\n",
            "Epoch 25/150\n",
            "473/472 [==============================] - 48s 102ms/step - loss: 0.5520 - acc: 0.7250 - val_loss: 0.5209 - val_acc: 0.7454\n",
            "Epoch 26/150\n",
            "473/472 [==============================] - 48s 102ms/step - loss: 0.4973 - acc: 0.7667 - val_loss: 0.4861 - val_acc: 0.7755\n",
            "Epoch 27/150\n",
            "473/472 [==============================] - 48s 102ms/step - loss: 0.4777 - acc: 0.7813 - val_loss: 0.4711 - val_acc: 0.7898\n",
            "Epoch 28/150\n",
            "473/472 [==============================] - 48s 101ms/step - loss: 0.4624 - acc: 0.7907 - val_loss: 0.4495 - val_acc: 0.7983\n",
            "Epoch 29/150\n",
            "473/472 [==============================] - 48s 101ms/step - loss: 0.4512 - acc: 0.7986 - val_loss: 0.4434 - val_acc: 0.8055\n",
            "Epoch 30/150\n",
            "473/472 [==============================] - 48s 101ms/step - loss: 0.4462 - acc: 0.8020 - val_loss: 0.4270 - val_acc: 0.8110\n",
            "Epoch 31/150\n",
            "473/472 [==============================] - 48s 101ms/step - loss: 0.4346 - acc: 0.8118 - val_loss: 0.4153 - val_acc: 0.8163\n",
            "Epoch 32/150\n",
            "473/472 [==============================] - 48s 101ms/step - loss: 0.4304 - acc: 0.8124 - val_loss: 0.4119 - val_acc: 0.8256\n",
            "Epoch 33/150\n",
            "473/472 [==============================] - 48s 102ms/step - loss: 0.4146 - acc: 0.8182 - val_loss: 0.4011 - val_acc: 0.8250\n",
            "Epoch 34/150\n",
            "473/472 [==============================] - 48s 101ms/step - loss: 0.4108 - acc: 0.8201 - val_loss: 0.3977 - val_acc: 0.8250\n",
            "Epoch 35/150\n",
            "473/472 [==============================] - 47s 100ms/step - loss: 0.4134 - acc: 0.8191 - val_loss: 0.3987 - val_acc: 0.8261\n",
            "Epoch 36/150\n",
            "473/472 [==============================] - 47s 100ms/step - loss: 0.4172 - acc: 0.8179 - val_loss: 0.4097 - val_acc: 0.8195\n",
            "Epoch 37/150\n",
            "473/472 [==============================] - 48s 101ms/step - loss: 0.4142 - acc: 0.8205 - val_loss: 0.3966 - val_acc: 0.8261\n",
            "Epoch 38/150\n",
            "473/472 [==============================] - 49s 103ms/step - loss: 0.4124 - acc: 0.8186 - val_loss: 0.3985 - val_acc: 0.8261\n",
            "Epoch 39/150\n",
            "473/472 [==============================] - 48s 102ms/step - loss: 0.4041 - acc: 0.8243 - val_loss: 0.3879 - val_acc: 0.8359\n",
            "Epoch 40/150\n",
            "473/472 [==============================] - 48s 102ms/step - loss: 0.4068 - acc: 0.8210 - val_loss: 0.3900 - val_acc: 0.8285\n",
            "Epoch 41/150\n",
            "473/472 [==============================] - 48s 102ms/step - loss: 0.4032 - acc: 0.8255 - val_loss: 0.3844 - val_acc: 0.8359\n",
            "Epoch 42/150\n",
            "473/472 [==============================] - 49s 103ms/step - loss: 0.3972 - acc: 0.8278 - val_loss: 0.3811 - val_acc: 0.8367\n",
            "Epoch 43/150\n",
            "473/472 [==============================] - 49s 103ms/step - loss: 0.3978 - acc: 0.8276 - val_loss: 0.3827 - val_acc: 0.8298\n",
            "Epoch 44/150\n",
            "473/472 [==============================] - 48s 101ms/step - loss: 0.3947 - acc: 0.8260 - val_loss: 0.3755 - val_acc: 0.8364\n",
            "Epoch 45/150\n",
            "473/472 [==============================] - 48s 101ms/step - loss: 0.3913 - acc: 0.8299 - val_loss: 0.3743 - val_acc: 0.8391\n",
            "Epoch 46/150\n",
            "473/472 [==============================] - 48s 102ms/step - loss: 0.3907 - acc: 0.8282 - val_loss: 0.3668 - val_acc: 0.8465\n",
            "Epoch 47/150\n",
            "473/472 [==============================] - 47s 100ms/step - loss: 0.4036 - acc: 0.8278 - val_loss: 0.3916 - val_acc: 0.8359\n",
            "Epoch 48/150\n",
            "473/472 [==============================] - 47s 99ms/step - loss: 0.3865 - acc: 0.8349 - val_loss: 0.3711 - val_acc: 0.8460\n",
            "Epoch 49/150\n",
            "473/472 [==============================] - 47s 100ms/step - loss: 0.3756 - acc: 0.8373 - val_loss: 0.3564 - val_acc: 0.8483\n",
            "Epoch 50/150\n",
            "473/472 [==============================] - 47s 99ms/step - loss: 0.3702 - acc: 0.8439 - val_loss: 0.3447 - val_acc: 0.8557\n",
            "Epoch 51/150\n",
            "473/472 [==============================] - 47s 100ms/step - loss: 0.3681 - acc: 0.8402 - val_loss: 0.3490 - val_acc: 0.8499\n",
            "Epoch 52/150\n",
            "473/472 [==============================] - 47s 100ms/step - loss: 0.3725 - acc: 0.8399 - val_loss: 0.3578 - val_acc: 0.8467\n",
            "Epoch 53/150\n",
            "473/472 [==============================] - 48s 101ms/step - loss: 0.3635 - acc: 0.8439 - val_loss: 0.3360 - val_acc: 0.8528\n",
            "Epoch 54/150\n",
            "473/472 [==============================] - 48s 101ms/step - loss: 0.3574 - acc: 0.8499 - val_loss: 0.3348 - val_acc: 0.8576\n",
            "Epoch 55/150\n",
            "473/472 [==============================] - 48s 101ms/step - loss: 0.3621 - acc: 0.8478 - val_loss: 0.3693 - val_acc: 0.8407\n",
            "Epoch 56/150\n",
            "473/472 [==============================] - 48s 101ms/step - loss: 0.3644 - acc: 0.8441 - val_loss: 0.3410 - val_acc: 0.8515\n",
            "Epoch 57/150\n",
            "473/472 [==============================] - 48s 101ms/step - loss: 0.3564 - acc: 0.8489 - val_loss: 0.3395 - val_acc: 0.8589\n",
            "Epoch 58/150\n",
            "473/472 [==============================] - 48s 101ms/step - loss: 0.3580 - acc: 0.8481 - val_loss: 0.3395 - val_acc: 0.8600\n",
            "Epoch 59/150\n",
            "473/472 [==============================] - 48s 102ms/step - loss: 0.3575 - acc: 0.8506 - val_loss: 0.3290 - val_acc: 0.8610\n",
            "Epoch 60/150\n",
            "473/472 [==============================] - 48s 102ms/step - loss: 0.3524 - acc: 0.8512 - val_loss: 0.3410 - val_acc: 0.8579\n",
            "Epoch 61/150\n",
            "473/472 [==============================] - 48s 102ms/step - loss: 0.3454 - acc: 0.8528 - val_loss: 0.3342 - val_acc: 0.8510\n",
            "Epoch 62/150\n",
            "473/472 [==============================] - 48s 101ms/step - loss: 0.3689 - acc: 0.8405 - val_loss: 0.3534 - val_acc: 0.8486\n",
            "Epoch 63/150\n",
            "473/472 [==============================] - 48s 102ms/step - loss: 0.3534 - acc: 0.8502 - val_loss: 0.3812 - val_acc: 0.8380\n",
            "Epoch 64/150\n",
            "473/472 [==============================] - 48s 101ms/step - loss: 0.3426 - acc: 0.8541 - val_loss: 0.3290 - val_acc: 0.8597\n",
            "Epoch 65/150\n",
            "473/472 [==============================] - 48s 101ms/step - loss: 0.3410 - acc: 0.8553 - val_loss: 0.3179 - val_acc: 0.8613\n",
            "Epoch 66/150\n",
            "473/472 [==============================] - 48s 102ms/step - loss: 0.3348 - acc: 0.8586 - val_loss: 0.3137 - val_acc: 0.8671\n",
            "Epoch 67/150\n",
            "473/472 [==============================] - 48s 102ms/step - loss: 0.3306 - acc: 0.8602 - val_loss: 0.3193 - val_acc: 0.8703\n",
            "Epoch 68/150\n",
            "473/472 [==============================] - 48s 102ms/step - loss: 0.3358 - acc: 0.8563 - val_loss: 0.3256 - val_acc: 0.8621\n",
            "Epoch 69/150\n",
            "473/472 [==============================] - 48s 101ms/step - loss: 0.3309 - acc: 0.8596 - val_loss: 0.3119 - val_acc: 0.8684\n",
            "Epoch 70/150\n",
            "473/472 [==============================] - 48s 101ms/step - loss: 0.3320 - acc: 0.8607 - val_loss: 0.3130 - val_acc: 0.8698\n",
            "Epoch 71/150\n",
            "473/472 [==============================] - 47s 100ms/step - loss: 0.3326 - acc: 0.8585 - val_loss: 0.3164 - val_acc: 0.8706\n",
            "Epoch 72/150\n",
            "473/472 [==============================] - 47s 99ms/step - loss: 0.3271 - acc: 0.8628 - val_loss: 0.3132 - val_acc: 0.8674\n",
            "Epoch 73/150\n",
            "473/472 [==============================] - 47s 99ms/step - loss: 0.3278 - acc: 0.8617 - val_loss: 0.3138 - val_acc: 0.8661\n",
            "Epoch 74/150\n",
            "473/472 [==============================] - 47s 99ms/step - loss: 0.3232 - acc: 0.8659 - val_loss: 0.3065 - val_acc: 0.8737\n",
            "Epoch 75/150\n",
            "473/472 [==============================] - 47s 99ms/step - loss: 0.3206 - acc: 0.8632 - val_loss: 0.3189 - val_acc: 0.8661\n",
            "Epoch 76/150\n",
            "473/472 [==============================] - 46s 98ms/step - loss: 0.3338 - acc: 0.8594 - val_loss: 0.3252 - val_acc: 0.8624\n",
            "Epoch 77/150\n",
            "473/472 [==============================] - 46s 98ms/step - loss: 0.3273 - acc: 0.8633 - val_loss: 0.3115 - val_acc: 0.8674\n",
            "Epoch 78/150\n",
            "473/472 [==============================] - 46s 98ms/step - loss: 0.3200 - acc: 0.8678 - val_loss: 0.3014 - val_acc: 0.8785\n",
            "Epoch 79/150\n",
            "473/472 [==============================] - 46s 97ms/step - loss: 0.3164 - acc: 0.8670 - val_loss: 0.3028 - val_acc: 0.8732\n",
            "Epoch 80/150\n",
            "473/472 [==============================] - 46s 97ms/step - loss: 0.3208 - acc: 0.8662 - val_loss: 0.2964 - val_acc: 0.8727\n",
            "Epoch 81/150\n",
            "473/472 [==============================] - 46s 97ms/step - loss: 0.3155 - acc: 0.8663 - val_loss: 0.3031 - val_acc: 0.8719\n",
            "Epoch 82/150\n",
            "473/472 [==============================] - 46s 97ms/step - loss: 0.3852 - acc: 0.8385 - val_loss: 0.3520 - val_acc: 0.8489\n",
            "Epoch 83/150\n",
            "473/472 [==============================] - 46s 96ms/step - loss: 0.3503 - acc: 0.8533 - val_loss: 0.3284 - val_acc: 0.8568\n",
            "Epoch 84/150\n",
            "473/472 [==============================] - 46s 97ms/step - loss: 0.3325 - acc: 0.8612 - val_loss: 0.3119 - val_acc: 0.8655\n",
            "Epoch 85/150\n",
            "473/472 [==============================] - 47s 100ms/step - loss: 0.3245 - acc: 0.8650 - val_loss: 0.3070 - val_acc: 0.8695\n",
            "Epoch 86/150\n",
            "473/472 [==============================] - 47s 100ms/step - loss: 0.3176 - acc: 0.8672 - val_loss: 0.3003 - val_acc: 0.8692\n",
            "Epoch 87/150\n",
            "473/472 [==============================] - 47s 99ms/step - loss: 0.3154 - acc: 0.8679 - val_loss: 0.3062 - val_acc: 0.8708\n",
            "Epoch 88/150\n",
            "473/472 [==============================] - 47s 100ms/step - loss: 0.3089 - acc: 0.8691 - val_loss: 0.2967 - val_acc: 0.8735\n",
            "Epoch 89/150\n",
            "473/472 [==============================] - 47s 100ms/step - loss: 0.3189 - acc: 0.8666 - val_loss: 0.3214 - val_acc: 0.8663\n",
            "Epoch 90/150\n",
            "473/472 [==============================] - 47s 100ms/step - loss: 0.3203 - acc: 0.8646 - val_loss: 0.3051 - val_acc: 0.8708\n",
            "Epoch 91/150\n",
            "473/472 [==============================] - 47s 100ms/step - loss: 0.3189 - acc: 0.8657 - val_loss: 0.3265 - val_acc: 0.8576\n",
            "Epoch 92/150\n",
            "473/472 [==============================] - 47s 100ms/step - loss: 0.3248 - acc: 0.8637 - val_loss: 0.3045 - val_acc: 0.8677\n",
            "Epoch 93/150\n",
            "473/472 [==============================] - 47s 99ms/step - loss: 0.3096 - acc: 0.8717 - val_loss: 0.2989 - val_acc: 0.8729\n",
            "Epoch 94/150\n",
            "473/472 [==============================] - 47s 100ms/step - loss: 0.3081 - acc: 0.8722 - val_loss: 0.2957 - val_acc: 0.8690\n",
            "Epoch 95/150\n",
            "473/472 [==============================] - 47s 99ms/step - loss: 0.2984 - acc: 0.8761 - val_loss: 0.2925 - val_acc: 0.8767\n",
            "Epoch 96/150\n",
            "473/472 [==============================] - 47s 99ms/step - loss: 0.2992 - acc: 0.8752 - val_loss: 0.2856 - val_acc: 0.8772\n",
            "Epoch 97/150\n",
            "473/472 [==============================] - 47s 100ms/step - loss: 0.3073 - acc: 0.8714 - val_loss: 0.2942 - val_acc: 0.8743\n",
            "Epoch 98/150\n",
            "473/472 [==============================] - 47s 100ms/step - loss: 0.3023 - acc: 0.8734 - val_loss: 0.2894 - val_acc: 0.8769\n",
            "Epoch 99/150\n",
            "473/472 [==============================] - 47s 99ms/step - loss: 0.3022 - acc: 0.8743 - val_loss: 0.2921 - val_acc: 0.8767\n",
            "Epoch 100/150\n",
            "473/472 [==============================] - 47s 99ms/step - loss: 0.3043 - acc: 0.8732 - val_loss: 0.2793 - val_acc: 0.8833\n",
            "Epoch 101/150\n",
            "473/472 [==============================] - 47s 99ms/step - loss: 0.3061 - acc: 0.8726 - val_loss: 0.2941 - val_acc: 0.8774\n",
            "Epoch 102/150\n",
            "473/472 [==============================] - 47s 99ms/step - loss: 0.3034 - acc: 0.8712 - val_loss: 0.2820 - val_acc: 0.8788\n",
            "Epoch 103/150\n",
            "473/472 [==============================] - 46s 98ms/step - loss: 0.2992 - acc: 0.8750 - val_loss: 0.2772 - val_acc: 0.8851\n",
            "Epoch 104/150\n",
            "473/472 [==============================] - 46s 98ms/step - loss: 0.2920 - acc: 0.8775 - val_loss: 0.2836 - val_acc: 0.8793\n",
            "Epoch 105/150\n",
            "473/472 [==============================] - 46s 98ms/step - loss: 0.3036 - acc: 0.8713 - val_loss: 0.2821 - val_acc: 0.8835\n",
            "Epoch 106/150\n",
            "473/472 [==============================] - 46s 97ms/step - loss: 0.2943 - acc: 0.8750 - val_loss: 0.2891 - val_acc: 0.8756\n",
            "Epoch 107/150\n",
            "473/472 [==============================] - 46s 97ms/step - loss: 0.3108 - acc: 0.8708 - val_loss: 0.2992 - val_acc: 0.8751\n",
            "Epoch 108/150\n",
            "473/472 [==============================] - 46s 96ms/step - loss: 0.3009 - acc: 0.8770 - val_loss: 0.3020 - val_acc: 0.8732\n",
            "Epoch 109/150\n",
            "473/472 [==============================] - 45s 96ms/step - loss: 0.2980 - acc: 0.8758 - val_loss: 0.2796 - val_acc: 0.8849\n",
            "Epoch 110/150\n",
            "473/472 [==============================] - 45s 96ms/step - loss: 0.2934 - acc: 0.8758 - val_loss: 0.2813 - val_acc: 0.8812\n",
            "Epoch 111/150\n",
            "473/472 [==============================] - 45s 96ms/step - loss: 0.2937 - acc: 0.8805 - val_loss: 0.2846 - val_acc: 0.8827\n",
            "Epoch 112/150\n",
            "473/472 [==============================] - 46s 97ms/step - loss: 0.2916 - acc: 0.8787 - val_loss: 0.2886 - val_acc: 0.8796\n",
            "Epoch 113/150\n",
            "473/472 [==============================] - 45s 96ms/step - loss: 0.3100 - acc: 0.8713 - val_loss: 0.2890 - val_acc: 0.8798\n",
            "Epoch 114/150\n",
            "473/472 [==============================] - 45s 95ms/step - loss: 0.3067 - acc: 0.8749 - val_loss: 0.2784 - val_acc: 0.8796\n",
            "Epoch 115/150\n",
            "473/472 [==============================] - 45s 96ms/step - loss: 0.2914 - acc: 0.8779 - val_loss: 0.2871 - val_acc: 0.8743\n",
            "Epoch 116/150\n",
            "473/472 [==============================] - 45s 96ms/step - loss: 0.2976 - acc: 0.8791 - val_loss: 0.2869 - val_acc: 0.8814\n",
            "Epoch 117/150\n",
            "473/472 [==============================] - 45s 96ms/step - loss: 0.2940 - acc: 0.8760 - val_loss: 0.2805 - val_acc: 0.8809\n",
            "Epoch 118/150\n",
            "473/472 [==============================] - 45s 96ms/step - loss: 0.2942 - acc: 0.8776 - val_loss: 0.2758 - val_acc: 0.8817\n",
            "Epoch 119/150\n",
            "473/472 [==============================] - 46s 96ms/step - loss: 0.2965 - acc: 0.8744 - val_loss: 0.2765 - val_acc: 0.8830\n",
            "Epoch 120/150\n",
            "473/472 [==============================] - 45s 96ms/step - loss: 0.2962 - acc: 0.8792 - val_loss: 0.2775 - val_acc: 0.8790\n",
            "Epoch 121/150\n",
            "473/472 [==============================] - 45s 96ms/step - loss: 0.2885 - acc: 0.8790 - val_loss: 0.2814 - val_acc: 0.8769\n",
            "Epoch 122/150\n",
            "473/472 [==============================] - 45s 95ms/step - loss: 0.2919 - acc: 0.8777 - val_loss: 0.2714 - val_acc: 0.8875\n",
            "Epoch 123/150\n",
            "473/472 [==============================] - 45s 96ms/step - loss: 0.2874 - acc: 0.8803 - val_loss: 0.2698 - val_acc: 0.8886\n",
            "Epoch 124/150\n",
            "473/472 [==============================] - 45s 96ms/step - loss: 0.2934 - acc: 0.8788 - val_loss: 0.2847 - val_acc: 0.8804\n",
            "Epoch 125/150\n",
            "473/472 [==============================] - 45s 96ms/step - loss: 0.3095 - acc: 0.8701 - val_loss: 0.3041 - val_acc: 0.8737\n",
            "Epoch 126/150\n",
            "473/472 [==============================] - 45s 96ms/step - loss: 0.3009 - acc: 0.8739 - val_loss: 0.2781 - val_acc: 0.8859\n",
            "Epoch 127/150\n",
            "473/472 [==============================] - 45s 95ms/step - loss: 0.2882 - acc: 0.8844 - val_loss: 0.2807 - val_acc: 0.8817\n",
            "Epoch 128/150\n",
            "473/472 [==============================] - 45s 94ms/step - loss: 0.2810 - acc: 0.8821 - val_loss: 0.2673 - val_acc: 0.8880\n",
            "Epoch 129/150\n",
            "473/472 [==============================] - 45s 96ms/step - loss: 0.2843 - acc: 0.8816 - val_loss: 0.2683 - val_acc: 0.8931\n",
            "Epoch 130/150\n",
            "473/472 [==============================] - 45s 95ms/step - loss: 0.2783 - acc: 0.8841 - val_loss: 0.2692 - val_acc: 0.8896\n",
            "Epoch 131/150\n",
            "473/472 [==============================] - 45s 95ms/step - loss: 0.2808 - acc: 0.8834 - val_loss: 0.2704 - val_acc: 0.8833\n",
            "Epoch 132/150\n",
            "473/472 [==============================] - 45s 95ms/step - loss: 0.2866 - acc: 0.8817 - val_loss: 0.2749 - val_acc: 0.8888\n",
            "Epoch 133/150\n",
            "473/472 [==============================] - 45s 95ms/step - loss: 0.2834 - acc: 0.8828 - val_loss: 0.2780 - val_acc: 0.8851\n",
            "Epoch 134/150\n",
            "473/472 [==============================] - 45s 95ms/step - loss: 0.2816 - acc: 0.8848 - val_loss: 0.2631 - val_acc: 0.8904\n",
            "Epoch 135/150\n",
            "473/472 [==============================] - 44s 94ms/step - loss: 0.2801 - acc: 0.8827 - val_loss: 0.2661 - val_acc: 0.8891\n",
            "Epoch 136/150\n",
            "473/472 [==============================] - 44s 94ms/step - loss: 0.2797 - acc: 0.8856 - val_loss: 0.2696 - val_acc: 0.8851\n",
            "Epoch 137/150\n",
            "473/472 [==============================] - 45s 95ms/step - loss: 0.2786 - acc: 0.8837 - val_loss: 0.2715 - val_acc: 0.8841\n",
            "Epoch 138/150\n",
            "473/472 [==============================] - 44s 94ms/step - loss: 0.2727 - acc: 0.8872 - val_loss: 0.3081 - val_acc: 0.8729\n",
            "Epoch 139/150\n",
            "473/472 [==============================] - 45s 94ms/step - loss: 0.2838 - acc: 0.8832 - val_loss: 0.2637 - val_acc: 0.8907\n",
            "Epoch 140/150\n",
            "473/472 [==============================] - 45s 95ms/step - loss: 0.2706 - acc: 0.8884 - val_loss: 0.2651 - val_acc: 0.8896\n",
            "Epoch 141/150\n",
            "473/472 [==============================] - 44s 94ms/step - loss: 0.2718 - acc: 0.8872 - val_loss: 0.2814 - val_acc: 0.8843\n",
            "Epoch 142/150\n",
            "473/472 [==============================] - 45s 95ms/step - loss: 0.2733 - acc: 0.8863 - val_loss: 0.2645 - val_acc: 0.8883\n",
            "Epoch 143/150\n",
            "473/472 [==============================] - 45s 94ms/step - loss: 0.2982 - acc: 0.8731 - val_loss: 0.2887 - val_acc: 0.8743\n",
            "Epoch 144/150\n",
            "473/472 [==============================] - 45s 94ms/step - loss: 0.2916 - acc: 0.8802 - val_loss: 0.2675 - val_acc: 0.8857\n",
            "Epoch 145/150\n",
            "473/472 [==============================] - 45s 95ms/step - loss: 0.2994 - acc: 0.8778 - val_loss: 0.3163 - val_acc: 0.8645\n",
            "Epoch 146/150\n",
            "473/472 [==============================] - 45s 95ms/step - loss: 0.3076 - acc: 0.8736 - val_loss: 0.3034 - val_acc: 0.8745\n",
            "Epoch 147/150\n",
            "473/472 [==============================] - 45s 95ms/step - loss: 0.2776 - acc: 0.8874 - val_loss: 0.2665 - val_acc: 0.8867\n",
            "Epoch 148/150\n",
            "473/472 [==============================] - 45s 95ms/step - loss: 0.2733 - acc: 0.8876 - val_loss: 0.2756 - val_acc: 0.8822\n",
            "Epoch 149/150\n",
            "473/472 [==============================] - 45s 95ms/step - loss: 0.2803 - acc: 0.8855 - val_loss: 0.2593 - val_acc: 0.8886\n",
            "Epoch 150/150\n",
            "473/472 [==============================] - 45s 94ms/step - loss: 0.3135 - acc: 0.8723 - val_loss: 0.2865 - val_acc: 0.8743\n"
          ],
          "name": "stdout"
        }
      ]
    },
    {
      "cell_type": "code",
      "metadata": {
        "id": "-ntn--ETsGAg",
        "colab_type": "code",
        "colab": {}
      },
      "source": [
        "def plot_cm(cm, classes, normalize=False, title='Confusion matrix', cmap=plt.cm.Blues):\n",
        "    plt.figure(figsize = (5,5))\n",
        "    plt.imshow(cm, interpolation='nearest', cmap=cmap)\n",
        "    plt.title(title)\n",
        "    plt.colorbar()\n",
        "    tick_marks = np.arange(len(classes))\n",
        "    plt.xticks(tick_marks, classes, rotation=90)\n",
        "    plt.yticks(tick_marks, classes)\n",
        "    if normalize:\n",
        "        cm = cm.astype('float') / cm.sum(axis=1)[:, np.newaxis]\n",
        "\n",
        "    thresh = cm.max() / 2.\n",
        "    for i, j in itertools.product(range(cm.shape[0]), range(cm.shape[1])):\n",
        "        plt.text(j, i, cm[i, j],\n",
        "                 horizontalalignment=\"center\",\n",
        "                 color=\"white\" if cm[i, j] > thresh else \"black\")\n",
        "    plt.tight_layout()\n",
        "    plt.ylabel('True label')\n",
        "    plt.xlabel('Predicted label')\n",
        "    \n",
        "def plot_lc(history):\n",
        "    plt.figure(figsize=(8,8))\n",
        "    plt.subplot(1,2,1)\n",
        "    plt.plot(history.history['acc'])\n",
        "    plt.plot(history.history['val_acc'])\n",
        "    plt.title('model accuracy')\n",
        "    plt.ylabel('accuracy')\n",
        "    plt.xlabel('epoch')\n",
        "    plt.legend(['train', 'test'], loc='upper left')\n",
        "    plt.savefig('./accuracy_curve.png')\n",
        "    plt.subplot(1,2,2)\n",
        "    plt.plot(history.history['loss'])\n",
        "    plt.plot(history.history['val_loss'])\n",
        "    plt.title('model loss')\n",
        "    plt.ylabel('loss')\n",
        "    plt.xlabel('epoch')\n",
        "    plt.legend(['train', 'test'], loc='upper left')\n",
        "    "
      ],
      "execution_count": 0,
      "outputs": []
    },
    {
      "cell_type": "code",
      "metadata": {
        "id": "6ibjkxGesJ9F",
        "colab_type": "code",
        "outputId": "c05c5cb5-2407-4c56-f71c-4e7284c9560d",
        "colab": {
          "base_uri": "https://localhost:8080/",
          "height": 51
        }
      },
      "source": [
        "score = model.evaluate(X_test_reshape,y_test_c)\n",
        "print(score)"
      ],
      "execution_count": 0,
      "outputs": [
        {
          "output_type": "stream",
          "text": [
            "3778/3778 [==============================] - 2s 487us/step\n",
            "[0.28647664900871106, 0.8742721016410799]\n"
          ],
          "name": "stdout"
        }
      ]
    },
    {
      "cell_type": "code",
      "metadata": {
        "id": "EzPBrOQdsLmt",
        "colab_type": "code",
        "outputId": "ea129632-e7e6-4da6-8774-dfbeb3b9405e",
        "colab": {
          "base_uri": "https://localhost:8080/",
          "height": 864
        }
      },
      "source": [
        "import itertools\n",
        "from sklearn.metrics import confusion_matrix, make_scorer, accuracy_score\n",
        "y_pred = model.predict(X_test_reshape)\n",
        "Y_pred_classes = np.argmax(y_pred,axis=1) \n",
        "Y_true = np.argmax(y_test_c,axis=1)\n",
        "dict_characters = {0: 'IDC(-)', 1: 'IDC(+)'}\n",
        "confusion_mtx = confusion_matrix(Y_true, Y_pred_classes) \n",
        "plot_cm(confusion_mtx, classes = list(dict_characters.values())) \n",
        "plt.show()\n",
        "plot_lc(history)\n",
        "plt.show()"
      ],
      "execution_count": 0,
      "outputs": [
        {
          "output_type": "display_data",
          "data": {
            "image/png": "[encoded data removed]",
            "text/plain": [
              "<Figure size 360x360 with 2 Axes>"
            ]
          },
          "metadata": {
            "tags": []
          }
        },
        {
          "output_type": "display_data",
          "data": {
            "image/png": "[encoded data removed]",
            "text/plain": [
              "<Figure size 576x576 with 2 Axes>"
            ]
          },
          "metadata": {
            "tags": []
          }
        }
      ]
    },
    {
      "cell_type": "code",
      "metadata": {
        "id": "zkQT8pU_Wlcq",
        "colab_type": "code",
        "outputId": "902d52eb-92f0-4f43-be25-44e405f4508c",
        "colab": {
          "base_uri": "https://localhost:8080/",
          "height": 204
        }
      },
      "source": [
        "print(confusion_matrix(Y_true, Y_pred_classes))\n",
        "\n",
        "from sklearn import metrics\n",
        "print(metrics.classification_report(Y_true, Y_pred_classes))\n"
      ],
      "execution_count": 0,
      "outputs": [
        {
          "output_type": "stream",
          "text": [
            "[[1703  172]\n",
            " [ 303 1600]]\n",
            "              precision    recall  f1-score   support\n",
            "\n",
            "           0       0.85      0.91      0.88      1875\n",
            "           1       0.90      0.84      0.87      1903\n",
            "\n",
            "    accuracy                           0.87      3778\n",
            "   macro avg       0.88      0.87      0.87      3778\n",
            "weighted avg       0.88      0.87      0.87      3778\n",
            "\n"
          ],
          "name": "stdout"
        }
      ]
    },
    {
      "cell_type": "code",
      "metadata": {
        "id": "3DOuiIo1SMoF",
        "colab_type": "code",
        "outputId": "606af430-0349-4300-ed73-94db8742cfb4",
        "colab": {
          "base_uri": "https://localhost:8080/",
          "height": 51
        }
      },
      "source": [
        "cm= confusion_matrix(Y_true, Y_pred_classes)\n",
        "sensitivity= cm[1,1]/(cm[1,1]+cm[1,0])\n",
        "print('Sensitivity : ', sensitivity )\n",
        "secificity= cm[0,0]/(cm[0,0]+cm[0,1])\n",
        "print('Specificity : ',secificity)"
      ],
      "execution_count": 0,
      "outputs": [
        {
          "output_type": "stream",
          "text": [
            "Sensitivity :  0.8407777193904361\n",
            "Specificity :  0.9082666666666667\n"
          ],
          "name": "stdout"
        }
      ]
    },
    {
      "cell_type": "code",
      "metadata": {
        "id": "YN05OyFEbdQ1",
        "colab_type": "code",
        "outputId": "0bb33ca5-4a9d-4667-cff2-89911ba14844",
        "colab": {
          "base_uri": "https://localhost:8080/",
          "height": 34
        }
      },
      "source": [
        "from sklearn.metrics import auc,roc_curve\n",
        "\n",
        "#  ROC curve\n",
        "fpr, tpr, thresholds = roc_curve(Y_true, y_pred[:,1], pos_label=1)\n",
        "\n",
        "#  AUC\n",
        "pred_score = auc(fpr, tpr)\n",
        "print(f'Area Under Curve is {pred_score}')"
      ],
      "execution_count": 0,
      "outputs": [
        {
          "output_type": "stream",
          "text": [
            "Area Under Curve is 0.952342196531792\n"
          ],
          "name": "stdout"
        }
      ]
    },
    {
      "cell_type": "code",
      "metadata": {
        "id": "GomF_wl6OfoT",
        "colab_type": "code",
        "outputId": "1b25e164-0e1c-466f-e6ef-8b79fc50803f",
        "colab": {
          "base_uri": "https://localhost:8080/",
          "height": 312
        }
      },
      "source": [
        "plt.figure()\n",
        "plt.plot(fpr, tpr, color='orange', label='ROC curve (area = %0.2f)' % pred_score)\n",
        "plt.plot([0, 1], [0, 1], color='navy', linestyle='--')\n",
        "plt.xlim([-0.01, 1.0])\n",
        "plt.ylim([0.0, 1.01])\n",
        "plt.xlabel('False Positive Rate')\n",
        "plt.ylabel('True Positive Rate')\n",
        "plt.title('ROC curve of ResNet50 ')\n",
        "plt.legend(loc=\"lower right\")"
      ],
      "execution_count": 0,
      "outputs": [
        {
          "output_type": "execute_result",
          "data": {
            "text/plain": [
              "<matplotlib.legend.Legend at 0x7f3b86ac3f60>"
            ]
          },
          "metadata": {
            "tags": []
          },
          "execution_count": 27
        },
        {
          "output_type": "display_data",
          "data": {
            "image/png": "[encoded data removed]",
            "text/plain": [
              "<Figure size 432x288 with 1 Axes>"
            ]
          },
          "metadata": {
            "tags": []
          }
        }
      ]
    },
    {
      "cell_type": "code",
      "metadata": {
        "id": "eGxdXvhDOicq",
        "colab_type": "code",
        "outputId": "89c0dcd6-f1fb-4ae3-f507-88033c95e6d7",
        "colab": {
          "base_uri": "https://localhost:8080/",
          "height": 255
        }
      },
      "source": [
        "pred = model.predict(X_test_reshape)\n",
        "pred_x = []\n",
        "for i in range(len(pred)):\n",
        "  if pred[i,1]>0.5:\n",
        "    pred_x.append(1)\n",
        "  else:\n",
        "    pred_x.append(0)\n",
        "\n",
        "a = []\n",
        "b = 0\n",
        "for i in range(len(pred)):\n",
        "  if pred_x[i] == y_test_c[i,1]:\n",
        "    a.append('yes')\n",
        "    b=b+1\n",
        "  else:\n",
        "    a.append('no')\n",
        "type(a)\n",
        "df = pd.DataFrame(a, columns=['ResNet'])\n",
        "print(df)\n",
        "df.to_csv('resnet_yes-no.csv', index=False, header=True)"
      ],
      "execution_count": 0,
      "outputs": [
        {
          "output_type": "stream",
          "text": [
            "     ResNet\n",
            "0       yes\n",
            "1       yes\n",
            "2       yes\n",
            "3        no\n",
            "4       yes\n",
            "...     ...\n",
            "3773    yes\n",
            "3774    yes\n",
            "3775     no\n",
            "3776     no\n",
            "3777     no\n",
            "\n",
            "[3778 rows x 1 columns]\n"
          ],
          "name": "stdout"
        }
      ]
    }
  ]
}