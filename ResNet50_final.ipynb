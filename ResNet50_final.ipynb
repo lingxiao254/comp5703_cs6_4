{
  "nbformat": 4,
  "nbformat_minor": 0,
  "metadata": {
    "colab": {
      "name": "ResNet50_final.ipynb",
      "provenance": [],
      "collapsed_sections": []
    },
    "kernelspec": {
      "name": "python3",
      "display_name": "Python 3"
    },
    "accelerator": "GPU"
  },
  "cells": [
    {
      "cell_type": "code",
      "metadata": {
        "id": "6SvqlNI0oRR7",
        "colab_type": "code",
        "colab": {}
      },
      "source": [
        "# Use GPU\n",
        "import os\n",
        "os.environ[\"CUDA_VISIBLE_DEVICES\"] = \"0\""
      ],
      "execution_count": 0,
      "outputs": []
    },
    {
      "cell_type": "code",
      "metadata": {
        "id": "2K-3GoRkoUr4",
        "colab_type": "code",
        "outputId": "4d710bb7-ca86-469b-e2ab-9107fe48e15d",
        "colab": {
          "base_uri": "https://localhost:8080/",
          "height": 224
        }
      },
      "source": [
        "!apt-get install -y -qq software-properties-common python-software-properties module-init-tools\n",
        "!add-apt-repository -y ppa:alessandro-strada/ppa 2>&1 > /dev/null\n",
        "!apt-get update -qq 2>&1 > /dev/null\n",
        "!apt-get -y install -qq google-drive-ocamlfuse fuse\n",
        "from google.colab import auth\n",
        "auth.authenticate_user()\n",
        "from oauth2client.client import GoogleCredentials\n",
        "creds = GoogleCredentials.get_application_default()\n",
        "import getpass\n",
        "!google-drive-ocamlfuse -headless -id={creds.client_id} -secret={creds.client_secret} < /dev/null 2>&1 | grep URL\n",
        "vcode = getpass.getpass()\n",
        "!echo {vcode} | google-drive-ocamlfuse -headless -id={creds.client_id} -secret={creds.client_secret}"
      ],
      "execution_count": 0,
      "outputs": [
        {
          "output_type": "stream",
          "text": [
            "E: Package 'python-software-properties' has no installation candidate\n",
            "Selecting previously unselected package google-drive-ocamlfuse.\n",
            "(Reading database ... 132681 files and directories currently installed.)\n",
            "Preparing to unpack .../google-drive-ocamlfuse_0.7.13-0ubuntu1~ubuntu18.04.1_amd64.deb ...\n",
            "Unpacking google-drive-ocamlfuse (0.7.13-0ubuntu1~ubuntu18.04.1) ...\n",
            "Setting up google-drive-ocamlfuse (0.7.13-0ubuntu1~ubuntu18.04.1) ...\n",
            "Processing triggers for man-db (2.8.3-2ubuntu0.1) ...\n",
            "Please, open the following URL in a web browser: https://accounts.google.com/o/oauth2/auth?client_id=32555940559.apps.googleusercontent.com&redirect_uri=urn%3Aietf%3Awg%3Aoauth%3A2.0%3Aoob&scope=https%3A%2F%2Fwww.googleapis.com%2Fauth%2Fdrive&response_type=code&access_type=offline&approval_prompt=force\n",
            "··········\n",
            "Please, open the following URL in a web browser: https://accounts.google.com/o/oauth2/auth?client_id=32555940559.apps.googleusercontent.com&redirect_uri=urn%3Aietf%3Awg%3Aoauth%3A2.0%3Aoob&scope=https%3A%2F%2Fwww.googleapis.com%2Fauth%2Fdrive&response_type=code&access_type=offline&approval_prompt=force\n",
            "Please enter the verification code: Access token retrieved correctly.\n"
          ],
          "name": "stdout"
        }
      ]
    },
    {
      "cell_type": "code",
      "metadata": {
        "id": "HYpzauj7oqTE",
        "colab_type": "code",
        "colab": {}
      },
      "source": [
        "!mkdir -p drive\n",
        "!google-drive-ocamlfuse -o nonempty drive"
      ],
      "execution_count": 0,
      "outputs": []
    },
    {
      "cell_type": "code",
      "metadata": {
        "id": "Hi1U7HL_orF5",
        "colab_type": "code",
        "outputId": "f503a152-5f00-4c04-f12a-506b006e7d9e",
        "colab": {
          "base_uri": "https://localhost:8080/",
          "height": 122
        }
      },
      "source": [
        "# Mount drive\n",
        "from google.colab import drive\n",
        "drive.mount('/content/drive')"
      ],
      "execution_count": 0,
      "outputs": [
        {
          "output_type": "stream",
          "text": [
            "Go to this URL in a browser: https://accounts.google.com/o/oauth2/auth?client_id=947318989803-6bn6qk8qdgf4n4g3pfee6491hc0brc4i.apps.googleusercontent.com&redirect_uri=urn%3Aietf%3Awg%3Aoauth%3A2.0%3Aoob&scope=email%20https%3A%2F%2Fwww.googleapis.com%2Fauth%2Fdocs.test%20https%3A%2F%2Fwww.googleapis.com%2Fauth%2Fdrive%20https%3A%2F%2Fwww.googleapis.com%2Fauth%2Fdrive.photos.readonly%20https%3A%2F%2Fwww.googleapis.com%2Fauth%2Fpeopleapi.readonly&response_type=code\n",
            "\n",
            "Enter your authorization code:\n",
            "··········\n",
            "Mounted at /content/drive\n"
          ],
          "name": "stdout"
        }
      ]
    },
    {
      "cell_type": "code",
      "metadata": {
        "id": "KiHSop0nox1Q",
        "colab_type": "code",
        "outputId": "b7104e24-47c8-48bd-d89a-c20f796d18a1",
        "colab": {
          "base_uri": "https://localhost:8080/",
          "height": 34
        }
      },
      "source": [
        "import os\n",
        "os.getcwd()\n",
        "os.chdir('/content/drive/My Drive')\n",
        "os.getcwd()"
      ],
      "execution_count": 0,
      "outputs": [
        {
          "output_type": "execute_result",
          "data": {
            "text/plain": [
              "'/content/drive/My Drive'"
            ]
          },
          "metadata": {
            "tags": []
          },
          "execution_count": 5
        }
      ]
    },
    {
      "cell_type": "code",
      "metadata": {
        "id": "EC4A3OAbozws",
        "colab_type": "code",
        "colab": {}
      },
      "source": [
        "#import library\n",
        "import pandas as pd\n",
        "import numpy as np\n",
        "from glob import glob\n",
        "import fnmatch\n",
        "import cv2\n",
        "\n",
        "\n",
        "from keras import layers\n",
        "from keras.layers import Input, Add, Dense, Activation, ZeroPadding2D, BatchNormalization, Flatten, Conv2D, AveragePooling2D, MaxPooling2D, GlobalMaxPooling2D\n",
        "from keras.models import Model, load_model\n",
        "from keras.preprocessing import image\n",
        "from keras.utils import layer_utils\n",
        "from keras.utils.data_utils import get_file\n",
        "from keras.applications.imagenet_utils import preprocess_input\n",
        "import pydot\n",
        "from IPython.display import SVG\n",
        "from keras.utils.vis_utils import model_to_dot\n",
        "from keras.utils import plot_model\n",
        "#from resnets_utils import *\n",
        "from keras.initializers import glorot_uniform\n",
        "import scipy.misc\n",
        "import matplotlib.pyplot as plt\n",
        "from matplotlib.pyplot import imshow\n",
        "from keras.preprocessing.image import ImageDataGenerator\n",
        "\n",
        "import keras.backend as K\n",
        "K.set_image_data_format('channels_last')\n",
        "K.set_learning_phase(1)"
      ],
      "execution_count": 0,
      "outputs": []
    },
    {
      "cell_type": "code",
      "metadata": {
        "id": "1umsgykMo2I7",
        "colab_type": "code",
        "colab": {}
      },
      "source": [
        "X1=np.load('X_new.npy')\n",
        "Y1=np.load('Y_new.npy')\n",
        "\n",
        "X=X1[0:40000]\n",
        "Y=Y1[0:40000]"
      ],
      "execution_count": 0,
      "outputs": []
    },
    {
      "cell_type": "code",
      "metadata": {
        "id": "9LZ5_Skto4qV",
        "colab_type": "code",
        "outputId": "53a436da-ba91-4614-b860-30cb397d2fdb",
        "colab": {
          "base_uri": "https://localhost:8080/",
          "height": 85
        }
      },
      "source": [
        "def describe_data(x,y):\n",
        "    print('Total number: {}'.format(len(x)))\n",
        "    print('Number of IDC(-): {}'.format(np.sum(y==0)))\n",
        "    print('Number of IDC(+): {}'.format(np.sum(y==1)))\n",
        "    print('Percentage of IDC(+) : {:.2f}%'.format(100*np.mean(y)))\n",
        "describe_data(X, Y)"
      ],
      "execution_count": 0,
      "outputs": [
        {
          "output_type": "stream",
          "text": [
            "Total number: 40000\n",
            "Number of IDC(-): 30556\n",
            "Number of IDC(+): 9444\n",
            "Percentage of IDC(+) : 23.61%\n"
          ],
          "name": "stdout"
        }
      ]
    },
    {
      "cell_type": "code",
      "metadata": {
        "id": "WoBXQEQHo7Ys",
        "colab_type": "code",
        "colab": {}
      },
      "source": [
        "x_sub = np.array(X)\n",
        "x_sub=x_sub/255.0\n",
        "x_sub_shape = x_sub.shape[1] * x_sub.shape[2] * x_sub.shape[3]\n",
        "x_flat = x_sub.reshape(x_sub.shape[0], x_sub_shape)"
      ],
      "execution_count": 0,
      "outputs": []
    },
    {
      "cell_type": "code",
      "metadata": {
        "id": "Q50B_Ie6o9jJ",
        "colab_type": "code",
        "outputId": "b2846cd5-ce4f-45bb-d8e5-76cc3f6d9d22",
        "colab": {
          "base_uri": "https://localhost:8080/",
          "height": 119
        }
      },
      "source": [
        "r = pd.value_counts(Y)\n",
        "print(r)\n",
        "from imblearn.under_sampling import RandomUnderSampler\n",
        "rus=RandomUnderSampler(ratio='auto')\n",
        "x_flat_resample,y_sub_resample=rus.fit_sample(x_flat,Y)\n",
        "len(x_flat_resample)\n",
        "r = pd.value_counts(y_sub_resample)\n",
        "print(r)"
      ],
      "execution_count": 0,
      "outputs": [
        {
          "output_type": "stream",
          "text": [
            "0    30556\n",
            "1     9444\n",
            "dtype: int64\n",
            "1    9444\n",
            "0    9444\n",
            "dtype: int64\n"
          ],
          "name": "stdout"
        }
      ]
    },
    {
      "cell_type": "code",
      "metadata": {
        "id": "nWcR9wVSo_fR",
        "colab_type": "code",
        "colab": {}
      },
      "source": [
        "from sklearn.model_selection import train_test_split\n",
        "X_train, X_test, y_train, y_test = train_test_split(x_flat_resample, y_sub_resample, test_size=0.2, random_state = 2) # 0.2 test_size means 20%"
      ],
      "execution_count": 0,
      "outputs": []
    },
    {
      "cell_type": "code",
      "metadata": {
        "id": "qtGga-Z_pBrj",
        "colab_type": "code",
        "outputId": "0b9fbca6-b01e-49e3-b83d-546c863b011d",
        "colab": {
          "base_uri": "https://localhost:8080/",
          "height": 51
        }
      },
      "source": [
        "print(\"Training Data Shape:\", X_train.shape)\n",
        "print(\"Testing Data Shape:\", X_test.shape)"
      ],
      "execution_count": 0,
      "outputs": [
        {
          "output_type": "stream",
          "text": [
            "Training Data Shape: (15110, 7500)\n",
            "Testing Data Shape: (3778, 7500)\n"
          ],
          "name": "stdout"
        }
      ]
    },
    {
      "cell_type": "code",
      "metadata": {
        "id": "nmUArx1_pDhJ",
        "colab_type": "code",
        "colab": {}
      },
      "source": [
        "for i in range(len(X_train)):\n",
        "    height, width, channels = 50,50,3\n",
        "    X_train_reshape = X_train.reshape(len(X_train),height,width,channels)\n",
        "\n",
        "for i in range(len(X_test)):\n",
        "    height, width, channels = 50,50,3\n",
        "    X_test_reshape = X_test.reshape(len(X_test),height,width,channels)"
      ],
      "execution_count": 0,
      "outputs": []
    },
    {
      "cell_type": "code",
      "metadata": {
        "id": "dz7THVmJpLDB",
        "colab_type": "code",
        "colab": {}
      },
      "source": [
        "from keras.utils.np_utils import to_categorical\n",
        "y_train_c = to_categorical(y_train, num_classes = 2)\n",
        "y_test_c = to_categorical(y_test, num_classes = 2)\n",
        "\n",
        "datagen = ImageDataGenerator(\n",
        "        rotation_range=20,  # randomly rotate images in the range (degrees, 0 to 180)\n",
        "        width_shift_range=0.2,  # randomly shift images horizontally (fraction of total width)\n",
        "        height_shift_range=0.2,\n",
        "        shear_range=0.2,\n",
        "        zoom_range=0.2,\n",
        "        horizontal_flip=True,  # randomly flip images\n",
        "        vertical_flip=True) "
      ],
      "execution_count": 0,
      "outputs": []
    },
    {
      "cell_type": "code",
      "metadata": {
        "id": "DeObrRY-pP64",
        "colab_type": "code",
        "outputId": "cf0bd0da-6f68-450a-95b0-b379a79071b7",
        "colab": {
          "base_uri": "https://localhost:8080/",
          "height": 85
        }
      },
      "source": [
        "print(X_train_reshape.shape)\n",
        "print(y_train_c.shape)\n",
        "print(X_test_reshape.shape)\n",
        "print(y_test_c.shape)"
      ],
      "execution_count": 0,
      "outputs": [
        {
          "output_type": "stream",
          "text": [
            "(15110, 50, 50, 3)\n",
            "(15110, 2)\n",
            "(3778, 50, 50, 3)\n",
            "(3778, 2)\n"
          ],
          "name": "stdout"
        }
      ]
    },
    {
      "cell_type": "code",
      "metadata": {
        "id": "jPqRYp-jpUig",
        "colab_type": "code",
        "colab": {}
      },
      "source": [
        "def identity_block(X, f, filters, stage, block):\n",
        " \n",
        "    conv_name_base = 'res' + str(stage) + block + '_branch'\n",
        "    bn_name_base = 'bn' + str(stage) + block + '_branch'\n",
        " \n",
        "    F1, F2, F3 = filters\n",
        " \n",
        "    X_shortcut = X\n",
        " \n",
        "    X = Conv2D(filters = F1, kernel_size = (1,1), strides = (1,1), padding = 'valid', name = conv_name_base + '2a', kernel_initializer = glorot_uniform(seed = 0))(X)\n",
        "    X = BatchNormalization(axis = 3, name = bn_name_base + '2a')(X)\n",
        "    X = Activation('relu')(X)\n",
        " \n",
        "    X = Conv2D(filters = F2, kernel_size = (f,f), strides = (1,1), padding = 'same', name = conv_name_base + '2b', kernel_initializer = glorot_uniform(seed = 0))(X)\n",
        "    X = BatchNormalization(axis = 3, name = bn_name_base + '2b')(X)\n",
        "    X = Activation('relu')(X)\n",
        " \n",
        "    X = Conv2D(filters = F3, kernel_size = (1,1), strides = (1,1), padding = 'valid', name = conv_name_base + '2c', kernel_initializer = glorot_uniform(seed = 0))(X)\n",
        "    X = BatchNormalization(axis = 3, name = bn_name_base + '2c')(X)\n",
        " \n",
        "    X = Add()([X, X_shortcut])\n",
        "    X = Activation('relu')(X)\n",
        " \n",
        "    return X"
      ],
      "execution_count": 0,
      "outputs": []
    },
    {
      "cell_type": "code",
      "metadata": {
        "id": "sivWXbD9pQuc",
        "colab_type": "code",
        "colab": {}
      },
      "source": [
        "def convolution_block(X, f, filters, stage, block, s=2):\n",
        " \n",
        "    conv_name_base = 'res' + str(stage) + block + '_branch'\n",
        "    bn_name_base = 'bn' + str(stage) + block + '_branch'\n",
        "    F1, F2, F3 = filters\n",
        " \n",
        "    X_shortcut = X\n",
        " \n",
        "    X = Conv2D(filters = F1, kernel_size = (1,1), strides = (s,s), name = conv_name_base + '2a', kernel_initializer = glorot_uniform(seed = 0))(X)\n",
        "    X = BatchNormalization(axis = 3, name = bn_name_base + '2a')(X)\n",
        "    X = Activation('relu')(X)\n",
        " \n",
        "    X = Conv2D(filters = F2, kernel_size = (f,f), strides = (1,1), padding = 'same', name = conv_name_base + '2b', kernel_initializer = glorot_uniform(seed = 0))(X)\n",
        "    X = BatchNormalization(axis = 3, name = bn_name_base + '2b')(X)\n",
        "    X = Activation('relu')(X)\n",
        " \n",
        "    X = Conv2D(filters = F3, kernel_size = (1,1), strides = (1,1), name = conv_name_base + '2c', kernel_initializer = glorot_uniform(seed = 0))(X)\n",
        "    X = BatchNormalization(axis = 3, name = bn_name_base + '2c')(X)\n",
        " \n",
        "    X_shortcut = Conv2D(F3, (1,1), strides = (s,s), name = conv_name_base + '1', kernel_initializer = glorot_uniform(seed=0))(X_shortcut)\n",
        "    X_shortcut = BatchNormalization(axis = 3, name=bn_name_base + '1')(X_shortcut)\n",
        " \n",
        "    X = Add()([X, X_shortcut])\n",
        "    X = Activation('relu')(X)\n",
        " \n",
        "    return X\n"
      ],
      "execution_count": 0,
      "outputs": []
    },
    {
      "cell_type": "code",
      "metadata": {
        "id": "3_2wHMZupZNh",
        "colab_type": "code",
        "colab": {}
      },
      "source": [
        "def ResNet50(input_shape = (64, 64, 3), classes = 6):\n",
        " \n",
        "    X_input = Input(input_shape)\n",
        " \n",
        "    X = ZeroPadding2D((3, 3))(X_input)\n",
        " \n",
        "    X = Conv2D(64, (7, 7), strides = (2,2), name = 'conv1', kernel_initializer = glorot_uniform(seed=0))(X)\n",
        "    X = BatchNormalization(axis = 3, name = 'bn_conv1')(X)\n",
        "    X = Activation('relu')(X)\n",
        "    X = MaxPooling2D((3, 3), strides = (2,2))(X)\n",
        " \n",
        "    X = convolution_block(X, f = 3, filters = [64,64,256], stage = 2, block = 'a', s = 1)\n",
        "    X = identity_block(X, 3, [64,64,256], stage=2, block='b')\n",
        "    X = identity_block(X, 3, [64,64,256], stage=2, block='c')\n",
        " \n",
        "    X = convolution_block(X, f = 3, filters = [128,128,512], stage = 3, block = 'a', s = 2)\n",
        "    X = identity_block(X, 3, [128,128,512], stage=3, block='b')\n",
        "    X = identity_block(X, 3, [128,128,512], stage=3, block='c')\n",
        "    X = identity_block(X, 3, [128,128,512], stage=3, block='d')\n",
        " \n",
        "    X = convolution_block(X, f = 3, filters = [256,256,1024], stage = 4, block = 'a', s = 2)\n",
        "    X = identity_block(X, 3, [256,256,1024], stage=4, block='b')\n",
        "    X = identity_block(X, 3, [256,256,1024], stage=4, block='c')\n",
        "    X = identity_block(X, 3, [256,256,1024], stage=4, block='d')    \n",
        "    X = identity_block(X, 3, [256,256,1024], stage=4, block='e')\n",
        "    X = identity_block(X, 3, [256,256,1024], stage=4, block='f')\n",
        " \n",
        "    X = convolution_block(X, f = 3, filters = [512,512,2048], stage = 5, block = 'a', s = 2)\n",
        "    X = identity_block(X, 3, [512,512,2048], stage=5, block='b')\n",
        "    X = identity_block(X, 3, [512,512,2048], stage=5, block='c')\n",
        " \n",
        "    X = AveragePooling2D((2, 2), name='avg_pool')(X)\n",
        " \n",
        "    X = Flatten()(X)\n",
        "    X = Dense(classes, activation = 'softmax', name = 'fc' + str(classes), kernel_initializer = glorot_uniform(seed=0))(X)\n",
        " \n",
        "    model = Model(inputs = X_input, outputs = X, name = 'ResNet50')\n",
        " \n",
        "    return model\n"
      ],
      "execution_count": 0,
      "outputs": []
    },
    {
      "cell_type": "code",
      "metadata": {
        "id": "VvofYQ03pbqr",
        "colab_type": "code",
        "colab": {}
      },
      "source": [
        "from keras.callbacks import Callback, EarlyStopping, ReduceLROnPlateau, ModelCheckpoint\n",
        "class MetricsCheckpoint(Callback):\n",
        "    def __init__(self, savepath):\n",
        "        super(MetricsCheckpoint, self).__init__()\n",
        "        self.savepath = savepath\n",
        "        self.history = {}\n",
        "    def on_epoch_end(self, epoch, logs=None):\n",
        "        for k, v in logs.items():\n",
        "            self.history.setdefault(k, []).append(v)\n",
        "        np.save(self.savepath, self.history)"
      ],
      "execution_count": 0,
      "outputs": []
    },
    {
      "cell_type": "code",
      "metadata": {
        "id": "6jJZzFDipdtD",
        "colab_type": "code",
        "outputId": "4fdcee3f-2144-4218-b2e5-87a1db32106d",
        "colab": {
          "base_uri": "https://localhost:8080/",
          "height": 1000
        }
      },
      "source": [
        "model = ResNet50(input_shape = (50,50,3), classes = 2)\n",
        "model.compile(optimizer='adam', loss = 'categorical_crossentropy', metrics=['accuracy'])\n",
        "history = model.fit_generator(datagen.flow(X_train_reshape,y_train_c, batch_size=32),validation_data=(X_test_reshape,y_test_c),\n",
        "                        steps_per_epoch=len(X_train) / 32, epochs=100,callbacks = [MetricsCheckpoint('logs')],verbose=1)\n"
      ],
      "execution_count": 0,
      "outputs": [
        {
          "output_type": "stream",
          "text": [
            "WARNING:tensorflow:From /usr/local/lib/python3.6/dist-packages/keras/backend/tensorflow_backend.py:541: The name tf.placeholder is deprecated. Please use tf.compat.v1.placeholder instead.\n",
            "\n",
            "WARNING:tensorflow:From /usr/local/lib/python3.6/dist-packages/keras/backend/tensorflow_backend.py:4432: The name tf.random_uniform is deprecated. Please use tf.random.uniform instead.\n",
            "\n",
            "WARNING:tensorflow:From /usr/local/lib/python3.6/dist-packages/keras/backend/tensorflow_backend.py:190: The name tf.get_default_session is deprecated. Please use tf.compat.v1.get_default_session instead.\n",
            "\n",
            "WARNING:tensorflow:From /usr/local/lib/python3.6/dist-packages/keras/backend/tensorflow_backend.py:197: The name tf.ConfigProto is deprecated. Please use tf.compat.v1.ConfigProto instead.\n",
            "\n",
            "WARNING:tensorflow:From /usr/local/lib/python3.6/dist-packages/keras/backend/tensorflow_backend.py:203: The name tf.Session is deprecated. Please use tf.compat.v1.Session instead.\n",
            "\n",
            "WARNING:tensorflow:From /usr/local/lib/python3.6/dist-packages/keras/backend/tensorflow_backend.py:207: The name tf.global_variables is deprecated. Please use tf.compat.v1.global_variables instead.\n",
            "\n",
            "WARNING:tensorflow:From /usr/local/lib/python3.6/dist-packages/keras/backend/tensorflow_backend.py:216: The name tf.is_variable_initialized is deprecated. Please use tf.compat.v1.is_variable_initialized instead.\n",
            "\n",
            "WARNING:tensorflow:From /usr/local/lib/python3.6/dist-packages/keras/backend/tensorflow_backend.py:223: The name tf.variables_initializer is deprecated. Please use tf.compat.v1.variables_initializer instead.\n",
            "\n",
            "WARNING:tensorflow:From /usr/local/lib/python3.6/dist-packages/keras/backend/tensorflow_backend.py:2041: The name tf.nn.fused_batch_norm is deprecated. Please use tf.compat.v1.nn.fused_batch_norm instead.\n",
            "\n",
            "WARNING:tensorflow:From /usr/local/lib/python3.6/dist-packages/keras/backend/tensorflow_backend.py:4267: The name tf.nn.max_pool is deprecated. Please use tf.nn.max_pool2d instead.\n",
            "\n",
            "WARNING:tensorflow:From /usr/local/lib/python3.6/dist-packages/keras/backend/tensorflow_backend.py:4271: The name tf.nn.avg_pool is deprecated. Please use tf.nn.avg_pool2d instead.\n",
            "\n",
            "WARNING:tensorflow:From /usr/local/lib/python3.6/dist-packages/keras/optimizers.py:793: The name tf.train.Optimizer is deprecated. Please use tf.compat.v1.train.Optimizer instead.\n",
            "\n",
            "WARNING:tensorflow:From /usr/local/lib/python3.6/dist-packages/keras/backend/tensorflow_backend.py:3576: The name tf.log is deprecated. Please use tf.math.log instead.\n",
            "\n",
            "WARNING:tensorflow:From /usr/local/lib/python3.6/dist-packages/tensorflow_core/python/ops/math_grad.py:1424: where (from tensorflow.python.ops.array_ops) is deprecated and will be removed in a future version.\n",
            "Instructions for updating:\n",
            "Use tf.where in 2.0, which has the same broadcast rule as np.where\n",
            "WARNING:tensorflow:From /usr/local/lib/python3.6/dist-packages/keras/backend/tensorflow_backend.py:1033: The name tf.assign_add is deprecated. Please use tf.compat.v1.assign_add instead.\n",
            "\n",
            "WARNING:tensorflow:From /usr/local/lib/python3.6/dist-packages/keras/backend/tensorflow_backend.py:1020: The name tf.assign is deprecated. Please use tf.compat.v1.assign instead.\n",
            "\n",
            "Epoch 1/100\n",
            "473/472 [==============================] - 130s 275ms/step - loss: 0.6492 - acc: 0.7689 - val_loss: 0.5770 - val_acc: 0.7980\n",
            "Epoch 2/100\n",
            "473/472 [==============================] - 114s 240ms/step - loss: 0.7444 - acc: 0.7418 - val_loss: 0.5865 - val_acc: 0.7755\n",
            "Epoch 3/100\n",
            "473/472 [==============================] - 114s 241ms/step - loss: 0.5804 - acc: 0.7803 - val_loss: 0.7761 - val_acc: 0.5413\n",
            "Epoch 4/100\n",
            "473/472 [==============================] - 114s 240ms/step - loss: 0.7617 - acc: 0.7268 - val_loss: 0.5416 - val_acc: 0.7636\n",
            "Epoch 5/100\n",
            "473/472 [==============================] - 114s 241ms/step - loss: 0.5071 - acc: 0.7839 - val_loss: 0.4628 - val_acc: 0.8062\n",
            "Epoch 6/100\n",
            "473/472 [==============================] - 114s 240ms/step - loss: 0.6913 - acc: 0.7618 - val_loss: 0.5582 - val_acc: 0.7914\n",
            "Epoch 7/100\n",
            "473/472 [==============================] - 114s 240ms/step - loss: 0.5722 - acc: 0.7809 - val_loss: 0.4923 - val_acc: 0.7893\n",
            "Epoch 8/100\n",
            "473/472 [==============================] - 114s 241ms/step - loss: 0.4910 - acc: 0.7926 - val_loss: 0.4737 - val_acc: 0.8002\n",
            "Epoch 9/100\n",
            "473/472 [==============================] - 114s 241ms/step - loss: 0.4915 - acc: 0.7901 - val_loss: 0.4862 - val_acc: 0.8036\n",
            "Epoch 10/100\n",
            "473/472 [==============================] - 113s 238ms/step - loss: 0.6642 - acc: 0.7700 - val_loss: 0.8821 - val_acc: 0.7316\n",
            "Epoch 11/100\n",
            "473/472 [==============================] - 114s 240ms/step - loss: 0.6364 - acc: 0.7575 - val_loss: 0.6293 - val_acc: 0.7734\n",
            "Epoch 12/100\n",
            "473/472 [==============================] - 113s 240ms/step - loss: 0.5442 - acc: 0.7797 - val_loss: 0.5276 - val_acc: 0.7957\n",
            "Epoch 13/100\n",
            "473/472 [==============================] - 114s 241ms/step - loss: 0.5106 - acc: 0.7882 - val_loss: 0.4527 - val_acc: 0.8065\n",
            "Epoch 14/100\n",
            "473/472 [==============================] - 114s 241ms/step - loss: 0.4977 - acc: 0.7971 - val_loss: 0.5071 - val_acc: 0.7994\n",
            "Epoch 15/100\n",
            "473/472 [==============================] - 114s 242ms/step - loss: 0.5045 - acc: 0.8022 - val_loss: 0.5519 - val_acc: 0.7994\n",
            "Epoch 16/100\n",
            "473/472 [==============================] - 114s 240ms/step - loss: 0.6714 - acc: 0.7811 - val_loss: 0.5546 - val_acc: 0.8028\n",
            "Epoch 17/100\n",
            "473/472 [==============================] - 113s 239ms/step - loss: 0.5206 - acc: 0.7909 - val_loss: 0.6523 - val_acc: 0.7215\n",
            "Epoch 18/100\n",
            "473/472 [==============================] - 113s 239ms/step - loss: 0.5611 - acc: 0.7740 - val_loss: 0.5654 - val_acc: 0.7755\n",
            "Epoch 19/100\n",
            "473/472 [==============================] - 113s 239ms/step - loss: 0.5327 - acc: 0.7825 - val_loss: 0.4969 - val_acc: 0.8105\n",
            "Epoch 20/100\n",
            "473/472 [==============================] - 113s 239ms/step - loss: 0.5042 - acc: 0.8046 - val_loss: 0.4981 - val_acc: 0.8097\n",
            "Epoch 21/100\n",
            "473/472 [==============================] - 113s 239ms/step - loss: 0.8516 - acc: 0.7792 - val_loss: 0.9043 - val_acc: 0.7382\n",
            "Epoch 22/100\n",
            "473/472 [==============================] - 113s 239ms/step - loss: 0.8916 - acc: 0.7663 - val_loss: 0.8355 - val_acc: 0.7875\n",
            "Epoch 23/100\n",
            "473/472 [==============================] - 113s 239ms/step - loss: 0.8230 - acc: 0.7745 - val_loss: 0.5529 - val_acc: 0.7996\n",
            "Epoch 24/100\n",
            "473/472 [==============================] - 113s 239ms/step - loss: 0.5497 - acc: 0.7947 - val_loss: 0.4874 - val_acc: 0.8147\n",
            "Epoch 25/100\n",
            "473/472 [==============================] - 114s 240ms/step - loss: 0.5005 - acc: 0.8073 - val_loss: 0.4863 - val_acc: 0.8171\n",
            "Epoch 26/100\n",
            "473/472 [==============================] - 113s 239ms/step - loss: 0.4854 - acc: 0.8027 - val_loss: 0.4772 - val_acc: 0.8190\n",
            "Epoch 27/100\n",
            "473/472 [==============================] - 112s 237ms/step - loss: 0.4896 - acc: 0.8104 - val_loss: 0.4631 - val_acc: 0.8184\n",
            "Epoch 28/100\n",
            "473/472 [==============================] - 112s 237ms/step - loss: 0.4863 - acc: 0.8133 - val_loss: 0.4861 - val_acc: 0.8129\n",
            "Epoch 29/100\n",
            "473/472 [==============================] - 112s 236ms/step - loss: 0.6180 - acc: 0.7824 - val_loss: 0.4986 - val_acc: 0.7975\n",
            "Epoch 30/100\n",
            "473/472 [==============================] - 113s 238ms/step - loss: 0.5762 - acc: 0.7878 - val_loss: 0.4970 - val_acc: 0.8073\n",
            "Epoch 31/100\n",
            "473/472 [==============================] - 114s 241ms/step - loss: 0.5778 - acc: 0.7977 - val_loss: 0.5108 - val_acc: 0.7988\n",
            "Epoch 32/100\n",
            "473/472 [==============================] - 113s 240ms/step - loss: 0.4880 - acc: 0.8000 - val_loss: 0.4285 - val_acc: 0.8089\n",
            "Epoch 33/100\n",
            "473/472 [==============================] - 112s 238ms/step - loss: 0.4439 - acc: 0.8019 - val_loss: 0.4120 - val_acc: 0.8121\n",
            "Epoch 34/100\n",
            "473/472 [==============================] - 112s 237ms/step - loss: 0.4299 - acc: 0.8109 - val_loss: 0.4051 - val_acc: 0.8200\n",
            "Epoch 35/100\n",
            "473/472 [==============================] - 112s 237ms/step - loss: 0.4234 - acc: 0.8138 - val_loss: 0.4003 - val_acc: 0.8219\n",
            "Epoch 36/100\n",
            "473/472 [==============================] - 112s 238ms/step - loss: 0.4158 - acc: 0.8144 - val_loss: 0.3919 - val_acc: 0.8232\n",
            "Epoch 37/100\n",
            "473/472 [==============================] - 113s 238ms/step - loss: 0.4142 - acc: 0.8154 - val_loss: 0.3996 - val_acc: 0.8253\n",
            "Epoch 38/100\n",
            "473/472 [==============================] - 113s 238ms/step - loss: 0.4055 - acc: 0.8205 - val_loss: 0.3849 - val_acc: 0.8319\n",
            "Epoch 39/100\n",
            "473/472 [==============================] - 112s 238ms/step - loss: 0.4081 - acc: 0.8187 - val_loss: 0.3821 - val_acc: 0.8277\n",
            "Epoch 40/100\n",
            "473/472 [==============================] - 113s 238ms/step - loss: 0.4039 - acc: 0.8225 - val_loss: 0.3880 - val_acc: 0.8303\n",
            "Epoch 41/100\n",
            "473/472 [==============================] - 112s 238ms/step - loss: 0.4005 - acc: 0.8251 - val_loss: 0.3749 - val_acc: 0.8399\n",
            "Epoch 42/100\n",
            "473/472 [==============================] - 112s 237ms/step - loss: 0.3955 - acc: 0.8272 - val_loss: 0.3779 - val_acc: 0.8367\n",
            "Epoch 43/100\n",
            "473/472 [==============================] - 112s 237ms/step - loss: 0.3956 - acc: 0.8278 - val_loss: 0.3793 - val_acc: 0.8343\n",
            "Epoch 44/100\n",
            "473/472 [==============================] - 113s 238ms/step - loss: 0.3958 - acc: 0.8264 - val_loss: 0.3802 - val_acc: 0.8343\n",
            "Epoch 45/100\n",
            "473/472 [==============================] - 113s 239ms/step - loss: 0.3955 - acc: 0.8274 - val_loss: 0.3674 - val_acc: 0.8375\n",
            "Epoch 46/100\n",
            "473/472 [==============================] - 113s 239ms/step - loss: 0.3915 - acc: 0.8287 - val_loss: 0.3655 - val_acc: 0.8444\n",
            "Epoch 47/100\n",
            "473/472 [==============================] - 113s 239ms/step - loss: 0.3890 - acc: 0.8340 - val_loss: 0.3645 - val_acc: 0.8417\n",
            "Epoch 48/100\n",
            "473/472 [==============================] - 113s 239ms/step - loss: 0.3823 - acc: 0.8348 - val_loss: 0.3716 - val_acc: 0.8433\n",
            "Epoch 49/100\n",
            "473/472 [==============================] - 112s 237ms/step - loss: 0.3872 - acc: 0.8304 - val_loss: 0.3704 - val_acc: 0.8393\n",
            "Epoch 50/100\n",
            "473/472 [==============================] - 112s 237ms/step - loss: 0.3805 - acc: 0.8345 - val_loss: 0.3500 - val_acc: 0.8539\n",
            "Epoch 51/100\n",
            "473/472 [==============================] - 112s 237ms/step - loss: 0.3816 - acc: 0.8339 - val_loss: 0.3550 - val_acc: 0.8478\n",
            "Epoch 52/100\n",
            "473/472 [==============================] - 112s 237ms/step - loss: 0.3773 - acc: 0.8351 - val_loss: 0.3580 - val_acc: 0.8449\n",
            "Epoch 53/100\n",
            "473/472 [==============================] - 113s 239ms/step - loss: 0.3714 - acc: 0.8411 - val_loss: 0.3498 - val_acc: 0.8526\n",
            "Epoch 54/100\n",
            "473/472 [==============================] - 112s 238ms/step - loss: 0.3779 - acc: 0.8369 - val_loss: 0.3632 - val_acc: 0.8467\n",
            "Epoch 55/100\n",
            "473/472 [==============================] - 112s 237ms/step - loss: 0.3695 - acc: 0.8431 - val_loss: 0.3369 - val_acc: 0.8576\n",
            "Epoch 56/100\n",
            "473/472 [==============================] - 112s 237ms/step - loss: 0.3637 - acc: 0.8439 - val_loss: 0.3364 - val_acc: 0.8565\n",
            "Epoch 57/100\n",
            "473/472 [==============================] - 113s 238ms/step - loss: 0.3642 - acc: 0.8472 - val_loss: 0.3377 - val_acc: 0.8597\n",
            "Epoch 58/100\n",
            "473/472 [==============================] - 112s 237ms/step - loss: 0.3578 - acc: 0.8487 - val_loss: 0.3350 - val_acc: 0.8581\n",
            "Epoch 59/100\n",
            "473/472 [==============================] - 112s 237ms/step - loss: 0.4048 - acc: 0.8242 - val_loss: 0.3652 - val_acc: 0.8428\n",
            "Epoch 60/100\n",
            "473/472 [==============================] - 112s 238ms/step - loss: 0.3854 - acc: 0.8370 - val_loss: 0.3500 - val_acc: 0.8515\n",
            "Epoch 61/100\n",
            "473/472 [==============================] - 112s 238ms/step - loss: 0.3670 - acc: 0.8459 - val_loss: 0.3339 - val_acc: 0.8581\n",
            "Epoch 62/100\n",
            "473/472 [==============================] - 112s 236ms/step - loss: 0.3539 - acc: 0.8508 - val_loss: 0.3316 - val_acc: 0.8560\n",
            "Epoch 63/100\n",
            "473/472 [==============================] - 112s 237ms/step - loss: 0.3492 - acc: 0.8540 - val_loss: 0.3194 - val_acc: 0.8671\n",
            "Epoch 64/100\n",
            "473/472 [==============================] - 112s 237ms/step - loss: 0.3508 - acc: 0.8538 - val_loss: 0.3318 - val_acc: 0.8629\n",
            "Epoch 65/100\n",
            "473/472 [==============================] - 112s 237ms/step - loss: 0.3467 - acc: 0.8532 - val_loss: 0.3260 - val_acc: 0.8610\n",
            "Epoch 66/100\n",
            "473/472 [==============================] - 112s 237ms/step - loss: 0.3452 - acc: 0.8536 - val_loss: 0.3137 - val_acc: 0.8695\n",
            "Epoch 67/100\n",
            "473/472 [==============================] - 112s 237ms/step - loss: 0.3428 - acc: 0.8567 - val_loss: 0.3219 - val_acc: 0.8653\n",
            "Epoch 68/100\n",
            "473/472 [==============================] - 112s 237ms/step - loss: 0.3402 - acc: 0.8564 - val_loss: 0.3106 - val_acc: 0.8679\n",
            "Epoch 69/100\n",
            "473/472 [==============================] - 112s 238ms/step - loss: 0.3386 - acc: 0.8566 - val_loss: 0.3102 - val_acc: 0.8703\n",
            "Epoch 70/100\n",
            "473/472 [==============================] - 112s 237ms/step - loss: 0.3359 - acc: 0.8551 - val_loss: 0.3031 - val_acc: 0.8722\n",
            "Epoch 71/100\n",
            "473/472 [==============================] - 113s 238ms/step - loss: 0.3308 - acc: 0.8625 - val_loss: 0.3260 - val_acc: 0.8613\n",
            "Epoch 72/100\n",
            "473/472 [==============================] - 112s 237ms/step - loss: 0.3273 - acc: 0.8617 - val_loss: 0.3029 - val_acc: 0.8695\n",
            "Epoch 73/100\n",
            "473/472 [==============================] - 112s 238ms/step - loss: 0.3281 - acc: 0.8608 - val_loss: 0.3091 - val_acc: 0.8682\n",
            "Epoch 74/100\n",
            "473/472 [==============================] - 112s 237ms/step - loss: 0.3274 - acc: 0.8617 - val_loss: 0.3091 - val_acc: 0.8719\n",
            "Epoch 75/100\n",
            "473/472 [==============================] - 112s 237ms/step - loss: 0.3288 - acc: 0.8639 - val_loss: 0.2986 - val_acc: 0.8764\n",
            "Epoch 76/100\n",
            "473/472 [==============================] - 112s 237ms/step - loss: 0.3227 - acc: 0.8655 - val_loss: 0.2949 - val_acc: 0.8764\n",
            "Epoch 77/100\n",
            "473/472 [==============================] - 112s 237ms/step - loss: 0.3225 - acc: 0.8674 - val_loss: 0.3013 - val_acc: 0.8674\n",
            "Epoch 78/100\n",
            "473/472 [==============================] - 112s 237ms/step - loss: 0.3163 - acc: 0.8683 - val_loss: 0.3020 - val_acc: 0.8690\n",
            "Epoch 79/100\n",
            "473/472 [==============================] - 112s 237ms/step - loss: 0.3224 - acc: 0.8648 - val_loss: 0.2972 - val_acc: 0.8774\n",
            "Epoch 80/100\n",
            "473/472 [==============================] - 112s 236ms/step - loss: 0.3191 - acc: 0.8645 - val_loss: 0.3030 - val_acc: 0.8692\n",
            "Epoch 81/100\n",
            "473/472 [==============================] - 112s 237ms/step - loss: 0.3154 - acc: 0.8695 - val_loss: 0.2990 - val_acc: 0.8698\n",
            "Epoch 82/100\n",
            "473/472 [==============================] - 112s 237ms/step - loss: 0.3195 - acc: 0.8670 - val_loss: 0.3297 - val_acc: 0.8584\n",
            "Epoch 83/100\n",
            "473/472 [==============================] - 112s 238ms/step - loss: 0.3217 - acc: 0.8659 - val_loss: 0.2909 - val_acc: 0.8737\n",
            "Epoch 84/100\n",
            "473/472 [==============================] - 112s 237ms/step - loss: 0.3127 - acc: 0.8690 - val_loss: 0.2904 - val_acc: 0.8727\n",
            "Epoch 85/100\n",
            "473/472 [==============================] - 112s 237ms/step - loss: 0.3042 - acc: 0.8743 - val_loss: 0.2969 - val_acc: 0.8732\n",
            "Epoch 86/100\n",
            "473/472 [==============================] - 112s 237ms/step - loss: 0.3222 - acc: 0.8647 - val_loss: 0.3005 - val_acc: 0.8719\n",
            "Epoch 87/100\n",
            "473/472 [==============================] - 112s 237ms/step - loss: 0.3106 - acc: 0.8694 - val_loss: 0.3082 - val_acc: 0.8624\n",
            "Epoch 88/100\n",
            "473/472 [==============================] - 112s 237ms/step - loss: 0.3102 - acc: 0.8682 - val_loss: 0.2898 - val_acc: 0.8753\n",
            "Epoch 89/100\n",
            "473/472 [==============================] - 112s 237ms/step - loss: 0.3086 - acc: 0.8745 - val_loss: 0.3031 - val_acc: 0.8729\n",
            "Epoch 90/100\n",
            "473/472 [==============================] - 112s 238ms/step - loss: 0.3025 - acc: 0.8709 - val_loss: 0.2887 - val_acc: 0.8777\n",
            "Epoch 91/100\n",
            "473/472 [==============================] - 112s 238ms/step - loss: 0.3069 - acc: 0.8720 - val_loss: 0.2957 - val_acc: 0.8690\n",
            "Epoch 92/100\n",
            "473/472 [==============================] - 112s 237ms/step - loss: 0.3088 - acc: 0.8714 - val_loss: 0.2811 - val_acc: 0.8809\n",
            "Epoch 93/100\n",
            "473/472 [==============================] - 112s 237ms/step - loss: 0.2972 - acc: 0.8749 - val_loss: 0.2872 - val_acc: 0.8708\n",
            "Epoch 94/100\n",
            "473/472 [==============================] - 112s 237ms/step - loss: 0.3034 - acc: 0.8753 - val_loss: 0.2825 - val_acc: 0.8817\n",
            "Epoch 95/100\n",
            "473/472 [==============================] - 112s 238ms/step - loss: 0.3068 - acc: 0.8741 - val_loss: 0.2749 - val_acc: 0.8830\n",
            "Epoch 96/100\n",
            "473/472 [==============================] - 113s 239ms/step - loss: 0.3706 - acc: 0.8430 - val_loss: 0.3199 - val_acc: 0.8658\n",
            "Epoch 97/100\n",
            "473/472 [==============================] - 113s 240ms/step - loss: 0.3294 - acc: 0.8621 - val_loss: 0.2893 - val_acc: 0.8812\n",
            "Epoch 98/100\n",
            "473/472 [==============================] - 113s 240ms/step - loss: 0.2977 - acc: 0.8761 - val_loss: 0.2883 - val_acc: 0.8716\n",
            "Epoch 99/100\n",
            "473/472 [==============================] - 113s 239ms/step - loss: 0.2939 - acc: 0.8774 - val_loss: 0.2895 - val_acc: 0.8756\n",
            "Epoch 100/100\n",
            "473/472 [==============================] - 113s 239ms/step - loss: 0.2947 - acc: 0.8763 - val_loss: 0.2830 - val_acc: 0.8751\n"
          ],
          "name": "stdout"
        }
      ]
    },
    {
      "cell_type": "code",
      "metadata": {
        "id": "-ntn--ETsGAg",
        "colab_type": "code",
        "colab": {}
      },
      "source": [
        "def plot_cm(cm, classes, normalize=False, title='Confusion matrix', cmap=plt.cm.Blues):\n",
        "    plt.figure(figsize = (5,5))\n",
        "    plt.imshow(cm, interpolation='nearest', cmap=cmap)\n",
        "    plt.title(title)\n",
        "    plt.colorbar()\n",
        "    tick_marks = np.arange(len(classes))\n",
        "    plt.xticks(tick_marks, classes, rotation=90)\n",
        "    plt.yticks(tick_marks, classes)\n",
        "    if normalize:\n",
        "        cm = cm.astype('float') / cm.sum(axis=1)[:, np.newaxis]\n",
        "\n",
        "    thresh = cm.max() / 2.\n",
        "    for i, j in itertools.product(range(cm.shape[0]), range(cm.shape[1])):\n",
        "        plt.text(j, i, cm[i, j],\n",
        "                 horizontalalignment=\"center\",\n",
        "                 color=\"white\" if cm[i, j] > thresh else \"black\")\n",
        "    plt.tight_layout()\n",
        "    plt.ylabel('True label')\n",
        "    plt.xlabel('Predicted label')\n",
        "    \n",
        "def plot_lc(history):\n",
        "    plt.figure(figsize=(8,8))\n",
        "    plt.subplot(1,2,1)\n",
        "    plt.plot(history.history['acc'])\n",
        "    plt.plot(history.history['val_acc'])\n",
        "    plt.title('model accuracy')\n",
        "    plt.ylabel('accuracy')\n",
        "    plt.xlabel('epoch')\n",
        "    plt.legend(['train', 'test'], loc='upper left')\n",
        "    plt.savefig('./accuracy_curve.png')\n",
        "    plt.subplot(1,2,2)\n",
        "    plt.plot(history.history['loss'])\n",
        "    plt.plot(history.history['val_loss'])\n",
        "    plt.title('model loss')\n",
        "    plt.ylabel('loss')\n",
        "    plt.xlabel('epoch')\n",
        "    plt.legend(['train', 'test'], loc='upper left')\n",
        "    "
      ],
      "execution_count": 0,
      "outputs": []
    },
    {
      "cell_type": "code",
      "metadata": {
        "id": "6ibjkxGesJ9F",
        "colab_type": "code",
        "outputId": "4496d87c-c05d-4cf5-8032-71778e903cb4",
        "colab": {
          "base_uri": "https://localhost:8080/",
          "height": 51
        }
      },
      "source": [
        "score = model.evaluate(X_test_reshape,y_test_c)\n",
        "print(score)"
      ],
      "execution_count": 0,
      "outputs": [
        {
          "output_type": "stream",
          "text": [
            "3778/3778 [==============================] - 4s 1ms/step\n",
            "[0.28304042860021533, 0.8750661725780836]\n"
          ],
          "name": "stdout"
        }
      ]
    },
    {
      "cell_type": "code",
      "metadata": {
        "id": "EzPBrOQdsLmt",
        "colab_type": "code",
        "outputId": "1b201f66-2497-479a-ca35-2db62d3fe166",
        "colab": {
          "base_uri": "https://localhost:8080/",
          "height": 865
        }
      },
      "source": [
        "import itertools\n",
        "from sklearn.metrics import confusion_matrix, make_scorer, accuracy_score\n",
        "y_pred = model.predict(X_test_reshape)\n",
        "Y_pred_classes = np.argmax(y_pred,axis=1) \n",
        "Y_true = np.argmax(y_test_c,axis=1)\n",
        "dict_characters = {0: 'IDC(-)', 1: 'IDC(+)'}\n",
        "confusion_mtx = confusion_matrix(Y_true, Y_pred_classes) \n",
        "plot_cm(confusion_mtx, classes = list(dict_characters.values())) \n",
        "plt.show()\n",
        "plot_lc(history)\n",
        "plt.show()"
      ],
      "execution_count": 0,
      "outputs": [
        {
          "output_type": "display_data",
          "data": {
            "image/png": "[encoded data removed]",
            "text/plain": [
              "<Figure size 360x360 with 2 Axes>"
            ]
          },
          "metadata": {
            "tags": []
          }
        },
        {
          "output_type": "display_data",
          "data": {
            "image/png": "[encoded data removed]",
            "text/plain": [
              "<Figure size 576x576 with 2 Axes>"
            ]
          },
          "metadata": {
            "tags": []
          }
        }
      ]
    },
    {
      "cell_type": "code",
      "metadata": {
        "id": "zkQT8pU_Wlcq",
        "colab_type": "code",
        "outputId": "c2a0b544-0ca1-4792-8964-73d371698093",
        "colab": {
          "base_uri": "https://localhost:8080/",
          "height": 204
        }
      },
      "source": [
        "print(confusion_matrix(Y_true, Y_pred_classes))\n",
        "\n",
        "from sklearn import metrics\n",
        "print(metrics.classification_report(Y_true, Y_pred_classes))\n"
      ],
      "execution_count": 0,
      "outputs": [
        {
          "output_type": "stream",
          "text": [
            "[[1644  231]\n",
            " [ 241 1662]]\n",
            "              precision    recall  f1-score   support\n",
            "\n",
            "           0       0.87      0.88      0.87      1875\n",
            "           1       0.88      0.87      0.88      1903\n",
            "\n",
            "    accuracy                           0.88      3778\n",
            "   macro avg       0.88      0.88      0.88      3778\n",
            "weighted avg       0.88      0.88      0.88      3778\n",
            "\n"
          ],
          "name": "stdout"
        }
      ]
    },
    {
      "cell_type": "code",
      "metadata": {
        "id": "3DOuiIo1SMoF",
        "colab_type": "code",
        "outputId": "81f718f9-9c71-4161-a244-b32eb1ef9ccb",
        "colab": {
          "base_uri": "https://localhost:8080/",
          "height": 51
        }
      },
      "source": [
        "cm= confusion_matrix(Y_true, Y_pred_classes)\n",
        "sensitivity= cm[1,1]/(cm[1,1]+cm[1,0])\n",
        "print('Sensitivity : ', sensitivity )\n",
        "secificity= cm[0,0]/(cm[0,0]+cm[0,1])\n",
        "print('Specificity : ',secificity)"
      ],
      "execution_count": 0,
      "outputs": [
        {
          "output_type": "stream",
          "text": [
            "Sensitivity :  0.8733578560168156\n",
            "Specificity :  0.8768\n"
          ],
          "name": "stdout"
        }
      ]
    },
    {
      "cell_type": "code",
      "metadata": {
        "id": "YN05OyFEbdQ1",
        "colab_type": "code",
        "colab": {}
      },
      "source": [
        ""
      ],
      "execution_count": 0,
      "outputs": []
    }
  ]
}