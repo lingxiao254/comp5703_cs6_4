{
  "nbformat": 4,
  "nbformat_minor": 0,
  "metadata": {
    "colab": {
      "name": "cnn_final.ipynb",
      "provenance": [],
      "collapsed_sections": [],
      "machine_shape": "hm"
    },
    "kernelspec": {
      "name": "python3",
      "display_name": "Python 3"
    },
    "accelerator": "GPU"
  },
  "cells": [
    {
      "cell_type": "code",
      "metadata": {
        "id": "U96AsV85NGjm",
        "colab_type": "code",
        "colab": {}
      },
      "source": [
        "# Use GPU\n",
        "import os\n",
        "os.environ[\"CUDA_VISIBLE_DEVICES\"] = \"0\""
      ],
      "execution_count": 0,
      "outputs": []
    },
    {
      "cell_type": "code",
      "metadata": {
        "id": "BXq9v1c8NHfb",
        "colab_type": "code",
        "outputId": "fb2a778c-d9ba-4771-ce95-d5ab31aedc94",
        "colab": {
          "base_uri": "https://localhost:8080/",
          "height": 224
        }
      },
      "source": [
        "!apt-get install -y -qq software-properties-common python-software-properties module-init-tools\n",
        "!add-apt-repository -y ppa:alessandro-strada/ppa 2>&1 > /dev/null\n",
        "!apt-get update -qq 2>&1 > /dev/null\n",
        "!apt-get -y install -qq google-drive-ocamlfuse fuse\n",
        "from google.colab import auth\n",
        "auth.authenticate_user()\n",
        "from oauth2client.client import GoogleCredentials\n",
        "creds = GoogleCredentials.get_application_default()\n",
        "import getpass\n",
        "!google-drive-ocamlfuse -headless -id={creds.client_id} -secret={creds.client_secret} < /dev/null 2>&1 | grep URL\n",
        "vcode = getpass.getpass()\n",
        "!echo {vcode} | google-drive-ocamlfuse -headless -id={creds.client_id} -secret={creds.client_secret}"
      ],
      "execution_count": 0,
      "outputs": [
        {
          "output_type": "stream",
          "text": [
            "E: Package 'python-software-properties' has no installation candidate\n",
            "Selecting previously unselected package google-drive-ocamlfuse.\n",
            "(Reading database ... 132681 files and directories currently installed.)\n",
            "Preparing to unpack .../google-drive-ocamlfuse_0.7.13-0ubuntu1~ubuntu18.04.1_amd64.deb ...\n",
            "Unpacking google-drive-ocamlfuse (0.7.13-0ubuntu1~ubuntu18.04.1) ...\n",
            "Setting up google-drive-ocamlfuse (0.7.13-0ubuntu1~ubuntu18.04.1) ...\n",
            "Processing triggers for man-db (2.8.3-2ubuntu0.1) ...\n",
            "Please, open the following URL in a web browser: https://accounts.google.com/o/oauth2/auth?client_id=32555940559.apps.googleusercontent.com&redirect_uri=urn%3Aietf%3Awg%3Aoauth%3A2.0%3Aoob&scope=https%3A%2F%2Fwww.googleapis.com%2Fauth%2Fdrive&response_type=code&access_type=offline&approval_prompt=force\n",
            "··········\n",
            "Please, open the following URL in a web browser: https://accounts.google.com/o/oauth2/auth?client_id=32555940559.apps.googleusercontent.com&redirect_uri=urn%3Aietf%3Awg%3Aoauth%3A2.0%3Aoob&scope=https%3A%2F%2Fwww.googleapis.com%2Fauth%2Fdrive&response_type=code&access_type=offline&approval_prompt=force\n",
            "Please enter the verification code: Access token retrieved correctly.\n"
          ],
          "name": "stdout"
        }
      ]
    },
    {
      "cell_type": "code",
      "metadata": {
        "id": "wtV4YXgSNJ6A",
        "colab_type": "code",
        "outputId": "ed569ee8-01ab-4130-b6f6-fe65320a18e5",
        "colab": {
          "base_uri": "https://localhost:8080/",
          "height": 122
        }
      },
      "source": [
        "from google.colab import drive\n",
        "drive.mount('/content/drive')"
      ],
      "execution_count": 0,
      "outputs": [
        {
          "output_type": "stream",
          "text": [
            "Go to this URL in a browser: https://accounts.google.com/o/oauth2/auth?client_id=947318989803-6bn6qk8qdgf4n4g3pfee6491hc0brc4i.apps.googleusercontent.com&redirect_uri=urn%3Aietf%3Awg%3Aoauth%3A2.0%3Aoob&scope=email%20https%3A%2F%2Fwww.googleapis.com%2Fauth%2Fdocs.test%20https%3A%2F%2Fwww.googleapis.com%2Fauth%2Fdrive%20https%3A%2F%2Fwww.googleapis.com%2Fauth%2Fdrive.photos.readonly%20https%3A%2F%2Fwww.googleapis.com%2Fauth%2Fpeopleapi.readonly&response_type=code\n",
            "\n",
            "Enter your authorization code:\n",
            "··········\n",
            "Mounted at /content/drive\n"
          ],
          "name": "stdout"
        }
      ]
    },
    {
      "cell_type": "code",
      "metadata": {
        "id": "KyRniU7VNgBR",
        "colab_type": "code",
        "colab": {}
      },
      "source": [
        "!mkdir -p drive\n",
        "!google-drive-ocamlfuse -o nonempty drive"
      ],
      "execution_count": 0,
      "outputs": []
    },
    {
      "cell_type": "code",
      "metadata": {
        "id": "AZQWLpq_Nl5w",
        "colab_type": "code",
        "outputId": "97885371-016f-45ac-df10-3cbfc6e2b1fb",
        "colab": {
          "base_uri": "https://localhost:8080/",
          "height": 34
        }
      },
      "source": [
        "# Mount drive\n",
        "from google.colab import drive\n",
        "drive.mount('/content/drive')"
      ],
      "execution_count": 0,
      "outputs": [
        {
          "output_type": "stream",
          "text": [
            "Mounted at /content/drive\n"
          ],
          "name": "stdout"
        }
      ]
    },
    {
      "cell_type": "code",
      "metadata": {
        "id": "8KI_OBk7Nn_i",
        "colab_type": "code",
        "outputId": "f888bb47-270b-4d41-930a-32abbf225638",
        "colab": {
          "base_uri": "https://localhost:8080/",
          "height": 34
        }
      },
      "source": [
        "import os\n",
        "os.getcwd()\n",
        "os.chdir('/content/drive/My Drive')\n",
        "os.getcwd()"
      ],
      "execution_count": 0,
      "outputs": [
        {
          "output_type": "execute_result",
          "data": {
            "text/plain": [
              "'/content/drive/My Drive'"
            ]
          },
          "metadata": {
            "tags": []
          },
          "execution_count": 6
        }
      ]
    },
    {
      "cell_type": "code",
      "metadata": {
        "id": "EXk7potJNpdu",
        "colab_type": "code",
        "outputId": "71c86a04-3d66-4766-9f91-f90f2327057c",
        "colab": {
          "base_uri": "https://localhost:8080/",
          "height": 80
        }
      },
      "source": [
        "#import library\n",
        "import pandas as pd\n",
        "import numpy as np\n",
        "from glob import glob\n",
        "import fnmatch\n",
        "import cv2\n",
        "import warnings\n",
        "warnings.filterwarnings('ignore')\n",
        "from sklearn.model_selection import train_test_split\n",
        "from keras.utils.np_utils import to_categorical\n",
        "import matplotlib.pylab as plt\n",
        "import itertools\n",
        "import sklearn\n",
        "from sklearn import model_selection\n",
        "from sklearn.model_selection import train_test_split, KFold, cross_val_score, StratifiedKFold, learning_curve, GridSearchCV\n",
        "itertools\n",
        "from sklearn.metrics import confusion_matrix, make_scorer, accuracy_score\n",
        "import keras\n",
        "from keras import backend as K\n",
        "from keras.callbacks import Callback, EarlyStopping, ReduceLROnPlateau, ModelCheckpoint\n",
        "from keras.preprocessing.image import ImageDataGenerator\n",
        "from keras.utils.np_utils import to_categorical\n",
        "from keras.models import Sequential, model_from_json\n",
        "from keras.optimizers import SGD, RMSprop, Adam, Adagrad, Adadelta\n",
        "from keras.layers import Dense, Dropout, Activation, Flatten, BatchNormalization, Conv2D, MaxPool2D, MaxPooling2D, GlobalAveragePooling2D"
      ],
      "execution_count": 0,
      "outputs": [
        {
          "output_type": "stream",
          "text": [
            "Using TensorFlow backend.\n"
          ],
          "name": "stderr"
        },
        {
          "output_type": "display_data",
          "data": {
            "text/html": [
              "<p style=\"color: red;\">\n",
              "The default version of TensorFlow in Colab will soon switch to TensorFlow 2.x.<br>\n",
              "We recommend you <a href=\"https://www.tensorflow.org/guide/migrate\" target=\"_blank\">upgrade</a> now \n",
              "or ensure your notebook will continue to use TensorFlow 1.x via the <code>%tensorflow_version 1.x</code> magic:\n",
              "<a href=\"https://colab.research.google.com/notebooks/tensorflow_version.ipynb\" target=\"_blank\">more info</a>.</p>\n"
            ],
            "text/plain": [
              "<IPython.core.display.HTML object>"
            ]
          },
          "metadata": {
            "tags": []
          }
        }
      ]
    },
    {
      "cell_type": "code",
      "metadata": {
        "id": "7hU63tT8NrHb",
        "colab_type": "code",
        "colab": {}
      },
      "source": [
        "X1=np.load('X_new.npy')\n",
        "Y1=np.load('Y_new.npy')"
      ],
      "execution_count": 0,
      "outputs": []
    },
    {
      "cell_type": "code",
      "metadata": {
        "id": "qDpK7N46NskC",
        "colab_type": "code",
        "colab": {}
      },
      "source": [
        "X=X1[0:40000]\n",
        "Y=Y1[0:40000]"
      ],
      "execution_count": 0,
      "outputs": []
    },
    {
      "cell_type": "code",
      "metadata": {
        "id": "WwaLz1gqNwim",
        "colab_type": "code",
        "outputId": "6570cd20-2ded-46fe-d70b-6c10c776b0f7",
        "colab": {
          "base_uri": "https://localhost:8080/",
          "height": 85
        }
      },
      "source": [
        "def describe_data(x,y):\n",
        "    print('Total number: {}'.format(len(x)))\n",
        "    print('Number of IDC(-): {}'.format(np.sum(y==0)))\n",
        "    print('Number of IDC(+): {}'.format(np.sum(y==1)))\n",
        "    print('Percentage of IDC(+) : {:.2f}%'.format(100*np.mean(y)))\n",
        "describe_data(X, Y)"
      ],
      "execution_count": 0,
      "outputs": [
        {
          "output_type": "stream",
          "text": [
            "Total number: 40000\n",
            "Number of IDC(-): 30556\n",
            "Number of IDC(+): 9444\n",
            "Percentage of IDC(+) : 23.61%\n"
          ],
          "name": "stdout"
        }
      ]
    },
    {
      "cell_type": "code",
      "metadata": {
        "id": "maVlWNreNyD3",
        "colab_type": "code",
        "colab": {}
      },
      "source": [
        "x_sub = np.array(X)\n",
        "x_sub=x_sub/255.0\n",
        "x_sub_shape = x_sub.shape[1] * x_sub.shape[2] * x_sub.shape[3]\n",
        "x_flat = x_sub.reshape(x_sub.shape[0], x_sub_shape)"
      ],
      "execution_count": 0,
      "outputs": []
    },
    {
      "cell_type": "code",
      "metadata": {
        "id": "ZB5v86ysNzu9",
        "colab_type": "code",
        "outputId": "27b9f510-6346-4433-c4bd-bcdc4ba97020",
        "colab": {
          "base_uri": "https://localhost:8080/",
          "height": 173
        }
      },
      "source": [
        "r = pd.value_counts(Y)\n",
        "print(r)\n",
        "from imblearn.under_sampling import RandomUnderSampler\n",
        "rus=RandomUnderSampler(ratio='auto')\n",
        "x_flat_resample,y_sub_resample=rus.fit_sample(x_flat,Y)\n",
        "len(x_flat_resample)\n",
        "r = pd.value_counts(y_sub_resample)\n",
        "print(r)"
      ],
      "execution_count": 0,
      "outputs": [
        {
          "output_type": "stream",
          "text": [
            "0    30556\n",
            "1     9444\n",
            "dtype: int64\n"
          ],
          "name": "stdout"
        },
        {
          "output_type": "stream",
          "text": [
            "/usr/local/lib/python3.6/dist-packages/sklearn/externals/six.py:31: DeprecationWarning: The module is deprecated in version 0.21 and will be removed in version 0.23 since we've dropped support for Python 2.7. Please rely on the official version of six (https://pypi.org/project/six/).\n",
            "  \"(https://pypi.org/project/six/).\", DeprecationWarning)\n"
          ],
          "name": "stderr"
        },
        {
          "output_type": "stream",
          "text": [
            "1    9444\n",
            "0    9444\n",
            "dtype: int64\n"
          ],
          "name": "stdout"
        }
      ]
    },
    {
      "cell_type": "code",
      "metadata": {
        "id": "O49ytS1fN4h7",
        "colab_type": "code",
        "colab": {}
      },
      "source": [
        "X_train, X_test, y_train, y_test = train_test_split(x_flat_resample, y_sub_resample, test_size=0.2, random_state = 2) # 0.2 test_size means 20%"
      ],
      "execution_count": 0,
      "outputs": []
    },
    {
      "cell_type": "code",
      "metadata": {
        "id": "MDuL5hOON584",
        "colab_type": "code",
        "colab": {}
      },
      "source": [
        "Y_train_c = to_categorical(y_train, num_classes = 2)\n",
        "Y_test_c = to_categorical(y_test, num_classes = 2)"
      ],
      "execution_count": 0,
      "outputs": []
    },
    {
      "cell_type": "code",
      "metadata": {
        "id": "CBq_Tgc-N7gn",
        "colab_type": "code",
        "colab": {}
      },
      "source": [
        "for i in range(len(X_train)):\n",
        "    height, width, channels = 50,50,3\n",
        "    X_train_reshape = X_train.reshape(len(X_train),height,width,channels)\n",
        "for i in range(len(X_test)):\n",
        "    height, width, channels = 50,50,3\n",
        "    X_test_reshape = X_test.reshape(len(X_test),height,width,channels)\n",
        "\n",
        "df = pd.DataFrame()\n",
        "df[\"labels\"]=y_train\n",
        "label = df['labels']\n"
      ],
      "execution_count": 0,
      "outputs": []
    },
    {
      "cell_type": "code",
      "metadata": {
        "id": "R9X1lR9SN9ag",
        "colab_type": "code",
        "outputId": "a0b85725-af09-46d7-af8e-09910deef71d",
        "colab": {
          "base_uri": "https://localhost:8080/",
          "height": 68
        }
      },
      "source": [
        "r = pd.value_counts(y_train)\n",
        "print(r)"
      ],
      "execution_count": 0,
      "outputs": [
        {
          "output_type": "stream",
          "text": [
            "0    7569\n",
            "1    7541\n",
            "dtype: int64\n"
          ],
          "name": "stdout"
        }
      ]
    },
    {
      "cell_type": "code",
      "metadata": {
        "id": "QLdzymtyN_Dz",
        "colab_type": "code",
        "outputId": "5ea9aec4-4cd9-4503-bada-e0fd97d5e448",
        "colab": {
          "base_uri": "https://localhost:8080/",
          "height": 85
        }
      },
      "source": [
        "print(X_train_reshape.shape)\n",
        "print(Y_train_c.shape)\n",
        "print(X_test_reshape.shape)\n",
        "print(Y_test_c.shape)"
      ],
      "execution_count": 0,
      "outputs": [
        {
          "output_type": "stream",
          "text": [
            "(15110, 50, 50, 3)\n",
            "(15110, 2)\n",
            "(3778, 50, 50, 3)\n",
            "(3778, 2)\n"
          ],
          "name": "stdout"
        }
      ]
    },
    {
      "cell_type": "code",
      "metadata": {
        "id": "-HEyHwJ0OAu5",
        "colab_type": "code",
        "outputId": "3e98eb6d-fcdb-41ff-eeda-ac3c23ef0c9b",
        "colab": {
          "base_uri": "https://localhost:8080/",
          "height": 326
        }
      },
      "source": [
        "model = Sequential()\n",
        "model.add(Conv2D(32,(3,3), activation='relu', input_shape=(50, 50, 3), padding = 'Same', strides = 2, ))\n",
        "model.add(Conv2D(32,(3,3), padding = 'Same', activation='relu' ))\n",
        "model.add(Conv2D(32,(3,3), padding = 'Same', activation='relu'))\n",
        "model.add(MaxPooling2D(pool_size=(2,2)))\n",
        "model.add(Dropout(0.25))\n",
        "model.add(Flatten())\n",
        "model.add(Dense(32, activation='relu'))\n",
        "model.add(Dropout(0.25))\n",
        "model.add(Dense(2, activation='softmax'))   \n",
        "model.compile(loss=keras.losses.categorical_crossentropy,\n",
        "              optimizer=keras.optimizers.Adadelta(),\n",
        "              metrics=['accuracy'])\n",
        "model.compile(loss=keras.losses.categorical_crossentropy, optimizer=keras.optimizers.Adadelta(), metrics=['accuracy'])"
      ],
      "execution_count": 0,
      "outputs": [
        {
          "output_type": "stream",
          "text": [
            "WARNING:tensorflow:From /usr/local/lib/python3.6/dist-packages/keras/backend/tensorflow_backend.py:66: The name tf.get_default_graph is deprecated. Please use tf.compat.v1.get_default_graph instead.\n",
            "\n",
            "WARNING:tensorflow:From /usr/local/lib/python3.6/dist-packages/keras/backend/tensorflow_backend.py:541: The name tf.placeholder is deprecated. Please use tf.compat.v1.placeholder instead.\n",
            "\n",
            "WARNING:tensorflow:From /usr/local/lib/python3.6/dist-packages/keras/backend/tensorflow_backend.py:4432: The name tf.random_uniform is deprecated. Please use tf.random.uniform instead.\n",
            "\n",
            "WARNING:tensorflow:From /usr/local/lib/python3.6/dist-packages/keras/backend/tensorflow_backend.py:4267: The name tf.nn.max_pool is deprecated. Please use tf.nn.max_pool2d instead.\n",
            "\n",
            "WARNING:tensorflow:From /usr/local/lib/python3.6/dist-packages/keras/backend/tensorflow_backend.py:148: The name tf.placeholder_with_default is deprecated. Please use tf.compat.v1.placeholder_with_default instead.\n",
            "\n",
            "WARNING:tensorflow:From /usr/local/lib/python3.6/dist-packages/keras/backend/tensorflow_backend.py:3733: calling dropout (from tensorflow.python.ops.nn_ops) with keep_prob is deprecated and will be removed in a future version.\n",
            "Instructions for updating:\n",
            "Please use `rate` instead of `keep_prob`. Rate should be set to `rate = 1 - keep_prob`.\n",
            "WARNING:tensorflow:From /usr/local/lib/python3.6/dist-packages/keras/optimizers.py:793: The name tf.train.Optimizer is deprecated. Please use tf.compat.v1.train.Optimizer instead.\n",
            "\n",
            "WARNING:tensorflow:From /usr/local/lib/python3.6/dist-packages/keras/backend/tensorflow_backend.py:3576: The name tf.log is deprecated. Please use tf.math.log instead.\n",
            "\n"
          ],
          "name": "stdout"
        }
      ]
    },
    {
      "cell_type": "code",
      "metadata": {
        "id": "ERjsrYRbOCuJ",
        "colab_type": "code",
        "colab": {}
      },
      "source": [
        "datagen = ImageDataGenerator(\n",
        "        rotation_range=20,  # randomly rotate images in the range (degrees, 0 to 180)\n",
        "        width_shift_range=0.2,  # randomly shift images horizontally (fraction of total width)\n",
        "        height_shift_range=0.2,\n",
        "        shear_range=0.2,\n",
        "        zoom_range=0.2,\n",
        "        horizontal_flip=True,  # randomly flip images\n",
        "        vertical_flip=True) "
      ],
      "execution_count": 0,
      "outputs": []
    },
    {
      "cell_type": "code",
      "metadata": {
        "id": "T-IVEijLOFh7",
        "colab_type": "code",
        "colab": {}
      },
      "source": [
        "class MetricsCheckpoint(Callback):\n",
        "    def __init__(self, savepath):\n",
        "        super(MetricsCheckpoint, self).__init__()\n",
        "        self.savepath = savepath\n",
        "        self.history = {}\n",
        "    def on_epoch_end(self, epoch, logs=None):\n",
        "        for k, v in logs.items():\n",
        "            self.history.setdefault(k, []).append(v)\n",
        "        np.save(self.savepath, self.history)\n",
        "\n",
        "def plot_cm(cm, classes, normalize=False, title='Confusion matrix', cmap=plt.cm.Blues):\n",
        "    plt.figure(figsize = (5,5))\n",
        "    plt.imshow(cm, interpolation='nearest', cmap=cmap)\n",
        "    plt.title(title)\n",
        "    plt.colorbar()\n",
        "    tick_marks = np.arange(len(classes))\n",
        "    plt.xticks(tick_marks, classes, rotation=90)\n",
        "    plt.yticks(tick_marks, classes)\n",
        "    if normalize:\n",
        "        cm = cm.astype('float') / cm.sum(axis=1)[:, np.newaxis]\n",
        "\n",
        "    thresh = cm.max() / 2.\n",
        "    for i, j in itertools.product(range(cm.shape[0]), range(cm.shape[1])):\n",
        "        plt.text(j, i, cm[i, j],\n",
        "                 horizontalalignment=\"center\",\n",
        "                 color=\"white\" if cm[i, j] > thresh else \"black\")\n",
        "    plt.tight_layout()\n",
        "    plt.ylabel('True label')\n",
        "    plt.xlabel('Predicted label')\n",
        "    \n",
        "def plot_lc(history):\n",
        "    plt.figure(figsize=(8,8))\n",
        "    plt.subplot(1,2,1)\n",
        "    plt.plot(history.history['acc'])\n",
        "    plt.plot(history.history['val_acc'])\n",
        "    plt.title('model accuracy')\n",
        "    plt.ylabel('accuracy')\n",
        "    plt.xlabel('epoch')\n",
        "    plt.legend(['train', 'test'], loc='upper left')\n",
        "    plt.savefig('./accuracy_curve.png')\n",
        "    plt.subplot(1,2,2)\n",
        "    plt.plot(history.history['loss'])\n",
        "    plt.plot(history.history['val_loss'])\n",
        "    plt.title('model loss')\n",
        "    plt.ylabel('loss')\n",
        "    plt.xlabel('epoch')\n",
        "    plt.legend(['train', 'test'], loc='upper left')"
      ],
      "execution_count": 0,
      "outputs": []
    },
    {
      "cell_type": "code",
      "metadata": {
        "id": "vhDQbCW7OHHC",
        "colab_type": "code",
        "outputId": "d021f34f-51a0-46be-a81c-74dc49e5a978",
        "colab": {
          "base_uri": "https://localhost:8080/",
          "height": 1000
        }
      },
      "source": [
        "history = model.fit_generator(datagen.flow(X_train_reshape,Y_train_c, batch_size=32),validation_data=(X_test_reshape,Y_test_c),\n",
        "                        steps_per_epoch=len(X_train_reshape) / 32, epochs=200 ,callbacks = [MetricsCheckpoint('logs')],verbose=1)"
      ],
      "execution_count": 0,
      "outputs": [
        {
          "output_type": "stream",
          "text": [
            "WARNING:tensorflow:From /usr/local/lib/python3.6/dist-packages/tensorflow_core/python/ops/math_grad.py:1424: where (from tensorflow.python.ops.array_ops) is deprecated and will be removed in a future version.\n",
            "Instructions for updating:\n",
            "Use tf.where in 2.0, which has the same broadcast rule as np.where\n",
            "WARNING:tensorflow:From /usr/local/lib/python3.6/dist-packages/keras/backend/tensorflow_backend.py:1033: The name tf.assign_add is deprecated. Please use tf.compat.v1.assign_add instead.\n",
            "\n",
            "WARNING:tensorflow:From /usr/local/lib/python3.6/dist-packages/keras/backend/tensorflow_backend.py:1020: The name tf.assign is deprecated. Please use tf.compat.v1.assign instead.\n",
            "\n",
            "WARNING:tensorflow:From /usr/local/lib/python3.6/dist-packages/keras/backend/tensorflow_backend.py:3005: The name tf.Session is deprecated. Please use tf.compat.v1.Session instead.\n",
            "\n",
            "Epoch 1/200\n",
            "WARNING:tensorflow:From /usr/local/lib/python3.6/dist-packages/keras/backend/tensorflow_backend.py:190: The name tf.get_default_session is deprecated. Please use tf.compat.v1.get_default_session instead.\n",
            "\n",
            "WARNING:tensorflow:From /usr/local/lib/python3.6/dist-packages/keras/backend/tensorflow_backend.py:197: The name tf.ConfigProto is deprecated. Please use tf.compat.v1.ConfigProto instead.\n",
            "\n",
            "WARNING:tensorflow:From /usr/local/lib/python3.6/dist-packages/keras/backend/tensorflow_backend.py:207: The name tf.global_variables is deprecated. Please use tf.compat.v1.global_variables instead.\n",
            "\n",
            "WARNING:tensorflow:From /usr/local/lib/python3.6/dist-packages/keras/backend/tensorflow_backend.py:216: The name tf.is_variable_initialized is deprecated. Please use tf.compat.v1.is_variable_initialized instead.\n",
            "\n",
            "WARNING:tensorflow:From /usr/local/lib/python3.6/dist-packages/keras/backend/tensorflow_backend.py:223: The name tf.variables_initializer is deprecated. Please use tf.compat.v1.variables_initializer instead.\n",
            "\n",
            "473/472 [==============================] - 23s 48ms/step - loss: 0.6264 - acc: 0.6512 - val_loss: 0.6911 - val_acc: 0.6702\n",
            "Epoch 2/200\n",
            "473/472 [==============================] - 16s 33ms/step - loss: 0.5137 - acc: 0.7674 - val_loss: 0.4710 - val_acc: 0.7856\n",
            "Epoch 3/200\n",
            "473/472 [==============================] - 16s 33ms/step - loss: 0.4777 - acc: 0.7861 - val_loss: 0.4866 - val_acc: 0.7726\n",
            "Epoch 4/200\n",
            "473/472 [==============================] - 16s 33ms/step - loss: 0.4636 - acc: 0.7949 - val_loss: 0.4360 - val_acc: 0.8076\n",
            "Epoch 5/200\n",
            "473/472 [==============================] - 16s 33ms/step - loss: 0.4477 - acc: 0.8057 - val_loss: 0.4147 - val_acc: 0.8126\n",
            "Epoch 6/200\n",
            "473/472 [==============================] - 15s 33ms/step - loss: 0.4329 - acc: 0.8148 - val_loss: 0.4171 - val_acc: 0.8237\n",
            "Epoch 7/200\n",
            "473/472 [==============================] - 15s 33ms/step - loss: 0.4217 - acc: 0.8217 - val_loss: 0.4148 - val_acc: 0.8205\n",
            "Epoch 8/200\n",
            "473/472 [==============================] - 16s 33ms/step - loss: 0.4094 - acc: 0.8242 - val_loss: 0.4233 - val_acc: 0.8158\n",
            "Epoch 9/200\n",
            "473/472 [==============================] - 15s 33ms/step - loss: 0.4088 - acc: 0.8278 - val_loss: 0.3808 - val_acc: 0.8364\n",
            "Epoch 10/200\n",
            "473/472 [==============================] - 16s 33ms/step - loss: 0.4038 - acc: 0.8282 - val_loss: 0.3932 - val_acc: 0.8298\n",
            "Epoch 11/200\n",
            "473/472 [==============================] - 16s 33ms/step - loss: 0.4009 - acc: 0.8339 - val_loss: 0.3841 - val_acc: 0.8306\n",
            "Epoch 12/200\n",
            "473/472 [==============================] - 16s 33ms/step - loss: 0.3956 - acc: 0.8357 - val_loss: 0.5082 - val_acc: 0.7967\n",
            "Epoch 13/200\n",
            "473/472 [==============================] - 15s 32ms/step - loss: 0.3950 - acc: 0.8352 - val_loss: 0.3787 - val_acc: 0.8372\n",
            "Epoch 14/200\n",
            "473/472 [==============================] - 15s 33ms/step - loss: 0.3934 - acc: 0.8367 - val_loss: 0.3748 - val_acc: 0.8391\n",
            "Epoch 15/200\n",
            "473/472 [==============================] - 15s 32ms/step - loss: 0.3871 - acc: 0.8369 - val_loss: 0.3671 - val_acc: 0.8433\n",
            "Epoch 16/200\n",
            "473/472 [==============================] - 15s 32ms/step - loss: 0.3863 - acc: 0.8384 - val_loss: 0.3532 - val_acc: 0.8462\n",
            "Epoch 17/200\n",
            "473/472 [==============================] - 15s 32ms/step - loss: 0.3835 - acc: 0.8404 - val_loss: 0.3832 - val_acc: 0.8367\n",
            "Epoch 18/200\n",
            "473/472 [==============================] - 15s 32ms/step - loss: 0.3885 - acc: 0.8369 - val_loss: 0.3935 - val_acc: 0.8301\n",
            "Epoch 19/200\n",
            "473/472 [==============================] - 15s 32ms/step - loss: 0.3765 - acc: 0.8427 - val_loss: 0.3620 - val_acc: 0.8433\n",
            "Epoch 20/200\n",
            "473/472 [==============================] - 15s 32ms/step - loss: 0.3757 - acc: 0.8408 - val_loss: 0.3650 - val_acc: 0.8430\n",
            "Epoch 21/200\n",
            "473/472 [==============================] - 15s 32ms/step - loss: 0.3740 - acc: 0.8437 - val_loss: 0.3578 - val_acc: 0.8494\n",
            "Epoch 22/200\n",
            "473/472 [==============================] - 15s 32ms/step - loss: 0.3730 - acc: 0.8449 - val_loss: 0.3692 - val_acc: 0.8417\n",
            "Epoch 23/200\n",
            "473/472 [==============================] - 15s 32ms/step - loss: 0.3733 - acc: 0.8461 - val_loss: 0.3558 - val_acc: 0.8460\n",
            "Epoch 24/200\n",
            "473/472 [==============================] - 15s 32ms/step - loss: 0.3657 - acc: 0.8446 - val_loss: 0.5456 - val_acc: 0.7634\n",
            "Epoch 25/200\n",
            "473/472 [==============================] - 15s 32ms/step - loss: 0.3682 - acc: 0.8480 - val_loss: 0.3524 - val_acc: 0.8528\n",
            "Epoch 26/200\n",
            "473/472 [==============================] - 15s 32ms/step - loss: 0.3648 - acc: 0.8496 - val_loss: 0.3646 - val_acc: 0.8452\n",
            "Epoch 27/200\n",
            "473/472 [==============================] - 15s 32ms/step - loss: 0.3680 - acc: 0.8456 - val_loss: 0.3507 - val_acc: 0.8507\n",
            "Epoch 28/200\n",
            "473/472 [==============================] - 15s 32ms/step - loss: 0.3674 - acc: 0.8463 - val_loss: 0.3821 - val_acc: 0.8425\n",
            "Epoch 29/200\n",
            "473/472 [==============================] - 15s 32ms/step - loss: 0.3624 - acc: 0.8486 - val_loss: 0.3338 - val_acc: 0.8573\n",
            "Epoch 30/200\n",
            "473/472 [==============================] - 15s 32ms/step - loss: 0.3633 - acc: 0.8504 - val_loss: 0.3312 - val_acc: 0.8565\n",
            "Epoch 31/200\n",
            "473/472 [==============================] - 16s 33ms/step - loss: 0.3597 - acc: 0.8521 - val_loss: 0.3491 - val_acc: 0.8547\n",
            "Epoch 32/200\n",
            "473/472 [==============================] - 15s 32ms/step - loss: 0.3599 - acc: 0.8508 - val_loss: 0.3342 - val_acc: 0.8568\n",
            "Epoch 33/200\n",
            "473/472 [==============================] - 15s 32ms/step - loss: 0.3566 - acc: 0.8491 - val_loss: 0.3597 - val_acc: 0.8460\n",
            "Epoch 34/200\n",
            "473/472 [==============================] - 15s 32ms/step - loss: 0.3561 - acc: 0.8506 - val_loss: 0.3480 - val_acc: 0.8467\n",
            "Epoch 35/200\n",
            "473/472 [==============================] - 15s 32ms/step - loss: 0.3561 - acc: 0.8508 - val_loss: 0.3728 - val_acc: 0.8404\n",
            "Epoch 36/200\n",
            "473/472 [==============================] - 15s 32ms/step - loss: 0.3543 - acc: 0.8513 - val_loss: 0.3397 - val_acc: 0.8504\n",
            "Epoch 37/200\n",
            "473/472 [==============================] - 15s 32ms/step - loss: 0.3543 - acc: 0.8503 - val_loss: 0.3328 - val_acc: 0.8589\n",
            "Epoch 38/200\n",
            "473/472 [==============================] - 15s 32ms/step - loss: 0.3549 - acc: 0.8505 - val_loss: 0.3230 - val_acc: 0.8658\n",
            "Epoch 39/200\n",
            "473/472 [==============================] - 15s 32ms/step - loss: 0.3509 - acc: 0.8555 - val_loss: 0.3471 - val_acc: 0.8520\n",
            "Epoch 40/200\n",
            "473/472 [==============================] - 15s 32ms/step - loss: 0.3496 - acc: 0.8553 - val_loss: 0.3177 - val_acc: 0.8639\n",
            "Epoch 41/200\n",
            "473/472 [==============================] - 15s 32ms/step - loss: 0.3501 - acc: 0.8573 - val_loss: 0.3621 - val_acc: 0.8502\n",
            "Epoch 42/200\n",
            "473/472 [==============================] - 15s 32ms/step - loss: 0.3493 - acc: 0.8576 - val_loss: 0.3347 - val_acc: 0.8549\n",
            "Epoch 43/200\n",
            "473/472 [==============================] - 15s 32ms/step - loss: 0.3456 - acc: 0.8569 - val_loss: 0.3470 - val_acc: 0.8523\n",
            "Epoch 44/200\n",
            "473/472 [==============================] - 15s 32ms/step - loss: 0.3469 - acc: 0.8550 - val_loss: 0.3640 - val_acc: 0.8512\n",
            "Epoch 45/200\n",
            "473/472 [==============================] - 15s 32ms/step - loss: 0.3450 - acc: 0.8551 - val_loss: 0.3155 - val_acc: 0.8669\n",
            "Epoch 46/200\n",
            "473/472 [==============================] - 15s 32ms/step - loss: 0.3440 - acc: 0.8593 - val_loss: 0.4043 - val_acc: 0.8430\n",
            "Epoch 47/200\n",
            "473/472 [==============================] - 15s 32ms/step - loss: 0.3486 - acc: 0.8549 - val_loss: 0.3283 - val_acc: 0.8573\n",
            "Epoch 48/200\n",
            "473/472 [==============================] - 15s 33ms/step - loss: 0.3389 - acc: 0.8600 - val_loss: 0.3210 - val_acc: 0.8637\n",
            "Epoch 49/200\n",
            "473/472 [==============================] - 15s 32ms/step - loss: 0.3418 - acc: 0.8586 - val_loss: 0.3146 - val_acc: 0.8647\n",
            "Epoch 50/200\n",
            "473/472 [==============================] - 15s 32ms/step - loss: 0.3394 - acc: 0.8584 - val_loss: 0.3060 - val_acc: 0.8642\n",
            "Epoch 51/200\n",
            "473/472 [==============================] - 16s 33ms/step - loss: 0.3419 - acc: 0.8579 - val_loss: 0.3163 - val_acc: 0.8655\n",
            "Epoch 52/200\n",
            "473/472 [==============================] - 16s 33ms/step - loss: 0.3387 - acc: 0.8591 - val_loss: 0.3444 - val_acc: 0.8544\n",
            "Epoch 53/200\n",
            "473/472 [==============================] - 15s 33ms/step - loss: 0.3412 - acc: 0.8578 - val_loss: 0.3367 - val_acc: 0.8592\n",
            "Epoch 54/200\n",
            "473/472 [==============================] - 15s 32ms/step - loss: 0.3392 - acc: 0.8600 - val_loss: 0.3639 - val_acc: 0.8417\n",
            "Epoch 55/200\n",
            "473/472 [==============================] - 15s 32ms/step - loss: 0.3416 - acc: 0.8591 - val_loss: 0.3293 - val_acc: 0.8613\n",
            "Epoch 56/200\n",
            "473/472 [==============================] - 15s 33ms/step - loss: 0.3357 - acc: 0.8608 - val_loss: 0.3203 - val_acc: 0.8639\n",
            "Epoch 57/200\n",
            "473/472 [==============================] - 16s 33ms/step - loss: 0.3361 - acc: 0.8610 - val_loss: 0.3084 - val_acc: 0.8690\n",
            "Epoch 58/200\n",
            "473/472 [==============================] - 16s 33ms/step - loss: 0.3337 - acc: 0.8608 - val_loss: 0.3077 - val_acc: 0.8700\n",
            "Epoch 59/200\n",
            "473/472 [==============================] - 15s 33ms/step - loss: 0.3336 - acc: 0.8631 - val_loss: 0.3281 - val_acc: 0.8544\n",
            "Epoch 60/200\n",
            "473/472 [==============================] - 15s 33ms/step - loss: 0.3343 - acc: 0.8638 - val_loss: 0.3197 - val_acc: 0.8645\n",
            "Epoch 61/200\n",
            "473/472 [==============================] - 15s 33ms/step - loss: 0.3329 - acc: 0.8648 - val_loss: 0.3107 - val_acc: 0.8724\n",
            "Epoch 62/200\n",
            "473/472 [==============================] - 15s 33ms/step - loss: 0.3325 - acc: 0.8611 - val_loss: 0.3184 - val_acc: 0.8661\n",
            "Epoch 63/200\n",
            "473/472 [==============================] - 15s 33ms/step - loss: 0.3299 - acc: 0.8637 - val_loss: 0.3377 - val_acc: 0.8502\n",
            "Epoch 64/200\n",
            "473/472 [==============================] - 15s 33ms/step - loss: 0.3297 - acc: 0.8632 - val_loss: 0.2981 - val_acc: 0.8682\n",
            "Epoch 65/200\n",
            "473/472 [==============================] - 15s 33ms/step - loss: 0.3319 - acc: 0.8614 - val_loss: 0.2971 - val_acc: 0.8708\n",
            "Epoch 66/200\n",
            "473/472 [==============================] - 15s 32ms/step - loss: 0.3272 - acc: 0.8648 - val_loss: 0.3096 - val_acc: 0.8692\n",
            "Epoch 67/200\n",
            "473/472 [==============================] - 15s 32ms/step - loss: 0.3322 - acc: 0.8641 - val_loss: 0.3104 - val_acc: 0.8658\n",
            "Epoch 68/200\n",
            "473/472 [==============================] - 15s 32ms/step - loss: 0.3282 - acc: 0.8635 - val_loss: 0.3144 - val_acc: 0.8637\n",
            "Epoch 69/200\n",
            "473/472 [==============================] - 15s 32ms/step - loss: 0.3265 - acc: 0.8677 - val_loss: 0.3094 - val_acc: 0.8687\n",
            "Epoch 70/200\n",
            "473/472 [==============================] - 15s 32ms/step - loss: 0.3308 - acc: 0.8661 - val_loss: 0.3209 - val_acc: 0.8671\n",
            "Epoch 71/200\n",
            "473/472 [==============================] - 16s 33ms/step - loss: 0.3288 - acc: 0.8653 - val_loss: 0.3016 - val_acc: 0.8722\n",
            "Epoch 72/200\n",
            "473/472 [==============================] - 15s 33ms/step - loss: 0.3281 - acc: 0.8650 - val_loss: 0.3453 - val_acc: 0.8526\n",
            "Epoch 73/200\n",
            "473/472 [==============================] - 15s 32ms/step - loss: 0.3265 - acc: 0.8651 - val_loss: 0.3239 - val_acc: 0.8679\n",
            "Epoch 74/200\n",
            "473/472 [==============================] - 15s 32ms/step - loss: 0.3248 - acc: 0.8691 - val_loss: 0.2969 - val_acc: 0.8719\n",
            "Epoch 75/200\n",
            "473/472 [==============================] - 15s 32ms/step - loss: 0.3235 - acc: 0.8664 - val_loss: 0.3186 - val_acc: 0.8671\n",
            "Epoch 76/200\n",
            "473/472 [==============================] - 15s 32ms/step - loss: 0.3228 - acc: 0.8675 - val_loss: 0.3112 - val_acc: 0.8719\n",
            "Epoch 77/200\n",
            "473/472 [==============================] - 15s 32ms/step - loss: 0.3271 - acc: 0.8667 - val_loss: 0.3031 - val_acc: 0.8669\n",
            "Epoch 78/200\n",
            "473/472 [==============================] - 15s 32ms/step - loss: 0.3227 - acc: 0.8654 - val_loss: 0.3375 - val_acc: 0.8563\n",
            "Epoch 79/200\n",
            "473/472 [==============================] - 15s 32ms/step - loss: 0.3209 - acc: 0.8670 - val_loss: 0.2993 - val_acc: 0.8727\n",
            "Epoch 80/200\n",
            "473/472 [==============================] - 15s 32ms/step - loss: 0.3233 - acc: 0.8661 - val_loss: 0.3301 - val_acc: 0.8613\n",
            "Epoch 81/200\n",
            "473/472 [==============================] - 15s 32ms/step - loss: 0.3220 - acc: 0.8708 - val_loss: 0.2997 - val_acc: 0.8745\n",
            "Epoch 82/200\n",
            "473/472 [==============================] - 15s 33ms/step - loss: 0.3216 - acc: 0.8687 - val_loss: 0.3155 - val_acc: 0.8666\n",
            "Epoch 83/200\n",
            "473/472 [==============================] - 15s 32ms/step - loss: 0.3203 - acc: 0.8672 - val_loss: 0.3150 - val_acc: 0.8663\n",
            "Epoch 84/200\n",
            "473/472 [==============================] - 15s 32ms/step - loss: 0.3213 - acc: 0.8704 - val_loss: 0.3234 - val_acc: 0.8605\n",
            "Epoch 85/200\n",
            "473/472 [==============================] - 15s 32ms/step - loss: 0.3213 - acc: 0.8683 - val_loss: 0.3064 - val_acc: 0.8719\n",
            "Epoch 86/200\n",
            "473/472 [==============================] - 15s 32ms/step - loss: 0.3173 - acc: 0.8696 - val_loss: 0.3047 - val_acc: 0.8695\n",
            "Epoch 87/200\n",
            "473/472 [==============================] - 15s 32ms/step - loss: 0.3178 - acc: 0.8706 - val_loss: 0.3081 - val_acc: 0.8677\n",
            "Epoch 88/200\n",
            "473/472 [==============================] - 15s 32ms/step - loss: 0.3191 - acc: 0.8702 - val_loss: 0.2955 - val_acc: 0.8748\n",
            "Epoch 89/200\n",
            "473/472 [==============================] - 15s 32ms/step - loss: 0.3190 - acc: 0.8732 - val_loss: 0.3284 - val_acc: 0.8658\n",
            "Epoch 90/200\n",
            "473/472 [==============================] - 15s 32ms/step - loss: 0.3137 - acc: 0.8731 - val_loss: 0.3008 - val_acc: 0.8767\n",
            "Epoch 91/200\n",
            "473/472 [==============================] - 16s 33ms/step - loss: 0.3171 - acc: 0.8692 - val_loss: 0.3030 - val_acc: 0.8684\n",
            "Epoch 92/200\n",
            "473/472 [==============================] - 16s 33ms/step - loss: 0.3228 - acc: 0.8688 - val_loss: 0.3005 - val_acc: 0.8703\n",
            "Epoch 93/200\n",
            "473/472 [==============================] - 15s 32ms/step - loss: 0.3190 - acc: 0.8681 - val_loss: 0.3014 - val_acc: 0.8727\n",
            "Epoch 94/200\n",
            "473/472 [==============================] - 15s 32ms/step - loss: 0.3187 - acc: 0.8692 - val_loss: 0.3090 - val_acc: 0.8711\n",
            "Epoch 95/200\n",
            "473/472 [==============================] - 15s 32ms/step - loss: 0.3196 - acc: 0.8691 - val_loss: 0.3058 - val_acc: 0.8703\n",
            "Epoch 96/200\n",
            "473/472 [==============================] - 15s 32ms/step - loss: 0.3187 - acc: 0.8712 - val_loss: 0.3704 - val_acc: 0.8486\n",
            "Epoch 97/200\n",
            "473/472 [==============================] - 15s 32ms/step - loss: 0.3170 - acc: 0.8705 - val_loss: 0.2889 - val_acc: 0.8780\n",
            "Epoch 98/200\n",
            "473/472 [==============================] - 15s 32ms/step - loss: 0.3194 - acc: 0.8694 - val_loss: 0.3039 - val_acc: 0.8735\n",
            "Epoch 99/200\n",
            "473/472 [==============================] - 15s 32ms/step - loss: 0.3174 - acc: 0.8687 - val_loss: 0.3256 - val_acc: 0.8616\n",
            "Epoch 100/200\n",
            "473/472 [==============================] - 15s 32ms/step - loss: 0.3185 - acc: 0.8681 - val_loss: 0.2922 - val_acc: 0.8769\n",
            "Epoch 101/200\n",
            "473/472 [==============================] - 15s 32ms/step - loss: 0.3139 - acc: 0.8711 - val_loss: 0.2939 - val_acc: 0.8764\n",
            "Epoch 102/200\n",
            "473/472 [==============================] - 15s 32ms/step - loss: 0.3143 - acc: 0.8721 - val_loss: 0.3281 - val_acc: 0.8571\n",
            "Epoch 103/200\n",
            "473/472 [==============================] - 15s 32ms/step - loss: 0.3152 - acc: 0.8720 - val_loss: 0.2906 - val_acc: 0.8759\n",
            "Epoch 104/200\n",
            "473/472 [==============================] - 15s 32ms/step - loss: 0.3156 - acc: 0.8689 - val_loss: 0.3023 - val_acc: 0.8692\n",
            "Epoch 105/200\n",
            "473/472 [==============================] - 15s 32ms/step - loss: 0.3187 - acc: 0.8687 - val_loss: 0.3213 - val_acc: 0.8637\n",
            "Epoch 106/200\n",
            "473/472 [==============================] - 15s 32ms/step - loss: 0.3168 - acc: 0.8701 - val_loss: 0.2977 - val_acc: 0.8759\n",
            "Epoch 107/200\n",
            "473/472 [==============================] - 15s 32ms/step - loss: 0.3153 - acc: 0.8693 - val_loss: 0.2962 - val_acc: 0.8761\n",
            "Epoch 108/200\n",
            "473/472 [==============================] - 15s 32ms/step - loss: 0.3127 - acc: 0.8713 - val_loss: 0.2899 - val_acc: 0.8772\n",
            "Epoch 109/200\n",
            "473/472 [==============================] - 15s 32ms/step - loss: 0.3161 - acc: 0.8670 - val_loss: 0.2843 - val_acc: 0.8806\n",
            "Epoch 110/200\n",
            "473/472 [==============================] - 15s 32ms/step - loss: 0.3139 - acc: 0.8723 - val_loss: 0.2975 - val_acc: 0.8703\n",
            "Epoch 111/200\n",
            "473/472 [==============================] - 15s 32ms/step - loss: 0.3099 - acc: 0.8728 - val_loss: 0.3017 - val_acc: 0.8727\n",
            "Epoch 112/200\n",
            "473/472 [==============================] - 15s 33ms/step - loss: 0.3090 - acc: 0.8729 - val_loss: 0.2964 - val_acc: 0.8769\n",
            "Epoch 113/200\n",
            "473/472 [==============================] - 15s 32ms/step - loss: 0.3147 - acc: 0.8728 - val_loss: 0.3276 - val_acc: 0.8650\n",
            "Epoch 114/200\n",
            "473/472 [==============================] - 15s 32ms/step - loss: 0.3110 - acc: 0.8751 - val_loss: 0.3256 - val_acc: 0.8666\n",
            "Epoch 115/200\n",
            "473/472 [==============================] - 15s 32ms/step - loss: 0.3123 - acc: 0.8713 - val_loss: 0.3184 - val_acc: 0.8661\n",
            "Epoch 116/200\n",
            "473/472 [==============================] - 15s 32ms/step - loss: 0.3167 - acc: 0.8709 - val_loss: 0.3003 - val_acc: 0.8711\n",
            "Epoch 117/200\n",
            "473/472 [==============================] - 15s 32ms/step - loss: 0.3166 - acc: 0.8707 - val_loss: 0.2987 - val_acc: 0.8724\n",
            "Epoch 118/200\n",
            "473/472 [==============================] - 15s 32ms/step - loss: 0.3134 - acc: 0.8739 - val_loss: 0.3142 - val_acc: 0.8663\n",
            "Epoch 119/200\n",
            "473/472 [==============================] - 15s 32ms/step - loss: 0.3124 - acc: 0.8727 - val_loss: 0.3065 - val_acc: 0.8735\n",
            "Epoch 120/200\n",
            "473/472 [==============================] - 15s 32ms/step - loss: 0.3118 - acc: 0.8728 - val_loss: 0.3284 - val_acc: 0.8587\n",
            "Epoch 121/200\n",
            "473/472 [==============================] - 15s 32ms/step - loss: 0.3098 - acc: 0.8718 - val_loss: 0.2933 - val_acc: 0.8782\n",
            "Epoch 122/200\n",
            "473/472 [==============================] - 15s 32ms/step - loss: 0.3121 - acc: 0.8748 - val_loss: 0.3334 - val_acc: 0.8663\n",
            "Epoch 123/200\n",
            "473/472 [==============================] - 15s 32ms/step - loss: 0.3143 - acc: 0.8725 - val_loss: 0.3149 - val_acc: 0.8650\n",
            "Epoch 124/200\n",
            "473/472 [==============================] - 15s 32ms/step - loss: 0.3108 - acc: 0.8748 - val_loss: 0.3307 - val_acc: 0.8745\n",
            "Epoch 125/200\n",
            "473/472 [==============================] - 15s 32ms/step - loss: 0.3110 - acc: 0.8757 - val_loss: 0.2943 - val_acc: 0.8767\n",
            "Epoch 126/200\n",
            "473/472 [==============================] - 15s 32ms/step - loss: 0.3092 - acc: 0.8732 - val_loss: 0.2940 - val_acc: 0.8756\n",
            "Epoch 127/200\n",
            "473/472 [==============================] - 15s 32ms/step - loss: 0.3096 - acc: 0.8732 - val_loss: 0.3642 - val_acc: 0.8669\n",
            "Epoch 128/200\n",
            "473/472 [==============================] - 15s 32ms/step - loss: 0.3104 - acc: 0.8743 - val_loss: 0.2934 - val_acc: 0.8732\n",
            "Epoch 129/200\n",
            "473/472 [==============================] - 15s 32ms/step - loss: 0.3071 - acc: 0.8747 - val_loss: 0.2819 - val_acc: 0.8827\n",
            "Epoch 130/200\n",
            "473/472 [==============================] - 15s 32ms/step - loss: 0.3106 - acc: 0.8731 - val_loss: 0.2862 - val_acc: 0.8759\n",
            "Epoch 131/200\n",
            "473/472 [==============================] - 15s 32ms/step - loss: 0.3102 - acc: 0.8730 - val_loss: 0.2852 - val_acc: 0.8819\n",
            "Epoch 132/200\n",
            "473/472 [==============================] - 15s 33ms/step - loss: 0.3075 - acc: 0.8741 - val_loss: 0.3441 - val_acc: 0.8552\n",
            "Epoch 133/200\n",
            "473/472 [==============================] - 15s 33ms/step - loss: 0.3130 - acc: 0.8761 - val_loss: 0.2923 - val_acc: 0.8774\n",
            "Epoch 134/200\n",
            "473/472 [==============================] - 15s 32ms/step - loss: 0.3125 - acc: 0.8763 - val_loss: 0.3008 - val_acc: 0.8716\n",
            "Epoch 135/200\n",
            "473/472 [==============================] - 15s 32ms/step - loss: 0.3128 - acc: 0.8706 - val_loss: 0.2832 - val_acc: 0.8804\n",
            "Epoch 136/200\n",
            "473/472 [==============================] - 15s 32ms/step - loss: 0.3091 - acc: 0.8755 - val_loss: 0.3037 - val_acc: 0.8782\n",
            "Epoch 137/200\n",
            "473/472 [==============================] - 15s 33ms/step - loss: 0.3079 - acc: 0.8735 - val_loss: 0.3145 - val_acc: 0.8645\n",
            "Epoch 138/200\n",
            "473/472 [==============================] - 15s 32ms/step - loss: 0.3092 - acc: 0.8756 - val_loss: 0.3291 - val_acc: 0.8616\n",
            "Epoch 139/200\n",
            "473/472 [==============================] - 15s 32ms/step - loss: 0.3115 - acc: 0.8704 - val_loss: 0.2947 - val_acc: 0.8737\n",
            "Epoch 140/200\n",
            "473/472 [==============================] - 16s 33ms/step - loss: 0.3063 - acc: 0.8761 - val_loss: 0.2936 - val_acc: 0.8753\n",
            "Epoch 141/200\n",
            "473/472 [==============================] - 15s 32ms/step - loss: 0.3110 - acc: 0.8740 - val_loss: 0.3167 - val_acc: 0.8647\n",
            "Epoch 142/200\n",
            "473/472 [==============================] - 15s 32ms/step - loss: 0.3040 - acc: 0.8774 - val_loss: 0.2872 - val_acc: 0.8790\n",
            "Epoch 143/200\n",
            "473/472 [==============================] - 16s 33ms/step - loss: 0.3048 - acc: 0.8761 - val_loss: 0.2799 - val_acc: 0.8819\n",
            "Epoch 144/200\n",
            "473/472 [==============================] - 15s 33ms/step - loss: 0.3091 - acc: 0.8733 - val_loss: 0.2860 - val_acc: 0.8806\n",
            "Epoch 145/200\n",
            "473/472 [==============================] - 15s 32ms/step - loss: 0.3065 - acc: 0.8735 - val_loss: 0.3237 - val_acc: 0.8769\n",
            "Epoch 146/200\n",
            "473/472 [==============================] - 15s 32ms/step - loss: 0.3083 - acc: 0.8743 - val_loss: 0.2973 - val_acc: 0.8793\n",
            "Epoch 147/200\n",
            "473/472 [==============================] - 15s 32ms/step - loss: 0.3118 - acc: 0.8739 - val_loss: 0.3081 - val_acc: 0.8724\n",
            "Epoch 148/200\n",
            "473/472 [==============================] - 15s 32ms/step - loss: 0.3098 - acc: 0.8760 - val_loss: 0.2850 - val_acc: 0.8809\n",
            "Epoch 149/200\n",
            "473/472 [==============================] - 15s 32ms/step - loss: 0.3025 - acc: 0.8775 - val_loss: 0.3007 - val_acc: 0.8812\n",
            "Epoch 150/200\n",
            "473/472 [==============================] - 16s 33ms/step - loss: 0.3056 - acc: 0.8758 - val_loss: 0.3036 - val_acc: 0.8801\n",
            "Epoch 151/200\n",
            "473/472 [==============================] - 15s 33ms/step - loss: 0.3112 - acc: 0.8736 - val_loss: 0.3005 - val_acc: 0.8653\n",
            "Epoch 152/200\n",
            "473/472 [==============================] - 15s 33ms/step - loss: 0.3066 - acc: 0.8747 - val_loss: 0.2843 - val_acc: 0.8804\n",
            "Epoch 153/200\n",
            "473/472 [==============================] - 16s 33ms/step - loss: 0.3101 - acc: 0.8737 - val_loss: 0.2821 - val_acc: 0.8812\n",
            "Epoch 154/200\n",
            "473/472 [==============================] - 15s 32ms/step - loss: 0.3049 - acc: 0.8769 - val_loss: 0.3162 - val_acc: 0.8796\n",
            "Epoch 155/200\n",
            "473/472 [==============================] - 15s 32ms/step - loss: 0.3102 - acc: 0.8724 - val_loss: 0.2895 - val_acc: 0.8817\n",
            "Epoch 156/200\n",
            "473/472 [==============================] - 15s 32ms/step - loss: 0.3071 - acc: 0.8755 - val_loss: 0.2804 - val_acc: 0.8796\n",
            "Epoch 157/200\n",
            "473/472 [==============================] - 15s 33ms/step - loss: 0.3063 - acc: 0.8772 - val_loss: 0.2934 - val_acc: 0.8759\n",
            "Epoch 158/200\n",
            "473/472 [==============================] - 16s 33ms/step - loss: 0.3111 - acc: 0.8723 - val_loss: 0.2705 - val_acc: 0.8878\n",
            "Epoch 159/200\n",
            "473/472 [==============================] - 16s 33ms/step - loss: 0.3118 - acc: 0.8740 - val_loss: 0.2947 - val_acc: 0.8751\n",
            "Epoch 160/200\n",
            "473/472 [==============================] - 16s 33ms/step - loss: 0.3066 - acc: 0.8747 - val_loss: 0.2835 - val_acc: 0.8830\n",
            "Epoch 161/200\n",
            "473/472 [==============================] - 16s 33ms/step - loss: 0.3116 - acc: 0.8740 - val_loss: 0.2832 - val_acc: 0.8806\n",
            "Epoch 162/200\n",
            "473/472 [==============================] - 16s 33ms/step - loss: 0.3063 - acc: 0.8756 - val_loss: 0.2939 - val_acc: 0.8767\n",
            "Epoch 163/200\n",
            "473/472 [==============================] - 16s 33ms/step - loss: 0.3090 - acc: 0.8753 - val_loss: 0.3077 - val_acc: 0.8735\n",
            "Epoch 164/200\n",
            "473/472 [==============================] - 16s 33ms/step - loss: 0.3093 - acc: 0.8704 - val_loss: 0.3073 - val_acc: 0.8796\n",
            "Epoch 165/200\n",
            "473/472 [==============================] - 16s 33ms/step - loss: 0.3085 - acc: 0.8761 - val_loss: 0.2783 - val_acc: 0.8819\n",
            "Epoch 166/200\n",
            "473/472 [==============================] - 16s 33ms/step - loss: 0.3075 - acc: 0.8746 - val_loss: 0.2779 - val_acc: 0.8835\n",
            "Epoch 167/200\n",
            "473/472 [==============================] - 16s 33ms/step - loss: 0.3027 - acc: 0.8744 - val_loss: 0.2788 - val_acc: 0.8822\n",
            "Epoch 168/200\n",
            "473/472 [==============================] - 16s 33ms/step - loss: 0.3063 - acc: 0.8754 - val_loss: 0.3033 - val_acc: 0.8724\n",
            "Epoch 169/200\n",
            "473/472 [==============================] - 16s 33ms/step - loss: 0.3023 - acc: 0.8774 - val_loss: 0.2916 - val_acc: 0.8833\n",
            "Epoch 170/200\n",
            "473/472 [==============================] - 16s 33ms/step - loss: 0.3068 - acc: 0.8724 - val_loss: 0.2839 - val_acc: 0.8817\n",
            "Epoch 171/200\n",
            "473/472 [==============================] - 16s 34ms/step - loss: 0.3107 - acc: 0.8752 - val_loss: 0.2911 - val_acc: 0.8819\n",
            "Epoch 172/200\n",
            "473/472 [==============================] - 16s 33ms/step - loss: 0.3057 - acc: 0.8771 - val_loss: 0.3017 - val_acc: 0.8753\n",
            "Epoch 173/200\n",
            "473/472 [==============================] - 16s 34ms/step - loss: 0.3061 - acc: 0.8770 - val_loss: 0.2827 - val_acc: 0.8854\n",
            "Epoch 174/200\n",
            "473/472 [==============================] - 16s 33ms/step - loss: 0.3057 - acc: 0.8784 - val_loss: 0.3056 - val_acc: 0.8687\n",
            "Epoch 175/200\n",
            "473/472 [==============================] - 16s 33ms/step - loss: 0.3040 - acc: 0.8772 - val_loss: 0.3646 - val_acc: 0.8428\n",
            "Epoch 176/200\n",
            "473/472 [==============================] - 16s 33ms/step - loss: 0.3051 - acc: 0.8775 - val_loss: 0.3185 - val_acc: 0.8724\n",
            "Epoch 177/200\n",
            "473/472 [==============================] - 16s 33ms/step - loss: 0.3040 - acc: 0.8758 - val_loss: 0.2793 - val_acc: 0.8822\n",
            "Epoch 178/200\n",
            "473/472 [==============================] - 16s 33ms/step - loss: 0.3062 - acc: 0.8774 - val_loss: 0.2965 - val_acc: 0.8774\n",
            "Epoch 179/200\n",
            "473/472 [==============================] - 16s 33ms/step - loss: 0.3048 - acc: 0.8786 - val_loss: 0.2758 - val_acc: 0.8827\n",
            "Epoch 180/200\n",
            "473/472 [==============================] - 16s 33ms/step - loss: 0.3119 - acc: 0.8748 - val_loss: 0.2772 - val_acc: 0.8843\n",
            "Epoch 181/200\n",
            "473/472 [==============================] - 16s 33ms/step - loss: 0.3065 - acc: 0.8779 - val_loss: 0.3555 - val_acc: 0.8539\n",
            "Epoch 182/200\n",
            "473/472 [==============================] - 16s 33ms/step - loss: 0.3019 - acc: 0.8770 - val_loss: 0.2695 - val_acc: 0.8838\n",
            "Epoch 183/200\n",
            "473/472 [==============================] - 16s 33ms/step - loss: 0.3099 - acc: 0.8787 - val_loss: 0.3074 - val_acc: 0.8708\n",
            "Epoch 184/200\n",
            "473/472 [==============================] - 16s 34ms/step - loss: 0.3059 - acc: 0.8789 - val_loss: 0.2763 - val_acc: 0.8838\n",
            "Epoch 185/200\n",
            "473/472 [==============================] - 16s 33ms/step - loss: 0.3047 - acc: 0.8770 - val_loss: 0.3256 - val_acc: 0.8663\n",
            "Epoch 186/200\n",
            "473/472 [==============================] - 16s 34ms/step - loss: 0.3054 - acc: 0.8773 - val_loss: 0.2825 - val_acc: 0.8822\n",
            "Epoch 187/200\n",
            "473/472 [==============================] - 16s 33ms/step - loss: 0.3053 - acc: 0.8758 - val_loss: 0.3010 - val_acc: 0.8790\n",
            "Epoch 188/200\n",
            "473/472 [==============================] - 16s 33ms/step - loss: 0.3051 - acc: 0.8727 - val_loss: 0.2930 - val_acc: 0.8785\n",
            "Epoch 189/200\n",
            "473/472 [==============================] - 16s 33ms/step - loss: 0.3012 - acc: 0.8796 - val_loss: 0.2866 - val_acc: 0.8767\n",
            "Epoch 190/200\n",
            "473/472 [==============================] - 16s 34ms/step - loss: 0.3074 - acc: 0.8735 - val_loss: 0.3236 - val_acc: 0.8714\n",
            "Epoch 191/200\n",
            "473/472 [==============================] - 16s 33ms/step - loss: 0.3051 - acc: 0.8763 - val_loss: 0.3029 - val_acc: 0.8804\n",
            "Epoch 192/200\n",
            "473/472 [==============================] - 16s 34ms/step - loss: 0.3001 - acc: 0.8790 - val_loss: 0.2962 - val_acc: 0.8788\n",
            "Epoch 193/200\n",
            "473/472 [==============================] - 16s 34ms/step - loss: 0.3073 - acc: 0.8808 - val_loss: 0.2878 - val_acc: 0.8835\n",
            "Epoch 194/200\n",
            "473/472 [==============================] - 16s 34ms/step - loss: 0.3049 - acc: 0.8778 - val_loss: 0.3158 - val_acc: 0.8647\n",
            "Epoch 195/200\n",
            "473/472 [==============================] - 16s 33ms/step - loss: 0.3011 - acc: 0.8776 - val_loss: 0.2986 - val_acc: 0.8735\n",
            "Epoch 196/200\n",
            "473/472 [==============================] - 16s 34ms/step - loss: 0.3075 - acc: 0.8770 - val_loss: 0.3152 - val_acc: 0.8753\n",
            "Epoch 197/200\n",
            "473/472 [==============================] - 16s 33ms/step - loss: 0.3059 - acc: 0.8766 - val_loss: 0.2853 - val_acc: 0.8793\n",
            "Epoch 198/200\n",
            "473/472 [==============================] - 16s 33ms/step - loss: 0.3038 - acc: 0.8759 - val_loss: 0.2896 - val_acc: 0.8814\n",
            "Epoch 199/200\n",
            "473/472 [==============================] - 16s 33ms/step - loss: 0.3065 - acc: 0.8748 - val_loss: 0.2758 - val_acc: 0.8835\n",
            "Epoch 200/200\n",
            "473/472 [==============================] - 16s 33ms/step - loss: 0.3050 - acc: 0.8763 - val_loss: 0.3182 - val_acc: 0.8700\n"
          ],
          "name": "stdout"
        }
      ]
    },
    {
      "cell_type": "code",
      "metadata": {
        "id": "n9n9PK40OIkw",
        "colab_type": "code",
        "outputId": "d18526a9-992a-4a5a-9c26-1c278f1cd67e",
        "colab": {
          "base_uri": "https://localhost:8080/",
          "height": 51
        }
      },
      "source": [
        "score = model.evaluate(X_test_reshape,Y_test_c)\n",
        "print(score)"
      ],
      "execution_count": 0,
      "outputs": [
        {
          "output_type": "stream",
          "text": [
            "3778/3778 [==============================] - 1s 145us/step\n",
            "[0.31815229182349997, 0.8700370566437269]\n"
          ],
          "name": "stdout"
        }
      ]
    },
    {
      "cell_type": "code",
      "metadata": {
        "id": "GxiSNlEYOOA2",
        "colab_type": "code",
        "outputId": "6c2742b4-aa01-4de5-acef-020c93bddcbd",
        "colab": {
          "base_uri": "https://localhost:8080/",
          "height": 865
        }
      },
      "source": [
        "y_pred = model.predict(X_test_reshape)\n",
        "Y_pred_classes = np.argmax(y_pred,axis=1) \n",
        "Y_true = np.argmax(Y_test_c,axis=1)\n",
        "dict_characters = {0: 'IDC(-)', 1: 'IDC(+)'}\n",
        "confusion_mtx = confusion_matrix(Y_true, Y_pred_classes) \n",
        "plot_cm(confusion_mtx, classes = list(dict_characters.values())) \n",
        "plt.show()\n",
        "plot_lc(history)\n",
        "plt.show()\n"
      ],
      "execution_count": 0,
      "outputs": [
        {
          "output_type": "display_data",
          "data": {
            "image/png": "[encoded data removed]",
            "text/plain": [
              "<Figure size 360x360 with 2 Axes>"
            ]
          },
          "metadata": {
            "tags": []
          }
        },
        {
          "output_type": "display_data",
          "data": {
            "image/png": "[encoded data removed]",
            "text/plain": [
              "<Figure size 576x576 with 2 Axes>"
            ]
          },
          "metadata": {
            "tags": []
          }
        }
      ]
    },
    {
      "cell_type": "code",
      "metadata": {
        "id": "k8u69rUnYxve",
        "colab_type": "code",
        "outputId": "d4bd3f71-960d-4634-da3f-0908c99df091",
        "colab": {
          "base_uri": "https://localhost:8080/",
          "height": 204
        }
      },
      "source": [
        "print(confusion_matrix(Y_true, Y_pred_classes))\n",
        "\n",
        "from sklearn import metrics\n",
        "print(metrics.classification_report(Y_true, Y_pred_classes))\n"
      ],
      "execution_count": 0,
      "outputs": [
        {
          "output_type": "stream",
          "text": [
            "[[1497  378]\n",
            " [ 113 1790]]\n",
            "              precision    recall  f1-score   support\n",
            "\n",
            "           0       0.93      0.80      0.86      1875\n",
            "           1       0.83      0.94      0.88      1903\n",
            "\n",
            "    accuracy                           0.87      3778\n",
            "   macro avg       0.88      0.87      0.87      3778\n",
            "weighted avg       0.88      0.87      0.87      3778\n",
            "\n"
          ],
          "name": "stdout"
        }
      ]
    },
    {
      "cell_type": "code",
      "metadata": {
        "id": "xp0iNTcJUtT2",
        "colab_type": "code",
        "outputId": "883b40cc-7368-4dfd-8562-768b0cf0690b",
        "colab": {
          "base_uri": "https://localhost:8080/",
          "height": 51
        }
      },
      "source": [
        "cm= confusion_matrix(Y_true, Y_pred_classes)\n",
        "sensitivity= cm[1,1]/(cm[1,1]+cm[1,0])\n",
        "print('Sensitivity : ', sensitivity )\n",
        "secificity= cm[0,0]/(cm[0,0]+cm[0,1])\n",
        "print('Specificity : ',secificity)"
      ],
      "execution_count": 0,
      "outputs": [
        {
          "output_type": "stream",
          "text": [
            "Sensitivity :  0.9406200735680504\n",
            "Specificity :  0.7984\n"
          ],
          "name": "stdout"
        }
      ]
    },
    {
      "cell_type": "code",
      "metadata": {
        "id": "IOR1nzuOOQhR",
        "colab_type": "code",
        "outputId": "e73010d1-60db-424c-f470-92c5240ea5fb",
        "colab": {
          "base_uri": "https://localhost:8080/",
          "height": 34
        }
      },
      "source": [
        "from sklearn.metrics import auc,roc_curve\n",
        "#  ROC curve\n",
        "fpr, tpr, thresholds = roc_curve(Y_true, y_pred[:,1], pos_label=1)\n",
        "\n",
        "#  ROC area\n",
        "pred_score = auc(fpr, tpr)\n",
        "print(f'Area Under Curve is {pred_score}')"
      ],
      "execution_count": 0,
      "outputs": [
        {
          "output_type": "stream",
          "text": [
            "Area Under Curve is 0.9450832019618146\n"
          ],
          "name": "stdout"
        }
      ]
    },
    {
      "cell_type": "code",
      "metadata": {
        "id": "A5HemaB7OTZv",
        "colab_type": "code",
        "outputId": "b5c08b3e-2b61-4ac8-feb5-90c310c3d71b",
        "colab": {
          "base_uri": "https://localhost:8080/",
          "height": 312
        }
      },
      "source": [
        "plt.figure()\n",
        "plt.plot(fpr, tpr, color='orange', label='ROC curve (area = %0.2f)' % pred_score)\n",
        "plt.plot([0, 1], [0, 1], color='navy', linestyle='--')\n",
        "plt.xlim([-0.01, 1.0])\n",
        "plt.ylim([0.0, 1.01])\n",
        "plt.xlabel('False Positive Rate')\n",
        "plt.ylabel('True Positive Rate')\n",
        "plt.title('ROC curve of CNN Model')\n",
        "plt.legend(loc=\"lower right\")"
      ],
      "execution_count": 0,
      "outputs": [
        {
          "output_type": "execute_result",
          "data": {
            "text/plain": [
              "<matplotlib.legend.Legend at 0x7fef7777b080>"
            ]
          },
          "metadata": {
            "tags": []
          },
          "execution_count": 34
        },
        {
          "output_type": "display_data",
          "data": {
            "image/png": "[encoded data removed]",
            "text/plain": [
              "<Figure size 432x288 with 1 Axes>"
            ]
          },
          "metadata": {
            "tags": []
          }
        }
      ]
    },
    {
      "cell_type": "code",
      "metadata": {
        "id": "N_a4KTsIOaP7",
        "colab_type": "code",
        "outputId": "fcc39801-ace5-44f6-f30b-f5721abe6843",
        "colab": {
          "base_uri": "https://localhost:8080/",
          "height": 255
        }
      },
      "source": [
        "pred = model.predict(X_test_reshape)\n",
        "pred_x = []\n",
        "for i in range(len(pred)):\n",
        "  if pred[i,1]>0.5:\n",
        "    pred_x.append(1)\n",
        "  else:\n",
        "    pred_x.append(0)\n",
        "\n",
        "a = []\n",
        "b = 0\n",
        "for i in range(len(pred)):\n",
        "  if pred_x[i] == Y_test_c[i,1]:\n",
        "    a.append('yes')\n",
        "    b=b+1\n",
        "  else:\n",
        "    a.append('no')\n",
        "type(a)\n",
        "df = pd.DataFrame(a, columns=['CNN'])\n",
        "print(df)\n",
        "df.to_csv('cnn-yes-no.csv', index=False, header=True)"
      ],
      "execution_count": 0,
      "outputs": [
        {
          "output_type": "stream",
          "text": [
            "      CNN\n",
            "0      no\n",
            "1     yes\n",
            "2     yes\n",
            "3     yes\n",
            "4     yes\n",
            "...   ...\n",
            "3773  yes\n",
            "3774  yes\n",
            "3775  yes\n",
            "3776  yes\n",
            "3777  yes\n",
            "\n",
            "[3778 rows x 1 columns]\n"
          ],
          "name": "stdout"
        }
      ]
    },
    {
      "cell_type": "code",
      "metadata": {
        "id": "vyKl4BC9dpJB",
        "colab_type": "code",
        "colab": {}
      },
      "source": [
        ""
      ],
      "execution_count": 0,
      "outputs": []
    }
  ]
}