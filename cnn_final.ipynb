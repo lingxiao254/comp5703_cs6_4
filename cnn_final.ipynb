{
  "nbformat": 4,
  "nbformat_minor": 0,
  "metadata": {
    "colab": {
      "name": "cnn_final.ipynb",
      "provenance": [],
      "collapsed_sections": [],
      "machine_shape": "hm"
    },
    "kernelspec": {
      "name": "python3",
      "display_name": "Python 3"
    },
    "accelerator": "GPU"
  },
  "cells": [
    {
      "cell_type": "code",
      "metadata": {
        "id": "U96AsV85NGjm",
        "colab_type": "code",
        "colab": {}
      },
      "source": [
        "# Use GPU\n",
        "import os\n",
        "os.environ[\"CUDA_VISIBLE_DEVICES\"] = \"0\""
      ],
      "execution_count": 0,
      "outputs": []
    },
    {
      "cell_type": "code",
      "metadata": {
        "id": "BXq9v1c8NHfb",
        "colab_type": "code",
        "outputId": "27a2ea4b-209d-42ea-ffb4-bd2236be0c3b",
        "colab": {
          "base_uri": "https://localhost:8080/",
          "height": 224
        }
      },
      "source": [
        "!apt-get install -y -qq software-properties-common python-software-properties module-init-tools\n",
        "!add-apt-repository -y ppa:alessandro-strada/ppa 2>&1 > /dev/null\n",
        "!apt-get update -qq 2>&1 > /dev/null\n",
        "!apt-get -y install -qq google-drive-ocamlfuse fuse\n",
        "from google.colab import auth\n",
        "auth.authenticate_user()\n",
        "from oauth2client.client import GoogleCredentials\n",
        "creds = GoogleCredentials.get_application_default()\n",
        "import getpass\n",
        "!google-drive-ocamlfuse -headless -id={creds.client_id} -secret={creds.client_secret} < /dev/null 2>&1 | grep URL\n",
        "vcode = getpass.getpass()\n",
        "!echo {vcode} | google-drive-ocamlfuse -headless -id={creds.client_id} -secret={creds.client_secret}"
      ],
      "execution_count": 2,
      "outputs": [
        {
          "output_type": "stream",
          "text": [
            "E: Package 'python-software-properties' has no installation candidate\n",
            "Selecting previously unselected package google-drive-ocamlfuse.\n",
            "(Reading database ... 132681 files and directories currently installed.)\n",
            "Preparing to unpack .../google-drive-ocamlfuse_0.7.13-0ubuntu1~ubuntu18.04.1_amd64.deb ...\n",
            "Unpacking google-drive-ocamlfuse (0.7.13-0ubuntu1~ubuntu18.04.1) ...\n",
            "Setting up google-drive-ocamlfuse (0.7.13-0ubuntu1~ubuntu18.04.1) ...\n",
            "Processing triggers for man-db (2.8.3-2ubuntu0.1) ...\n",
            "Please, open the following URL in a web browser: https://accounts.google.com/o/oauth2/auth?client_id=32555940559.apps.googleusercontent.com&redirect_uri=urn%3Aietf%3Awg%3Aoauth%3A2.0%3Aoob&scope=https%3A%2F%2Fwww.googleapis.com%2Fauth%2Fdrive&response_type=code&access_type=offline&approval_prompt=force\n",
            "··········\n",
            "Please, open the following URL in a web browser: https://accounts.google.com/o/oauth2/auth?client_id=32555940559.apps.googleusercontent.com&redirect_uri=urn%3Aietf%3Awg%3Aoauth%3A2.0%3Aoob&scope=https%3A%2F%2Fwww.googleapis.com%2Fauth%2Fdrive&response_type=code&access_type=offline&approval_prompt=force\n",
            "Please enter the verification code: Access token retrieved correctly.\n"
          ],
          "name": "stdout"
        }
      ]
    },
    {
      "cell_type": "code",
      "metadata": {
        "id": "wtV4YXgSNJ6A",
        "colab_type": "code",
        "outputId": "896aea21-f452-4490-b7b6-3320c4eef06c",
        "colab": {
          "base_uri": "https://localhost:8080/",
          "height": 122
        }
      },
      "source": [
        "from google.colab import drive\n",
        "drive.mount('/content/drive')"
      ],
      "execution_count": 3,
      "outputs": [
        {
          "output_type": "stream",
          "text": [
            "Go to this URL in a browser: https://accounts.google.com/o/oauth2/auth?client_id=947318989803-6bn6qk8qdgf4n4g3pfee6491hc0brc4i.apps.googleusercontent.com&redirect_uri=urn%3Aietf%3Awg%3Aoauth%3A2.0%3Aoob&scope=email%20https%3A%2F%2Fwww.googleapis.com%2Fauth%2Fdocs.test%20https%3A%2F%2Fwww.googleapis.com%2Fauth%2Fdrive%20https%3A%2F%2Fwww.googleapis.com%2Fauth%2Fdrive.photos.readonly%20https%3A%2F%2Fwww.googleapis.com%2Fauth%2Fpeopleapi.readonly&response_type=code\n",
            "\n",
            "Enter your authorization code:\n",
            "··········\n",
            "Mounted at /content/drive\n"
          ],
          "name": "stdout"
        }
      ]
    },
    {
      "cell_type": "code",
      "metadata": {
        "id": "KyRniU7VNgBR",
        "colab_type": "code",
        "colab": {}
      },
      "source": [
        "!mkdir -p drive\n",
        "!google-drive-ocamlfuse -o nonempty drive"
      ],
      "execution_count": 0,
      "outputs": []
    },
    {
      "cell_type": "code",
      "metadata": {
        "id": "AZQWLpq_Nl5w",
        "colab_type": "code",
        "outputId": "3691c36e-dbcb-4524-d33f-bcd226925756",
        "colab": {
          "base_uri": "https://localhost:8080/",
          "height": 34
        }
      },
      "source": [
        "# Mount drive\n",
        "from google.colab import drive\n",
        "drive.mount('/content/drive')"
      ],
      "execution_count": 5,
      "outputs": [
        {
          "output_type": "stream",
          "text": [
            "Mounted at /content/drive\n"
          ],
          "name": "stdout"
        }
      ]
    },
    {
      "cell_type": "code",
      "metadata": {
        "id": "8KI_OBk7Nn_i",
        "colab_type": "code",
        "outputId": "c149e1a0-b87b-409c-f76e-3bd88fb063a6",
        "colab": {
          "base_uri": "https://localhost:8080/",
          "height": 34
        }
      },
      "source": [
        "import os\n",
        "os.getcwd()\n",
        "os.chdir('/content/drive/My Drive')\n",
        "os.getcwd()"
      ],
      "execution_count": 6,
      "outputs": [
        {
          "output_type": "execute_result",
          "data": {
            "text/plain": [
              "'/content/drive/My Drive'"
            ]
          },
          "metadata": {
            "tags": []
          },
          "execution_count": 6
        }
      ]
    },
    {
      "cell_type": "code",
      "metadata": {
        "id": "EXk7potJNpdu",
        "colab_type": "code",
        "outputId": "0048314e-6fa8-4183-da2d-44a988aa2641",
        "colab": {
          "base_uri": "https://localhost:8080/",
          "height": 80
        }
      },
      "source": [
        "#import library\n",
        "import pandas as pd\n",
        "import numpy as np\n",
        "from glob import glob\n",
        "import fnmatch\n",
        "import cv2\n",
        "import warnings\n",
        "warnings.filterwarnings('ignore')\n",
        "from sklearn.model_selection import train_test_split\n",
        "from keras.utils.np_utils import to_categorical\n",
        "import matplotlib.pylab as plt\n",
        "import itertools\n",
        "import sklearn\n",
        "from sklearn import model_selection\n",
        "from sklearn.model_selection import train_test_split, KFold, cross_val_score, StratifiedKFold, learning_curve, GridSearchCV\n",
        "itertools\n",
        "from sklearn.metrics import confusion_matrix, make_scorer, accuracy_score\n",
        "import keras\n",
        "from keras import backend as K\n",
        "from keras.callbacks import Callback, EarlyStopping, ReduceLROnPlateau, ModelCheckpoint\n",
        "from keras.preprocessing.image import ImageDataGenerator\n",
        "from keras.utils.np_utils import to_categorical\n",
        "from keras.models import Sequential, model_from_json\n",
        "from keras.optimizers import SGD, RMSprop, Adam, Adagrad, Adadelta\n",
        "from keras.layers import Dense, Dropout, Activation, Flatten, BatchNormalization, Conv2D, MaxPool2D, MaxPooling2D, GlobalAveragePooling2D"
      ],
      "execution_count": 7,
      "outputs": [
        {
          "output_type": "stream",
          "text": [
            "Using TensorFlow backend.\n"
          ],
          "name": "stderr"
        },
        {
          "output_type": "display_data",
          "data": {
            "text/html": [
              "<p style=\"color: red;\">\n",
              "The default version of TensorFlow in Colab will soon switch to TensorFlow 2.x.<br>\n",
              "We recommend you <a href=\"https://www.tensorflow.org/guide/migrate\" target=\"_blank\">upgrade</a> now \n",
              "or ensure your notebook will continue to use TensorFlow 1.x via the <code>%tensorflow_version 1.x</code> magic:\n",
              "<a href=\"https://colab.research.google.com/notebooks/tensorflow_version.ipynb\" target=\"_blank\">more info</a>.</p>\n"
            ],
            "text/plain": [
              "<IPython.core.display.HTML object>"
            ]
          },
          "metadata": {
            "tags": []
          }
        }
      ]
    },
    {
      "cell_type": "code",
      "metadata": {
        "id": "7hU63tT8NrHb",
        "colab_type": "code",
        "colab": {}
      },
      "source": [
        "X1=np.load('X_new.npy')\n",
        "Y1=np.load('Y_new.npy')"
      ],
      "execution_count": 0,
      "outputs": []
    },
    {
      "cell_type": "code",
      "metadata": {
        "id": "qDpK7N46NskC",
        "colab_type": "code",
        "colab": {}
      },
      "source": [
        "X=X1[0:40000]\n",
        "Y=Y1[0:40000]"
      ],
      "execution_count": 0,
      "outputs": []
    },
    {
      "cell_type": "code",
      "metadata": {
        "id": "WwaLz1gqNwim",
        "colab_type": "code",
        "outputId": "bfdf728f-b356-4765-8adf-7c7894690385",
        "colab": {
          "base_uri": "https://localhost:8080/",
          "height": 85
        }
      },
      "source": [
        "def describe_data(x,y):\n",
        "    print('Total number: {}'.format(len(x)))\n",
        "    print('Number of IDC(-): {}'.format(np.sum(y==0)))\n",
        "    print('Number of IDC(+): {}'.format(np.sum(y==1)))\n",
        "    print('Percentage of IDC(+) : {:.2f}%'.format(100*np.mean(y)))\n",
        "describe_data(X, Y)"
      ],
      "execution_count": 10,
      "outputs": [
        {
          "output_type": "stream",
          "text": [
            "Total number: 40000\n",
            "Number of IDC(-): 30556\n",
            "Number of IDC(+): 9444\n",
            "Percentage of IDC(+) : 23.61%\n"
          ],
          "name": "stdout"
        }
      ]
    },
    {
      "cell_type": "code",
      "metadata": {
        "id": "maVlWNreNyD3",
        "colab_type": "code",
        "colab": {}
      },
      "source": [
        "x_sub = np.array(X)\n",
        "x_sub=x_sub/255.0\n",
        "x_sub_shape = x_sub.shape[1] * x_sub.shape[2] * x_sub.shape[3]\n",
        "x_flat = x_sub.reshape(x_sub.shape[0], x_sub_shape)"
      ],
      "execution_count": 0,
      "outputs": []
    },
    {
      "cell_type": "code",
      "metadata": {
        "id": "ZB5v86ysNzu9",
        "colab_type": "code",
        "outputId": "d433614c-e9f4-4cb6-ef4c-de35635bba4f",
        "colab": {
          "base_uri": "https://localhost:8080/",
          "height": 173
        }
      },
      "source": [
        "r = pd.value_counts(Y)\n",
        "print(r)\n",
        "from imblearn.under_sampling import RandomUnderSampler\n",
        "rus=RandomUnderSampler(ratio='auto')\n",
        "x_flat_resample,y_sub_resample=rus.fit_sample(x_flat,Y)\n",
        "len(x_flat_resample)\n",
        "r = pd.value_counts(y_sub_resample)\n",
        "print(r)"
      ],
      "execution_count": 12,
      "outputs": [
        {
          "output_type": "stream",
          "text": [
            "0    30556\n",
            "1     9444\n",
            "dtype: int64\n"
          ],
          "name": "stdout"
        },
        {
          "output_type": "stream",
          "text": [
            "/usr/local/lib/python3.6/dist-packages/sklearn/externals/six.py:31: DeprecationWarning: The module is deprecated in version 0.21 and will be removed in version 0.23 since we've dropped support for Python 2.7. Please rely on the official version of six (https://pypi.org/project/six/).\n",
            "  \"(https://pypi.org/project/six/).\", DeprecationWarning)\n"
          ],
          "name": "stderr"
        },
        {
          "output_type": "stream",
          "text": [
            "1    9444\n",
            "0    9444\n",
            "dtype: int64\n"
          ],
          "name": "stdout"
        }
      ]
    },
    {
      "cell_type": "code",
      "metadata": {
        "id": "O49ytS1fN4h7",
        "colab_type": "code",
        "colab": {}
      },
      "source": [
        "X_train, X_test, y_train, y_test = train_test_split(x_flat_resample, y_sub_resample, test_size=0.2, random_state = 2) # 0.2 test_size means 20%"
      ],
      "execution_count": 0,
      "outputs": []
    },
    {
      "cell_type": "code",
      "metadata": {
        "id": "MDuL5hOON584",
        "colab_type": "code",
        "colab": {}
      },
      "source": [
        "Y_train_c = to_categorical(y_train, num_classes = 2)\n",
        "Y_test_c = to_categorical(y_test, num_classes = 2)"
      ],
      "execution_count": 0,
      "outputs": []
    },
    {
      "cell_type": "code",
      "metadata": {
        "id": "CBq_Tgc-N7gn",
        "colab_type": "code",
        "colab": {}
      },
      "source": [
        "for i in range(len(X_train)):\n",
        "    height, width, channels = 50,50,3\n",
        "    X_train_reshape = X_train.reshape(len(X_train),height,width,channels)\n",
        "for i in range(len(X_test)):\n",
        "    height, width, channels = 50,50,3\n",
        "    X_test_reshape = X_test.reshape(len(X_test),height,width,channels)\n",
        "\n",
        "df = pd.DataFrame()\n",
        "df[\"labels\"]=y_train\n",
        "label = df['labels']\n"
      ],
      "execution_count": 0,
      "outputs": []
    },
    {
      "cell_type": "code",
      "metadata": {
        "id": "R9X1lR9SN9ag",
        "colab_type": "code",
        "outputId": "99482a3a-b623-4a32-d2c0-e43de110f27e",
        "colab": {
          "base_uri": "https://localhost:8080/",
          "height": 68
        }
      },
      "source": [
        "r = pd.value_counts(y_train)\n",
        "print(r)"
      ],
      "execution_count": 16,
      "outputs": [
        {
          "output_type": "stream",
          "text": [
            "0    7569\n",
            "1    7541\n",
            "dtype: int64\n"
          ],
          "name": "stdout"
        }
      ]
    },
    {
      "cell_type": "code",
      "metadata": {
        "id": "QLdzymtyN_Dz",
        "colab_type": "code",
        "outputId": "ef2d1e6f-db48-4c9a-c1b0-ab7bdbae3b43",
        "colab": {
          "base_uri": "https://localhost:8080/",
          "height": 85
        }
      },
      "source": [
        "print(X_train_reshape.shape)\n",
        "print(Y_train_c.shape)\n",
        "print(X_test_reshape.shape)\n",
        "print(Y_test_c.shape)"
      ],
      "execution_count": 17,
      "outputs": [
        {
          "output_type": "stream",
          "text": [
            "(15110, 50, 50, 3)\n",
            "(15110, 2)\n",
            "(3778, 50, 50, 3)\n",
            "(3778, 2)\n"
          ],
          "name": "stdout"
        }
      ]
    },
    {
      "cell_type": "code",
      "metadata": {
        "id": "-HEyHwJ0OAu5",
        "colab_type": "code",
        "outputId": "555afd00-eaf6-4728-8b97-2a06661478f0",
        "colab": {
          "base_uri": "https://localhost:8080/",
          "height": 326
        }
      },
      "source": [
        "model = Sequential()\n",
        "model.add(Conv2D(32,(3,3), activation='relu', input_shape=(50, 50, 3), padding = 'Same', strides = 2, ))\n",
        "model.add(Conv2D(32,(3,3), padding = 'Same', activation='relu' ))\n",
        "model.add(Conv2D(32,(3,3), padding = 'Same', activation='relu'))\n",
        "model.add(MaxPooling2D(pool_size=(2,2)))\n",
        "model.add(Dropout(0.25))\n",
        "model.add(Flatten())\n",
        "model.add(Dense(32, activation='relu'))\n",
        "model.add(Dropout(0.25))\n",
        "model.add(Dense(2, activation='softmax'))   \n",
        "model.compile(loss=keras.losses.categorical_crossentropy,\n",
        "              optimizer=keras.optimizers.Adadelta(),\n",
        "              metrics=['accuracy'])\n",
        "model.compile(loss=keras.losses.categorical_crossentropy, optimizer=keras.optimizers.Adadelta(), metrics=['accuracy'])"
      ],
      "execution_count": 18,
      "outputs": [
        {
          "output_type": "stream",
          "text": [
            "WARNING:tensorflow:From /usr/local/lib/python3.6/dist-packages/keras/backend/tensorflow_backend.py:66: The name tf.get_default_graph is deprecated. Please use tf.compat.v1.get_default_graph instead.\n",
            "\n",
            "WARNING:tensorflow:From /usr/local/lib/python3.6/dist-packages/keras/backend/tensorflow_backend.py:541: The name tf.placeholder is deprecated. Please use tf.compat.v1.placeholder instead.\n",
            "\n",
            "WARNING:tensorflow:From /usr/local/lib/python3.6/dist-packages/keras/backend/tensorflow_backend.py:4432: The name tf.random_uniform is deprecated. Please use tf.random.uniform instead.\n",
            "\n",
            "WARNING:tensorflow:From /usr/local/lib/python3.6/dist-packages/keras/backend/tensorflow_backend.py:4267: The name tf.nn.max_pool is deprecated. Please use tf.nn.max_pool2d instead.\n",
            "\n",
            "WARNING:tensorflow:From /usr/local/lib/python3.6/dist-packages/keras/backend/tensorflow_backend.py:148: The name tf.placeholder_with_default is deprecated. Please use tf.compat.v1.placeholder_with_default instead.\n",
            "\n",
            "WARNING:tensorflow:From /usr/local/lib/python3.6/dist-packages/keras/backend/tensorflow_backend.py:3733: calling dropout (from tensorflow.python.ops.nn_ops) with keep_prob is deprecated and will be removed in a future version.\n",
            "Instructions for updating:\n",
            "Please use `rate` instead of `keep_prob`. Rate should be set to `rate = 1 - keep_prob`.\n",
            "WARNING:tensorflow:From /usr/local/lib/python3.6/dist-packages/keras/optimizers.py:793: The name tf.train.Optimizer is deprecated. Please use tf.compat.v1.train.Optimizer instead.\n",
            "\n",
            "WARNING:tensorflow:From /usr/local/lib/python3.6/dist-packages/keras/backend/tensorflow_backend.py:3576: The name tf.log is deprecated. Please use tf.math.log instead.\n",
            "\n"
          ],
          "name": "stdout"
        }
      ]
    },
    {
      "cell_type": "code",
      "metadata": {
        "id": "ERjsrYRbOCuJ",
        "colab_type": "code",
        "colab": {}
      },
      "source": [
        "datagen = ImageDataGenerator(\n",
        "        rotation_range=20,  # randomly rotate images in the range (degrees, 0 to 180)\n",
        "        width_shift_range=0.2,  # randomly shift images horizontally (fraction of total width)\n",
        "        height_shift_range=0.2,\n",
        "        shear_range=0.2,\n",
        "        zoom_range=0.2,\n",
        "        horizontal_flip=True,  # randomly flip images\n",
        "        vertical_flip=True) "
      ],
      "execution_count": 0,
      "outputs": []
    },
    {
      "cell_type": "code",
      "metadata": {
        "id": "T-IVEijLOFh7",
        "colab_type": "code",
        "colab": {}
      },
      "source": [
        "class MetricsCheckpoint(Callback):\n",
        "    def __init__(self, savepath):\n",
        "        super(MetricsCheckpoint, self).__init__()\n",
        "        self.savepath = savepath\n",
        "        self.history = {}\n",
        "    def on_epoch_end(self, epoch, logs=None):\n",
        "        for k, v in logs.items():\n",
        "            self.history.setdefault(k, []).append(v)\n",
        "        np.save(self.savepath, self.history)\n",
        "\n",
        "def plot_cm(cm, classes, normalize=False, title='Confusion matrix', cmap=plt.cm.Blues):\n",
        "    plt.figure(figsize = (5,5))\n",
        "    plt.imshow(cm, interpolation='nearest', cmap=cmap)\n",
        "    plt.title(title)\n",
        "    plt.colorbar()\n",
        "    tick_marks = np.arange(len(classes))\n",
        "    plt.xticks(tick_marks, classes, rotation=90)\n",
        "    plt.yticks(tick_marks, classes)\n",
        "    if normalize:\n",
        "        cm = cm.astype('float') / cm.sum(axis=1)[:, np.newaxis]\n",
        "\n",
        "    thresh = cm.max() / 2.\n",
        "    for i, j in itertools.product(range(cm.shape[0]), range(cm.shape[1])):\n",
        "        plt.text(j, i, cm[i, j],\n",
        "                 horizontalalignment=\"center\",\n",
        "                 color=\"white\" if cm[i, j] > thresh else \"black\")\n",
        "    plt.tight_layout()\n",
        "    plt.ylabel('True label')\n",
        "    plt.xlabel('Predicted label')\n",
        "    \n",
        "def plot_lc(history):\n",
        "    plt.figure(figsize=(8,8))\n",
        "    plt.subplot(1,2,1)\n",
        "    plt.plot(history.history['acc'])\n",
        "    plt.plot(history.history['val_acc'])\n",
        "    plt.title('model accuracy')\n",
        "    plt.ylabel('accuracy')\n",
        "    plt.xlabel('epoch')\n",
        "    plt.legend(['train', 'test'], loc='upper left')\n",
        "    plt.savefig('./accuracy_curve.png')\n",
        "    plt.subplot(1,2,2)\n",
        "    plt.plot(history.history['loss'])\n",
        "    plt.plot(history.history['val_loss'])\n",
        "    plt.title('model loss')\n",
        "    plt.ylabel('loss')\n",
        "    plt.xlabel('epoch')\n",
        "    plt.legend(['train', 'test'], loc='upper left')"
      ],
      "execution_count": 0,
      "outputs": []
    },
    {
      "cell_type": "code",
      "metadata": {
        "id": "vhDQbCW7OHHC",
        "colab_type": "code",
        "outputId": "4ea09ae4-ee92-4e6a-ce2e-daf3f6ab0633",
        "colab": {
          "base_uri": "https://localhost:8080/",
          "height": 1000
        }
      },
      "source": [
        "history = model.fit_generator(datagen.flow(X_train_reshape,Y_train_c, batch_size=32),validation_data=(X_test_reshape,Y_test_c),\n",
        "                        steps_per_epoch=len(X_train_reshape) / 32, epochs=100 ,callbacks = [MetricsCheckpoint('logs')],verbose=1)"
      ],
      "execution_count": 21,
      "outputs": [
        {
          "output_type": "stream",
          "text": [
            "WARNING:tensorflow:From /usr/local/lib/python3.6/dist-packages/tensorflow_core/python/ops/math_grad.py:1424: where (from tensorflow.python.ops.array_ops) is deprecated and will be removed in a future version.\n",
            "Instructions for updating:\n",
            "Use tf.where in 2.0, which has the same broadcast rule as np.where\n",
            "WARNING:tensorflow:From /usr/local/lib/python3.6/dist-packages/keras/backend/tensorflow_backend.py:1033: The name tf.assign_add is deprecated. Please use tf.compat.v1.assign_add instead.\n",
            "\n",
            "WARNING:tensorflow:From /usr/local/lib/python3.6/dist-packages/keras/backend/tensorflow_backend.py:1020: The name tf.assign is deprecated. Please use tf.compat.v1.assign instead.\n",
            "\n",
            "WARNING:tensorflow:From /usr/local/lib/python3.6/dist-packages/keras/backend/tensorflow_backend.py:3005: The name tf.Session is deprecated. Please use tf.compat.v1.Session instead.\n",
            "\n",
            "Epoch 1/100\n",
            "WARNING:tensorflow:From /usr/local/lib/python3.6/dist-packages/keras/backend/tensorflow_backend.py:190: The name tf.get_default_session is deprecated. Please use tf.compat.v1.get_default_session instead.\n",
            "\n",
            "WARNING:tensorflow:From /usr/local/lib/python3.6/dist-packages/keras/backend/tensorflow_backend.py:197: The name tf.ConfigProto is deprecated. Please use tf.compat.v1.ConfigProto instead.\n",
            "\n",
            "WARNING:tensorflow:From /usr/local/lib/python3.6/dist-packages/keras/backend/tensorflow_backend.py:207: The name tf.global_variables is deprecated. Please use tf.compat.v1.global_variables instead.\n",
            "\n",
            "WARNING:tensorflow:From /usr/local/lib/python3.6/dist-packages/keras/backend/tensorflow_backend.py:216: The name tf.is_variable_initialized is deprecated. Please use tf.compat.v1.is_variable_initialized instead.\n",
            "\n",
            "WARNING:tensorflow:From /usr/local/lib/python3.6/dist-packages/keras/backend/tensorflow_backend.py:223: The name tf.variables_initializer is deprecated. Please use tf.compat.v1.variables_initializer instead.\n",
            "\n",
            "473/472 [==============================] - 22s 47ms/step - loss: 0.6247 - acc: 0.6507 - val_loss: 0.5975 - val_acc: 0.6699\n",
            "Epoch 2/100\n",
            "473/472 [==============================] - 16s 33ms/step - loss: 0.5225 - acc: 0.7519 - val_loss: 0.4602 - val_acc: 0.7935\n",
            "Epoch 3/100\n",
            "473/472 [==============================] - 16s 33ms/step - loss: 0.4874 - acc: 0.7790 - val_loss: 0.4305 - val_acc: 0.8081\n",
            "Epoch 4/100\n",
            "473/472 [==============================] - 16s 33ms/step - loss: 0.4701 - acc: 0.7950 - val_loss: 0.4259 - val_acc: 0.8123\n",
            "Epoch 5/100\n",
            "473/472 [==============================] - 15s 33ms/step - loss: 0.4517 - acc: 0.8004 - val_loss: 0.4326 - val_acc: 0.8097\n",
            "Epoch 6/100\n",
            "473/472 [==============================] - 17s 35ms/step - loss: 0.4443 - acc: 0.8060 - val_loss: 0.4451 - val_acc: 0.8023\n",
            "Epoch 7/100\n",
            "473/472 [==============================] - 15s 33ms/step - loss: 0.4317 - acc: 0.8130 - val_loss: 0.4343 - val_acc: 0.8174\n",
            "Epoch 8/100\n",
            "473/472 [==============================] - 15s 33ms/step - loss: 0.4248 - acc: 0.8180 - val_loss: 0.3997 - val_acc: 0.8192\n",
            "Epoch 9/100\n",
            "473/472 [==============================] - 15s 32ms/step - loss: 0.4180 - acc: 0.8213 - val_loss: 0.3935 - val_acc: 0.8240\n",
            "Epoch 10/100\n",
            "473/472 [==============================] - 16s 33ms/step - loss: 0.4172 - acc: 0.8210 - val_loss: 0.3808 - val_acc: 0.8348\n",
            "Epoch 11/100\n",
            "473/472 [==============================] - 16s 33ms/step - loss: 0.4101 - acc: 0.8248 - val_loss: 0.3988 - val_acc: 0.8203\n",
            "Epoch 12/100\n",
            "473/472 [==============================] - 16s 33ms/step - loss: 0.4071 - acc: 0.8290 - val_loss: 0.3693 - val_acc: 0.8383\n",
            "Epoch 13/100\n",
            "473/472 [==============================] - 15s 33ms/step - loss: 0.4044 - acc: 0.8280 - val_loss: 0.3867 - val_acc: 0.8290\n",
            "Epoch 14/100\n",
            "473/472 [==============================] - 16s 33ms/step - loss: 0.4017 - acc: 0.8297 - val_loss: 0.4781 - val_acc: 0.7755\n",
            "Epoch 15/100\n",
            "473/472 [==============================] - 15s 32ms/step - loss: 0.4019 - acc: 0.8291 - val_loss: 0.3882 - val_acc: 0.8348\n",
            "Epoch 16/100\n",
            "473/472 [==============================] - 16s 33ms/step - loss: 0.3963 - acc: 0.8328 - val_loss: 0.3731 - val_acc: 0.8430\n",
            "Epoch 17/100\n",
            "473/472 [==============================] - 16s 33ms/step - loss: 0.3954 - acc: 0.8321 - val_loss: 0.3662 - val_acc: 0.8436\n",
            "Epoch 18/100\n",
            "473/472 [==============================] - 15s 33ms/step - loss: 0.3916 - acc: 0.8337 - val_loss: 0.3698 - val_acc: 0.8391\n",
            "Epoch 19/100\n",
            "473/472 [==============================] - 15s 33ms/step - loss: 0.3940 - acc: 0.8352 - val_loss: 0.3702 - val_acc: 0.8415\n",
            "Epoch 20/100\n",
            "473/472 [==============================] - 15s 33ms/step - loss: 0.3891 - acc: 0.8365 - val_loss: 0.4247 - val_acc: 0.8147\n",
            "Epoch 21/100\n",
            "473/472 [==============================] - 15s 32ms/step - loss: 0.3859 - acc: 0.8367 - val_loss: 0.3641 - val_acc: 0.8449\n",
            "Epoch 22/100\n",
            "473/472 [==============================] - 15s 33ms/step - loss: 0.3841 - acc: 0.8379 - val_loss: 0.3823 - val_acc: 0.8364\n",
            "Epoch 23/100\n",
            "473/472 [==============================] - 16s 33ms/step - loss: 0.3840 - acc: 0.8417 - val_loss: 0.3842 - val_acc: 0.8441\n",
            "Epoch 24/100\n",
            "473/472 [==============================] - 16s 33ms/step - loss: 0.3824 - acc: 0.8379 - val_loss: 0.3874 - val_acc: 0.8391\n",
            "Epoch 25/100\n",
            "473/472 [==============================] - 16s 33ms/step - loss: 0.3817 - acc: 0.8394 - val_loss: 0.3489 - val_acc: 0.8497\n",
            "Epoch 26/100\n",
            "473/472 [==============================] - 16s 33ms/step - loss: 0.3806 - acc: 0.8399 - val_loss: 0.3784 - val_acc: 0.8412\n",
            "Epoch 27/100\n",
            "473/472 [==============================] - 16s 33ms/step - loss: 0.3768 - acc: 0.8423 - val_loss: 0.3435 - val_acc: 0.8539\n",
            "Epoch 28/100\n",
            "473/472 [==============================] - 16s 33ms/step - loss: 0.3763 - acc: 0.8420 - val_loss: 0.3526 - val_acc: 0.8494\n",
            "Epoch 29/100\n",
            "473/472 [==============================] - 16s 33ms/step - loss: 0.3747 - acc: 0.8426 - val_loss: 0.4237 - val_acc: 0.8158\n",
            "Epoch 30/100\n",
            "473/472 [==============================] - 15s 33ms/step - loss: 0.3721 - acc: 0.8434 - val_loss: 0.3786 - val_acc: 0.8377\n",
            "Epoch 31/100\n",
            "473/472 [==============================] - 16s 33ms/step - loss: 0.3729 - acc: 0.8451 - val_loss: 0.3402 - val_acc: 0.8534\n",
            "Epoch 32/100\n",
            "473/472 [==============================] - 16s 33ms/step - loss: 0.3701 - acc: 0.8428 - val_loss: 0.3747 - val_acc: 0.8377\n",
            "Epoch 33/100\n",
            "473/472 [==============================] - 16s 33ms/step - loss: 0.3713 - acc: 0.8432 - val_loss: 0.3539 - val_acc: 0.8539\n",
            "Epoch 34/100\n",
            "473/472 [==============================] - 16s 33ms/step - loss: 0.3697 - acc: 0.8450 - val_loss: 0.3502 - val_acc: 0.8486\n",
            "Epoch 35/100\n",
            "473/472 [==============================] - 16s 33ms/step - loss: 0.3656 - acc: 0.8471 - val_loss: 0.3621 - val_acc: 0.8478\n",
            "Epoch 36/100\n",
            "473/472 [==============================] - 16s 33ms/step - loss: 0.3669 - acc: 0.8472 - val_loss: 0.3600 - val_acc: 0.8499\n",
            "Epoch 37/100\n",
            "473/472 [==============================] - 16s 33ms/step - loss: 0.3666 - acc: 0.8477 - val_loss: 0.3607 - val_acc: 0.8489\n",
            "Epoch 38/100\n",
            "473/472 [==============================] - 15s 33ms/step - loss: 0.3639 - acc: 0.8491 - val_loss: 0.3320 - val_acc: 0.8573\n",
            "Epoch 39/100\n",
            "473/472 [==============================] - 15s 33ms/step - loss: 0.3628 - acc: 0.8488 - val_loss: 0.3768 - val_acc: 0.8504\n",
            "Epoch 40/100\n",
            "473/472 [==============================] - 16s 33ms/step - loss: 0.3617 - acc: 0.8527 - val_loss: 0.3318 - val_acc: 0.8565\n",
            "Epoch 41/100\n",
            "473/472 [==============================] - 16s 33ms/step - loss: 0.3603 - acc: 0.8489 - val_loss: 0.3266 - val_acc: 0.8602\n",
            "Epoch 42/100\n",
            "473/472 [==============================] - 16s 33ms/step - loss: 0.3594 - acc: 0.8471 - val_loss: 0.3413 - val_acc: 0.8594\n",
            "Epoch 43/100\n",
            "473/472 [==============================] - 16s 33ms/step - loss: 0.3597 - acc: 0.8493 - val_loss: 0.3407 - val_acc: 0.8581\n",
            "Epoch 44/100\n",
            "473/472 [==============================] - 15s 33ms/step - loss: 0.3581 - acc: 0.8466 - val_loss: 0.3161 - val_acc: 0.8658\n",
            "Epoch 45/100\n",
            "473/472 [==============================] - 15s 33ms/step - loss: 0.3539 - acc: 0.8525 - val_loss: 0.3326 - val_acc: 0.8539\n",
            "Epoch 46/100\n",
            "473/472 [==============================] - 15s 33ms/step - loss: 0.3619 - acc: 0.8508 - val_loss: 0.3334 - val_acc: 0.8542\n",
            "Epoch 47/100\n",
            "473/472 [==============================] - 16s 33ms/step - loss: 0.3581 - acc: 0.8520 - val_loss: 0.3525 - val_acc: 0.8454\n",
            "Epoch 48/100\n",
            "473/472 [==============================] - 15s 33ms/step - loss: 0.3564 - acc: 0.8533 - val_loss: 0.3284 - val_acc: 0.8632\n",
            "Epoch 49/100\n",
            "473/472 [==============================] - 15s 33ms/step - loss: 0.3559 - acc: 0.8513 - val_loss: 0.3500 - val_acc: 0.8565\n",
            "Epoch 50/100\n",
            "473/472 [==============================] - 15s 33ms/step - loss: 0.3553 - acc: 0.8536 - val_loss: 0.3182 - val_acc: 0.8682\n",
            "Epoch 51/100\n",
            "473/472 [==============================] - 16s 33ms/step - loss: 0.3548 - acc: 0.8531 - val_loss: 0.3158 - val_acc: 0.8661\n",
            "Epoch 52/100\n",
            "473/472 [==============================] - 16s 33ms/step - loss: 0.3522 - acc: 0.8538 - val_loss: 0.3274 - val_acc: 0.8605\n",
            "Epoch 53/100\n",
            "473/472 [==============================] - 16s 33ms/step - loss: 0.3529 - acc: 0.8535 - val_loss: 0.3175 - val_acc: 0.8618\n",
            "Epoch 54/100\n",
            "473/472 [==============================] - 16s 33ms/step - loss: 0.3548 - acc: 0.8551 - val_loss: 0.3637 - val_acc: 0.8441\n",
            "Epoch 55/100\n",
            "473/472 [==============================] - 15s 33ms/step - loss: 0.3511 - acc: 0.8535 - val_loss: 0.3394 - val_acc: 0.8536\n",
            "Epoch 56/100\n",
            "473/472 [==============================] - 16s 33ms/step - loss: 0.3466 - acc: 0.8543 - val_loss: 0.3316 - val_acc: 0.8581\n",
            "Epoch 57/100\n",
            "473/472 [==============================] - 16s 33ms/step - loss: 0.3500 - acc: 0.8558 - val_loss: 0.3313 - val_acc: 0.8579\n",
            "Epoch 58/100\n",
            "473/472 [==============================] - 16s 33ms/step - loss: 0.3479 - acc: 0.8545 - val_loss: 0.3189 - val_acc: 0.8692\n",
            "Epoch 59/100\n",
            "473/472 [==============================] - 16s 33ms/step - loss: 0.3485 - acc: 0.8573 - val_loss: 0.3160 - val_acc: 0.8629\n",
            "Epoch 60/100\n",
            "473/472 [==============================] - 16s 33ms/step - loss: 0.3473 - acc: 0.8567 - val_loss: 0.3270 - val_acc: 0.8610\n",
            "Epoch 61/100\n",
            "473/472 [==============================] - 15s 33ms/step - loss: 0.3480 - acc: 0.8559 - val_loss: 0.3125 - val_acc: 0.8674\n",
            "Epoch 62/100\n",
            "473/472 [==============================] - 16s 33ms/step - loss: 0.3478 - acc: 0.8555 - val_loss: 0.3179 - val_acc: 0.8674\n",
            "Epoch 63/100\n",
            "473/472 [==============================] - 16s 33ms/step - loss: 0.3489 - acc: 0.8540 - val_loss: 0.3086 - val_acc: 0.8663\n",
            "Epoch 64/100\n",
            "473/472 [==============================] - 15s 33ms/step - loss: 0.3471 - acc: 0.8571 - val_loss: 0.3163 - val_acc: 0.8616\n",
            "Epoch 65/100\n",
            "473/472 [==============================] - 16s 33ms/step - loss: 0.3461 - acc: 0.8585 - val_loss: 0.3396 - val_acc: 0.8602\n",
            "Epoch 66/100\n",
            "473/472 [==============================] - 15s 33ms/step - loss: 0.3466 - acc: 0.8543 - val_loss: 0.3313 - val_acc: 0.8528\n",
            "Epoch 67/100\n",
            "473/472 [==============================] - 16s 33ms/step - loss: 0.3439 - acc: 0.8593 - val_loss: 0.3063 - val_acc: 0.8669\n",
            "Epoch 68/100\n",
            "473/472 [==============================] - 16s 33ms/step - loss: 0.3438 - acc: 0.8585 - val_loss: 0.3334 - val_acc: 0.8565\n",
            "Epoch 69/100\n",
            "473/472 [==============================] - 15s 33ms/step - loss: 0.3452 - acc: 0.8603 - val_loss: 0.3241 - val_acc: 0.8613\n",
            "Epoch 70/100\n",
            "473/472 [==============================] - 15s 33ms/step - loss: 0.3411 - acc: 0.8606 - val_loss: 0.3144 - val_acc: 0.8692\n",
            "Epoch 71/100\n",
            "473/472 [==============================] - 15s 33ms/step - loss: 0.3422 - acc: 0.8588 - val_loss: 0.3483 - val_acc: 0.8515\n",
            "Epoch 72/100\n",
            "473/472 [==============================] - 16s 33ms/step - loss: 0.3398 - acc: 0.8626 - val_loss: 0.3122 - val_acc: 0.8647\n",
            "Epoch 73/100\n",
            "473/472 [==============================] - 15s 33ms/step - loss: 0.3428 - acc: 0.8607 - val_loss: 0.3262 - val_acc: 0.8608\n",
            "Epoch 74/100\n",
            "473/472 [==============================] - 15s 33ms/step - loss: 0.3413 - acc: 0.8578 - val_loss: 0.3121 - val_acc: 0.8653\n",
            "Epoch 75/100\n",
            "473/472 [==============================] - 15s 32ms/step - loss: 0.3376 - acc: 0.8622 - val_loss: 0.3207 - val_acc: 0.8695\n",
            "Epoch 76/100\n",
            "473/472 [==============================] - 16s 33ms/step - loss: 0.3389 - acc: 0.8593 - val_loss: 0.3033 - val_acc: 0.8722\n",
            "Epoch 77/100\n",
            "473/472 [==============================] - 16s 33ms/step - loss: 0.3382 - acc: 0.8614 - val_loss: 0.3189 - val_acc: 0.8642\n",
            "Epoch 78/100\n",
            "473/472 [==============================] - 15s 33ms/step - loss: 0.3396 - acc: 0.8581 - val_loss: 0.3083 - val_acc: 0.8692\n",
            "Epoch 79/100\n",
            "473/472 [==============================] - 15s 33ms/step - loss: 0.3405 - acc: 0.8598 - val_loss: 0.2984 - val_acc: 0.8751\n",
            "Epoch 80/100\n",
            "473/472 [==============================] - 16s 33ms/step - loss: 0.3406 - acc: 0.8588 - val_loss: 0.3127 - val_acc: 0.8714\n",
            "Epoch 81/100\n",
            "473/472 [==============================] - 15s 33ms/step - loss: 0.3406 - acc: 0.8596 - val_loss: 0.3065 - val_acc: 0.8677\n",
            "Epoch 82/100\n",
            "473/472 [==============================] - 16s 33ms/step - loss: 0.3399 - acc: 0.8605 - val_loss: 0.3166 - val_acc: 0.8647\n",
            "Epoch 83/100\n",
            "473/472 [==============================] - 15s 33ms/step - loss: 0.3340 - acc: 0.8635 - val_loss: 0.3364 - val_acc: 0.8579\n",
            "Epoch 84/100\n",
            "473/472 [==============================] - 16s 33ms/step - loss: 0.3385 - acc: 0.8606 - val_loss: 0.3131 - val_acc: 0.8639\n",
            "Epoch 85/100\n",
            "473/472 [==============================] - 16s 33ms/step - loss: 0.3398 - acc: 0.8591 - val_loss: 0.3731 - val_acc: 0.8544\n",
            "Epoch 86/100\n",
            "473/472 [==============================] - 15s 33ms/step - loss: 0.3380 - acc: 0.8578 - val_loss: 0.3292 - val_acc: 0.8637\n",
            "Epoch 87/100\n",
            "473/472 [==============================] - 15s 33ms/step - loss: 0.3341 - acc: 0.8619 - val_loss: 0.3115 - val_acc: 0.8748\n",
            "Epoch 88/100\n",
            "473/472 [==============================] - 15s 33ms/step - loss: 0.3353 - acc: 0.8605 - val_loss: 0.2959 - val_acc: 0.8743\n",
            "Epoch 89/100\n",
            "473/472 [==============================] - 15s 33ms/step - loss: 0.3351 - acc: 0.8635 - val_loss: 0.3159 - val_acc: 0.8671\n",
            "Epoch 90/100\n",
            "473/472 [==============================] - 15s 32ms/step - loss: 0.3359 - acc: 0.8574 - val_loss: 0.3046 - val_acc: 0.8674\n",
            "Epoch 91/100\n",
            "473/472 [==============================] - 15s 32ms/step - loss: 0.3354 - acc: 0.8596 - val_loss: 0.3243 - val_acc: 0.8613\n",
            "Epoch 92/100\n",
            "473/472 [==============================] - 16s 33ms/step - loss: 0.3316 - acc: 0.8649 - val_loss: 0.3169 - val_acc: 0.8674\n",
            "Epoch 93/100\n",
            "473/472 [==============================] - 15s 33ms/step - loss: 0.3331 - acc: 0.8643 - val_loss: 0.3062 - val_acc: 0.8706\n",
            "Epoch 94/100\n",
            "473/472 [==============================] - 15s 33ms/step - loss: 0.3348 - acc: 0.8624 - val_loss: 0.3195 - val_acc: 0.8695\n",
            "Epoch 95/100\n",
            "473/472 [==============================] - 15s 33ms/step - loss: 0.3339 - acc: 0.8632 - val_loss: 0.2988 - val_acc: 0.8716\n",
            "Epoch 96/100\n",
            "473/472 [==============================] - 16s 33ms/step - loss: 0.3318 - acc: 0.8635 - val_loss: 0.3191 - val_acc: 0.8743\n",
            "Epoch 97/100\n",
            "473/472 [==============================] - 16s 33ms/step - loss: 0.3300 - acc: 0.8641 - val_loss: 0.3217 - val_acc: 0.8621\n",
            "Epoch 98/100\n",
            "473/472 [==============================] - 16s 33ms/step - loss: 0.3299 - acc: 0.8618 - val_loss: 0.2963 - val_acc: 0.8743\n",
            "Epoch 99/100\n",
            "473/472 [==============================] - 16s 33ms/step - loss: 0.3357 - acc: 0.8619 - val_loss: 0.3247 - val_acc: 0.8597\n",
            "Epoch 100/100\n",
            "473/472 [==============================] - 15s 33ms/step - loss: 0.3304 - acc: 0.8659 - val_loss: 0.3093 - val_acc: 0.8645\n"
          ],
          "name": "stdout"
        }
      ]
    },
    {
      "cell_type": "code",
      "metadata": {
        "id": "n9n9PK40OIkw",
        "colab_type": "code",
        "outputId": "af09b981-6eb3-487f-c67d-b91a398a3a4e",
        "colab": {
          "base_uri": "https://localhost:8080/",
          "height": 51
        }
      },
      "source": [
        "score = model.evaluate(X_test_reshape,Y_test_c)\n",
        "print(score)"
      ],
      "execution_count": 22,
      "outputs": [
        {
          "output_type": "stream",
          "text": [
            "3778/3778 [==============================] - 0s 130us/step\n",
            "[0.3092877008237808, 0.8644785600847009]\n"
          ],
          "name": "stdout"
        }
      ]
    },
    {
      "cell_type": "code",
      "metadata": {
        "id": "GxiSNlEYOOA2",
        "colab_type": "code",
        "outputId": "b6eb95fd-0486-452a-d392-ec82524ffa37",
        "colab": {
          "base_uri": "https://localhost:8080/",
          "height": 865
        }
      },
      "source": [
        "y_pred = model.predict(X_test_reshape)\n",
        "Y_pred_classes = np.argmax(y_pred,axis=1) \n",
        "Y_true = np.argmax(Y_test_c,axis=1)\n",
        "dict_characters = {0: 'IDC(-)', 1: 'IDC(+)'}\n",
        "confusion_mtx = confusion_matrix(Y_true, Y_pred_classes) \n",
        "plot_cm(confusion_mtx, classes = list(dict_characters.values())) \n",
        "plt.show()\n",
        "plot_lc(history)\n",
        "plt.show()\n"
      ],
      "execution_count": 25,
      "outputs": [
        {
          "output_type": "display_data",
          "data": {
            "image/png": "[encoded data removed]",
            "text/plain": [
              "<Figure size 360x360 with 2 Axes>"
            ]
          },
          "metadata": {
            "tags": []
          }
        },
        {
          "output_type": "display_data",
          "data": {
            "image/png": "[encoded data removed]",
            "text/plain": [
              "<Figure size 576x576 with 2 Axes>"
            ]
          },
          "metadata": {
            "tags": []
          }
        }
      ]
    },
    {
      "cell_type": "code",
      "metadata": {
        "id": "k8u69rUnYxve",
        "colab_type": "code",
        "colab": {
          "base_uri": "https://localhost:8080/",
          "height": 204
        },
        "outputId": "a151e956-909f-4b9e-e6ec-753834692d33"
      },
      "source": [
        "print(confusion_matrix(Y_true, Y_pred_classes))\n",
        "\n",
        "from sklearn import metrics\n",
        "print(metrics.classification_report(Y_true, Y_pred_classes))\n"
      ],
      "execution_count": 26,
      "outputs": [
        {
          "output_type": "stream",
          "text": [
            "[[1528  347]\n",
            " [ 165 1738]]\n",
            "              precision    recall  f1-score   support\n",
            "\n",
            "           0       0.90      0.81      0.86      1875\n",
            "           1       0.83      0.91      0.87      1903\n",
            "\n",
            "    accuracy                           0.86      3778\n",
            "   macro avg       0.87      0.86      0.86      3778\n",
            "weighted avg       0.87      0.86      0.86      3778\n",
            "\n"
          ],
          "name": "stdout"
        }
      ]
    },
    {
      "cell_type": "code",
      "metadata": {
        "id": "xp0iNTcJUtT2",
        "colab_type": "code",
        "outputId": "6a9adb70-092f-4dc2-e967-ba7c6ce44394",
        "colab": {
          "base_uri": "https://localhost:8080/",
          "height": 51
        }
      },
      "source": [
        "cm= confusion_matrix(Y_true, Y_pred_classes)\n",
        "sensitivity= cm[1,1]/(cm[1,1]+cm[1,0])\n",
        "print('Sensitivity : ', sensitivity )\n",
        "secificity= cm[0,0]/(cm[0,0]+cm[0,1])\n",
        "print('Specificity : ',secificity)"
      ],
      "execution_count": 27,
      "outputs": [
        {
          "output_type": "stream",
          "text": [
            "Sensitivity :  0.9132947976878613\n",
            "Specificity :  0.8149333333333333\n"
          ],
          "name": "stdout"
        }
      ]
    },
    {
      "cell_type": "code",
      "metadata": {
        "id": "8O5qvKd2V1vU",
        "colab_type": "code",
        "colab": {}
      },
      "source": [
        ""
      ],
      "execution_count": 0,
      "outputs": []
    }
  ]
}