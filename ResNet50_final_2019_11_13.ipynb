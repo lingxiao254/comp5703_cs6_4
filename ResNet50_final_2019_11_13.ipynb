{
  "nbformat": 4,
  "nbformat_minor": 0,
  "metadata": {
    "colab": {
      "name": "ResNet50_final_2019_11_13.ipynb",
      "provenance": [],
      "collapsed_sections": []
    },
    "kernelspec": {
      "name": "python3",
      "display_name": "Python 3"
    },
    "accelerator": "GPU"
  },
  "cells": [
    {
      "cell_type": "code",
      "metadata": {
        "id": "6SvqlNI0oRR7",
        "colab_type": "code",
        "colab": {}
      },
      "source": [
        "# Use GPU\n",
        "import os\n",
        "os.environ[\"CUDA_VISIBLE_DEVICES\"] = \"0\""
      ],
      "execution_count": 0,
      "outputs": []
    },
    {
      "cell_type": "code",
      "metadata": {
        "id": "2K-3GoRkoUr4",
        "colab_type": "code",
        "outputId": "0e78ad6f-9fdf-4291-b68e-b8904b56e9a6",
        "colab": {
          "base_uri": "https://localhost:8080/",
          "height": 224
        }
      },
      "source": [
        "!apt-get install -y -qq software-properties-common python-software-properties module-init-tools\n",
        "!add-apt-repository -y ppa:alessandro-strada/ppa 2>&1 > /dev/null\n",
        "!apt-get update -qq 2>&1 > /dev/null\n",
        "!apt-get -y install -qq google-drive-ocamlfuse fuse\n",
        "from google.colab import auth\n",
        "auth.authenticate_user()\n",
        "from oauth2client.client import GoogleCredentials\n",
        "creds = GoogleCredentials.get_application_default()\n",
        "import getpass\n",
        "!google-drive-ocamlfuse -headless -id={creds.client_id} -secret={creds.client_secret} < /dev/null 2>&1 | grep URL\n",
        "vcode = getpass.getpass()\n",
        "!echo {vcode} | google-drive-ocamlfuse -headless -id={creds.client_id} -secret={creds.client_secret}"
      ],
      "execution_count": 0,
      "outputs": [
        {
          "output_type": "stream",
          "text": [
            "E: Package 'python-software-properties' has no installation candidate\n",
            "Selecting previously unselected package google-drive-ocamlfuse.\n",
            "(Reading database ... 132684 files and directories currently installed.)\n",
            "Preparing to unpack .../google-drive-ocamlfuse_0.7.13-0ubuntu1~ubuntu18.04.1_amd64.deb ...\n",
            "Unpacking google-drive-ocamlfuse (0.7.13-0ubuntu1~ubuntu18.04.1) ...\n",
            "Setting up google-drive-ocamlfuse (0.7.13-0ubuntu1~ubuntu18.04.1) ...\n",
            "Processing triggers for man-db (2.8.3-2ubuntu0.1) ...\n",
            "Please, open the following URL in a web browser: https://accounts.google.com/o/oauth2/auth?client_id=32555940559.apps.googleusercontent.com&redirect_uri=urn%3Aietf%3Awg%3Aoauth%3A2.0%3Aoob&scope=https%3A%2F%2Fwww.googleapis.com%2Fauth%2Fdrive&response_type=code&access_type=offline&approval_prompt=force\n",
            "··········\n",
            "Please, open the following URL in a web browser: https://accounts.google.com/o/oauth2/auth?client_id=32555940559.apps.googleusercontent.com&redirect_uri=urn%3Aietf%3Awg%3Aoauth%3A2.0%3Aoob&scope=https%3A%2F%2Fwww.googleapis.com%2Fauth%2Fdrive&response_type=code&access_type=offline&approval_prompt=force\n",
            "Please enter the verification code: Access token retrieved correctly.\n"
          ],
          "name": "stdout"
        }
      ]
    },
    {
      "cell_type": "code",
      "metadata": {
        "id": "HYpzauj7oqTE",
        "colab_type": "code",
        "colab": {}
      },
      "source": [
        "!mkdir -p drive\n",
        "!google-drive-ocamlfuse -o nonempty drive"
      ],
      "execution_count": 0,
      "outputs": []
    },
    {
      "cell_type": "code",
      "metadata": {
        "id": "Hi1U7HL_orF5",
        "colab_type": "code",
        "outputId": "7c0d984c-8328-4408-b853-95577eab9483",
        "colab": {
          "base_uri": "https://localhost:8080/",
          "height": 122
        }
      },
      "source": [
        "# Mount drive\n",
        "from google.colab import drive\n",
        "drive.mount('/content/drive')"
      ],
      "execution_count": 0,
      "outputs": [
        {
          "output_type": "stream",
          "text": [
            "Go to this URL in a browser: https://accounts.google.com/o/oauth2/auth?client_id=947318989803-6bn6qk8qdgf4n4g3pfee6491hc0brc4i.apps.googleusercontent.com&redirect_uri=urn%3Aietf%3Awg%3Aoauth%3A2.0%3Aoob&scope=email%20https%3A%2F%2Fwww.googleapis.com%2Fauth%2Fdocs.test%20https%3A%2F%2Fwww.googleapis.com%2Fauth%2Fdrive%20https%3A%2F%2Fwww.googleapis.com%2Fauth%2Fdrive.photos.readonly%20https%3A%2F%2Fwww.googleapis.com%2Fauth%2Fpeopleapi.readonly&response_type=code\n",
            "\n",
            "Enter your authorization code:\n",
            "··········\n",
            "Mounted at /content/drive\n"
          ],
          "name": "stdout"
        }
      ]
    },
    {
      "cell_type": "code",
      "metadata": {
        "id": "KiHSop0nox1Q",
        "colab_type": "code",
        "outputId": "1af491d6-1655-45ce-b623-4d37613a7fcf",
        "colab": {
          "base_uri": "https://localhost:8080/",
          "height": 34
        }
      },
      "source": [
        "import os\n",
        "os.getcwd()\n",
        "os.chdir('/content/drive/My Drive')\n",
        "os.getcwd()"
      ],
      "execution_count": 0,
      "outputs": [
        {
          "output_type": "execute_result",
          "data": {
            "text/plain": [
              "'/content/drive/My Drive'"
            ]
          },
          "metadata": {
            "tags": []
          },
          "execution_count": 5
        }
      ]
    },
    {
      "cell_type": "code",
      "metadata": {
        "id": "EC4A3OAbozws",
        "colab_type": "code",
        "outputId": "a20e92a3-a538-4bc0-9efc-48f88160d26e",
        "colab": {
          "base_uri": "https://localhost:8080/",
          "height": 134
        }
      },
      "source": [
        "#import library\n",
        "import pandas as pd\n",
        "import numpy as np\n",
        "from glob import glob\n",
        "import fnmatch\n",
        "import cv2\n",
        "\n",
        "\n",
        "from keras import layers\n",
        "from keras.layers import Input, Add, Dense, Activation, ZeroPadding2D, BatchNormalization, Flatten, Conv2D, AveragePooling2D, MaxPooling2D, GlobalMaxPooling2D\n",
        "from keras.models import Model, load_model\n",
        "from keras.preprocessing import image\n",
        "from keras.utils import layer_utils\n",
        "from keras.utils.data_utils import get_file\n",
        "from keras.applications.imagenet_utils import preprocess_input\n",
        "import pydot\n",
        "from IPython.display import SVG\n",
        "from keras.utils.vis_utils import model_to_dot\n",
        "from keras.utils import plot_model\n",
        "#from resnets_utils import *\n",
        "from keras.initializers import glorot_uniform\n",
        "import scipy.misc\n",
        "import matplotlib.pyplot as plt\n",
        "from matplotlib.pyplot import imshow\n",
        "from keras.preprocessing.image import ImageDataGenerator\n",
        "\n",
        "import keras.backend as K\n",
        "K.set_image_data_format('channels_last')\n",
        "K.set_learning_phase(1)"
      ],
      "execution_count": 0,
      "outputs": [
        {
          "output_type": "stream",
          "text": [
            "Using TensorFlow backend.\n"
          ],
          "name": "stderr"
        },
        {
          "output_type": "display_data",
          "data": {
            "text/html": [
              "<p style=\"color: red;\">\n",
              "The default version of TensorFlow in Colab will soon switch to TensorFlow 2.x.<br>\n",
              "We recommend you <a href=\"https://www.tensorflow.org/guide/migrate\" target=\"_blank\">upgrade</a> now \n",
              "or ensure your notebook will continue to use TensorFlow 1.x via the <code>%tensorflow_version 1.x</code> magic:\n",
              "<a href=\"https://colab.research.google.com/notebooks/tensorflow_version.ipynb\" target=\"_blank\">more info</a>.</p>\n"
            ],
            "text/plain": [
              "<IPython.core.display.HTML object>"
            ]
          },
          "metadata": {
            "tags": []
          }
        },
        {
          "output_type": "stream",
          "text": [
            "WARNING:tensorflow:From /usr/local/lib/python3.6/dist-packages/keras/backend/tensorflow_backend.py:66: The name tf.get_default_graph is deprecated. Please use tf.compat.v1.get_default_graph instead.\n",
            "\n"
          ],
          "name": "stdout"
        }
      ]
    },
    {
      "cell_type": "code",
      "metadata": {
        "id": "1umsgykMo2I7",
        "colab_type": "code",
        "colab": {}
      },
      "source": [
        "X1=np.load('X_new.npy')\n",
        "Y1=np.load('Y_new.npy')\n",
        "\n",
        "X=X1[0:40000]\n",
        "Y=Y1[0:40000]"
      ],
      "execution_count": 0,
      "outputs": []
    },
    {
      "cell_type": "code",
      "metadata": {
        "id": "9LZ5_Skto4qV",
        "colab_type": "code",
        "outputId": "47d0f353-a2e0-486c-872c-86925cab05ea",
        "colab": {
          "base_uri": "https://localhost:8080/",
          "height": 85
        }
      },
      "source": [
        "def describe_data(x,y):\n",
        "    print('Total number: {}'.format(len(x)))\n",
        "    print('Number of IDC(-): {}'.format(np.sum(y==0)))\n",
        "    print('Number of IDC(+): {}'.format(np.sum(y==1)))\n",
        "    print('Percentage of IDC(+) : {:.2f}%'.format(100*np.mean(y)))\n",
        "describe_data(X, Y)"
      ],
      "execution_count": 0,
      "outputs": [
        {
          "output_type": "stream",
          "text": [
            "Total number: 40000\n",
            "Number of IDC(-): 30556\n",
            "Number of IDC(+): 9444\n",
            "Percentage of IDC(+) : 23.61%\n"
          ],
          "name": "stdout"
        }
      ]
    },
    {
      "cell_type": "code",
      "metadata": {
        "id": "WoBXQEQHo7Ys",
        "colab_type": "code",
        "colab": {}
      },
      "source": [
        "x_sub = np.array(X)\n",
        "x_sub=x_sub/255.0\n",
        "x_sub_shape = x_sub.shape[1] * x_sub.shape[2] * x_sub.shape[3]\n",
        "x_flat = x_sub.reshape(x_sub.shape[0], x_sub_shape)"
      ],
      "execution_count": 0,
      "outputs": []
    },
    {
      "cell_type": "code",
      "metadata": {
        "id": "Q50B_Ie6o9jJ",
        "colab_type": "code",
        "outputId": "8b2b2582-8776-4b15-94d3-9ddad02f3020",
        "colab": {
          "base_uri": "https://localhost:8080/",
          "height": 173
        }
      },
      "source": [
        "r = pd.value_counts(Y)\n",
        "print(r)\n",
        "from imblearn.under_sampling import RandomUnderSampler\n",
        "rus=RandomUnderSampler(ratio='auto')\n",
        "x_flat_resample,y_sub_resample=rus.fit_sample(x_flat,Y)\n",
        "len(x_flat_resample)\n",
        "r = pd.value_counts(y_sub_resample)\n",
        "print(r)"
      ],
      "execution_count": 0,
      "outputs": [
        {
          "output_type": "stream",
          "text": [
            "0    30556\n",
            "1     9444\n",
            "dtype: int64\n"
          ],
          "name": "stdout"
        },
        {
          "output_type": "stream",
          "text": [
            "/usr/local/lib/python3.6/dist-packages/sklearn/externals/six.py:31: DeprecationWarning: The module is deprecated in version 0.21 and will be removed in version 0.23 since we've dropped support for Python 2.7. Please rely on the official version of six (https://pypi.org/project/six/).\n",
            "  \"(https://pypi.org/project/six/).\", DeprecationWarning)\n"
          ],
          "name": "stderr"
        },
        {
          "output_type": "stream",
          "text": [
            "1    9444\n",
            "0    9444\n",
            "dtype: int64\n"
          ],
          "name": "stdout"
        }
      ]
    },
    {
      "cell_type": "code",
      "metadata": {
        "id": "nWcR9wVSo_fR",
        "colab_type": "code",
        "colab": {}
      },
      "source": [
        "from sklearn.model_selection import train_test_split\n",
        "X_train, X_test, y_train, y_test = train_test_split(x_flat_resample, y_sub_resample, test_size=0.2, random_state = 2) # 0.2 test_size means 20%"
      ],
      "execution_count": 0,
      "outputs": []
    },
    {
      "cell_type": "code",
      "metadata": {
        "id": "qtGga-Z_pBrj",
        "colab_type": "code",
        "outputId": "3c59d6a6-a20b-464a-87fe-9d107acb34d8",
        "colab": {
          "base_uri": "https://localhost:8080/",
          "height": 51
        }
      },
      "source": [
        "print(\"Training Data Shape:\", X_train.shape)\n",
        "print(\"Testing Data Shape:\", X_test.shape)"
      ],
      "execution_count": 0,
      "outputs": [
        {
          "output_type": "stream",
          "text": [
            "Training Data Shape: (15110, 7500)\n",
            "Testing Data Shape: (3778, 7500)\n"
          ],
          "name": "stdout"
        }
      ]
    },
    {
      "cell_type": "code",
      "metadata": {
        "id": "nmUArx1_pDhJ",
        "colab_type": "code",
        "colab": {}
      },
      "source": [
        "for i in range(len(X_train)):\n",
        "    height, width, channels = 50,50,3\n",
        "    X_train_reshape = X_train.reshape(len(X_train),height,width,channels)\n",
        "\n",
        "for i in range(len(X_test)):\n",
        "    height, width, channels = 50,50,3\n",
        "    X_test_reshape = X_test.reshape(len(X_test),height,width,channels)"
      ],
      "execution_count": 0,
      "outputs": []
    },
    {
      "cell_type": "code",
      "metadata": {
        "id": "dz7THVmJpLDB",
        "colab_type": "code",
        "colab": {}
      },
      "source": [
        "from keras.utils.np_utils import to_categorical\n",
        "y_train_c = to_categorical(y_train, num_classes = 2)\n",
        "y_test_c = to_categorical(y_test, num_classes = 2)\n",
        "\n",
        "datagen = ImageDataGenerator(\n",
        "        rotation_range=20,  # randomly rotate images in the range (degrees, 0 to 180)\n",
        "        width_shift_range=0.2,  # randomly shift images horizontally (fraction of total width)\n",
        "        height_shift_range=0.2,\n",
        "        shear_range=0.2,\n",
        "        zoom_range=0.2,\n",
        "        horizontal_flip=True,  # randomly flip images\n",
        "        vertical_flip=True) "
      ],
      "execution_count": 0,
      "outputs": []
    },
    {
      "cell_type": "code",
      "metadata": {
        "id": "DeObrRY-pP64",
        "colab_type": "code",
        "outputId": "133f8b46-bfc1-4a16-ea9c-5ab6a3b4c085",
        "colab": {
          "base_uri": "https://localhost:8080/",
          "height": 85
        }
      },
      "source": [
        "print(X_train_reshape.shape)\n",
        "print(y_train_c.shape)\n",
        "print(X_test_reshape.shape)\n",
        "print(y_test_c.shape)"
      ],
      "execution_count": 0,
      "outputs": [
        {
          "output_type": "stream",
          "text": [
            "(15110, 50, 50, 3)\n",
            "(15110, 2)\n",
            "(3778, 50, 50, 3)\n",
            "(3778, 2)\n"
          ],
          "name": "stdout"
        }
      ]
    },
    {
      "cell_type": "code",
      "metadata": {
        "id": "jPqRYp-jpUig",
        "colab_type": "code",
        "colab": {}
      },
      "source": [
        "def identity_block(X, f, filters, stage, block):\n",
        " \n",
        "    conv_name_base = 'res' + str(stage) + block + '_branch'\n",
        "    bn_name_base = 'bn' + str(stage) + block + '_branch'\n",
        " \n",
        "    F1, F2, F3 = filters\n",
        " \n",
        "    X_shortcut = X\n",
        " \n",
        "    X = Conv2D(filters = F1, kernel_size = (1,1), strides = (1,1), padding = 'valid', name = conv_name_base + '2a', kernel_initializer = glorot_uniform(seed = 0))(X)\n",
        "    X = BatchNormalization(axis = 3, name = bn_name_base + '2a')(X)\n",
        "    X = Activation('relu')(X)\n",
        " \n",
        "    X = Conv2D(filters = F2, kernel_size = (f,f), strides = (1,1), padding = 'same', name = conv_name_base + '2b', kernel_initializer = glorot_uniform(seed = 0))(X)\n",
        "    X = BatchNormalization(axis = 3, name = bn_name_base + '2b')(X)\n",
        "    X = Activation('relu')(X)\n",
        " \n",
        "    X = Conv2D(filters = F3, kernel_size = (1,1), strides = (1,1), padding = 'valid', name = conv_name_base + '2c', kernel_initializer = glorot_uniform(seed = 0))(X)\n",
        "    X = BatchNormalization(axis = 3, name = bn_name_base + '2c')(X)\n",
        " \n",
        "    X = Add()([X, X_shortcut])\n",
        "    X = Activation('relu')(X)\n",
        " \n",
        "    return X"
      ],
      "execution_count": 0,
      "outputs": []
    },
    {
      "cell_type": "code",
      "metadata": {
        "id": "sivWXbD9pQuc",
        "colab_type": "code",
        "colab": {}
      },
      "source": [
        "def convolution_block(X, f, filters, stage, block, s=2):\n",
        " \n",
        "    conv_name_base = 'res' + str(stage) + block + '_branch'\n",
        "    bn_name_base = 'bn' + str(stage) + block + '_branch'\n",
        "    F1, F2, F3 = filters\n",
        " \n",
        "    X_shortcut = X\n",
        " \n",
        "    X = Conv2D(filters = F1, kernel_size = (1,1), strides = (s,s), name = conv_name_base + '2a', kernel_initializer = glorot_uniform(seed = 0))(X)\n",
        "    X = BatchNormalization(axis = 3, name = bn_name_base + '2a')(X)\n",
        "    X = Activation('relu')(X)\n",
        " \n",
        "    X = Conv2D(filters = F2, kernel_size = (f,f), strides = (1,1), padding = 'same', name = conv_name_base + '2b', kernel_initializer = glorot_uniform(seed = 0))(X)\n",
        "    X = BatchNormalization(axis = 3, name = bn_name_base + '2b')(X)\n",
        "    X = Activation('relu')(X)\n",
        " \n",
        "    X = Conv2D(filters = F3, kernel_size = (1,1), strides = (1,1), name = conv_name_base + '2c', kernel_initializer = glorot_uniform(seed = 0))(X)\n",
        "    X = BatchNormalization(axis = 3, name = bn_name_base + '2c')(X)\n",
        " \n",
        "    X_shortcut = Conv2D(F3, (1,1), strides = (s,s), name = conv_name_base + '1', kernel_initializer = glorot_uniform(seed=0))(X_shortcut)\n",
        "    X_shortcut = BatchNormalization(axis = 3, name=bn_name_base + '1')(X_shortcut)\n",
        " \n",
        "    X = Add()([X, X_shortcut])\n",
        "    X = Activation('relu')(X)\n",
        " \n",
        "    return X\n"
      ],
      "execution_count": 0,
      "outputs": []
    },
    {
      "cell_type": "code",
      "metadata": {
        "id": "3_2wHMZupZNh",
        "colab_type": "code",
        "colab": {}
      },
      "source": [
        "def ResNet50(input_shape = (64, 64, 3), classes = 6):\n",
        " \n",
        "    X_input = Input(input_shape)\n",
        " \n",
        "    X = ZeroPadding2D((3, 3))(X_input)\n",
        " \n",
        "    X = Conv2D(64, (7, 7), strides = (2,2), name = 'conv1', kernel_initializer = glorot_uniform(seed=0))(X)\n",
        "    X = BatchNormalization(axis = 3, name = 'bn_conv1')(X)\n",
        "    X = Activation('relu')(X)\n",
        "    X = MaxPooling2D((3, 3), strides = (2,2))(X)\n",
        " \n",
        "    X = convolution_block(X, f = 3, filters = [64,64,256], stage = 2, block = 'a', s = 1)\n",
        "    X = identity_block(X, 3, [64,64,256], stage=2, block='b')\n",
        "    X = identity_block(X, 3, [64,64,256], stage=2, block='c')\n",
        " \n",
        "    X = convolution_block(X, f = 3, filters = [128,128,512], stage = 3, block = 'a', s = 2)\n",
        "    X = identity_block(X, 3, [128,128,512], stage=3, block='b')\n",
        "    X = identity_block(X, 3, [128,128,512], stage=3, block='c')\n",
        "    X = identity_block(X, 3, [128,128,512], stage=3, block='d')\n",
        " \n",
        "    X = convolution_block(X, f = 3, filters = [256,256,1024], stage = 4, block = 'a', s = 2)\n",
        "    X = identity_block(X, 3, [256,256,1024], stage=4, block='b')\n",
        "    X = identity_block(X, 3, [256,256,1024], stage=4, block='c')\n",
        "    X = identity_block(X, 3, [256,256,1024], stage=4, block='d')    \n",
        "    X = identity_block(X, 3, [256,256,1024], stage=4, block='e')\n",
        "    X = identity_block(X, 3, [256,256,1024], stage=4, block='f')\n",
        " \n",
        "    X = convolution_block(X, f = 3, filters = [512,512,2048], stage = 5, block = 'a', s = 2)\n",
        "    X = identity_block(X, 3, [512,512,2048], stage=5, block='b')\n",
        "    X = identity_block(X, 3, [512,512,2048], stage=5, block='c')\n",
        " \n",
        "    X = AveragePooling2D((2, 2), name='avg_pool')(X)\n",
        " \n",
        "    X = Flatten()(X)\n",
        "    X = Dense(classes, activation = 'softmax', name = 'fc' + str(classes), kernel_initializer = glorot_uniform(seed=0))(X)\n",
        " \n",
        "    model = Model(inputs = X_input, outputs = X, name = 'ResNet50')\n",
        " \n",
        "    return model\n"
      ],
      "execution_count": 0,
      "outputs": []
    },
    {
      "cell_type": "code",
      "metadata": {
        "id": "VvofYQ03pbqr",
        "colab_type": "code",
        "colab": {}
      },
      "source": [
        "from keras.callbacks import Callback, EarlyStopping, ReduceLROnPlateau, ModelCheckpoint\n",
        "class MetricsCheckpoint(Callback):\n",
        "    def __init__(self, savepath):\n",
        "        super(MetricsCheckpoint, self).__init__()\n",
        "        self.savepath = savepath\n",
        "        self.history = {}\n",
        "    def on_epoch_end(self, epoch, logs=None):\n",
        "        for k, v in logs.items():\n",
        "            self.history.setdefault(k, []).append(v)\n",
        "        np.save(self.savepath, self.history)"
      ],
      "execution_count": 0,
      "outputs": []
    },
    {
      "cell_type": "code",
      "metadata": {
        "id": "JqZsR8ggdj7Y",
        "colab_type": "code",
        "colab": {}
      },
      "source": [
        "X_train_reshape_train,X_train_valid,Y_train_train,Y_train_valid = train_test_split(X_train_reshape,y_train_c,test_size = 0.2, random_state = 0)"
      ],
      "execution_count": 0,
      "outputs": []
    },
    {
      "cell_type": "code",
      "metadata": {
        "id": "6jJZzFDipdtD",
        "colab_type": "code",
        "outputId": "f9e7c2b0-a336-44cd-c88c-a12f07edae73",
        "colab": {
          "base_uri": "https://localhost:8080/",
          "height": 1000
        }
      },
      "source": [
        "model = ResNet50(input_shape = (50,50,3), classes = 2)\n",
        "model.compile(optimizer='adam', loss = 'categorical_crossentropy', metrics=['accuracy'])\n",
        "history = model.fit_generator(datagen.flow(X_train_reshape_train,Y_train_train, batch_size=32),validation_data=(X_train_valid,Y_train_valid),\n",
        "                        steps_per_epoch=len(X_train_reshape_train) / 32, epochs=200 ,callbacks = [MetricsCheckpoint('logs')],verbose=1)\n"
      ],
      "execution_count": 0,
      "outputs": [
        {
          "output_type": "stream",
          "text": [
            "Epoch 1/200\n",
            "378/377 [==============================] - 43s 114ms/step - loss: 0.6666 - acc: 0.7670 - val_loss: 0.5707 - val_acc: 0.7803\n",
            "Epoch 2/200\n",
            "378/377 [==============================] - 31s 83ms/step - loss: 0.5756 - acc: 0.7766 - val_loss: 0.5461 - val_acc: 0.7684\n",
            "Epoch 3/200\n",
            "378/377 [==============================] - 31s 82ms/step - loss: 0.5002 - acc: 0.7959 - val_loss: 0.4766 - val_acc: 0.7972\n",
            "Epoch 4/200\n",
            "378/377 [==============================] - 31s 82ms/step - loss: 0.4729 - acc: 0.8078 - val_loss: 0.4909 - val_acc: 0.7826\n",
            "Epoch 5/200\n",
            "378/377 [==============================] - 31s 83ms/step - loss: 0.4730 - acc: 0.8077 - val_loss: 0.4987 - val_acc: 0.7942\n",
            "Epoch 6/200\n",
            "378/377 [==============================] - 31s 81ms/step - loss: 0.5241 - acc: 0.7959 - val_loss: 0.4621 - val_acc: 0.7981\n",
            "Epoch 7/200\n",
            "378/377 [==============================] - 31s 82ms/step - loss: 0.4846 - acc: 0.8071 - val_loss: 0.5356 - val_acc: 0.7965\n",
            "Epoch 8/200\n",
            "378/377 [==============================] - 31s 81ms/step - loss: 0.5275 - acc: 0.8062 - val_loss: 0.5057 - val_acc: 0.7991\n",
            "Epoch 9/200\n",
            "378/377 [==============================] - 31s 83ms/step - loss: 0.5938 - acc: 0.7844 - val_loss: 1.0412 - val_acc: 0.7270\n",
            "Epoch 10/200\n",
            "378/377 [==============================] - 31s 83ms/step - loss: 0.7655 - acc: 0.7001 - val_loss: 0.7667 - val_acc: 0.6899\n",
            "Epoch 11/200\n",
            "378/377 [==============================] - 31s 81ms/step - loss: 0.7153 - acc: 0.6999 - val_loss: 0.7521 - val_acc: 0.7085\n",
            "Epoch 12/200\n",
            "378/377 [==============================] - 31s 82ms/step - loss: 0.7572 - acc: 0.7010 - val_loss: 0.6462 - val_acc: 0.7128\n",
            "Epoch 13/200\n",
            "378/377 [==============================] - 31s 81ms/step - loss: 0.5525 - acc: 0.7388 - val_loss: 0.5153 - val_acc: 0.7535\n",
            "Epoch 14/200\n",
            "378/377 [==============================] - 31s 82ms/step - loss: 0.4901 - acc: 0.7813 - val_loss: 0.4952 - val_acc: 0.7737\n",
            "Epoch 15/200\n",
            "378/377 [==============================] - 31s 82ms/step - loss: 0.4657 - acc: 0.7932 - val_loss: 0.4830 - val_acc: 0.7783\n",
            "Epoch 16/200\n",
            "378/377 [==============================] - 31s 82ms/step - loss: 0.4585 - acc: 0.7961 - val_loss: 0.4624 - val_acc: 0.7905\n",
            "Epoch 17/200\n",
            "378/377 [==============================] - 31s 82ms/step - loss: 0.4527 - acc: 0.8003 - val_loss: 0.4596 - val_acc: 0.7975\n",
            "Epoch 18/200\n",
            "378/377 [==============================] - 31s 82ms/step - loss: 0.4543 - acc: 0.7929 - val_loss: 0.4515 - val_acc: 0.7912\n",
            "Epoch 19/200\n",
            "378/377 [==============================] - 31s 83ms/step - loss: 0.4421 - acc: 0.8045 - val_loss: 0.4418 - val_acc: 0.7981\n",
            "Epoch 20/200\n",
            "378/377 [==============================] - 31s 82ms/step - loss: 0.4419 - acc: 0.8039 - val_loss: 0.4496 - val_acc: 0.8011\n",
            "Epoch 21/200\n",
            "378/377 [==============================] - 31s 81ms/step - loss: 0.4338 - acc: 0.8064 - val_loss: 0.4290 - val_acc: 0.8038\n",
            "Epoch 22/200\n",
            "378/377 [==============================] - 31s 81ms/step - loss: 0.4201 - acc: 0.8179 - val_loss: 0.4186 - val_acc: 0.8077\n",
            "Epoch 23/200\n",
            "378/377 [==============================] - 31s 82ms/step - loss: 0.4190 - acc: 0.8159 - val_loss: 0.4114 - val_acc: 0.8127\n",
            "Epoch 24/200\n",
            "378/377 [==============================] - 31s 81ms/step - loss: 0.4084 - acc: 0.8254 - val_loss: 0.4188 - val_acc: 0.8124\n",
            "Epoch 25/200\n",
            "378/377 [==============================] - 30s 80ms/step - loss: 0.4143 - acc: 0.8201 - val_loss: 0.4357 - val_acc: 0.8144\n",
            "Epoch 26/200\n",
            "378/377 [==============================] - 30s 80ms/step - loss: 0.4103 - acc: 0.8225 - val_loss: 0.4095 - val_acc: 0.8130\n",
            "Epoch 27/200\n",
            "378/377 [==============================] - 30s 81ms/step - loss: 0.4054 - acc: 0.8236 - val_loss: 0.3994 - val_acc: 0.8216\n",
            "Epoch 28/200\n",
            "378/377 [==============================] - 30s 80ms/step - loss: 0.4217 - acc: 0.8126 - val_loss: 0.4061 - val_acc: 0.8157\n",
            "Epoch 29/200\n",
            "378/377 [==============================] - 31s 81ms/step - loss: 0.4022 - acc: 0.8279 - val_loss: 0.3961 - val_acc: 0.8210\n",
            "Epoch 30/200\n",
            "378/377 [==============================] - 30s 79ms/step - loss: 0.3949 - acc: 0.8278 - val_loss: 0.4096 - val_acc: 0.8193\n",
            "Epoch 31/200\n",
            "378/377 [==============================] - 31s 82ms/step - loss: 0.3898 - acc: 0.8302 - val_loss: 0.3793 - val_acc: 0.8276\n",
            "Epoch 32/200\n",
            "378/377 [==============================] - 31s 81ms/step - loss: 0.3878 - acc: 0.8344 - val_loss: 0.3922 - val_acc: 0.8250\n",
            "Epoch 33/200\n",
            "378/377 [==============================] - 30s 80ms/step - loss: 0.4684 - acc: 0.8056 - val_loss: 0.4447 - val_acc: 0.8015\n",
            "Epoch 34/200\n",
            "378/377 [==============================] - 31s 81ms/step - loss: 0.4057 - acc: 0.8265 - val_loss: 0.4039 - val_acc: 0.8183\n",
            "Epoch 35/200\n",
            "378/377 [==============================] - 30s 81ms/step - loss: 0.3945 - acc: 0.8289 - val_loss: 0.3963 - val_acc: 0.8319\n",
            "Epoch 36/200\n",
            "378/377 [==============================] - 30s 80ms/step - loss: 0.3836 - acc: 0.8353 - val_loss: 0.3881 - val_acc: 0.8259\n",
            "Epoch 37/200\n",
            "378/377 [==============================] - 30s 80ms/step - loss: 0.3882 - acc: 0.8321 - val_loss: 0.3873 - val_acc: 0.8283\n",
            "Epoch 38/200\n",
            "378/377 [==============================] - 30s 80ms/step - loss: 0.3823 - acc: 0.8369 - val_loss: 0.3805 - val_acc: 0.8289\n",
            "Epoch 39/200\n",
            "378/377 [==============================] - 30s 80ms/step - loss: 0.3755 - acc: 0.8381 - val_loss: 0.4010 - val_acc: 0.8193\n",
            "Epoch 40/200\n",
            "378/377 [==============================] - 30s 80ms/step - loss: 0.3827 - acc: 0.8374 - val_loss: 0.3802 - val_acc: 0.8296\n",
            "Epoch 41/200\n",
            "378/377 [==============================] - 30s 80ms/step - loss: 0.3748 - acc: 0.8418 - val_loss: 0.3645 - val_acc: 0.8402\n",
            "Epoch 42/200\n",
            "378/377 [==============================] - 30s 79ms/step - loss: 0.3688 - acc: 0.8406 - val_loss: 0.3612 - val_acc: 0.8385\n",
            "Epoch 43/200\n",
            "378/377 [==============================] - 30s 80ms/step - loss: 0.3723 - acc: 0.8396 - val_loss: 0.3648 - val_acc: 0.8402\n",
            "Epoch 44/200\n",
            "378/377 [==============================] - 30s 80ms/step - loss: 0.3635 - acc: 0.8435 - val_loss: 0.3540 - val_acc: 0.8415\n",
            "Epoch 45/200\n",
            "378/377 [==============================] - 30s 80ms/step - loss: 0.3638 - acc: 0.8474 - val_loss: 0.3595 - val_acc: 0.8435\n",
            "Epoch 46/200\n",
            "378/377 [==============================] - 30s 79ms/step - loss: 0.3599 - acc: 0.8480 - val_loss: 0.3706 - val_acc: 0.8471\n",
            "Epoch 47/200\n",
            "378/377 [==============================] - 30s 80ms/step - loss: 0.3552 - acc: 0.8500 - val_loss: 0.3495 - val_acc: 0.8478\n",
            "Epoch 48/200\n",
            "378/377 [==============================] - 31s 81ms/step - loss: 0.3667 - acc: 0.8451 - val_loss: 0.3932 - val_acc: 0.8250\n",
            "Epoch 49/200\n",
            "378/377 [==============================] - 30s 80ms/step - loss: 0.3676 - acc: 0.8445 - val_loss: 0.3781 - val_acc: 0.8349\n",
            "Epoch 50/200\n",
            "378/377 [==============================] - 31s 82ms/step - loss: 0.3692 - acc: 0.8419 - val_loss: 0.3613 - val_acc: 0.8461\n",
            "Epoch 51/200\n",
            "378/377 [==============================] - 31s 83ms/step - loss: 0.3519 - acc: 0.8503 - val_loss: 0.3743 - val_acc: 0.8355\n",
            "Epoch 52/200\n",
            "378/377 [==============================] - 31s 83ms/step - loss: 0.3538 - acc: 0.8519 - val_loss: 0.3537 - val_acc: 0.8465\n",
            "Epoch 53/200\n",
            "378/377 [==============================] - 31s 81ms/step - loss: 0.3667 - acc: 0.8433 - val_loss: 0.3728 - val_acc: 0.8372\n",
            "Epoch 54/200\n",
            "378/377 [==============================] - 31s 82ms/step - loss: 0.3566 - acc: 0.8473 - val_loss: 0.3561 - val_acc: 0.8448\n",
            "Epoch 55/200\n",
            "378/377 [==============================] - 31s 82ms/step - loss: 0.3573 - acc: 0.8455 - val_loss: 0.3628 - val_acc: 0.8468\n",
            "Epoch 56/200\n",
            "378/377 [==============================] - 30s 80ms/step - loss: 0.3509 - acc: 0.8509 - val_loss: 0.3463 - val_acc: 0.8478\n",
            "Epoch 57/200\n",
            "378/377 [==============================] - 30s 80ms/step - loss: 0.3475 - acc: 0.8530 - val_loss: 0.3462 - val_acc: 0.8481\n",
            "Epoch 58/200\n",
            "378/377 [==============================] - 31s 81ms/step - loss: 0.3453 - acc: 0.8559 - val_loss: 0.3560 - val_acc: 0.8418\n",
            "Epoch 59/200\n",
            "378/377 [==============================] - 31s 81ms/step - loss: 0.3648 - acc: 0.8467 - val_loss: 0.3613 - val_acc: 0.8428\n",
            "Epoch 60/200\n",
            "378/377 [==============================] - 31s 81ms/step - loss: 0.3512 - acc: 0.8504 - val_loss: 0.3358 - val_acc: 0.8557\n",
            "Epoch 61/200\n",
            "378/377 [==============================] - 30s 80ms/step - loss: 0.3436 - acc: 0.8554 - val_loss: 0.3464 - val_acc: 0.8481\n",
            "Epoch 62/200\n",
            "378/377 [==============================] - 30s 80ms/step - loss: 0.3516 - acc: 0.8525 - val_loss: 0.3593 - val_acc: 0.8441\n",
            "Epoch 63/200\n",
            "378/377 [==============================] - 31s 81ms/step - loss: 0.3495 - acc: 0.8561 - val_loss: 0.3415 - val_acc: 0.8537\n",
            "Epoch 64/200\n",
            "378/377 [==============================] - 30s 80ms/step - loss: 0.3462 - acc: 0.8537 - val_loss: 0.3631 - val_acc: 0.8425\n",
            "Epoch 65/200\n",
            "378/377 [==============================] - 31s 81ms/step - loss: 0.3509 - acc: 0.8508 - val_loss: 0.3428 - val_acc: 0.8521\n",
            "Epoch 66/200\n",
            "378/377 [==============================] - 30s 80ms/step - loss: 0.3393 - acc: 0.8591 - val_loss: 0.3550 - val_acc: 0.8465\n",
            "Epoch 67/200\n",
            "378/377 [==============================] - 31s 81ms/step - loss: 0.3358 - acc: 0.8562 - val_loss: 0.3454 - val_acc: 0.8521\n",
            "Epoch 68/200\n",
            "378/377 [==============================] - 31s 81ms/step - loss: 0.3417 - acc: 0.8582 - val_loss: 0.3471 - val_acc: 0.8504\n",
            "Epoch 69/200\n",
            "378/377 [==============================] - 30s 80ms/step - loss: 0.3348 - acc: 0.8615 - val_loss: 0.3413 - val_acc: 0.8544\n",
            "Epoch 70/200\n",
            "378/377 [==============================] - 30s 80ms/step - loss: 0.3304 - acc: 0.8588 - val_loss: 0.3375 - val_acc: 0.8481\n",
            "Epoch 71/200\n",
            "378/377 [==============================] - 31s 81ms/step - loss: 0.3349 - acc: 0.8609 - val_loss: 0.3358 - val_acc: 0.8541\n",
            "Epoch 72/200\n",
            "378/377 [==============================] - 30s 80ms/step - loss: 0.3318 - acc: 0.8597 - val_loss: 0.3576 - val_acc: 0.8412\n",
            "Epoch 73/200\n",
            "378/377 [==============================] - 30s 81ms/step - loss: 0.3407 - acc: 0.8581 - val_loss: 0.3421 - val_acc: 0.8508\n",
            "Epoch 74/200\n",
            "378/377 [==============================] - 30s 80ms/step - loss: 0.3341 - acc: 0.8591 - val_loss: 0.3447 - val_acc: 0.8498\n",
            "Epoch 75/200\n",
            "378/377 [==============================] - 30s 80ms/step - loss: 0.3373 - acc: 0.8597 - val_loss: 0.3365 - val_acc: 0.8584\n",
            "Epoch 76/200\n",
            "378/377 [==============================] - 31s 81ms/step - loss: 0.3277 - acc: 0.8640 - val_loss: 0.3362 - val_acc: 0.8594\n",
            "Epoch 77/200\n",
            "378/377 [==============================] - 31s 81ms/step - loss: 0.3326 - acc: 0.8634 - val_loss: 0.3460 - val_acc: 0.8504\n",
            "Epoch 78/200\n",
            "378/377 [==============================] - 30s 80ms/step - loss: 0.3347 - acc: 0.8573 - val_loss: 0.3243 - val_acc: 0.8597\n",
            "Epoch 79/200\n",
            "378/377 [==============================] - 31s 81ms/step - loss: 0.3289 - acc: 0.8581 - val_loss: 0.3291 - val_acc: 0.8580\n",
            "Epoch 80/200\n",
            "378/377 [==============================] - 31s 81ms/step - loss: 0.3326 - acc: 0.8591 - val_loss: 0.3454 - val_acc: 0.8544\n",
            "Epoch 81/200\n",
            "378/377 [==============================] - 31s 81ms/step - loss: 0.3411 - acc: 0.8587 - val_loss: 0.3312 - val_acc: 0.8541\n",
            "Epoch 82/200\n",
            "378/377 [==============================] - 30s 81ms/step - loss: 0.3322 - acc: 0.8612 - val_loss: 0.3461 - val_acc: 0.8590\n",
            "Epoch 83/200\n",
            "378/377 [==============================] - 30s 81ms/step - loss: 0.3290 - acc: 0.8626 - val_loss: 0.3191 - val_acc: 0.8577\n",
            "Epoch 84/200\n",
            "378/377 [==============================] - 31s 81ms/step - loss: 0.3239 - acc: 0.8664 - val_loss: 0.3487 - val_acc: 0.8524\n",
            "Epoch 85/200\n",
            "378/377 [==============================] - 30s 80ms/step - loss: 0.3233 - acc: 0.8644 - val_loss: 0.3208 - val_acc: 0.8627\n",
            "Epoch 86/200\n",
            "378/377 [==============================] - 30s 80ms/step - loss: 0.3186 - acc: 0.8675 - val_loss: 0.3226 - val_acc: 0.8617\n",
            "Epoch 87/200\n",
            "378/377 [==============================] - 30s 80ms/step - loss: 0.3212 - acc: 0.8689 - val_loss: 0.3327 - val_acc: 0.8557\n",
            "Epoch 88/200\n",
            "378/377 [==============================] - 31s 81ms/step - loss: 0.3221 - acc: 0.8653 - val_loss: 0.3216 - val_acc: 0.8627\n",
            "Epoch 89/200\n",
            "378/377 [==============================] - 30s 81ms/step - loss: 0.3188 - acc: 0.8679 - val_loss: 0.3237 - val_acc: 0.8604\n",
            "Epoch 90/200\n",
            "378/377 [==============================] - 31s 81ms/step - loss: 0.3367 - acc: 0.8557 - val_loss: 0.3766 - val_acc: 0.8372\n",
            "Epoch 91/200\n",
            "378/377 [==============================] - 31s 81ms/step - loss: 0.3322 - acc: 0.8608 - val_loss: 0.3341 - val_acc: 0.8557\n",
            "Epoch 92/200\n",
            "378/377 [==============================] - 31s 81ms/step - loss: 0.3287 - acc: 0.8632 - val_loss: 0.3360 - val_acc: 0.8580\n",
            "Epoch 93/200\n",
            "378/377 [==============================] - 30s 79ms/step - loss: 0.3145 - acc: 0.8702 - val_loss: 0.3143 - val_acc: 0.8643\n",
            "Epoch 94/200\n",
            "378/377 [==============================] - 31s 81ms/step - loss: 0.3173 - acc: 0.8680 - val_loss: 0.3191 - val_acc: 0.8630\n",
            "Epoch 95/200\n",
            "378/377 [==============================] - 30s 80ms/step - loss: 0.3146 - acc: 0.8674 - val_loss: 0.3272 - val_acc: 0.8547\n",
            "Epoch 96/200\n",
            "378/377 [==============================] - 31s 81ms/step - loss: 0.3133 - acc: 0.8684 - val_loss: 0.3254 - val_acc: 0.8670\n",
            "Epoch 97/200\n",
            "378/377 [==============================] - 30s 80ms/step - loss: 0.3122 - acc: 0.8700 - val_loss: 0.3225 - val_acc: 0.8604\n",
            "Epoch 98/200\n",
            "378/377 [==============================] - 30s 80ms/step - loss: 0.3161 - acc: 0.8695 - val_loss: 0.3116 - val_acc: 0.8739\n",
            "Epoch 99/200\n",
            "378/377 [==============================] - 30s 81ms/step - loss: 0.3147 - acc: 0.8691 - val_loss: 0.3220 - val_acc: 0.8657\n",
            "Epoch 100/200\n",
            "378/377 [==============================] - 31s 81ms/step - loss: 0.3087 - acc: 0.8707 - val_loss: 0.3175 - val_acc: 0.8633\n",
            "Epoch 101/200\n",
            "378/377 [==============================] - 31s 81ms/step - loss: 0.3104 - acc: 0.8711 - val_loss: 0.3103 - val_acc: 0.8683\n",
            "Epoch 102/200\n",
            "378/377 [==============================] - 30s 80ms/step - loss: 0.3011 - acc: 0.8717 - val_loss: 0.3128 - val_acc: 0.8706\n",
            "Epoch 103/200\n",
            "378/377 [==============================] - 30s 81ms/step - loss: 0.3043 - acc: 0.8724 - val_loss: 0.3152 - val_acc: 0.8657\n",
            "Epoch 104/200\n",
            "378/377 [==============================] - 30s 80ms/step - loss: 0.3041 - acc: 0.8731 - val_loss: 0.3105 - val_acc: 0.8690\n",
            "Epoch 105/200\n",
            "378/377 [==============================] - 30s 80ms/step - loss: 0.3011 - acc: 0.8742 - val_loss: 0.3213 - val_acc: 0.8663\n",
            "Epoch 106/200\n",
            "378/377 [==============================] - 30s 79ms/step - loss: 0.3034 - acc: 0.8747 - val_loss: 0.2997 - val_acc: 0.8716\n",
            "Epoch 107/200\n",
            "378/377 [==============================] - 30s 79ms/step - loss: 0.3068 - acc: 0.8719 - val_loss: 0.3155 - val_acc: 0.8647\n",
            "Epoch 108/200\n",
            "378/377 [==============================] - 31s 81ms/step - loss: 0.3059 - acc: 0.8714 - val_loss: 0.3039 - val_acc: 0.8680\n",
            "Epoch 109/200\n",
            "378/377 [==============================] - 30s 79ms/step - loss: 0.2979 - acc: 0.8752 - val_loss: 0.3045 - val_acc: 0.8690\n",
            "Epoch 110/200\n",
            "378/377 [==============================] - 30s 80ms/step - loss: 0.2982 - acc: 0.8754 - val_loss: 0.3087 - val_acc: 0.8643\n",
            "Epoch 111/200\n",
            "378/377 [==============================] - 30s 81ms/step - loss: 0.3248 - acc: 0.8667 - val_loss: 0.3175 - val_acc: 0.8660\n",
            "Epoch 112/200\n",
            "378/377 [==============================] - 30s 80ms/step - loss: 0.2974 - acc: 0.8726 - val_loss: 0.3142 - val_acc: 0.8630\n",
            "Epoch 113/200\n",
            "378/377 [==============================] - 30s 81ms/step - loss: 0.3044 - acc: 0.8737 - val_loss: 0.3337 - val_acc: 0.8554\n",
            "Epoch 114/200\n",
            "378/377 [==============================] - 30s 80ms/step - loss: 0.3017 - acc: 0.8744 - val_loss: 0.3138 - val_acc: 0.8647\n",
            "Epoch 115/200\n",
            "378/377 [==============================] - 30s 79ms/step - loss: 0.3027 - acc: 0.8758 - val_loss: 0.3004 - val_acc: 0.8766\n",
            "Epoch 116/200\n",
            "378/377 [==============================] - 30s 79ms/step - loss: 0.2955 - acc: 0.8780 - val_loss: 0.3011 - val_acc: 0.8736\n",
            "Epoch 117/200\n",
            "378/377 [==============================] - 30s 80ms/step - loss: 0.3042 - acc: 0.8711 - val_loss: 0.3117 - val_acc: 0.8680\n",
            "Epoch 118/200\n",
            "378/377 [==============================] - 30s 81ms/step - loss: 0.2948 - acc: 0.8755 - val_loss: 0.3040 - val_acc: 0.8733\n",
            "Epoch 119/200\n",
            "378/377 [==============================] - 30s 80ms/step - loss: 0.3244 - acc: 0.8630 - val_loss: 0.3616 - val_acc: 0.8422\n",
            "Epoch 120/200\n",
            "378/377 [==============================] - 30s 79ms/step - loss: 0.3233 - acc: 0.8656 - val_loss: 0.3139 - val_acc: 0.8670\n",
            "Epoch 121/200\n",
            "378/377 [==============================] - 30s 80ms/step - loss: 0.3139 - acc: 0.8694 - val_loss: 0.3052 - val_acc: 0.8713\n",
            "Epoch 122/200\n",
            "378/377 [==============================] - 30s 80ms/step - loss: 0.3005 - acc: 0.8736 - val_loss: 0.3090 - val_acc: 0.8696\n",
            "Epoch 123/200\n",
            "378/377 [==============================] - 30s 79ms/step - loss: 0.2939 - acc: 0.8746 - val_loss: 0.3193 - val_acc: 0.8617\n",
            "Epoch 124/200\n",
            "378/377 [==============================] - 30s 79ms/step - loss: 0.2939 - acc: 0.8790 - val_loss: 0.3056 - val_acc: 0.8696\n",
            "Epoch 125/200\n",
            "378/377 [==============================] - 30s 80ms/step - loss: 0.2945 - acc: 0.8738 - val_loss: 0.3037 - val_acc: 0.8719\n",
            "Epoch 126/200\n",
            "378/377 [==============================] - 30s 79ms/step - loss: 0.2919 - acc: 0.8784 - val_loss: 0.3004 - val_acc: 0.8769\n",
            "Epoch 127/200\n",
            "378/377 [==============================] - 30s 79ms/step - loss: 0.2975 - acc: 0.8760 - val_loss: 0.3202 - val_acc: 0.8690\n",
            "Epoch 128/200\n",
            "378/377 [==============================] - 30s 79ms/step - loss: 0.2929 - acc: 0.8812 - val_loss: 0.3096 - val_acc: 0.8663\n",
            "Epoch 129/200\n",
            "378/377 [==============================] - 30s 81ms/step - loss: 0.2943 - acc: 0.8800 - val_loss: 0.3093 - val_acc: 0.8769\n",
            "Epoch 130/200\n",
            "378/377 [==============================] - 30s 80ms/step - loss: 0.2921 - acc: 0.8774 - val_loss: 0.2986 - val_acc: 0.8709\n",
            "Epoch 131/200\n",
            "378/377 [==============================] - 30s 80ms/step - loss: 0.2879 - acc: 0.8793 - val_loss: 0.3038 - val_acc: 0.8733\n",
            "Epoch 132/200\n",
            "378/377 [==============================] - 30s 79ms/step - loss: 0.3063 - acc: 0.8776 - val_loss: 0.3033 - val_acc: 0.8683\n",
            "Epoch 133/200\n",
            "378/377 [==============================] - 30s 79ms/step - loss: 0.3000 - acc: 0.8750 - val_loss: 0.3015 - val_acc: 0.8733\n",
            "Epoch 134/200\n",
            "378/377 [==============================] - 30s 80ms/step - loss: 0.3199 - acc: 0.8690 - val_loss: 0.3281 - val_acc: 0.8620\n",
            "Epoch 135/200\n",
            "378/377 [==============================] - 30s 80ms/step - loss: 0.3080 - acc: 0.8717 - val_loss: 0.2961 - val_acc: 0.8769\n",
            "Epoch 136/200\n",
            "378/377 [==============================] - 30s 79ms/step - loss: 0.2892 - acc: 0.8811 - val_loss: 0.3009 - val_acc: 0.8716\n",
            "Epoch 137/200\n",
            "378/377 [==============================] - 30s 80ms/step - loss: 0.3065 - acc: 0.8754 - val_loss: 0.3077 - val_acc: 0.8683\n",
            "Epoch 138/200\n",
            "378/377 [==============================] - 30s 80ms/step - loss: 0.3031 - acc: 0.8772 - val_loss: 0.4792 - val_acc: 0.8312\n",
            "Epoch 139/200\n",
            "378/377 [==============================] - 30s 79ms/step - loss: 0.3741 - acc: 0.8515 - val_loss: 0.3316 - val_acc: 0.8597\n",
            "Epoch 140/200\n",
            "378/377 [==============================] - 30s 80ms/step - loss: 0.3960 - acc: 0.8325 - val_loss: 0.3862 - val_acc: 0.8349\n",
            "Epoch 141/200\n",
            "378/377 [==============================] - 30s 79ms/step - loss: 0.3549 - acc: 0.8492 - val_loss: 0.3476 - val_acc: 0.8471\n",
            "Epoch 142/200\n",
            "378/377 [==============================] - 30s 80ms/step - loss: 0.3246 - acc: 0.8636 - val_loss: 0.3279 - val_acc: 0.8594\n",
            "Epoch 143/200\n",
            "378/377 [==============================] - 30s 79ms/step - loss: 0.3084 - acc: 0.8689 - val_loss: 0.3288 - val_acc: 0.8617\n",
            "Epoch 144/200\n",
            "378/377 [==============================] - 30s 79ms/step - loss: 0.3001 - acc: 0.8735 - val_loss: 0.3167 - val_acc: 0.8640\n",
            "Epoch 145/200\n",
            "378/377 [==============================] - 30s 80ms/step - loss: 0.2933 - acc: 0.8764 - val_loss: 0.3074 - val_acc: 0.8660\n",
            "Epoch 146/200\n",
            "378/377 [==============================] - 30s 80ms/step - loss: 0.2898 - acc: 0.8775 - val_loss: 0.3026 - val_acc: 0.8706\n",
            "Epoch 147/200\n",
            "378/377 [==============================] - 30s 80ms/step - loss: 0.2871 - acc: 0.8810 - val_loss: 0.3025 - val_acc: 0.8696\n",
            "Epoch 148/200\n",
            "378/377 [==============================] - 30s 80ms/step - loss: 0.2936 - acc: 0.8768 - val_loss: 0.2971 - val_acc: 0.8716\n",
            "Epoch 149/200\n",
            "378/377 [==============================] - 30s 79ms/step - loss: 0.2854 - acc: 0.8804 - val_loss: 0.3108 - val_acc: 0.8706\n",
            "Epoch 150/200\n",
            "378/377 [==============================] - 30s 80ms/step - loss: 0.3162 - acc: 0.8686 - val_loss: 0.3560 - val_acc: 0.8527\n",
            "Epoch 151/200\n",
            "378/377 [==============================] - 30s 79ms/step - loss: 0.3453 - acc: 0.8534 - val_loss: 0.3924 - val_acc: 0.8273\n",
            "Epoch 152/200\n",
            "378/377 [==============================] - 30s 80ms/step - loss: 0.3442 - acc: 0.8580 - val_loss: 0.3154 - val_acc: 0.8686\n",
            "Epoch 153/200\n",
            "378/377 [==============================] - 30s 79ms/step - loss: 0.3081 - acc: 0.8737 - val_loss: 0.3040 - val_acc: 0.8713\n",
            "Epoch 154/200\n",
            "378/377 [==============================] - 30s 80ms/step - loss: 0.2960 - acc: 0.8777 - val_loss: 0.2996 - val_acc: 0.8709\n",
            "Epoch 155/200\n",
            "378/377 [==============================] - 30s 79ms/step - loss: 0.2940 - acc: 0.8782 - val_loss: 0.3151 - val_acc: 0.8630\n",
            "Epoch 156/200\n",
            "378/377 [==============================] - 30s 80ms/step - loss: 0.2933 - acc: 0.8794 - val_loss: 0.2996 - val_acc: 0.8686\n",
            "Epoch 157/200\n",
            "378/377 [==============================] - 31s 81ms/step - loss: 0.2889 - acc: 0.8789 - val_loss: 0.2953 - val_acc: 0.8752\n",
            "Epoch 158/200\n",
            "378/377 [==============================] - 30s 81ms/step - loss: 0.2863 - acc: 0.8804 - val_loss: 0.2950 - val_acc: 0.8696\n",
            "Epoch 159/200\n",
            "378/377 [==============================] - 30s 80ms/step - loss: 0.2898 - acc: 0.8795 - val_loss: 0.3225 - val_acc: 0.8683\n",
            "Epoch 160/200\n",
            "378/377 [==============================] - 30s 80ms/step - loss: 0.2771 - acc: 0.8862 - val_loss: 0.2964 - val_acc: 0.8805\n",
            "Epoch 161/200\n",
            "378/377 [==============================] - 30s 80ms/step - loss: 0.2832 - acc: 0.8835 - val_loss: 0.2906 - val_acc: 0.8782\n",
            "Epoch 162/200\n",
            "378/377 [==============================] - 30s 80ms/step - loss: 0.2822 - acc: 0.8836 - val_loss: 0.3012 - val_acc: 0.8700\n",
            "Epoch 163/200\n",
            "378/377 [==============================] - 30s 79ms/step - loss: 0.2806 - acc: 0.8850 - val_loss: 0.3238 - val_acc: 0.8693\n",
            "Epoch 164/200\n",
            "378/377 [==============================] - 30s 80ms/step - loss: 0.2877 - acc: 0.8810 - val_loss: 0.2929 - val_acc: 0.8759\n",
            "Epoch 165/200\n",
            "378/377 [==============================] - 30s 79ms/step - loss: 0.2906 - acc: 0.8808 - val_loss: 0.2937 - val_acc: 0.8716\n",
            "Epoch 166/200\n",
            "378/377 [==============================] - 30s 79ms/step - loss: 0.2819 - acc: 0.8833 - val_loss: 0.2935 - val_acc: 0.8739\n",
            "Epoch 167/200\n",
            "378/377 [==============================] - 30s 79ms/step - loss: 0.2793 - acc: 0.8824 - val_loss: 0.2847 - val_acc: 0.8799\n",
            "Epoch 168/200\n",
            "378/377 [==============================] - 30s 79ms/step - loss: 0.2835 - acc: 0.8835 - val_loss: 0.3039 - val_acc: 0.8733\n",
            "Epoch 169/200\n",
            "378/377 [==============================] - 30s 80ms/step - loss: 0.3607 - acc: 0.8512 - val_loss: 0.3998 - val_acc: 0.8415\n",
            "Epoch 170/200\n",
            "378/377 [==============================] - 30s 80ms/step - loss: 0.3347 - acc: 0.8612 - val_loss: 0.3182 - val_acc: 0.8647\n",
            "Epoch 171/200\n",
            "378/377 [==============================] - 30s 80ms/step - loss: 0.3000 - acc: 0.8754 - val_loss: 0.3013 - val_acc: 0.8690\n",
            "Epoch 172/200\n",
            "378/377 [==============================] - 30s 79ms/step - loss: 0.2827 - acc: 0.8809 - val_loss: 0.2957 - val_acc: 0.8736\n",
            "Epoch 173/200\n",
            "378/377 [==============================] - 30s 80ms/step - loss: 0.2803 - acc: 0.8865 - val_loss: 0.2916 - val_acc: 0.8759\n",
            "Epoch 174/200\n",
            "378/377 [==============================] - 30s 79ms/step - loss: 0.2844 - acc: 0.8800 - val_loss: 0.2974 - val_acc: 0.8739\n",
            "Epoch 175/200\n",
            "378/377 [==============================] - 30s 80ms/step - loss: 0.2798 - acc: 0.8824 - val_loss: 0.2850 - val_acc: 0.8782\n",
            "Epoch 176/200\n",
            "378/377 [==============================] - 30s 80ms/step - loss: 0.2755 - acc: 0.8854 - val_loss: 0.2881 - val_acc: 0.8703\n",
            "Epoch 177/200\n",
            "378/377 [==============================] - 30s 80ms/step - loss: 0.2789 - acc: 0.8846 - val_loss: 0.2836 - val_acc: 0.8805\n",
            "Epoch 178/200\n",
            "378/377 [==============================] - 30s 79ms/step - loss: 0.2884 - acc: 0.8846 - val_loss: 0.3014 - val_acc: 0.8723\n",
            "Epoch 179/200\n",
            "378/377 [==============================] - 30s 80ms/step - loss: 0.2772 - acc: 0.8884 - val_loss: 0.2914 - val_acc: 0.8762\n",
            "Epoch 180/200\n",
            "378/377 [==============================] - 30s 80ms/step - loss: 0.2730 - acc: 0.8839 - val_loss: 0.2873 - val_acc: 0.8789\n",
            "Epoch 181/200\n",
            "378/377 [==============================] - 30s 79ms/step - loss: 0.2702 - acc: 0.8868 - val_loss: 0.2876 - val_acc: 0.8789\n",
            "Epoch 182/200\n",
            "378/377 [==============================] - 30s 79ms/step - loss: 0.2718 - acc: 0.8864 - val_loss: 0.2887 - val_acc: 0.8802\n",
            "Epoch 183/200\n",
            "378/377 [==============================] - 30s 81ms/step - loss: 0.3197 - acc: 0.8697 - val_loss: 0.3073 - val_acc: 0.8716\n",
            "Epoch 184/200\n",
            "378/377 [==============================] - 30s 79ms/step - loss: 0.2903 - acc: 0.8813 - val_loss: 0.3065 - val_acc: 0.8733\n",
            "Epoch 185/200\n",
            "378/377 [==============================] - 30s 79ms/step - loss: 0.2877 - acc: 0.8848 - val_loss: 0.2860 - val_acc: 0.8776\n",
            "Epoch 186/200\n",
            "378/377 [==============================] - 30s 79ms/step - loss: 0.2734 - acc: 0.8873 - val_loss: 0.2978 - val_acc: 0.8716\n",
            "Epoch 187/200\n",
            "378/377 [==============================] - 30s 79ms/step - loss: 0.2698 - acc: 0.8895 - val_loss: 0.2746 - val_acc: 0.8835\n",
            "Epoch 188/200\n",
            "378/377 [==============================] - 30s 79ms/step - loss: 0.2706 - acc: 0.8914 - val_loss: 0.2895 - val_acc: 0.8819\n",
            "Epoch 189/200\n",
            "378/377 [==============================] - 30s 79ms/step - loss: 0.2713 - acc: 0.8885 - val_loss: 0.2987 - val_acc: 0.8709\n",
            "Epoch 190/200\n",
            "378/377 [==============================] - 30s 80ms/step - loss: 0.2730 - acc: 0.8872 - val_loss: 0.2908 - val_acc: 0.8819\n",
            "Epoch 191/200\n",
            "378/377 [==============================] - 30s 79ms/step - loss: 0.2719 - acc: 0.8896 - val_loss: 0.2845 - val_acc: 0.8835\n",
            "Epoch 192/200\n",
            "378/377 [==============================] - 30s 78ms/step - loss: 0.2741 - acc: 0.8859 - val_loss: 0.2957 - val_acc: 0.8789\n",
            "Epoch 193/200\n",
            "378/377 [==============================] - 30s 80ms/step - loss: 0.2757 - acc: 0.8861 - val_loss: 0.2841 - val_acc: 0.8782\n",
            "Epoch 194/200\n",
            "378/377 [==============================] - 30s 80ms/step - loss: 0.2691 - acc: 0.8884 - val_loss: 0.2914 - val_acc: 0.8789\n",
            "Epoch 195/200\n",
            "378/377 [==============================] - 30s 79ms/step - loss: 0.2670 - acc: 0.8901 - val_loss: 0.2859 - val_acc: 0.8799\n",
            "Epoch 196/200\n",
            "378/377 [==============================] - 30s 79ms/step - loss: 0.2669 - acc: 0.8889 - val_loss: 0.2806 - val_acc: 0.8769\n",
            "Epoch 197/200\n",
            "378/377 [==============================] - 30s 80ms/step - loss: 0.2661 - acc: 0.8891 - val_loss: 0.2792 - val_acc: 0.8855\n",
            "Epoch 198/200\n",
            "378/377 [==============================] - 30s 79ms/step - loss: 0.2644 - acc: 0.8905 - val_loss: 0.2896 - val_acc: 0.8749\n",
            "Epoch 199/200\n",
            "378/377 [==============================] - 30s 80ms/step - loss: 0.2735 - acc: 0.8872 - val_loss: 0.2828 - val_acc: 0.8835\n",
            "Epoch 200/200\n",
            "378/377 [==============================] - 30s 81ms/step - loss: 0.2738 - acc: 0.8865 - val_loss: 0.2875 - val_acc: 0.8792\n"
          ],
          "name": "stdout"
        }
      ]
    },
    {
      "cell_type": "code",
      "metadata": {
        "id": "-ntn--ETsGAg",
        "colab_type": "code",
        "colab": {}
      },
      "source": [
        "def plot_cm(cm, classes, normalize=False, title='Confusion matrix', cmap=plt.cm.Blues):\n",
        "    plt.figure(figsize = (5,5))\n",
        "    plt.imshow(cm, interpolation='nearest', cmap=cmap)\n",
        "    plt.title(title)\n",
        "    plt.colorbar()\n",
        "    tick_marks = np.arange(len(classes))\n",
        "    plt.xticks(tick_marks, classes, rotation=90)\n",
        "    plt.yticks(tick_marks, classes)\n",
        "    if normalize:\n",
        "        cm = cm.astype('float') / cm.sum(axis=1)[:, np.newaxis]\n",
        "\n",
        "    thresh = cm.max() / 2.\n",
        "    for i, j in itertools.product(range(cm.shape[0]), range(cm.shape[1])):\n",
        "        plt.text(j, i, cm[i, j],\n",
        "                 horizontalalignment=\"center\",\n",
        "                 verticalalignment = \"center\",\n",
        "                 color=\"white\" if cm[i, j] > thresh else \"black\")\n",
        "    plt.tight_layout()\n",
        "    plt.ylabel('True label')\n",
        "    plt.xlabel('Predicted label')\n",
        "    \n",
        "def plot_lc(history):\n",
        "    plt.figure(figsize=(8,8))\n",
        "    plt.subplot(1,2,1)\n",
        "    plt.plot(history.history['acc'])\n",
        "    plt.plot(history.history['val_acc'])\n",
        "    plt.title('model accuracy')\n",
        "    plt.ylabel('accuracy')\n",
        "    plt.xlabel('epoch')\n",
        "    plt.legend(['train', 'validation'], loc='upper left')\n",
        "    plt.savefig('./accuracy_curve.png')\n",
        "    plt.subplot(1,2,2)\n",
        "    plt.plot(history.history['loss'])\n",
        "    plt.plot(history.history['val_loss'])\n",
        "    plt.title('model loss')\n",
        "    plt.ylabel('loss')\n",
        "    plt.xlabel('epoch')\n",
        "    plt.legend(['train', 'validation'], loc='upper left')\n",
        "    "
      ],
      "execution_count": 0,
      "outputs": []
    },
    {
      "cell_type": "code",
      "metadata": {
        "id": "6ibjkxGesJ9F",
        "colab_type": "code",
        "outputId": "9b88c65c-ff91-4067-f0bc-240836145bcf",
        "colab": {
          "base_uri": "https://localhost:8080/",
          "height": 51
        }
      },
      "source": [
        "score = model.evaluate(X_test_reshape,y_test_c)\n",
        "print(score)"
      ],
      "execution_count": 0,
      "outputs": [
        {
          "output_type": "stream",
          "text": [
            "3778/3778 [==============================] - 2s 516us/step\n",
            "[0.284719367706315, 0.8800952885124405]\n"
          ],
          "name": "stdout"
        }
      ]
    },
    {
      "cell_type": "code",
      "metadata": {
        "id": "W0HdfznRlhQA",
        "colab_type": "code",
        "outputId": "701cb153-74b0-49a1-84d4-665d13331800",
        "colab": {
          "base_uri": "https://localhost:8080/",
          "height": 88
        }
      },
      "source": [
        "from sklearn.externals import joblib\n",
        "joblib.dump(model, \"resnet.m\")"
      ],
      "execution_count": 0,
      "outputs": [
        {
          "output_type": "stream",
          "text": [
            "/usr/local/lib/python3.6/dist-packages/sklearn/externals/joblib/__init__.py:15: DeprecationWarning: sklearn.externals.joblib is deprecated in 0.21 and will be removed in 0.23. Please import this functionality directly from joblib, which can be installed with: pip install joblib. If this warning is raised when loading pickled models, you may need to re-serialize those models with scikit-learn 0.21+.\n",
            "  warnings.warn(msg, category=DeprecationWarning)\n"
          ],
          "name": "stderr"
        },
        {
          "output_type": "execute_result",
          "data": {
            "text/plain": [
              "['resnet.m']"
            ]
          },
          "metadata": {
            "tags": []
          },
          "execution_count": 117
        }
      ]
    },
    {
      "cell_type": "code",
      "metadata": {
        "id": "EzPBrOQdsLmt",
        "colab_type": "code",
        "outputId": "922e0542-3f80-44d2-a8eb-2fdcbb7438ea",
        "colab": {
          "base_uri": "https://localhost:8080/",
          "height": 865
        }
      },
      "source": [
        "import itertools\n",
        "from sklearn.metrics import confusion_matrix, make_scorer, accuracy_score\n",
        "y_pred = model.predict(X_test_reshape)\n",
        "Y_pred_classes = np.argmax(y_pred,axis=1) \n",
        "Y_true = np.argmax(y_test_c,axis=1)\n",
        "dict_characters = {0: 'IDC(-)', 1: 'IDC(+)'}\n",
        "confusion_mtx = confusion_matrix(Y_true, Y_pred_classes) \n",
        "plot_cm(confusion_mtx, classes = list(dict_characters.values())) \n",
        "plt.show()\n",
        "plot_lc(history)\n",
        "plt.show()"
      ],
      "execution_count": 0,
      "outputs": [
        {
          "output_type": "display_data",
          "data": {
            "image/png": "[encoded data removed]",
            "text/plain": [
              "<Figure size 360x360 with 2 Axes>"
            ]
          },
          "metadata": {
            "tags": []
          }
        },
        {
          "output_type": "display_data",
          "data": {
            "image/png": "[encoded data removed]",
            "text/plain": [
              "<Figure size 576x576 with 2 Axes>"
            ]
          },
          "metadata": {
            "tags": []
          }
        }
      ]
    },
    {
      "cell_type": "code",
      "metadata": {
        "id": "zkQT8pU_Wlcq",
        "colab_type": "code",
        "outputId": "41a7151c-e770-436b-9b68-c3bc653d21c1",
        "colab": {
          "base_uri": "https://localhost:8080/",
          "height": 204
        }
      },
      "source": [
        "print(confusion_matrix(Y_true, Y_pred_classes))\n",
        "\n",
        "from sklearn import metrics\n",
        "print(metrics.classification_report(Y_true, Y_pred_classes))\n"
      ],
      "execution_count": 0,
      "outputs": [
        {
          "output_type": "stream",
          "text": [
            "[[1633  242]\n",
            " [ 211 1692]]\n",
            "              precision    recall  f1-score   support\n",
            "\n",
            "           0       0.89      0.87      0.88      1875\n",
            "           1       0.87      0.89      0.88      1903\n",
            "\n",
            "    accuracy                           0.88      3778\n",
            "   macro avg       0.88      0.88      0.88      3778\n",
            "weighted avg       0.88      0.88      0.88      3778\n",
            "\n"
          ],
          "name": "stdout"
        }
      ]
    },
    {
      "cell_type": "code",
      "metadata": {
        "id": "3DOuiIo1SMoF",
        "colab_type": "code",
        "outputId": "e189a0b0-d716-4764-cb13-f5c197980ddd",
        "colab": {
          "base_uri": "https://localhost:8080/",
          "height": 51
        }
      },
      "source": [
        "cm= confusion_matrix(Y_true, Y_pred_classes)\n",
        "sensitivity= cm[1,1]/(cm[1,1]+cm[1,0])\n",
        "print('Sensitivity : ', sensitivity )\n",
        "secificity= cm[0,0]/(cm[0,0]+cm[0,1])\n",
        "print('Specificity : ',secificity)"
      ],
      "execution_count": 0,
      "outputs": [
        {
          "output_type": "stream",
          "text": [
            "Sensitivity :  0.8891224382553863\n",
            "Specificity :  0.8709333333333333\n"
          ],
          "name": "stdout"
        }
      ]
    },
    {
      "cell_type": "code",
      "metadata": {
        "id": "YN05OyFEbdQ1",
        "colab_type": "code",
        "outputId": "87052842-fd95-47dc-d330-4fadcf148bf6",
        "colab": {
          "base_uri": "https://localhost:8080/",
          "height": 34
        }
      },
      "source": [
        "from sklearn.metrics import auc,roc_curve\n",
        "\n",
        "#  ROC curve\n",
        "fpr, tpr, thresholds = roc_curve(Y_true, y_pred[:,1], pos_label=1)\n",
        "\n",
        "#  AUC\n",
        "pred_score = auc(fpr, tpr)\n",
        "print(f'Area Under Curve is {pred_score}')"
      ],
      "execution_count": 0,
      "outputs": [
        {
          "output_type": "stream",
          "text": [
            "Area Under Curve is 0.9527732352425993\n"
          ],
          "name": "stdout"
        }
      ]
    },
    {
      "cell_type": "code",
      "metadata": {
        "id": "GomF_wl6OfoT",
        "colab_type": "code",
        "outputId": "8c85f2ac-163c-4cee-fccf-4d50492216b0",
        "colab": {
          "base_uri": "https://localhost:8080/",
          "height": 312
        }
      },
      "source": [
        "plt.figure()\n",
        "plt.plot(fpr, tpr, color='orange', label='ROC curve (area = %0.2f)' % pred_score)\n",
        "plt.plot([0, 1], [0, 1], color='navy', linestyle='--')\n",
        "plt.xlim([-0.01, 1.0])\n",
        "plt.ylim([0.0, 1.01])\n",
        "plt.xlabel('False Positive Rate')\n",
        "plt.ylabel('True Positive Rate')\n",
        "plt.title('ROC curve of ResNet50 ')\n",
        "plt.legend(loc=\"lower right\")"
      ],
      "execution_count": 0,
      "outputs": [
        {
          "output_type": "execute_result",
          "data": {
            "text/plain": [
              "<matplotlib.legend.Legend at 0x7f8b984cdb70>"
            ]
          },
          "metadata": {
            "tags": []
          },
          "execution_count": 30
        },
        {
          "output_type": "display_data",
          "data": {
            "image/png": "[encoded data removed]",
            "text/plain": [
              "<Figure size 432x288 with 1 Axes>"
            ]
          },
          "metadata": {
            "tags": []
          }
        }
      ]
    },
    {
      "cell_type": "code",
      "metadata": {
        "id": "eGxdXvhDOicq",
        "colab_type": "code",
        "outputId": "c1f608c2-b3a2-4e38-aaf6-c899e5ee40e0",
        "colab": {
          "base_uri": "https://localhost:8080/",
          "height": 255
        }
      },
      "source": [
        "pred = model.predict(X_test_reshape)\n",
        "pred_x = []\n",
        "for i in range(len(pred)):\n",
        "  if pred[i,1]>0.5:\n",
        "    pred_x.append(1)\n",
        "  else:\n",
        "    pred_x.append(0)\n",
        "\n",
        "a = []\n",
        "b = 0\n",
        "for i in range(len(pred)):\n",
        "  if pred_x[i] == y_test_c[i,1]:\n",
        "    a.append('yes')\n",
        "    b=b+1\n",
        "  else:\n",
        "    a.append('no')\n",
        "type(a)\n",
        "df = pd.DataFrame(a, columns=['ResNet'])\n",
        "print(df)\n",
        "df.to_csv('resnet_yes-no.csv', index=False, header=True)"
      ],
      "execution_count": 0,
      "outputs": [
        {
          "output_type": "stream",
          "text": [
            "     ResNet\n",
            "0       yes\n",
            "1       yes\n",
            "2       yes\n",
            "3       yes\n",
            "4       yes\n",
            "...     ...\n",
            "3773    yes\n",
            "3774    yes\n",
            "3775     no\n",
            "3776    yes\n",
            "3777     no\n",
            "\n",
            "[3778 rows x 1 columns]\n"
          ],
          "name": "stdout"
        }
      ]
    },
    {
      "cell_type": "code",
      "metadata": {
        "id": "c5rehfCSAf1d",
        "colab_type": "code",
        "colab": {}
      },
      "source": [
        "X_10253=np.load('./X_patient10253_CNN.npy')\n",
        "XX_10253 = X_10253/255"
      ],
      "execution_count": 0,
      "outputs": []
    },
    {
      "cell_type": "code",
      "metadata": {
        "id": "un6Pm_8FH9ih",
        "colab_type": "code",
        "colab": {}
      },
      "source": [
        "y_pred_10253=model.predict(XX_10253)\n",
        "np.save('./y_pred_10253_resnet.npy',y_pred_10253)"
      ],
      "execution_count": 0,
      "outputs": []
    },
    {
      "cell_type": "code",
      "metadata": {
        "id": "XkG8T9kEIEBF",
        "colab_type": "code",
        "colab": {}
      },
      "source": [
        "y_pred_10253=np.load('y_pred_10253_resnet.npy')"
      ],
      "execution_count": 0,
      "outputs": []
    },
    {
      "cell_type": "code",
      "metadata": {
        "id": "cf0IZfwOIWZ1",
        "colab_type": "code",
        "outputId": "f4b37f12-3874-466a-eef8-62ac1be5f1b1",
        "colab": {
          "base_uri": "https://localhost:8080/",
          "height": 187
        }
      },
      "source": [
        "print(y_pred_10253[0:10])"
      ],
      "execution_count": 0,
      "outputs": [
        {
          "output_type": "stream",
          "text": [
            "[[0.8865427  0.11345732]\n",
            " [0.9375479  0.06245203]\n",
            " [0.58279335 0.41720665]\n",
            " [0.66194606 0.33805394]\n",
            " [0.9868851  0.01311487]\n",
            " [0.8123106  0.18768944]\n",
            " [0.97438395 0.02561603]\n",
            " [0.7818835  0.21811654]\n",
            " [0.56929797 0.43070203]\n",
            " [0.92151237 0.0784877 ]]\n"
          ],
          "name": "stdout"
        }
      ]
    },
    {
      "cell_type": "code",
      "metadata": {
        "id": "-J96wNCrIbQk",
        "colab_type": "code",
        "colab": {}
      },
      "source": [
        "label=[]\n",
        "i=0\n",
        "for line in y_pred_10253:\n",
        "  if line[0]>=0.5:\n",
        "    label.append(0)\n",
        "  else:\n",
        "    label.append(1)\n",
        "  i=i+1"
      ],
      "execution_count": 0,
      "outputs": []
    },
    {
      "cell_type": "code",
      "metadata": {
        "id": "QKrjKcGOIu-5",
        "colab_type": "code",
        "colab": {}
      },
      "source": [
        "y_pred_10253_new=np.c_[y_pred_10253,label]"
      ],
      "execution_count": 0,
      "outputs": []
    },
    {
      "cell_type": "code",
      "metadata": {
        "id": "5awsh5DPIxyy",
        "colab_type": "code",
        "colab": {}
      },
      "source": [
        "example_df=pd.read_pickle(\"patient10253_coordinate.pkl\")\n",
        "example_df['target_new']=y_pred_10253_new[:,2].tolist()"
      ],
      "execution_count": 0,
      "outputs": []
    },
    {
      "cell_type": "code",
      "metadata": {
        "id": "o6nA_YXyMHjC",
        "colab_type": "code",
        "outputId": "2474c9d5-7c4e-448a-c636-6ff0e745d1b8",
        "colab": {
          "base_uri": "https://localhost:8080/",
          "height": 419
        }
      },
      "source": [
        "example_df[\"target_new\"]=example_df['target_new'].astype(int)\n",
        "example_df"
      ],
      "execution_count": 0,
      "outputs": [
        {
          "output_type": "execute_result",
          "data": {
            "text/html": [
              "<div>\n",
              "<style scoped>\n",
              "    .dataframe tbody tr th:only-of-type {\n",
              "        vertical-align: middle;\n",
              "    }\n",
              "\n",
              "    .dataframe tbody tr th {\n",
              "        vertical-align: top;\n",
              "    }\n",
              "\n",
              "    .dataframe thead th {\n",
              "        text-align: right;\n",
              "    }\n",
              "</style>\n",
              "<table border=\"1\" class=\"dataframe\">\n",
              "  <thead>\n",
              "    <tr style=\"text-align: right;\">\n",
              "      <th></th>\n",
              "      <th>x</th>\n",
              "      <th>y</th>\n",
              "      <th>target</th>\n",
              "      <th>path</th>\n",
              "      <th>target_new</th>\n",
              "    </tr>\n",
              "  </thead>\n",
              "  <tbody>\n",
              "    <tr>\n",
              "      <th>0</th>\n",
              "      <td>1001</td>\n",
              "      <td>1001</td>\n",
              "      <td>0</td>\n",
              "      <td>/content/drive/My Drive/IDC_regular_ps50_idx5/...</td>\n",
              "      <td>0</td>\n",
              "    </tr>\n",
              "    <tr>\n",
              "      <th>1</th>\n",
              "      <td>1001</td>\n",
              "      <td>1151</td>\n",
              "      <td>0</td>\n",
              "      <td>/content/drive/My Drive/IDC_regular_ps50_idx5/...</td>\n",
              "      <td>0</td>\n",
              "    </tr>\n",
              "    <tr>\n",
              "      <th>2</th>\n",
              "      <td>1001</td>\n",
              "      <td>1551</td>\n",
              "      <td>0</td>\n",
              "      <td>/content/drive/My Drive/IDC_regular_ps50_idx5/...</td>\n",
              "      <td>0</td>\n",
              "    </tr>\n",
              "    <tr>\n",
              "      <th>3</th>\n",
              "      <td>1001</td>\n",
              "      <td>1201</td>\n",
              "      <td>0</td>\n",
              "      <td>/content/drive/My Drive/IDC_regular_ps50_idx5/...</td>\n",
              "      <td>0</td>\n",
              "    </tr>\n",
              "    <tr>\n",
              "      <th>4</th>\n",
              "      <td>1001</td>\n",
              "      <td>1301</td>\n",
              "      <td>0</td>\n",
              "      <td>/content/drive/My Drive/IDC_regular_ps50_idx5/...</td>\n",
              "      <td>0</td>\n",
              "    </tr>\n",
              "    <tr>\n",
              "      <th>...</th>\n",
              "      <td>...</td>\n",
              "      <td>...</td>\n",
              "      <td>...</td>\n",
              "      <td>...</td>\n",
              "      <td>...</td>\n",
              "    </tr>\n",
              "    <tr>\n",
              "      <th>65</th>\n",
              "      <td>851</td>\n",
              "      <td>501</td>\n",
              "      <td>1</td>\n",
              "      <td>/content/drive/My Drive/IDC_regular_ps50_idx5/...</td>\n",
              "      <td>1</td>\n",
              "    </tr>\n",
              "    <tr>\n",
              "      <th>66</th>\n",
              "      <td>851</td>\n",
              "      <td>751</td>\n",
              "      <td>1</td>\n",
              "      <td>/content/drive/My Drive/IDC_regular_ps50_idx5/...</td>\n",
              "      <td>0</td>\n",
              "    </tr>\n",
              "    <tr>\n",
              "      <th>67</th>\n",
              "      <td>851</td>\n",
              "      <td>551</td>\n",
              "      <td>1</td>\n",
              "      <td>/content/drive/My Drive/IDC_regular_ps50_idx5/...</td>\n",
              "      <td>0</td>\n",
              "    </tr>\n",
              "    <tr>\n",
              "      <th>68</th>\n",
              "      <td>851</td>\n",
              "      <td>651</td>\n",
              "      <td>1</td>\n",
              "      <td>/content/drive/My Drive/IDC_regular_ps50_idx5/...</td>\n",
              "      <td>0</td>\n",
              "    </tr>\n",
              "    <tr>\n",
              "      <th>69</th>\n",
              "      <td>901</td>\n",
              "      <td>351</td>\n",
              "      <td>1</td>\n",
              "      <td>/content/drive/My Drive/IDC_regular_ps50_idx5/...</td>\n",
              "      <td>0</td>\n",
              "    </tr>\n",
              "  </tbody>\n",
              "</table>\n",
              "<p>549 rows × 5 columns</p>\n",
              "</div>"
            ],
            "text/plain": [
              "       x     y  ...                                               path target_new\n",
              "0   1001  1001  ...  /content/drive/My Drive/IDC_regular_ps50_idx5/...          0\n",
              "1   1001  1151  ...  /content/drive/My Drive/IDC_regular_ps50_idx5/...          0\n",
              "2   1001  1551  ...  /content/drive/My Drive/IDC_regular_ps50_idx5/...          0\n",
              "3   1001  1201  ...  /content/drive/My Drive/IDC_regular_ps50_idx5/...          0\n",
              "4   1001  1301  ...  /content/drive/My Drive/IDC_regular_ps50_idx5/...          0\n",
              "..   ...   ...  ...                                                ...        ...\n",
              "65   851   501  ...  /content/drive/My Drive/IDC_regular_ps50_idx5/...          1\n",
              "66   851   751  ...  /content/drive/My Drive/IDC_regular_ps50_idx5/...          0\n",
              "67   851   551  ...  /content/drive/My Drive/IDC_regular_ps50_idx5/...          0\n",
              "68   851   651  ...  /content/drive/My Drive/IDC_regular_ps50_idx5/...          0\n",
              "69   901   351  ...  /content/drive/My Drive/IDC_regular_ps50_idx5/...          0\n",
              "\n",
              "[549 rows x 5 columns]"
            ]
          },
          "metadata": {
            "tags": []
          },
          "execution_count": 101
        }
      ]
    },
    {
      "cell_type": "code",
      "metadata": {
        "id": "r_6UuMyfMalK",
        "colab_type": "code",
        "colab": {}
      },
      "source": [
        "from pandas import api \n",
        "from pandas.api import types \n",
        "from pandas.api.types import is_numeric_dtype"
      ],
      "execution_count": 0,
      "outputs": []
    },
    {
      "cell_type": "code",
      "metadata": {
        "id": "nYhh0l6UMdl-",
        "colab_type": "code",
        "outputId": "6310c46d-4698-4fcc-f5e0-1329e3948c11",
        "colab": {
          "base_uri": "https://localhost:8080/",
          "height": 281
        }
      },
      "source": [
        "import numpy as np\n",
        "\n",
        "import matplotlib.pyplot as plt\n",
        "from  matplotlib.pyplot import scatter\n",
        "\n",
        "x=example_df['x']\n",
        "y=example_df['y']\n",
        "data = example_df[['x','y', 'target_new']]\n",
        "colors = (\"grey\", \"red\")\n",
        "groups = (\"0\",\"1\")\n",
        "\n",
        "# Create plot\n",
        "fig = plt.figure()\n",
        "ax = fig.add_subplot()\n",
        "ax.scatter(x,y, alpha=0.8, edgecolor='none', s=30, c=data.target_new )\n",
        "#for data, color, group in zip(data, colors, groups):\n",
        "# x,y=data\n",
        "#  ax.scatter(x, y, alpha=0.8, c=colors, edgecolor='none', s=30, label=group)\n",
        "plt.title('patient 10253 _predicted')\n",
        "\n",
        "\n",
        "plt.show()"
      ],
      "execution_count": 0,
      "outputs": [
        {
          "output_type": "display_data",
          "data": {
            "image/png": "[encoded data removed]",
            "text/plain": [
              "<Figure size 432x288 with 1 Axes>"
            ]
          },
          "metadata": {
            "tags": []
          }
        }
      ]
    },
    {
      "cell_type": "code",
      "metadata": {
        "id": "9xa1YcbzMhO9",
        "colab_type": "code",
        "colab": {}
      },
      "source": [
        "X_12242=np.load('./X_patient12242.npy')\n",
        "XX_12242 = X_12242/255"
      ],
      "execution_count": 0,
      "outputs": []
    },
    {
      "cell_type": "code",
      "metadata": {
        "id": "DZ7iw8r-XoBI",
        "colab_type": "code",
        "colab": {}
      },
      "source": [
        "y_pred_12242=model.predict(XX_12242)\n",
        "np.save('./y_pred_12242_resnet.npy',y_pred_12242)"
      ],
      "execution_count": 0,
      "outputs": []
    },
    {
      "cell_type": "code",
      "metadata": {
        "id": "DqXXkVIHX0V3",
        "colab_type": "code",
        "colab": {}
      },
      "source": [
        "y_pred_12242=np.load('y_pred_12242_resnet.npy')"
      ],
      "execution_count": 0,
      "outputs": []
    },
    {
      "cell_type": "code",
      "metadata": {
        "id": "Ovk_RuVOYOc0",
        "colab_type": "code",
        "outputId": "e228d00d-1cb4-4670-ab74-4dd550ba80ef",
        "colab": {
          "base_uri": "https://localhost:8080/",
          "height": 187
        }
      },
      "source": [
        "print(y_pred_12242[0:10])"
      ],
      "execution_count": 0,
      "outputs": [
        {
          "output_type": "stream",
          "text": [
            "[[1.0000000e+00 2.6041946e-10]\n",
            " [4.2398074e-01 5.7601929e-01]\n",
            " [7.5701874e-01 2.4298123e-01]\n",
            " [8.4219199e-01 1.5780796e-01]\n",
            " [4.1372102e-01 5.8627903e-01]\n",
            " [3.6646408e-01 6.3353598e-01]\n",
            " [9.7564214e-01 2.4357937e-02]\n",
            " [8.1949210e-01 1.8050787e-01]\n",
            " [8.6795169e-01 1.3204834e-01]\n",
            " [8.3419633e-01 1.6580369e-01]]\n"
          ],
          "name": "stdout"
        }
      ]
    },
    {
      "cell_type": "code",
      "metadata": {
        "id": "BU64aik5YQd8",
        "colab_type": "code",
        "colab": {}
      },
      "source": [
        "label1=[]\n",
        "i=0\n",
        "for line in y_pred_12242:\n",
        "  if line[0]>=0.5:\n",
        "    label1.append(0)\n",
        "  else:\n",
        "    label1.append(1)\n",
        "  i=i+1"
      ],
      "execution_count": 0,
      "outputs": []
    },
    {
      "cell_type": "code",
      "metadata": {
        "id": "I9XeFCUzYYXc",
        "colab_type": "code",
        "colab": {}
      },
      "source": [
        "y_pred_12242_new=np.c_[y_pred_12242,label1]"
      ],
      "execution_count": 0,
      "outputs": []
    },
    {
      "cell_type": "code",
      "metadata": {
        "id": "SARxpIPYYAGv",
        "colab_type": "code",
        "colab": {}
      },
      "source": [
        "example_df=pd.read_pickle(\"patient12242_coordinate.pkl\")\n",
        "example_df['target_new']=y_pred_12242_new[:,2].tolist()"
      ],
      "execution_count": 0,
      "outputs": []
    },
    {
      "cell_type": "code",
      "metadata": {
        "id": "FyFluMULYhuH",
        "colab_type": "code",
        "outputId": "60214d28-7566-4615-89e6-9fcc15875898",
        "colab": {
          "base_uri": "https://localhost:8080/",
          "height": 419
        }
      },
      "source": [
        "example_df[\"target_new\"]=example_df['target_new'].astype(int)\n",
        "example_df"
      ],
      "execution_count": 0,
      "outputs": [
        {
          "output_type": "execute_result",
          "data": {
            "text/html": [
              "<div>\n",
              "<style scoped>\n",
              "    .dataframe tbody tr th:only-of-type {\n",
              "        vertical-align: middle;\n",
              "    }\n",
              "\n",
              "    .dataframe tbody tr th {\n",
              "        vertical-align: top;\n",
              "    }\n",
              "\n",
              "    .dataframe thead th {\n",
              "        text-align: right;\n",
              "    }\n",
              "</style>\n",
              "<table border=\"1\" class=\"dataframe\">\n",
              "  <thead>\n",
              "    <tr style=\"text-align: right;\">\n",
              "      <th></th>\n",
              "      <th>x</th>\n",
              "      <th>y</th>\n",
              "      <th>target</th>\n",
              "      <th>path</th>\n",
              "      <th>target_new</th>\n",
              "    </tr>\n",
              "  </thead>\n",
              "  <tbody>\n",
              "    <tr>\n",
              "      <th>0</th>\n",
              "      <td>1001</td>\n",
              "      <td>251</td>\n",
              "      <td>0</td>\n",
              "      <td>/content/drive/My Drive/IDC/12242/0/12242_idx5...</td>\n",
              "      <td>0</td>\n",
              "    </tr>\n",
              "    <tr>\n",
              "      <th>1</th>\n",
              "      <td>1001</td>\n",
              "      <td>301</td>\n",
              "      <td>0</td>\n",
              "      <td>/content/drive/My Drive/IDC/12242/0/12242_idx5...</td>\n",
              "      <td>1</td>\n",
              "    </tr>\n",
              "    <tr>\n",
              "      <th>2</th>\n",
              "      <td>1001</td>\n",
              "      <td>451</td>\n",
              "      <td>0</td>\n",
              "      <td>/content/drive/My Drive/IDC/12242/0/12242_idx5...</td>\n",
              "      <td>0</td>\n",
              "    </tr>\n",
              "    <tr>\n",
              "      <th>3</th>\n",
              "      <td>1001</td>\n",
              "      <td>401</td>\n",
              "      <td>0</td>\n",
              "      <td>/content/drive/My Drive/IDC/12242/0/12242_idx5...</td>\n",
              "      <td>0</td>\n",
              "    </tr>\n",
              "    <tr>\n",
              "      <th>4</th>\n",
              "      <td>1001</td>\n",
              "      <td>351</td>\n",
              "      <td>0</td>\n",
              "      <td>/content/drive/My Drive/IDC/12242/0/12242_idx5...</td>\n",
              "      <td>1</td>\n",
              "    </tr>\n",
              "    <tr>\n",
              "      <th>...</th>\n",
              "      <td>...</td>\n",
              "      <td>...</td>\n",
              "      <td>...</td>\n",
              "      <td>...</td>\n",
              "      <td>...</td>\n",
              "    </tr>\n",
              "    <tr>\n",
              "      <th>424</th>\n",
              "      <td>2501</td>\n",
              "      <td>951</td>\n",
              "      <td>1</td>\n",
              "      <td>/content/drive/My Drive/IDC/12242/1/12242_idx5...</td>\n",
              "      <td>0</td>\n",
              "    </tr>\n",
              "    <tr>\n",
              "      <th>425</th>\n",
              "      <td>2451</td>\n",
              "      <td>851</td>\n",
              "      <td>1</td>\n",
              "      <td>/content/drive/My Drive/IDC/12242/1/12242_idx5...</td>\n",
              "      <td>0</td>\n",
              "    </tr>\n",
              "    <tr>\n",
              "      <th>426</th>\n",
              "      <td>2451</td>\n",
              "      <td>951</td>\n",
              "      <td>1</td>\n",
              "      <td>/content/drive/My Drive/IDC/12242/1/12242_idx5...</td>\n",
              "      <td>1</td>\n",
              "    </tr>\n",
              "    <tr>\n",
              "      <th>427</th>\n",
              "      <td>2451</td>\n",
              "      <td>901</td>\n",
              "      <td>1</td>\n",
              "      <td>/content/drive/My Drive/IDC/12242/1/12242_idx5...</td>\n",
              "      <td>1</td>\n",
              "    </tr>\n",
              "    <tr>\n",
              "      <th>428</th>\n",
              "      <td>2501</td>\n",
              "      <td>901</td>\n",
              "      <td>1</td>\n",
              "      <td>/content/drive/My Drive/IDC/12242/1/12242_idx5...</td>\n",
              "      <td>0</td>\n",
              "    </tr>\n",
              "  </tbody>\n",
              "</table>\n",
              "<p>1097 rows × 5 columns</p>\n",
              "</div>"
            ],
            "text/plain": [
              "        x    y  ...                                               path target_new\n",
              "0    1001  251  ...  /content/drive/My Drive/IDC/12242/0/12242_idx5...          0\n",
              "1    1001  301  ...  /content/drive/My Drive/IDC/12242/0/12242_idx5...          1\n",
              "2    1001  451  ...  /content/drive/My Drive/IDC/12242/0/12242_idx5...          0\n",
              "3    1001  401  ...  /content/drive/My Drive/IDC/12242/0/12242_idx5...          0\n",
              "4    1001  351  ...  /content/drive/My Drive/IDC/12242/0/12242_idx5...          1\n",
              "..    ...  ...  ...                                                ...        ...\n",
              "424  2501  951  ...  /content/drive/My Drive/IDC/12242/1/12242_idx5...          0\n",
              "425  2451  851  ...  /content/drive/My Drive/IDC/12242/1/12242_idx5...          0\n",
              "426  2451  951  ...  /content/drive/My Drive/IDC/12242/1/12242_idx5...          1\n",
              "427  2451  901  ...  /content/drive/My Drive/IDC/12242/1/12242_idx5...          1\n",
              "428  2501  901  ...  /content/drive/My Drive/IDC/12242/1/12242_idx5...          0\n",
              "\n",
              "[1097 rows x 5 columns]"
            ]
          },
          "metadata": {
            "tags": []
          },
          "execution_count": 113
        }
      ]
    },
    {
      "cell_type": "code",
      "metadata": {
        "id": "sKX41hEDYkvl",
        "colab_type": "code",
        "outputId": "2cefb016-eb61-4dde-8128-5d2dd480fdd3",
        "colab": {
          "base_uri": "https://localhost:8080/",
          "height": 281
        }
      },
      "source": [
        "import numpy as np\n",
        "\n",
        "import matplotlib.pyplot as plt\n",
        "from  matplotlib.pyplot import scatter\n",
        "\n",
        "x=example_df['x']\n",
        "y=example_df['y']\n",
        "data = example_df[['x','y', 'target_new']]\n",
        "colors = (\"grey\", \"red\")\n",
        "groups = (\"0\",\"1\")\n",
        "\n",
        "# Create plot\n",
        "fig = plt.figure()\n",
        "ax = fig.add_subplot()\n",
        "ax.scatter(x,y, alpha=0.8, edgecolor='none', s=30, c=data.target_new )\n",
        "#for data, color, group in zip(data, colors, groups):\n",
        "# x,y=data\n",
        "#  ax.scatter(x, y, alpha=0.8, c=colors, edgecolor='none', s=30, label=group)\n",
        "plt.title('patient 12242 _predicted')\n",
        "\n",
        "\n",
        "plt.show()"
      ],
      "execution_count": 0,
      "outputs": [
        {
          "output_type": "display_data",
          "data": {
            "image/png": "[encoded data removed]",
            "text/plain": [
              "<Figure size 432x288 with 1 Axes>"
            ]
          },
          "metadata": {
            "tags": []
          }
        }
      ]
    }
  ]
}