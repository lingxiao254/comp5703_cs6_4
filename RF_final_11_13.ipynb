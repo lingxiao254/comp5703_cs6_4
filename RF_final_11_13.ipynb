{
  "nbformat": 4,
  "nbformat_minor": 0,
  "metadata": {
    "colab": {
      "name": "RF_final_11.13.ipynb",
      "provenance": [],
      "collapsed_sections": []
    },
    "kernelspec": {
      "name": "python3",
      "display_name": "Python 3"
    },
    "accelerator": "GPU"
  },
  "cells": [
    {
      "cell_type": "code",
      "metadata": {
        "id": "kc_-QOokQYvq",
        "colab_type": "code",
        "colab": {}
      },
      "source": [
        "# Use GPU\n",
        "import os\n",
        "os.environ[\"CUDA_VISIBLE_DEVICES\"] = \"0\""
      ],
      "execution_count": 0,
      "outputs": []
    },
    {
      "cell_type": "code",
      "metadata": {
        "id": "Zi8z1jP-Qbrg",
        "colab_type": "code",
        "outputId": "43ae3c24-6e4a-430d-f5c3-56d93a3b4469",
        "colab": {
          "base_uri": "https://localhost:8080/",
          "height": 224
        }
      },
      "source": [
        "!apt-get install -y -qq software-properties-common python-software-properties module-init-tools\n",
        "!add-apt-repository -y ppa:alessandro-strada/ppa 2>&1 > /dev/null\n",
        "!apt-get update -qq 2>&1 > /dev/null\n",
        "!apt-get -y install -qq google-drive-ocamlfuse fuse\n",
        "from google.colab import auth\n",
        "auth.authenticate_user()\n",
        "from oauth2client.client import GoogleCredentials\n",
        "creds = GoogleCredentials.get_application_default()\n",
        "import getpass\n",
        "!google-drive-ocamlfuse -headless -id={creds.client_id} -secret={creds.client_secret} < /dev/null 2>&1 | grep URL\n",
        "vcode = getpass.getpass()\n",
        "!echo {vcode} | google-drive-ocamlfuse -headless -id={creds.client_id} -secret={creds.client_secret}"
      ],
      "execution_count": 0,
      "outputs": [
        {
          "output_type": "stream",
          "text": [
            "E: Package 'python-software-properties' has no installation candidate\n",
            "Selecting previously unselected package google-drive-ocamlfuse.\n",
            "(Reading database ... 132684 files and directories currently installed.)\n",
            "Preparing to unpack .../google-drive-ocamlfuse_0.7.13-0ubuntu1~ubuntu18.04.1_amd64.deb ...\n",
            "Unpacking google-drive-ocamlfuse (0.7.13-0ubuntu1~ubuntu18.04.1) ...\n",
            "Setting up google-drive-ocamlfuse (0.7.13-0ubuntu1~ubuntu18.04.1) ...\n",
            "Processing triggers for man-db (2.8.3-2ubuntu0.1) ...\n",
            "Please, open the following URL in a web browser: https://accounts.google.com/o/oauth2/auth?client_id=32555940559.apps.googleusercontent.com&redirect_uri=urn%3Aietf%3Awg%3Aoauth%3A2.0%3Aoob&scope=https%3A%2F%2Fwww.googleapis.com%2Fauth%2Fdrive&response_type=code&access_type=offline&approval_prompt=force\n",
            "··········\n",
            "Please, open the following URL in a web browser: https://accounts.google.com/o/oauth2/auth?client_id=32555940559.apps.googleusercontent.com&redirect_uri=urn%3Aietf%3Awg%3Aoauth%3A2.0%3Aoob&scope=https%3A%2F%2Fwww.googleapis.com%2Fauth%2Fdrive&response_type=code&access_type=offline&approval_prompt=force\n",
            "Please enter the verification code: Access token retrieved correctly.\n"
          ],
          "name": "stdout"
        }
      ]
    },
    {
      "cell_type": "code",
      "metadata": {
        "id": "ETJTTFblQf7K",
        "colab_type": "code",
        "colab": {}
      },
      "source": [
        "!mkdir -p drive\n",
        "!google-drive-ocamlfuse -o nonempty drive"
      ],
      "execution_count": 0,
      "outputs": []
    },
    {
      "cell_type": "code",
      "metadata": {
        "id": "-mqNC4RRQmmr",
        "colab_type": "code",
        "outputId": "60c6d3e6-8b21-41b4-def2-69354a06f012",
        "colab": {
          "base_uri": "https://localhost:8080/",
          "height": 122
        }
      },
      "source": [
        "from google.colab import drive\n",
        "drive.mount('/content/drive')"
      ],
      "execution_count": 0,
      "outputs": [
        {
          "output_type": "stream",
          "text": [
            "Go to this URL in a browser: https://accounts.google.com/o/oauth2/auth?client_id=947318989803-6bn6qk8qdgf4n4g3pfee6491hc0brc4i.apps.googleusercontent.com&redirect_uri=urn%3Aietf%3Awg%3Aoauth%3A2.0%3Aoob&scope=email%20https%3A%2F%2Fwww.googleapis.com%2Fauth%2Fdocs.test%20https%3A%2F%2Fwww.googleapis.com%2Fauth%2Fdrive%20https%3A%2F%2Fwww.googleapis.com%2Fauth%2Fdrive.photos.readonly%20https%3A%2F%2Fwww.googleapis.com%2Fauth%2Fpeopleapi.readonly&response_type=code\n",
            "\n",
            "Enter your authorization code:\n",
            "··········\n",
            "Mounted at /content/drive\n"
          ],
          "name": "stdout"
        }
      ]
    },
    {
      "cell_type": "code",
      "metadata": {
        "id": "t_1C_MzpRdfI",
        "colab_type": "code",
        "outputId": "bbbce317-5e24-420b-83ad-9b08ed39a28c",
        "colab": {
          "base_uri": "https://localhost:8080/",
          "height": 34
        }
      },
      "source": [
        "import os\n",
        "os.getcwd()\n",
        "os.chdir('/content/drive/My Drive/')\n",
        "os.getcwd()"
      ],
      "execution_count": 0,
      "outputs": [
        {
          "output_type": "execute_result",
          "data": {
            "text/plain": [
              "'/content/drive/My Drive'"
            ]
          },
          "metadata": {
            "tags": []
          },
          "execution_count": 5
        }
      ]
    },
    {
      "cell_type": "code",
      "metadata": {
        "id": "NBPIgrPuQmow",
        "colab_type": "code",
        "outputId": "765a9195-c4e9-4eec-ad9e-a92bcab5b3d1",
        "colab": {
          "base_uri": "https://localhost:8080/",
          "height": 71
        }
      },
      "source": [
        "#import library\n",
        "from glob import glob\n",
        "import pandas as pd\n",
        "import numpy as np\n",
        "import fnmatch\n",
        "import cv2\n",
        "from sklearn.model_selection import train_test_split\n",
        "from sklearn.model_selection import GridSearchCV\n",
        "from imblearn.under_sampling import RandomUnderSampler\n",
        "from sklearn.ensemble import RandomForestClassifier\n",
        "from sklearn.metrics import accuracy_score\n",
        "from sklearn.metrics import accuracy_score,confusion_matrix,classification_report\n",
        "from sklearn import metrics"
      ],
      "execution_count": 0,
      "outputs": [
        {
          "output_type": "stream",
          "text": [
            "/usr/local/lib/python3.6/dist-packages/sklearn/externals/six.py:31: DeprecationWarning: The module is deprecated in version 0.21 and will be removed in version 0.23 since we've dropped support for Python 2.7. Please rely on the official version of six (https://pypi.org/project/six/).\n",
            "  \"(https://pypi.org/project/six/).\", DeprecationWarning)\n"
          ],
          "name": "stderr"
        }
      ]
    },
    {
      "cell_type": "code",
      "metadata": {
        "id": "gsgYMDl2Qmq0",
        "colab_type": "code",
        "colab": {}
      },
      "source": [
        "x_sub=np.load('X_new.npy')\n",
        "y_sub=np.load('Y_new.npy')\n",
        "x_sub=x_sub[0:40000]\n",
        "y_sub=y_sub[0:40000]"
      ],
      "execution_count": 0,
      "outputs": []
    },
    {
      "cell_type": "code",
      "metadata": {
        "id": "EQlPqLDsQms2",
        "colab_type": "code",
        "outputId": "39739dc1-479f-49a8-85f1-0b65a3f22dd5",
        "colab": {
          "base_uri": "https://localhost:8080/",
          "height": 68
        }
      },
      "source": [
        "x_sub = np.array(x_sub)\n",
        "x_sub_shape = x_sub.shape[1] * x_sub.shape[2] * x_sub.shape[3]\n",
        "x_flat = x_sub.reshape(x_sub.shape[0], x_sub_shape)\n",
        "r = pd.value_counts(y_sub)\n",
        "print(r)"
      ],
      "execution_count": 0,
      "outputs": [
        {
          "output_type": "stream",
          "text": [
            "0    30556\n",
            "1     9444\n",
            "dtype: int64\n"
          ],
          "name": "stdout"
        }
      ]
    },
    {
      "cell_type": "code",
      "metadata": {
        "id": "jCiCLPlBRndY",
        "colab_type": "code",
        "outputId": "08e64b3b-d6a4-4f9c-ca69-a3509f769fb7",
        "colab": {
          "base_uri": "https://localhost:8080/",
          "height": 68
        }
      },
      "source": [
        "rus=RandomUnderSampler(ratio='auto')\n",
        "x_flat_resample,y_sub_resample=rus.fit_sample(x_flat,y_sub)\n",
        "len(x_flat_resample)\n",
        "r = pd.value_counts(y_sub_resample)\n",
        "print(r)"
      ],
      "execution_count": 0,
      "outputs": [
        {
          "output_type": "stream",
          "text": [
            "1    9444\n",
            "0    9444\n",
            "dtype: int64\n"
          ],
          "name": "stdout"
        }
      ]
    },
    {
      "cell_type": "code",
      "metadata": {
        "id": "_IHzXaGpRn9I",
        "colab_type": "code",
        "colab": {}
      },
      "source": [
        "#split\n",
        "from numpy import random\n",
        "random.seed(1)\n",
        "x_train,x_test,y_train,y_test=train_test_split(x_flat_resample,y_sub_resample,test_size=0.2)"
      ],
      "execution_count": 0,
      "outputs": []
    },
    {
      "cell_type": "code",
      "metadata": {
        "id": "jDl0WzaR3jCy",
        "colab_type": "code",
        "outputId": "5a393f53-220b-41fe-aa75-97cedf3c8b4c",
        "colab": {
          "base_uri": "https://localhost:8080/",
          "height": 85
        }
      },
      "source": [
        "print(len(x_train))\n",
        "print(len(x_test))\n",
        "print(len(y_train))\n",
        "print(len(y_test))"
      ],
      "execution_count": 0,
      "outputs": [
        {
          "output_type": "stream",
          "text": [
            "15110\n",
            "3778\n",
            "15110\n",
            "3778\n"
          ],
          "name": "stdout"
        }
      ]
    },
    {
      "cell_type": "code",
      "metadata": {
        "id": "PdiEBYClRq0M",
        "colab_type": "code",
        "outputId": "759bd735-fa47-443a-f55e-47bebaacdf46",
        "colab": {
          "base_uri": "https://localhost:8080/",
          "height": 136
        }
      },
      "source": [
        "#random forest\n",
        "rf=RandomForestClassifier(n_estimators=20,max_depth=50,max_features='auto')\n",
        "rf.fit(x_train,y_train)"
      ],
      "execution_count": 0,
      "outputs": [
        {
          "output_type": "execute_result",
          "data": {
            "text/plain": [
              "RandomForestClassifier(bootstrap=True, class_weight=None, criterion='gini',\n",
              "                       max_depth=50, max_features='auto', max_leaf_nodes=None,\n",
              "                       min_impurity_decrease=0.0, min_impurity_split=None,\n",
              "                       min_samples_leaf=1, min_samples_split=2,\n",
              "                       min_weight_fraction_leaf=0.0, n_estimators=20,\n",
              "                       n_jobs=None, oob_score=False, random_state=None,\n",
              "                       verbose=0, warm_start=False)"
            ]
          },
          "metadata": {
            "tags": []
          },
          "execution_count": 12
        }
      ]
    },
    {
      "cell_type": "code",
      "metadata": {
        "id": "4ToHMQnTRtJ-",
        "colab_type": "code",
        "outputId": "fd4230fb-3ce1-4b6d-c5a3-bd83e0e2f34e",
        "colab": {
          "base_uri": "https://localhost:8080/",
          "height": 221
        }
      },
      "source": [
        "test_prediction=rf.predict(x_test)\n",
        "print(accuracy_score(y_test,test_prediction))\n",
        "print(confusion_matrix(y_test,test_prediction))\n",
        "print(metrics.classification_report(y_test,test_prediction))"
      ],
      "execution_count": 0,
      "outputs": [
        {
          "output_type": "stream",
          "text": [
            "0.7879830598200106\n",
            "[[1519  371]\n",
            " [ 430 1458]]\n",
            "              precision    recall  f1-score   support\n",
            "\n",
            "           0       0.78      0.80      0.79      1890\n",
            "           1       0.80      0.77      0.78      1888\n",
            "\n",
            "    accuracy                           0.79      3778\n",
            "   macro avg       0.79      0.79      0.79      3778\n",
            "weighted avg       0.79      0.79      0.79      3778\n",
            "\n"
          ],
          "name": "stdout"
        }
      ]
    },
    {
      "cell_type": "code",
      "metadata": {
        "id": "M1HNJiIGRvku",
        "colab_type": "code",
        "outputId": "afc049e2-1866-4d4e-b04b-c87abd9d7ee1",
        "colab": {
          "base_uri": "https://localhost:8080/",
          "height": 34
        }
      },
      "source": [
        "#Tuning Parameter\n",
        "test1={'n_estimators':range(10,100,10)}\n",
        "grid_search1 = GridSearchCV(estimator = RandomForestClassifier(min_samples_split=100,min_samples_leaf=20,max_depth=8,max_features='auto' ,random_state=20),param_grid =test1, scoring='roc_auc',cv=5)\n",
        "grid_search1.fit(x_train,y_train)\n",
        "grid_search1.best_params_\n",
        "print(grid_search1.best_params_)"
      ],
      "execution_count": 0,
      "outputs": [
        {
          "output_type": "stream",
          "text": [
            "{'n_estimators': 90}\n"
          ],
          "name": "stdout"
        }
      ]
    },
    {
      "cell_type": "code",
      "metadata": {
        "id": "QERx7aPSBKUL",
        "colab_type": "code",
        "outputId": "2cdd6f09-774f-48a7-e9a2-6283c49474b8",
        "colab": {
          "base_uri": "https://localhost:8080/",
          "height": 34
        }
      },
      "source": [
        "rf1=RandomForestClassifier(n_estimators=80,max_depth=8,min_samples_split=100,max_features='auto')\n",
        "rf1.fit(x_train,y_train)\n",
        "test_prediction1=rf1.predict(x_test)\n",
        "print('accuracy_1:',accuracy_score(y_test,test_prediction1))"
      ],
      "execution_count": 0,
      "outputs": [
        {
          "output_type": "stream",
          "text": [
            "accuracy_1: 0.8009528851244044\n"
          ],
          "name": "stdout"
        }
      ]
    },
    {
      "cell_type": "code",
      "metadata": {
        "id": "ZexE3EcfR7Ps",
        "colab_type": "code",
        "outputId": "6d493b5e-8a7c-4605-a9f2-72dff97f87fa",
        "colab": {
          "base_uri": "https://localhost:8080/",
          "height": 34
        }
      },
      "source": [
        "test2 = {'max_depth':range(50,201,50), 'min_samples_split':range(50,201,50)}\n",
        "grid_search2= GridSearchCV(estimator = RandomForestClassifier(n_estimators= 80,min_samples_leaf=20,max_features='sqrt' ,oob_score=True, random_state=20),param_grid=test2, scoring='roc_auc',iid=False, cv=5)\n",
        "grid_search2.fit(x_train,y_train)\n",
        "grid_search2.best_params_\n"
      ],
      "execution_count": 0,
      "outputs": [
        {
          "output_type": "execute_result",
          "data": {
            "text/plain": [
              "{'max_depth': 50, 'min_samples_split': 50}"
            ]
          },
          "metadata": {
            "tags": []
          },
          "execution_count": 16
        }
      ]
    },
    {
      "cell_type": "code",
      "metadata": {
        "id": "bmNJWWeiEWXD",
        "colab_type": "code",
        "outputId": "8ff27764-6e91-4cfb-8c78-269a24836cde",
        "colab": {
          "base_uri": "https://localhost:8080/",
          "height": 34
        }
      },
      "source": [
        "rf2=RandomForestClassifier(n_estimators=80,max_depth=50,min_samples_split=50,max_features='auto')\n",
        "rf2.fit(x_train,y_train)\n",
        "test_prediction2=rf2.predict(x_test)\n",
        "print('accuracy_2:',accuracy_score(y_test,test_prediction2))\n"
      ],
      "execution_count": 0,
      "outputs": [
        {
          "output_type": "stream",
          "text": [
            "accuracy_2: 0.806776071995765\n"
          ],
          "name": "stdout"
        }
      ]
    },
    {
      "cell_type": "code",
      "metadata": {
        "id": "vfA7tmboRvnR",
        "colab_type": "code",
        "outputId": "6662c5ba-d638-4a7d-85fd-a365949642b1",
        "colab": {
          "base_uri": "https://localhost:8080/",
          "height": 34
        }
      },
      "source": [
        "test3={'min_samples_split':range(10,100,30), 'min_samples_leaf':range(10,100,30)}\n",
        "grid_search3 = GridSearchCV(estimator = RandomForestClassifier(n_estimators= 80, max_depth=50,max_features='auto' ,oob_score=True, random_state=20),param_grid =test3, scoring='roc_auc',iid=False, cv=5)\n",
        "grid_search3.fit(x_train,y_train)\n",
        "grid_search3.best_params_"
      ],
      "execution_count": 0,
      "outputs": [
        {
          "output_type": "execute_result",
          "data": {
            "text/plain": [
              "{'min_samples_leaf': 10, 'min_samples_split': 10}"
            ]
          },
          "metadata": {
            "tags": []
          },
          "execution_count": 18
        }
      ]
    },
    {
      "cell_type": "code",
      "metadata": {
        "id": "JLq9hlcLRvpj",
        "colab_type": "code",
        "outputId": "c4c3f51c-dc77-4d7b-bb0e-97cc7158b17e",
        "colab": {
          "base_uri": "https://localhost:8080/",
          "height": 221
        }
      },
      "source": [
        "rf3=RandomForestClassifier(n_estimators=80,max_depth=50,min_samples_split=10,min_samples_leaf=10,max_features='auto')\n",
        "rf3.fit(x_train,y_train)\n",
        "test_prediction3=rf3.predict(x_test)\n",
        "print('accuracy_3:',accuracy_score(y_test,test_prediction3))\n",
        "print(confusion_matrix(y_test,test_prediction3))\n",
        "print(metrics.classification_report(y_test,test_prediction3))"
      ],
      "execution_count": 0,
      "outputs": [
        {
          "output_type": "stream",
          "text": [
            "accuracy_3: 0.8118051879301218\n",
            "[[1508  382]\n",
            " [ 329 1559]]\n",
            "              precision    recall  f1-score   support\n",
            "\n",
            "           0       0.82      0.80      0.81      1890\n",
            "           1       0.80      0.83      0.81      1888\n",
            "\n",
            "    accuracy                           0.81      3778\n",
            "   macro avg       0.81      0.81      0.81      3778\n",
            "weighted avg       0.81      0.81      0.81      3778\n",
            "\n"
          ],
          "name": "stdout"
        }
      ]
    },
    {
      "cell_type": "code",
      "metadata": {
        "id": "26PB-eq-R4kQ",
        "colab_type": "code",
        "colab": {}
      },
      "source": [
        "from sklearn import metrics\n",
        "from sklearn.metrics import precision_score\n",
        "from sklearn.metrics import recall_score\n",
        "from sklearn.metrics import f1_score\n",
        "from sklearn.metrics import cohen_kappa_score\n",
        "from sklearn.metrics import roc_auc_score\n",
        "import itertools\n",
        "from sklearn.metrics import accuracy_score,confusion_matrix,classification_report\n",
        "import matplotlib.pyplot as plt\n",
        "def plot_cm(cm, classes, normalize=False, title='Confusion matrix', cmap=plt.cm.Blues):\n",
        "    plt.figure(figsize = (5,5))\n",
        "    plt.imshow(cm, interpolation='nearest', cmap=cmap)\n",
        "    plt.title(title)\n",
        "    plt.colorbar()\n",
        "    tick_marks = np.arange(len(classes))\n",
        "    plt.xticks(tick_marks, classes, rotation=90)\n",
        "    plt.yticks(tick_marks, classes)\n",
        "    if normalize:\n",
        "        cm = cm.astype('float') / cm.sum(axis=1)[:, np.newaxis]\n",
        "\n",
        "    thresh = cm.max() / 2.\n",
        "    for i, j in itertools.product(range(cm.shape[0]), range(cm.shape[1])):\n",
        "        plt.text(j, i, cm[i, j],\n",
        "                 horizontalalignment=\"center\",\n",
        "                 color=\"white\" if cm[i, j] > thresh else \"black\")\n",
        "    plt.tight_layout()\n",
        "    plt.ylabel('True label')\n",
        "    plt.xlabel('Predicted label')\n",
        "    \n",
        "def plot_lc(history):\n",
        "    plt.figure(figsize=(8,8))\n",
        "    plt.subplot(1,2,1)\n",
        "    plt.plot(history.history['acc'])\n",
        "    plt.plot(history.history['val_acc'])\n",
        "    plt.title('model accuracy')\n",
        "    plt.ylabel('accuracy')\n",
        "    plt.xlabel('epoch')\n",
        "    plt.legend(['train', 'test'], loc='upper left')\n",
        "    plt.savefig('./accuracy_curve.png')\n",
        "    plt.subplot(1,2,2)\n",
        "    plt.plot(history.history['loss'])\n",
        "    plt.plot(history.history['val_loss'])\n",
        "    plt.title('model loss')\n",
        "    plt.ylabel('loss')\n",
        "    plt.xlabel('epoch')\n",
        "    plt.legend(['train', 'test'], loc='upper left')"
      ],
      "execution_count": 0,
      "outputs": []
    },
    {
      "cell_type": "code",
      "metadata": {
        "id": "UmR5wsqu3_nn",
        "colab_type": "code",
        "outputId": "2e6cfdc3-b2eb-4c22-f26e-3e60b152ac91",
        "colab": {
          "base_uri": "https://localhost:8080/",
          "height": 369
        }
      },
      "source": [
        "dict_characters = {0: 'IDC(-)', 1: 'IDC(+)'}\n",
        "confusion_mtx = confusion_matrix(y_test, test_prediction3) \n",
        "plot_cm(confusion_mtx, classes = list(dict_characters.values())) \n",
        "plt.show()\n"
      ],
      "execution_count": 0,
      "outputs": [
        {
          "output_type": "display_data",
          "data": {
            "image/png": "[encoded data removed]",
            "text/plain": [
              "<Figure size 360x360 with 2 Axes>"
            ]
          },
          "metadata": {
            "tags": []
          }
        }
      ]
    },
    {
      "cell_type": "code",
      "metadata": {
        "id": "HtDPTTxpO4Wv",
        "colab_type": "code",
        "outputId": "66c0f617-913d-4585-f949-8aa086a91273",
        "colab": {
          "base_uri": "https://localhost:8080/",
          "height": 51
        }
      },
      "source": [
        "cm= confusion_matrix(y_test,test_prediction3)\n",
        "sensitivity= cm[1,1]/(cm[1,1]+cm[1,0])\n",
        "print('Sensitivity : ', sensitivity )\n",
        "secificity= cm[0,0]/(cm[0,0]+cm[0,1])\n",
        "print('Specificity : ',secificity)"
      ],
      "execution_count": 0,
      "outputs": [
        {
          "output_type": "stream",
          "text": [
            "Sensitivity :  0.8257415254237288\n",
            "Specificity :  0.7978835978835979\n"
          ],
          "name": "stdout"
        }
      ]
    },
    {
      "cell_type": "code",
      "metadata": {
        "id": "YvyDinVY4vr7",
        "colab_type": "code",
        "colab": {}
      },
      "source": [
        "y_score=rf3.fit(x_train,y_train)"
      ],
      "execution_count": 0,
      "outputs": []
    },
    {
      "cell_type": "code",
      "metadata": {
        "id": "d_CjoDbl52UZ",
        "colab_type": "code",
        "colab": {}
      },
      "source": [
        "y_pred_3=y_score.predict_proba(x_test)"
      ],
      "execution_count": 0,
      "outputs": []
    },
    {
      "cell_type": "code",
      "metadata": {
        "id": "20ayl1sc6Ipv",
        "colab_type": "code",
        "colab": {}
      },
      "source": [
        "from sklearn.metrics import roc_curve, auc\n",
        "fpr,tpr,threshold=roc_curve(y_test,y_pred_3[:,1])"
      ],
      "execution_count": 0,
      "outputs": []
    },
    {
      "cell_type": "code",
      "metadata": {
        "id": "ia6oxUoHfJjr",
        "colab_type": "code",
        "colab": {}
      },
      "source": [
        "roc_auc = auc(fpr,tpr)"
      ],
      "execution_count": 0,
      "outputs": []
    },
    {
      "cell_type": "code",
      "metadata": {
        "id": "ZxbmFTYefLUe",
        "colab_type": "code",
        "outputId": "085bfca3-213c-4707-a81b-dfa0a6ab7c97",
        "colab": {
          "base_uri": "https://localhost:8080/",
          "height": 34
        }
      },
      "source": [
        "print(roc_auc)"
      ],
      "execution_count": 0,
      "outputs": [
        {
          "output_type": "stream",
          "text": [
            "0.8837884494664155\n"
          ],
          "name": "stdout"
        }
      ]
    },
    {
      "cell_type": "code",
      "metadata": {
        "id": "uxxymznbfNfR",
        "colab_type": "code",
        "outputId": "31122ebb-feb2-4345-ecda-4938eb488643",
        "colab": {
          "base_uri": "https://localhost:8080/",
          "height": 638
        }
      },
      "source": [
        "plt.figure()\n",
        "lw = 2\n",
        "plt.figure(figsize=(10,10))\n",
        "plt.plot(fpr, tpr, color='darkorange',\n",
        "         lw=lw, label='ROC curve (area = %0.2f)' % roc_auc)\n",
        "plt.plot([0, 1], [0, 1], color='navy', lw=lw, linestyle='--')\n",
        "plt.xlim([0.0, 1.0])\n",
        "plt.ylim([0.0, 1.05])\n",
        "plt.xlabel('False Positive Rate')\n",
        "plt.ylabel('True Positive Rate')\n",
        "plt.title('ROC curve of Random Forest')\n",
        "plt.legend(loc=\"lower right\")\n",
        "plt.show()"
      ],
      "execution_count": 0,
      "outputs": [
        {
          "output_type": "display_data",
          "data": {
            "text/plain": [
              "<Figure size 432x288 with 0 Axes>"
            ]
          },
          "metadata": {
            "tags": []
          }
        },
        {
          "output_type": "display_data",
          "data": {
            "image/png": "[encoded data removed]",
            "text/plain": [
              "<Figure size 720x720 with 1 Axes>"
            ]
          },
          "metadata": {
            "tags": []
          }
        }
      ]
    },
    {
      "cell_type": "code",
      "metadata": {
        "id": "cW5N-0Ag6kNz",
        "colab_type": "code",
        "colab": {}
      },
      "source": [
        "X_10253=np.load('./X_patient10253_CNN.npy')\n",
        "x_10253_sub = np.array(X_10253)\n",
        "x_10253_sub_shape = x_10253_sub.shape[1] * x_10253_sub.shape[2] * x_10253_sub.shape[3]\n",
        "x_10253_sub_flat=x_10253_sub.reshape(x_10253_sub.shape[0], x_10253_sub_shape)\n"
      ],
      "execution_count": 0,
      "outputs": []
    },
    {
      "cell_type": "code",
      "metadata": {
        "id": "KhZvj9xzjrK9",
        "colab_type": "code",
        "outputId": "a882aab2-173d-4d7e-e217-918433b8c040",
        "colab": {
          "base_uri": "https://localhost:8080/",
          "height": 34
        }
      },
      "source": [
        "y_pred_10253=rf3.predict(x_10253_sub_flat)\n",
        "y_pred_10253[:10]"
      ],
      "execution_count": 0,
      "outputs": [
        {
          "output_type": "execute_result",
          "data": {
            "text/plain": [
              "array([0, 0, 0, 0, 0, 0, 0, 0, 0, 0])"
            ]
          },
          "metadata": {
            "tags": []
          },
          "execution_count": 31
        }
      ]
    },
    {
      "cell_type": "code",
      "metadata": {
        "id": "EKbIdE9Gjy5d",
        "colab_type": "code",
        "colab": {}
      },
      "source": [
        "example_df=pd.read_pickle(\"patient10253_coordinate.pkl\")\n",
        "example_df['target_new']=y_pred_10253.tolist()"
      ],
      "execution_count": 0,
      "outputs": []
    },
    {
      "cell_type": "code",
      "metadata": {
        "id": "Amnjt0-gj6og",
        "colab_type": "code",
        "colab": {}
      },
      "source": [
        "from pandas import api \n",
        "from pandas.api import types \n",
        "from pandas.api.types import is_numeric_dtype"
      ],
      "execution_count": 0,
      "outputs": []
    },
    {
      "cell_type": "code",
      "metadata": {
        "id": "7XWqjfrfj8L7",
        "colab_type": "code",
        "outputId": "5b6c33fe-0a9b-4c2c-dd30-bcf44b026713",
        "colab": {
          "base_uri": "https://localhost:8080/",
          "height": 281
        }
      },
      "source": [
        "import numpy as np\n",
        "\n",
        "import matplotlib.pyplot as plt\n",
        "from  matplotlib.pyplot import scatter\n",
        "\n",
        "x=example_df['x']\n",
        "y=example_df['y']\n",
        "data = example_df[['x','y', 'target_new']]\n",
        "colors = (\"grey\", \"red\")\n",
        "groups = (\"0\",\"1\")\n",
        "\n",
        "# Create plot\n",
        "fig = plt.figure()\n",
        "ax = fig.add_subplot()\n",
        "ax.scatter(x,y, alpha=0.8, edgecolor='none', s=30, c=data.target_new )\n",
        "#for data, color, group in zip(data, colors, groups):\n",
        "# x,y=data\n",
        "#  ax.scatter(x, y, alpha=0.8, c=colors, edgecolor='none', s=30, label=group)\n",
        "plt.title('patient 10253 _predicted')\n",
        "\n",
        "\n",
        "plt.show()\n"
      ],
      "execution_count": 0,
      "outputs": [
        {
          "output_type": "display_data",
          "data": {
            "image/png": "[encoded data removed]",
            "text/plain": [
              "<Figure size 432x288 with 1 Axes>"
            ]
          },
          "metadata": {
            "tags": []
          }
        }
      ]
    },
    {
      "cell_type": "code",
      "metadata": {
        "id": "iXt8vP_0j91W",
        "colab_type": "code",
        "colab": {}
      },
      "source": [
        "\n",
        "X_12242=np.load('./X_patient12242.npy')\n",
        "x_12242_sub = np.array(X_12242)\n",
        "x_12242_sub_shape = x_12242_sub.shape[1] * x_12242_sub.shape[2] * x_12242_sub.shape[3]\n",
        "x_12242_sub_flat=x_12242_sub.reshape(x_12242_sub.shape[0], x_12242_sub_shape)\n"
      ],
      "execution_count": 0,
      "outputs": []
    },
    {
      "cell_type": "code",
      "metadata": {
        "id": "D11r2evqkOIN",
        "colab_type": "code",
        "outputId": "386e5815-e239-4e8e-aedc-f63e3a32b273",
        "colab": {
          "base_uri": "https://localhost:8080/",
          "height": 34
        }
      },
      "source": [
        "y_pred_12242=rf3.predict(x_12242_sub_flat)\n",
        "y_pred_12242[:10]"
      ],
      "execution_count": 0,
      "outputs": [
        {
          "output_type": "execute_result",
          "data": {
            "text/plain": [
              "array([0, 0, 0, 0, 1, 0, 0, 0, 0, 0])"
            ]
          },
          "metadata": {
            "tags": []
          },
          "execution_count": 36
        }
      ]
    },
    {
      "cell_type": "code",
      "metadata": {
        "id": "gmNrd9nFkUhK",
        "colab_type": "code",
        "colab": {}
      },
      "source": [
        "example_df=pd.read_pickle(\"patient12242_coordinate.pkl\")\n",
        "example_df['target_new']=y_pred_12242.tolist()"
      ],
      "execution_count": 0,
      "outputs": []
    },
    {
      "cell_type": "code",
      "metadata": {
        "id": "a6gJvQMnkfGR",
        "colab_type": "code",
        "colab": {}
      },
      "source": [
        "from pandas import api \n",
        "from pandas.api import types \n",
        "from pandas.api.types import is_numeric_dtype"
      ],
      "execution_count": 0,
      "outputs": []
    },
    {
      "cell_type": "code",
      "metadata": {
        "id": "_JK-uyAIkna_",
        "colab_type": "code",
        "outputId": "b294509c-e227-4939-e742-e3b6baa6a88b",
        "colab": {
          "base_uri": "https://localhost:8080/",
          "height": 281
        }
      },
      "source": [
        "import numpy as np\n",
        "\n",
        "import matplotlib.pyplot as plt\n",
        "from  matplotlib.pyplot import scatter\n",
        "\n",
        "x=example_df['x']\n",
        "y=example_df['y']\n",
        "data = example_df[['x','y', 'target_new']]\n",
        "colors = (\"grey\", \"red\")\n",
        "groups = (\"0\",\"1\")\n",
        "\n",
        "# Create plot\n",
        "fig = plt.figure()\n",
        "ax = fig.add_subplot()\n",
        "ax.scatter(x,y, alpha=0.8, edgecolor='none', s=30, c=data.target_new )\n",
        "plt.title('patient 12242 _predicted')\n",
        "\n",
        "\n",
        "plt.show()"
      ],
      "execution_count": 0,
      "outputs": [
        {
          "output_type": "display_data",
          "data": {
            "image/png": "[encoded data removed]",
            "text/plain": [
              "<Figure size 432x288 with 1 Axes>"
            ]
          },
          "metadata": {
            "tags": []
          }
        }
      ]
    },
    {
      "cell_type": "code",
      "metadata": {
        "id": "qBg8y9P1kpSj",
        "colab_type": "code",
        "outputId": "e5ba4c23-a32c-43eb-ba25-bab138aade1a",
        "colab": {
          "base_uri": "https://localhost:8080/",
          "height": 88
        }
      },
      "source": [
        "from sklearn.externals import joblib\n",
        "joblib.dump(rf3,\"random_forest.m\")"
      ],
      "execution_count": 0,
      "outputs": [
        {
          "output_type": "stream",
          "text": [
            "/usr/local/lib/python3.6/dist-packages/sklearn/externals/joblib/__init__.py:15: DeprecationWarning: sklearn.externals.joblib is deprecated in 0.21 and will be removed in 0.23. Please import this functionality directly from joblib, which can be installed with: pip install joblib. If this warning is raised when loading pickled models, you may need to re-serialize those models with scikit-learn 0.21+.\n",
            "  warnings.warn(msg, category=DeprecationWarning)\n"
          ],
          "name": "stderr"
        },
        {
          "output_type": "execute_result",
          "data": {
            "text/plain": [
              "['random_forest.m']"
            ]
          },
          "metadata": {
            "tags": []
          },
          "execution_count": 46
        }
      ]
    },
    {
      "cell_type": "code",
      "metadata": {
        "id": "E_yNmg3hlwi9",
        "colab_type": "code",
        "colab": {}
      },
      "source": [
        ""
      ],
      "execution_count": 0,
      "outputs": []
    }
  ]
}