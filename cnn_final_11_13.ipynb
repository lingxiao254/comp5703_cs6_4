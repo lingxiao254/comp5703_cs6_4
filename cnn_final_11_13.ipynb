{
  "nbformat": 4,
  "nbformat_minor": 0,
  "metadata": {
    "colab": {
      "name": "cnn_final_11.13.ipynb",
      "provenance": [],
      "collapsed_sections": [],
      "machine_shape": "hm"
    },
    "kernelspec": {
      "name": "python3",
      "display_name": "Python 3"
    },
    "accelerator": "GPU"
  },
  "cells": [
    {
      "cell_type": "code",
      "metadata": {
        "id": "U96AsV85NGjm",
        "colab_type": "code",
        "colab": {}
      },
      "source": [
        "# Use GPU\n",
        "import os\n",
        "os.environ[\"CUDA_VISIBLE_DEVICES\"] = \"0\""
      ],
      "execution_count": 0,
      "outputs": []
    },
    {
      "cell_type": "code",
      "metadata": {
        "id": "BXq9v1c8NHfb",
        "colab_type": "code",
        "outputId": "545a00ce-8cfa-45e5-e5c4-df9f35ca4ee4",
        "colab": {
          "base_uri": "https://localhost:8080/",
          "height": 224
        }
      },
      "source": [
        "!apt-get install -y -qq software-properties-common python-software-properties module-init-tools\n",
        "!add-apt-repository -y ppa:alessandro-strada/ppa 2>&1 > /dev/null\n",
        "!apt-get update -qq 2>&1 > /dev/null\n",
        "!apt-get -y install -qq google-drive-ocamlfuse fuse\n",
        "from google.colab import auth\n",
        "auth.authenticate_user()\n",
        "from oauth2client.client import GoogleCredentials\n",
        "creds = GoogleCredentials.get_application_default()\n",
        "import getpass\n",
        "!google-drive-ocamlfuse -headless -id={creds.client_id} -secret={creds.client_secret} < /dev/null 2>&1 | grep URL\n",
        "vcode = getpass.getpass()\n",
        "!echo {vcode} | google-drive-ocamlfuse -headless -id={creds.client_id} -secret={creds.client_secret}"
      ],
      "execution_count": 0,
      "outputs": [
        {
          "output_type": "stream",
          "text": [
            "E: Package 'python-software-properties' has no installation candidate\n",
            "Selecting previously unselected package google-drive-ocamlfuse.\n",
            "(Reading database ... 132684 files and directories currently installed.)\n",
            "Preparing to unpack .../google-drive-ocamlfuse_0.7.13-0ubuntu1~ubuntu18.04.1_amd64.deb ...\n",
            "Unpacking google-drive-ocamlfuse (0.7.13-0ubuntu1~ubuntu18.04.1) ...\n",
            "Setting up google-drive-ocamlfuse (0.7.13-0ubuntu1~ubuntu18.04.1) ...\n",
            "Processing triggers for man-db (2.8.3-2ubuntu0.1) ...\n",
            "Please, open the following URL in a web browser: https://accounts.google.com/o/oauth2/auth?client_id=32555940559.apps.googleusercontent.com&redirect_uri=urn%3Aietf%3Awg%3Aoauth%3A2.0%3Aoob&scope=https%3A%2F%2Fwww.googleapis.com%2Fauth%2Fdrive&response_type=code&access_type=offline&approval_prompt=force\n",
            "··········\n",
            "Please, open the following URL in a web browser: https://accounts.google.com/o/oauth2/auth?client_id=32555940559.apps.googleusercontent.com&redirect_uri=urn%3Aietf%3Awg%3Aoauth%3A2.0%3Aoob&scope=https%3A%2F%2Fwww.googleapis.com%2Fauth%2Fdrive&response_type=code&access_type=offline&approval_prompt=force\n",
            "Please enter the verification code: Access token retrieved correctly.\n"
          ],
          "name": "stdout"
        }
      ]
    },
    {
      "cell_type": "code",
      "metadata": {
        "id": "wtV4YXgSNJ6A",
        "colab_type": "code",
        "outputId": "77c76ee9-f734-4b84-d325-a0a6ee4a1829",
        "colab": {
          "base_uri": "https://localhost:8080/",
          "height": 122
        }
      },
      "source": [
        "from google.colab import drive\n",
        "drive.mount('/content/drive')"
      ],
      "execution_count": 0,
      "outputs": [
        {
          "output_type": "stream",
          "text": [
            "Go to this URL in a browser: https://accounts.google.com/o/oauth2/auth?client_id=947318989803-6bn6qk8qdgf4n4g3pfee6491hc0brc4i.apps.googleusercontent.com&redirect_uri=urn%3Aietf%3Awg%3Aoauth%3A2.0%3Aoob&scope=email%20https%3A%2F%2Fwww.googleapis.com%2Fauth%2Fdocs.test%20https%3A%2F%2Fwww.googleapis.com%2Fauth%2Fdrive%20https%3A%2F%2Fwww.googleapis.com%2Fauth%2Fdrive.photos.readonly%20https%3A%2F%2Fwww.googleapis.com%2Fauth%2Fpeopleapi.readonly&response_type=code\n",
            "\n",
            "Enter your authorization code:\n",
            "··········\n",
            "Mounted at /content/drive\n"
          ],
          "name": "stdout"
        }
      ]
    },
    {
      "cell_type": "code",
      "metadata": {
        "id": "KyRniU7VNgBR",
        "colab_type": "code",
        "colab": {}
      },
      "source": [
        "!mkdir -p drive\n",
        "!google-drive-ocamlfuse -o nonempty drive"
      ],
      "execution_count": 0,
      "outputs": []
    },
    {
      "cell_type": "code",
      "metadata": {
        "id": "AZQWLpq_Nl5w",
        "colab_type": "code",
        "outputId": "c048a579-3fd7-488d-bac3-3ebfea5c621b",
        "colab": {
          "base_uri": "https://localhost:8080/",
          "height": 34
        }
      },
      "source": [
        "# Mount drive\n",
        "from google.colab import drive\n",
        "drive.mount('/content/drive')"
      ],
      "execution_count": 0,
      "outputs": [
        {
          "output_type": "stream",
          "text": [
            "Mounted at /content/drive\n"
          ],
          "name": "stdout"
        }
      ]
    },
    {
      "cell_type": "code",
      "metadata": {
        "id": "8KI_OBk7Nn_i",
        "colab_type": "code",
        "outputId": "f172f130-24e1-4dd2-bdb4-61802c9586cf",
        "colab": {
          "base_uri": "https://localhost:8080/",
          "height": 34
        }
      },
      "source": [
        "import os\n",
        "os.getcwd()\n",
        "os.chdir('/content/drive/My Drive')\n",
        "os.getcwd()"
      ],
      "execution_count": 0,
      "outputs": [
        {
          "output_type": "execute_result",
          "data": {
            "text/plain": [
              "'/content/drive/My Drive'"
            ]
          },
          "metadata": {
            "tags": []
          },
          "execution_count": 6
        }
      ]
    },
    {
      "cell_type": "code",
      "metadata": {
        "id": "EXk7potJNpdu",
        "colab_type": "code",
        "outputId": "6ea58e9f-aeec-4989-ef39-115abf0d6b1a",
        "colab": {
          "base_uri": "https://localhost:8080/",
          "height": 80
        }
      },
      "source": [
        "#import library\n",
        "import pandas as pd\n",
        "import numpy as np\n",
        "from glob import glob\n",
        "import fnmatch\n",
        "import cv2\n",
        "import warnings\n",
        "warnings.filterwarnings('ignore')\n",
        "from sklearn.model_selection import train_test_split\n",
        "from keras.utils.np_utils import to_categorical\n",
        "import matplotlib.pylab as plt\n",
        "import itertools\n",
        "import sklearn\n",
        "from sklearn import model_selection\n",
        "from sklearn.model_selection import train_test_split, KFold, cross_val_score, StratifiedKFold, learning_curve, GridSearchCV\n",
        "itertools\n",
        "from sklearn.metrics import confusion_matrix, make_scorer, accuracy_score\n",
        "import keras\n",
        "from keras import backend as K\n",
        "from keras.callbacks import Callback, EarlyStopping, ReduceLROnPlateau, ModelCheckpoint\n",
        "from keras.preprocessing.image import ImageDataGenerator\n",
        "from keras.utils.np_utils import to_categorical\n",
        "from keras.models import Sequential, model_from_json\n",
        "from keras.optimizers import SGD, RMSprop, Adam, Adagrad, Adadelta\n",
        "from keras.layers import Dense, Dropout, Activation, Flatten, BatchNormalization, Conv2D, MaxPool2D, MaxPooling2D, GlobalAveragePooling2D"
      ],
      "execution_count": 0,
      "outputs": [
        {
          "output_type": "stream",
          "text": [
            "Using TensorFlow backend.\n"
          ],
          "name": "stderr"
        },
        {
          "output_type": "display_data",
          "data": {
            "text/html": [
              "<p style=\"color: red;\">\n",
              "The default version of TensorFlow in Colab will soon switch to TensorFlow 2.x.<br>\n",
              "We recommend you <a href=\"https://www.tensorflow.org/guide/migrate\" target=\"_blank\">upgrade</a> now \n",
              "or ensure your notebook will continue to use TensorFlow 1.x via the <code>%tensorflow_version 1.x</code> magic:\n",
              "<a href=\"https://colab.research.google.com/notebooks/tensorflow_version.ipynb\" target=\"_blank\">more info</a>.</p>\n"
            ],
            "text/plain": [
              "<IPython.core.display.HTML object>"
            ]
          },
          "metadata": {
            "tags": []
          }
        }
      ]
    },
    {
      "cell_type": "code",
      "metadata": {
        "id": "7hU63tT8NrHb",
        "colab_type": "code",
        "colab": {}
      },
      "source": [
        "X1=np.load('X_new.npy')\n",
        "Y1=np.load('Y_new.npy')"
      ],
      "execution_count": 0,
      "outputs": []
    },
    {
      "cell_type": "code",
      "metadata": {
        "id": "qDpK7N46NskC",
        "colab_type": "code",
        "colab": {}
      },
      "source": [
        "X=X1[0:40000]\n",
        "Y=Y1[0:40000]"
      ],
      "execution_count": 0,
      "outputs": []
    },
    {
      "cell_type": "code",
      "metadata": {
        "id": "WwaLz1gqNwim",
        "colab_type": "code",
        "outputId": "6102251a-0090-4478-d821-a7d9cae4ddf9",
        "colab": {
          "base_uri": "https://localhost:8080/",
          "height": 85
        }
      },
      "source": [
        "def describe_data(x,y):\n",
        "    print('Total number: {}'.format(len(x)))\n",
        "    print('Number of IDC(-): {}'.format(np.sum(y==0)))\n",
        "    print('Number of IDC(+): {}'.format(np.sum(y==1)))\n",
        "    print('Percentage of IDC(+) : {:.2f}%'.format(100*np.mean(y)))\n",
        "describe_data(X, Y)"
      ],
      "execution_count": 0,
      "outputs": [
        {
          "output_type": "stream",
          "text": [
            "Total number: 40000\n",
            "Number of IDC(-): 30556\n",
            "Number of IDC(+): 9444\n",
            "Percentage of IDC(+) : 23.61%\n"
          ],
          "name": "stdout"
        }
      ]
    },
    {
      "cell_type": "code",
      "metadata": {
        "id": "maVlWNreNyD3",
        "colab_type": "code",
        "colab": {}
      },
      "source": [
        "x_sub = np.array(X)\n",
        "x_sub=x_sub/255.0\n",
        "x_sub_shape = x_sub.shape[1] * x_sub.shape[2] * x_sub.shape[3]\n",
        "x_flat = x_sub.reshape(x_sub.shape[0], x_sub_shape)"
      ],
      "execution_count": 0,
      "outputs": []
    },
    {
      "cell_type": "code",
      "metadata": {
        "id": "ZB5v86ysNzu9",
        "colab_type": "code",
        "outputId": "b6d19f03-d92d-4d62-da26-6bcbd75ed334",
        "colab": {
          "base_uri": "https://localhost:8080/",
          "height": 173
        }
      },
      "source": [
        "r = pd.value_counts(Y)\n",
        "print(r)\n",
        "from imblearn.under_sampling import RandomUnderSampler\n",
        "rus=RandomUnderSampler(ratio='auto')\n",
        "x_flat_resample,y_sub_resample=rus.fit_sample(x_flat,Y)\n",
        "len(x_flat_resample)\n",
        "r = pd.value_counts(y_sub_resample)\n",
        "print(r)"
      ],
      "execution_count": 0,
      "outputs": [
        {
          "output_type": "stream",
          "text": [
            "0    30556\n",
            "1     9444\n",
            "dtype: int64\n"
          ],
          "name": "stdout"
        },
        {
          "output_type": "stream",
          "text": [
            "/usr/local/lib/python3.6/dist-packages/sklearn/externals/six.py:31: DeprecationWarning: The module is deprecated in version 0.21 and will be removed in version 0.23 since we've dropped support for Python 2.7. Please rely on the official version of six (https://pypi.org/project/six/).\n",
            "  \"(https://pypi.org/project/six/).\", DeprecationWarning)\n"
          ],
          "name": "stderr"
        },
        {
          "output_type": "stream",
          "text": [
            "1    9444\n",
            "0    9444\n",
            "dtype: int64\n"
          ],
          "name": "stdout"
        }
      ]
    },
    {
      "cell_type": "code",
      "metadata": {
        "id": "O49ytS1fN4h7",
        "colab_type": "code",
        "colab": {}
      },
      "source": [
        "X_train, X_test, y_train, y_test = train_test_split(x_flat_resample, y_sub_resample, test_size=0.2, random_state = 2) # 0.2 test_size means 20%"
      ],
      "execution_count": 0,
      "outputs": []
    },
    {
      "cell_type": "code",
      "metadata": {
        "id": "MDuL5hOON584",
        "colab_type": "code",
        "colab": {}
      },
      "source": [
        "Y_train_c = to_categorical(y_train, num_classes = 2)\n",
        "Y_test_c = to_categorical(y_test, num_classes = 2)"
      ],
      "execution_count": 0,
      "outputs": []
    },
    {
      "cell_type": "code",
      "metadata": {
        "id": "CBq_Tgc-N7gn",
        "colab_type": "code",
        "colab": {}
      },
      "source": [
        "for i in range(len(X_train)):\n",
        "    height, width, channels = 50,50,3\n",
        "    X_train_reshape = X_train.reshape(len(X_train),height,width,channels)\n",
        "for i in range(len(X_test)):\n",
        "    height, width, channels = 50,50,3\n",
        "    X_test_reshape = X_test.reshape(len(X_test),height,width,channels)\n",
        "\n",
        "df = pd.DataFrame()\n",
        "df[\"labels\"]=y_train\n",
        "label = df['labels']\n"
      ],
      "execution_count": 0,
      "outputs": []
    },
    {
      "cell_type": "code",
      "metadata": {
        "id": "R9X1lR9SN9ag",
        "colab_type": "code",
        "outputId": "e2bd8620-0600-4b1f-8c5e-01d56dcf2e14",
        "colab": {
          "base_uri": "https://localhost:8080/",
          "height": 68
        }
      },
      "source": [
        "r = pd.value_counts(y_train)\n",
        "print(r)"
      ],
      "execution_count": 0,
      "outputs": [
        {
          "output_type": "stream",
          "text": [
            "0    7569\n",
            "1    7541\n",
            "dtype: int64\n"
          ],
          "name": "stdout"
        }
      ]
    },
    {
      "cell_type": "code",
      "metadata": {
        "id": "QLdzymtyN_Dz",
        "colab_type": "code",
        "outputId": "67f1b739-dedf-4293-c795-137df6179ba9",
        "colab": {
          "base_uri": "https://localhost:8080/",
          "height": 85
        }
      },
      "source": [
        "print(X_train_reshape.shape)\n",
        "print(Y_train_c.shape)\n",
        "print(X_test_reshape.shape)\n",
        "print(Y_test_c.shape)"
      ],
      "execution_count": 0,
      "outputs": [
        {
          "output_type": "stream",
          "text": [
            "(15110, 50, 50, 3)\n",
            "(15110, 2)\n",
            "(3778, 50, 50, 3)\n",
            "(3778, 2)\n"
          ],
          "name": "stdout"
        }
      ]
    },
    {
      "cell_type": "code",
      "metadata": {
        "id": "-HEyHwJ0OAu5",
        "colab_type": "code",
        "outputId": "1cd43f03-0d29-49ce-d3dc-4d4ab82dd67e",
        "colab": {
          "base_uri": "https://localhost:8080/",
          "height": 326
        }
      },
      "source": [
        "model = Sequential()\n",
        "model.add(Conv2D(32,(3,3), activation='relu', input_shape=(50, 50, 3), padding = 'Same', strides = 2, ))\n",
        "model.add(Conv2D(32,(3,3), padding = 'Same', activation='relu' ))\n",
        "model.add(Conv2D(32,(3,3), padding = 'Same', activation='relu'))\n",
        "model.add(MaxPooling2D(pool_size=(2,2)))\n",
        "model.add(Dropout(0.25))\n",
        "model.add(Flatten())\n",
        "model.add(Dense(32, activation='relu'))\n",
        "model.add(Dropout(0.25))\n",
        "model.add(Dense(2, activation='softmax'))   \n",
        "model.compile(loss=keras.losses.categorical_crossentropy,\n",
        "              optimizer=keras.optimizers.Adadelta(),\n",
        "              metrics=['accuracy'])\n",
        "model.compile(loss=keras.losses.categorical_crossentropy, optimizer=keras.optimizers.Adadelta(), metrics=['accuracy'])"
      ],
      "execution_count": 0,
      "outputs": [
        {
          "output_type": "stream",
          "text": [
            "WARNING:tensorflow:From /usr/local/lib/python3.6/dist-packages/keras/backend/tensorflow_backend.py:66: The name tf.get_default_graph is deprecated. Please use tf.compat.v1.get_default_graph instead.\n",
            "\n",
            "WARNING:tensorflow:From /usr/local/lib/python3.6/dist-packages/keras/backend/tensorflow_backend.py:541: The name tf.placeholder is deprecated. Please use tf.compat.v1.placeholder instead.\n",
            "\n",
            "WARNING:tensorflow:From /usr/local/lib/python3.6/dist-packages/keras/backend/tensorflow_backend.py:4432: The name tf.random_uniform is deprecated. Please use tf.random.uniform instead.\n",
            "\n",
            "WARNING:tensorflow:From /usr/local/lib/python3.6/dist-packages/keras/backend/tensorflow_backend.py:4267: The name tf.nn.max_pool is deprecated. Please use tf.nn.max_pool2d instead.\n",
            "\n",
            "WARNING:tensorflow:From /usr/local/lib/python3.6/dist-packages/keras/backend/tensorflow_backend.py:148: The name tf.placeholder_with_default is deprecated. Please use tf.compat.v1.placeholder_with_default instead.\n",
            "\n",
            "WARNING:tensorflow:From /usr/local/lib/python3.6/dist-packages/keras/backend/tensorflow_backend.py:3733: calling dropout (from tensorflow.python.ops.nn_ops) with keep_prob is deprecated and will be removed in a future version.\n",
            "Instructions for updating:\n",
            "Please use `rate` instead of `keep_prob`. Rate should be set to `rate = 1 - keep_prob`.\n",
            "WARNING:tensorflow:From /usr/local/lib/python3.6/dist-packages/keras/optimizers.py:793: The name tf.train.Optimizer is deprecated. Please use tf.compat.v1.train.Optimizer instead.\n",
            "\n",
            "WARNING:tensorflow:From /usr/local/lib/python3.6/dist-packages/keras/backend/tensorflow_backend.py:3576: The name tf.log is deprecated. Please use tf.math.log instead.\n",
            "\n"
          ],
          "name": "stdout"
        }
      ]
    },
    {
      "cell_type": "code",
      "metadata": {
        "id": "ERjsrYRbOCuJ",
        "colab_type": "code",
        "colab": {}
      },
      "source": [
        "datagen = ImageDataGenerator(\n",
        "        rotation_range=20,  # randomly rotate images in the range (degrees, 0 to 180)\n",
        "        width_shift_range=0.2,  # randomly shift images horizontally (fraction of total width)\n",
        "        height_shift_range=0.2,\n",
        "        shear_range=0.2,\n",
        "        zoom_range=0.2,\n",
        "        horizontal_flip=True,  # randomly flip images\n",
        "        vertical_flip=True) "
      ],
      "execution_count": 0,
      "outputs": []
    },
    {
      "cell_type": "code",
      "metadata": {
        "id": "T-IVEijLOFh7",
        "colab_type": "code",
        "colab": {}
      },
      "source": [
        "class MetricsCheckpoint(Callback):\n",
        "    def __init__(self, savepath):\n",
        "        super(MetricsCheckpoint, self).__init__()\n",
        "        self.savepath = savepath\n",
        "        self.history = {}\n",
        "    def on_epoch_end(self, epoch, logs=None):\n",
        "        for k, v in logs.items():\n",
        "            self.history.setdefault(k, []).append(v)\n",
        "        np.save(self.savepath, self.history)\n",
        "\n",
        "def plot_cm(cm, classes, normalize=False, title='Confusion matrix', cmap=plt.cm.Blues):\n",
        "    plt.figure(figsize = (5,5))\n",
        "    plt.imshow(cm, interpolation='nearest', cmap=cmap)\n",
        "    plt.title(title)\n",
        "    plt.colorbar()\n",
        "    tick_marks = np.arange(len(classes))\n",
        "    plt.xticks(tick_marks, classes, rotation=90)\n",
        "    plt.yticks(tick_marks, classes)\n",
        "    if normalize:\n",
        "        cm = cm.astype('float') / cm.sum(axis=1)[:, np.newaxis]\n",
        "\n",
        "    thresh = cm.max() / 2.\n",
        "    for i, j in itertools.product(range(cm.shape[0]), range(cm.shape[1])):\n",
        "        plt.text(j, i, cm[i, j],\n",
        "                 horizontalalignment=\"center\",\n",
        "                 verticalalignment=\"center\",\n",
        "                 color=\"white\" if cm[i, j] > thresh else \"black\")\n",
        "    plt.tight_layout()\n",
        "    plt.ylabel('True label')\n",
        "    plt.xlabel('Predicted label')\n",
        "    \n",
        "def plot_lc(history):\n",
        "    plt.figure(figsize=(8,8))\n",
        "    plt.subplot(1,2,1)\n",
        "    plt.plot(history.history['acc'])\n",
        "    plt.plot(history.history['val_acc'])\n",
        "    plt.title('model accuracy')\n",
        "    plt.ylabel('accuracy')\n",
        "    plt.xlabel('epoch')\n",
        "    plt.legend(['train', 'validation'], loc='upper left')\n",
        "    plt.savefig('./accuracy_curve.png')\n",
        "    plt.subplot(1,2,2)\n",
        "    plt.plot(history.history['loss'])\n",
        "    plt.plot(history.history['val_loss'])\n",
        "    plt.title('model loss')\n",
        "    plt.ylabel('loss')\n",
        "    plt.xlabel('epoch')\n",
        "    plt.legend(['train', 'validation'], loc='upper left')"
      ],
      "execution_count": 0,
      "outputs": []
    },
    {
      "cell_type": "code",
      "metadata": {
        "id": "-GRkCwF0c3P_",
        "colab_type": "code",
        "colab": {}
      },
      "source": [
        "X_train_reshape_train,X_train_valid,Y_train_train,Y_train_valid = train_test_split(X_train_reshape,Y_train_c,test_size = 0.2, random_state = 0)"
      ],
      "execution_count": 0,
      "outputs": []
    },
    {
      "cell_type": "code",
      "metadata": {
        "id": "vhDQbCW7OHHC",
        "colab_type": "code",
        "outputId": "0f5b1a0b-2001-4ae6-a241-a7d2c6f7e3d7",
        "colab": {
          "base_uri": "https://localhost:8080/",
          "height": 1000
        }
      },
      "source": [
        "history = model.fit_generator(datagen.flow(X_train_reshape_train,Y_train_train, batch_size=32),validation_data=(X_train_valid,Y_train_valid),\n",
        "                        steps_per_epoch=len(X_train_reshape_train) / 32, epochs=300 ,callbacks = [MetricsCheckpoint('logs')],verbose=1)"
      ],
      "execution_count": 0,
      "outputs": [
        {
          "output_type": "stream",
          "text": [
            "WARNING:tensorflow:From /usr/local/lib/python3.6/dist-packages/tensorflow_core/python/ops/math_grad.py:1424: where (from tensorflow.python.ops.array_ops) is deprecated and will be removed in a future version.\n",
            "Instructions for updating:\n",
            "Use tf.where in 2.0, which has the same broadcast rule as np.where\n",
            "WARNING:tensorflow:From /usr/local/lib/python3.6/dist-packages/keras/backend/tensorflow_backend.py:1033: The name tf.assign_add is deprecated. Please use tf.compat.v1.assign_add instead.\n",
            "\n",
            "WARNING:tensorflow:From /usr/local/lib/python3.6/dist-packages/keras/backend/tensorflow_backend.py:1020: The name tf.assign is deprecated. Please use tf.compat.v1.assign instead.\n",
            "\n",
            "WARNING:tensorflow:From /usr/local/lib/python3.6/dist-packages/keras/backend/tensorflow_backend.py:3005: The name tf.Session is deprecated. Please use tf.compat.v1.Session instead.\n",
            "\n",
            "Epoch 1/300\n",
            "WARNING:tensorflow:From /usr/local/lib/python3.6/dist-packages/keras/backend/tensorflow_backend.py:190: The name tf.get_default_session is deprecated. Please use tf.compat.v1.get_default_session instead.\n",
            "\n",
            "WARNING:tensorflow:From /usr/local/lib/python3.6/dist-packages/keras/backend/tensorflow_backend.py:197: The name tf.ConfigProto is deprecated. Please use tf.compat.v1.ConfigProto instead.\n",
            "\n",
            "WARNING:tensorflow:From /usr/local/lib/python3.6/dist-packages/keras/backend/tensorflow_backend.py:207: The name tf.global_variables is deprecated. Please use tf.compat.v1.global_variables instead.\n",
            "\n",
            "WARNING:tensorflow:From /usr/local/lib/python3.6/dist-packages/keras/backend/tensorflow_backend.py:216: The name tf.is_variable_initialized is deprecated. Please use tf.compat.v1.is_variable_initialized instead.\n",
            "\n",
            "WARNING:tensorflow:From /usr/local/lib/python3.6/dist-packages/keras/backend/tensorflow_backend.py:223: The name tf.variables_initializer is deprecated. Please use tf.compat.v1.variables_initializer instead.\n",
            "\n",
            "378/377 [==============================] - 20s 53ms/step - loss: 0.6514 - acc: 0.6134 - val_loss: 0.6390 - val_acc: 0.6615\n",
            "Epoch 2/300\n",
            "378/377 [==============================] - 12s 31ms/step - loss: 0.5605 - acc: 0.7205 - val_loss: 0.5219 - val_acc: 0.7531\n",
            "Epoch 3/300\n",
            "378/377 [==============================] - 12s 32ms/step - loss: 0.4911 - acc: 0.7763 - val_loss: 0.4612 - val_acc: 0.7945\n",
            "Epoch 4/300\n",
            "378/377 [==============================] - 12s 31ms/step - loss: 0.4627 - acc: 0.7966 - val_loss: 0.4854 - val_acc: 0.7641\n",
            "Epoch 5/300\n",
            "378/377 [==============================] - 12s 32ms/step - loss: 0.4433 - acc: 0.8064 - val_loss: 0.5752 - val_acc: 0.7373\n",
            "Epoch 6/300\n",
            "378/377 [==============================] - 12s 32ms/step - loss: 0.4289 - acc: 0.8172 - val_loss: 0.4196 - val_acc: 0.8203\n",
            "Epoch 7/300\n",
            "378/377 [==============================] - 12s 32ms/step - loss: 0.4240 - acc: 0.8197 - val_loss: 0.4189 - val_acc: 0.8173\n",
            "Epoch 8/300\n",
            "378/377 [==============================] - 12s 32ms/step - loss: 0.4206 - acc: 0.8218 - val_loss: 0.4454 - val_acc: 0.7995\n",
            "Epoch 9/300\n",
            "378/377 [==============================] - 12s 32ms/step - loss: 0.4136 - acc: 0.8239 - val_loss: 0.4256 - val_acc: 0.8144\n",
            "Epoch 10/300\n",
            "378/377 [==============================] - 12s 32ms/step - loss: 0.4092 - acc: 0.8275 - val_loss: 0.3935 - val_acc: 0.8269\n",
            "Epoch 11/300\n",
            "378/377 [==============================] - 12s 32ms/step - loss: 0.4039 - acc: 0.8290 - val_loss: 0.3856 - val_acc: 0.8329\n",
            "Epoch 12/300\n",
            "378/377 [==============================] - 12s 32ms/step - loss: 0.4026 - acc: 0.8332 - val_loss: 0.4239 - val_acc: 0.8243\n",
            "Epoch 13/300\n",
            "378/377 [==============================] - 12s 32ms/step - loss: 0.3976 - acc: 0.8334 - val_loss: 0.3846 - val_acc: 0.8355\n",
            "Epoch 14/300\n",
            "378/377 [==============================] - 12s 31ms/step - loss: 0.3944 - acc: 0.8356 - val_loss: 0.3755 - val_acc: 0.8349\n",
            "Epoch 15/300\n",
            "378/377 [==============================] - 12s 32ms/step - loss: 0.3854 - acc: 0.8410 - val_loss: 0.3921 - val_acc: 0.8375\n",
            "Epoch 16/300\n",
            "378/377 [==============================] - 12s 32ms/step - loss: 0.3865 - acc: 0.8368 - val_loss: 0.3879 - val_acc: 0.8312\n",
            "Epoch 17/300\n",
            "378/377 [==============================] - 12s 32ms/step - loss: 0.3819 - acc: 0.8391 - val_loss: 0.3843 - val_acc: 0.8276\n",
            "Epoch 18/300\n",
            "378/377 [==============================] - 12s 31ms/step - loss: 0.3794 - acc: 0.8404 - val_loss: 0.4052 - val_acc: 0.8226\n",
            "Epoch 19/300\n",
            "378/377 [==============================] - 12s 32ms/step - loss: 0.3836 - acc: 0.8410 - val_loss: 0.3769 - val_acc: 0.8369\n",
            "Epoch 20/300\n",
            "378/377 [==============================] - 12s 32ms/step - loss: 0.3766 - acc: 0.8439 - val_loss: 0.3854 - val_acc: 0.8448\n",
            "Epoch 21/300\n",
            "378/377 [==============================] - 12s 31ms/step - loss: 0.3808 - acc: 0.8434 - val_loss: 0.3908 - val_acc: 0.8306\n",
            "Epoch 22/300\n",
            "378/377 [==============================] - 12s 32ms/step - loss: 0.3764 - acc: 0.8413 - val_loss: 0.3578 - val_acc: 0.8441\n",
            "Epoch 23/300\n",
            "378/377 [==============================] - 12s 31ms/step - loss: 0.3788 - acc: 0.8435 - val_loss: 0.3562 - val_acc: 0.8448\n",
            "Epoch 24/300\n",
            "378/377 [==============================] - 12s 32ms/step - loss: 0.3757 - acc: 0.8467 - val_loss: 0.3552 - val_acc: 0.8445\n",
            "Epoch 25/300\n",
            "378/377 [==============================] - 12s 32ms/step - loss: 0.3718 - acc: 0.8475 - val_loss: 0.3606 - val_acc: 0.8435\n",
            "Epoch 26/300\n",
            "378/377 [==============================] - 12s 32ms/step - loss: 0.3691 - acc: 0.8469 - val_loss: 0.3548 - val_acc: 0.8494\n",
            "Epoch 27/300\n",
            "378/377 [==============================] - 12s 32ms/step - loss: 0.3699 - acc: 0.8472 - val_loss: 0.3619 - val_acc: 0.8402\n",
            "Epoch 28/300\n",
            "378/377 [==============================] - 12s 32ms/step - loss: 0.3681 - acc: 0.8469 - val_loss: 0.3520 - val_acc: 0.8461\n",
            "Epoch 29/300\n",
            "378/377 [==============================] - 12s 33ms/step - loss: 0.3651 - acc: 0.8484 - val_loss: 0.3778 - val_acc: 0.8402\n",
            "Epoch 30/300\n",
            "378/377 [==============================] - 12s 32ms/step - loss: 0.3674 - acc: 0.8482 - val_loss: 0.3474 - val_acc: 0.8484\n",
            "Epoch 31/300\n",
            "378/377 [==============================] - 12s 32ms/step - loss: 0.3660 - acc: 0.8503 - val_loss: 0.3550 - val_acc: 0.8498\n",
            "Epoch 32/300\n",
            "378/377 [==============================] - 12s 32ms/step - loss: 0.3620 - acc: 0.8507 - val_loss: 0.3775 - val_acc: 0.8405\n",
            "Epoch 33/300\n",
            "378/377 [==============================] - 12s 32ms/step - loss: 0.3644 - acc: 0.8493 - val_loss: 0.3586 - val_acc: 0.8478\n",
            "Epoch 34/300\n",
            "378/377 [==============================] - 12s 32ms/step - loss: 0.3690 - acc: 0.8501 - val_loss: 0.3475 - val_acc: 0.8465\n",
            "Epoch 35/300\n",
            "378/377 [==============================] - 12s 32ms/step - loss: 0.3580 - acc: 0.8535 - val_loss: 0.3524 - val_acc: 0.8468\n",
            "Epoch 36/300\n",
            "378/377 [==============================] - 12s 32ms/step - loss: 0.3616 - acc: 0.8474 - val_loss: 0.3511 - val_acc: 0.8511\n",
            "Epoch 37/300\n",
            "378/377 [==============================] - 12s 32ms/step - loss: 0.3590 - acc: 0.8508 - val_loss: 0.3332 - val_acc: 0.8564\n",
            "Epoch 38/300\n",
            "378/377 [==============================] - 12s 33ms/step - loss: 0.3586 - acc: 0.8527 - val_loss: 0.3734 - val_acc: 0.8362\n",
            "Epoch 39/300\n",
            "378/377 [==============================] - 12s 31ms/step - loss: 0.3590 - acc: 0.8511 - val_loss: 0.3421 - val_acc: 0.8511\n",
            "Epoch 40/300\n",
            "378/377 [==============================] - 12s 32ms/step - loss: 0.3562 - acc: 0.8520 - val_loss: 0.3543 - val_acc: 0.8451\n",
            "Epoch 41/300\n",
            "378/377 [==============================] - 12s 33ms/step - loss: 0.3561 - acc: 0.8540 - val_loss: 0.3536 - val_acc: 0.8524\n",
            "Epoch 42/300\n",
            "378/377 [==============================] - 12s 33ms/step - loss: 0.3548 - acc: 0.8552 - val_loss: 0.3332 - val_acc: 0.8521\n",
            "Epoch 43/300\n",
            "378/377 [==============================] - 12s 32ms/step - loss: 0.3528 - acc: 0.8530 - val_loss: 0.3570 - val_acc: 0.8484\n",
            "Epoch 44/300\n",
            "378/377 [==============================] - 12s 32ms/step - loss: 0.3521 - acc: 0.8561 - val_loss: 0.3456 - val_acc: 0.8508\n",
            "Epoch 45/300\n",
            "378/377 [==============================] - 12s 32ms/step - loss: 0.3528 - acc: 0.8565 - val_loss: 0.3598 - val_acc: 0.8491\n",
            "Epoch 46/300\n",
            "378/377 [==============================] - 12s 32ms/step - loss: 0.3511 - acc: 0.8574 - val_loss: 0.3373 - val_acc: 0.8514\n",
            "Epoch 47/300\n",
            "378/377 [==============================] - 12s 32ms/step - loss: 0.3502 - acc: 0.8554 - val_loss: 0.3414 - val_acc: 0.8514\n",
            "Epoch 48/300\n",
            "378/377 [==============================] - 12s 32ms/step - loss: 0.3490 - acc: 0.8568 - val_loss: 0.3311 - val_acc: 0.8541\n",
            "Epoch 49/300\n",
            "378/377 [==============================] - 12s 32ms/step - loss: 0.3469 - acc: 0.8569 - val_loss: 0.3415 - val_acc: 0.8590\n",
            "Epoch 50/300\n",
            "378/377 [==============================] - 12s 32ms/step - loss: 0.3457 - acc: 0.8579 - val_loss: 0.3338 - val_acc: 0.8537\n",
            "Epoch 51/300\n",
            "378/377 [==============================] - 12s 32ms/step - loss: 0.3444 - acc: 0.8536 - val_loss: 0.3383 - val_acc: 0.8524\n",
            "Epoch 52/300\n",
            "378/377 [==============================] - 12s 31ms/step - loss: 0.3482 - acc: 0.8570 - val_loss: 0.3414 - val_acc: 0.8564\n",
            "Epoch 53/300\n",
            "378/377 [==============================] - 12s 32ms/step - loss: 0.3472 - acc: 0.8570 - val_loss: 0.3554 - val_acc: 0.8498\n",
            "Epoch 54/300\n",
            "378/377 [==============================] - 12s 31ms/step - loss: 0.3473 - acc: 0.8574 - val_loss: 0.3544 - val_acc: 0.8388\n",
            "Epoch 55/300\n",
            "378/377 [==============================] - 12s 31ms/step - loss: 0.3434 - acc: 0.8590 - val_loss: 0.3448 - val_acc: 0.8461\n",
            "Epoch 56/300\n",
            "378/377 [==============================] - 12s 31ms/step - loss: 0.3445 - acc: 0.8577 - val_loss: 0.3277 - val_acc: 0.8637\n",
            "Epoch 57/300\n",
            "378/377 [==============================] - 12s 32ms/step - loss: 0.3376 - acc: 0.8636 - val_loss: 0.3294 - val_acc: 0.8617\n",
            "Epoch 58/300\n",
            "378/377 [==============================] - 12s 31ms/step - loss: 0.3430 - acc: 0.8601 - val_loss: 0.3347 - val_acc: 0.8534\n",
            "Epoch 59/300\n",
            "378/377 [==============================] - 12s 32ms/step - loss: 0.3407 - acc: 0.8610 - val_loss: 0.3232 - val_acc: 0.8696\n",
            "Epoch 60/300\n",
            "378/377 [==============================] - 12s 32ms/step - loss: 0.3417 - acc: 0.8582 - val_loss: 0.3252 - val_acc: 0.8614\n",
            "Epoch 61/300\n",
            "378/377 [==============================] - 12s 32ms/step - loss: 0.3385 - acc: 0.8604 - val_loss: 0.3337 - val_acc: 0.8511\n",
            "Epoch 62/300\n",
            "378/377 [==============================] - 12s 32ms/step - loss: 0.3399 - acc: 0.8619 - val_loss: 0.3219 - val_acc: 0.8630\n",
            "Epoch 63/300\n",
            "378/377 [==============================] - 12s 31ms/step - loss: 0.3359 - acc: 0.8617 - val_loss: 0.3298 - val_acc: 0.8594\n",
            "Epoch 64/300\n",
            "378/377 [==============================] - 12s 32ms/step - loss: 0.3382 - acc: 0.8603 - val_loss: 0.3663 - val_acc: 0.8408\n",
            "Epoch 65/300\n",
            "378/377 [==============================] - 12s 31ms/step - loss: 0.3400 - acc: 0.8636 - val_loss: 0.3307 - val_acc: 0.8587\n",
            "Epoch 66/300\n",
            "378/377 [==============================] - 12s 32ms/step - loss: 0.3409 - acc: 0.8600 - val_loss: 0.3318 - val_acc: 0.8554\n",
            "Epoch 67/300\n",
            "378/377 [==============================] - 12s 31ms/step - loss: 0.3347 - acc: 0.8643 - val_loss: 0.3326 - val_acc: 0.8547\n",
            "Epoch 68/300\n",
            "378/377 [==============================] - 12s 32ms/step - loss: 0.3343 - acc: 0.8629 - val_loss: 0.3474 - val_acc: 0.8484\n",
            "Epoch 69/300\n",
            "378/377 [==============================] - 12s 31ms/step - loss: 0.3387 - acc: 0.8619 - val_loss: 0.3666 - val_acc: 0.8398\n",
            "Epoch 70/300\n",
            "378/377 [==============================] - 12s 31ms/step - loss: 0.3373 - acc: 0.8652 - val_loss: 0.3199 - val_acc: 0.8604\n",
            "Epoch 71/300\n",
            "378/377 [==============================] - 12s 31ms/step - loss: 0.3379 - acc: 0.8611 - val_loss: 0.3178 - val_acc: 0.8607\n",
            "Epoch 72/300\n",
            "378/377 [==============================] - 12s 31ms/step - loss: 0.3343 - acc: 0.8645 - val_loss: 0.3537 - val_acc: 0.8504\n",
            "Epoch 73/300\n",
            "378/377 [==============================] - 12s 31ms/step - loss: 0.3373 - acc: 0.8626 - val_loss: 0.3220 - val_acc: 0.8614\n",
            "Epoch 74/300\n",
            "378/377 [==============================] - 12s 31ms/step - loss: 0.3382 - acc: 0.8621 - val_loss: 0.3420 - val_acc: 0.8521\n",
            "Epoch 75/300\n",
            "378/377 [==============================] - 12s 31ms/step - loss: 0.3370 - acc: 0.8611 - val_loss: 0.3216 - val_acc: 0.8627\n",
            "Epoch 76/300\n",
            "378/377 [==============================] - 12s 31ms/step - loss: 0.3310 - acc: 0.8651 - val_loss: 0.3296 - val_acc: 0.8643\n",
            "Epoch 77/300\n",
            "378/377 [==============================] - 12s 32ms/step - loss: 0.3365 - acc: 0.8647 - val_loss: 0.3280 - val_acc: 0.8597\n",
            "Epoch 78/300\n",
            "378/377 [==============================] - 12s 32ms/step - loss: 0.3310 - acc: 0.8656 - val_loss: 0.3068 - val_acc: 0.8683\n",
            "Epoch 79/300\n",
            "378/377 [==============================] - 12s 31ms/step - loss: 0.3344 - acc: 0.8664 - val_loss: 0.3254 - val_acc: 0.8590\n",
            "Epoch 80/300\n",
            "378/377 [==============================] - 12s 31ms/step - loss: 0.3299 - acc: 0.8637 - val_loss: 0.3444 - val_acc: 0.8514\n",
            "Epoch 81/300\n",
            "378/377 [==============================] - 12s 31ms/step - loss: 0.3288 - acc: 0.8636 - val_loss: 0.3449 - val_acc: 0.8488\n",
            "Epoch 82/300\n",
            "378/377 [==============================] - 12s 31ms/step - loss: 0.3293 - acc: 0.8639 - val_loss: 0.3438 - val_acc: 0.8574\n",
            "Epoch 83/300\n",
            "378/377 [==============================] - 12s 31ms/step - loss: 0.3275 - acc: 0.8636 - val_loss: 0.3206 - val_acc: 0.8597\n",
            "Epoch 84/300\n",
            "378/377 [==============================] - 12s 31ms/step - loss: 0.3283 - acc: 0.8648 - val_loss: 0.3191 - val_acc: 0.8617\n",
            "Epoch 85/300\n",
            "378/377 [==============================] - 12s 31ms/step - loss: 0.3322 - acc: 0.8619 - val_loss: 0.3085 - val_acc: 0.8716\n",
            "Epoch 86/300\n",
            "378/377 [==============================] - 12s 31ms/step - loss: 0.3255 - acc: 0.8687 - val_loss: 0.3115 - val_acc: 0.8610\n",
            "Epoch 87/300\n",
            "378/377 [==============================] - 12s 31ms/step - loss: 0.3277 - acc: 0.8686 - val_loss: 0.3310 - val_acc: 0.8607\n",
            "Epoch 88/300\n",
            "378/377 [==============================] - 12s 31ms/step - loss: 0.3285 - acc: 0.8632 - val_loss: 0.3141 - val_acc: 0.8716\n",
            "Epoch 89/300\n",
            "378/377 [==============================] - 12s 31ms/step - loss: 0.3269 - acc: 0.8666 - val_loss: 0.3087 - val_acc: 0.8706\n",
            "Epoch 90/300\n",
            "378/377 [==============================] - 12s 31ms/step - loss: 0.3198 - acc: 0.8681 - val_loss: 0.3301 - val_acc: 0.8597\n",
            "Epoch 91/300\n",
            "378/377 [==============================] - 12s 31ms/step - loss: 0.3228 - acc: 0.8673 - val_loss: 0.2994 - val_acc: 0.8693\n",
            "Epoch 92/300\n",
            "378/377 [==============================] - 12s 31ms/step - loss: 0.3294 - acc: 0.8643 - val_loss: 0.3068 - val_acc: 0.8680\n",
            "Epoch 93/300\n",
            "378/377 [==============================] - 12s 31ms/step - loss: 0.3245 - acc: 0.8666 - val_loss: 0.3225 - val_acc: 0.8623\n",
            "Epoch 94/300\n",
            "378/377 [==============================] - 12s 32ms/step - loss: 0.3279 - acc: 0.8640 - val_loss: 0.3251 - val_acc: 0.8633\n",
            "Epoch 95/300\n",
            "378/377 [==============================] - 12s 31ms/step - loss: 0.3274 - acc: 0.8691 - val_loss: 0.3205 - val_acc: 0.8617\n",
            "Epoch 96/300\n",
            "378/377 [==============================] - 12s 31ms/step - loss: 0.3210 - acc: 0.8708 - val_loss: 0.3227 - val_acc: 0.8614\n",
            "Epoch 97/300\n",
            "378/377 [==============================] - 12s 31ms/step - loss: 0.3261 - acc: 0.8667 - val_loss: 0.3219 - val_acc: 0.8657\n",
            "Epoch 98/300\n",
            "378/377 [==============================] - 12s 31ms/step - loss: 0.3230 - acc: 0.8682 - val_loss: 0.3032 - val_acc: 0.8726\n",
            "Epoch 99/300\n",
            "378/377 [==============================] - 12s 32ms/step - loss: 0.3238 - acc: 0.8647 - val_loss: 0.3349 - val_acc: 0.8580\n",
            "Epoch 100/300\n",
            "378/377 [==============================] - 12s 31ms/step - loss: 0.3252 - acc: 0.8652 - val_loss: 0.3095 - val_acc: 0.8640\n",
            "Epoch 101/300\n",
            "378/377 [==============================] - 12s 31ms/step - loss: 0.3247 - acc: 0.8669 - val_loss: 0.3132 - val_acc: 0.8693\n",
            "Epoch 102/300\n",
            "378/377 [==============================] - 12s 31ms/step - loss: 0.3206 - acc: 0.8682 - val_loss: 0.2997 - val_acc: 0.8690\n",
            "Epoch 103/300\n",
            "378/377 [==============================] - 12s 32ms/step - loss: 0.3239 - acc: 0.8701 - val_loss: 0.3559 - val_acc: 0.8405\n",
            "Epoch 104/300\n",
            "378/377 [==============================] - 12s 31ms/step - loss: 0.3218 - acc: 0.8650 - val_loss: 0.3015 - val_acc: 0.8719\n",
            "Epoch 105/300\n",
            "378/377 [==============================] - 12s 31ms/step - loss: 0.3225 - acc: 0.8697 - val_loss: 0.3352 - val_acc: 0.8498\n",
            "Epoch 106/300\n",
            "378/377 [==============================] - 12s 31ms/step - loss: 0.3257 - acc: 0.8664 - val_loss: 0.3141 - val_acc: 0.8597\n",
            "Epoch 107/300\n",
            "378/377 [==============================] - 12s 31ms/step - loss: 0.3235 - acc: 0.8679 - val_loss: 0.3000 - val_acc: 0.8696\n",
            "Epoch 108/300\n",
            "378/377 [==============================] - 12s 31ms/step - loss: 0.3255 - acc: 0.8687 - val_loss: 0.3217 - val_acc: 0.8627\n",
            "Epoch 109/300\n",
            "378/377 [==============================] - 12s 32ms/step - loss: 0.3249 - acc: 0.8674 - val_loss: 0.3072 - val_acc: 0.8640\n",
            "Epoch 110/300\n",
            "378/377 [==============================] - 12s 31ms/step - loss: 0.3225 - acc: 0.8711 - val_loss: 0.3111 - val_acc: 0.8650\n",
            "Epoch 111/300\n",
            "378/377 [==============================] - 12s 32ms/step - loss: 0.3192 - acc: 0.8686 - val_loss: 0.3160 - val_acc: 0.8610\n",
            "Epoch 112/300\n",
            "378/377 [==============================] - 12s 31ms/step - loss: 0.3270 - acc: 0.8675 - val_loss: 0.3060 - val_acc: 0.8703\n",
            "Epoch 113/300\n",
            "378/377 [==============================] - 12s 32ms/step - loss: 0.3189 - acc: 0.8684 - val_loss: 0.2948 - val_acc: 0.8706\n",
            "Epoch 114/300\n",
            "378/377 [==============================] - 12s 32ms/step - loss: 0.3178 - acc: 0.8728 - val_loss: 0.3032 - val_acc: 0.8709\n",
            "Epoch 115/300\n",
            "378/377 [==============================] - 12s 31ms/step - loss: 0.3221 - acc: 0.8679 - val_loss: 0.3084 - val_acc: 0.8676\n",
            "Epoch 116/300\n",
            "378/377 [==============================] - 12s 31ms/step - loss: 0.3180 - acc: 0.8687 - val_loss: 0.3155 - val_acc: 0.8653\n",
            "Epoch 117/300\n",
            "378/377 [==============================] - 12s 31ms/step - loss: 0.3202 - acc: 0.8700 - val_loss: 0.3156 - val_acc: 0.8670\n",
            "Epoch 118/300\n",
            "378/377 [==============================] - 12s 31ms/step - loss: 0.3217 - acc: 0.8662 - val_loss: 0.3013 - val_acc: 0.8693\n",
            "Epoch 119/300\n",
            "378/377 [==============================] - 12s 32ms/step - loss: 0.3208 - acc: 0.8717 - val_loss: 0.3167 - val_acc: 0.8676\n",
            "Epoch 120/300\n",
            "378/377 [==============================] - 12s 32ms/step - loss: 0.3197 - acc: 0.8677 - val_loss: 0.3022 - val_acc: 0.8782\n",
            "Epoch 121/300\n",
            "378/377 [==============================] - 12s 31ms/step - loss: 0.3159 - acc: 0.8709 - val_loss: 0.3342 - val_acc: 0.8561\n",
            "Epoch 122/300\n",
            "378/377 [==============================] - 12s 31ms/step - loss: 0.3179 - acc: 0.8730 - val_loss: 0.3046 - val_acc: 0.8752\n",
            "Epoch 123/300\n",
            "378/377 [==============================] - 12s 31ms/step - loss: 0.3196 - acc: 0.8693 - val_loss: 0.3341 - val_acc: 0.8637\n",
            "Epoch 124/300\n",
            "378/377 [==============================] - 12s 32ms/step - loss: 0.3148 - acc: 0.8726 - val_loss: 0.3110 - val_acc: 0.8716\n",
            "Epoch 125/300\n",
            "378/377 [==============================] - 12s 32ms/step - loss: 0.3145 - acc: 0.8730 - val_loss: 0.3320 - val_acc: 0.8587\n",
            "Epoch 126/300\n",
            "378/377 [==============================] - 12s 31ms/step - loss: 0.3201 - acc: 0.8718 - val_loss: 0.3088 - val_acc: 0.8666\n",
            "Epoch 127/300\n",
            "378/377 [==============================] - 12s 32ms/step - loss: 0.3187 - acc: 0.8713 - val_loss: 0.3204 - val_acc: 0.8670\n",
            "Epoch 128/300\n",
            "378/377 [==============================] - 12s 31ms/step - loss: 0.3201 - acc: 0.8699 - val_loss: 0.3244 - val_acc: 0.8604\n",
            "Epoch 129/300\n",
            "378/377 [==============================] - 12s 32ms/step - loss: 0.3187 - acc: 0.8695 - val_loss: 0.3005 - val_acc: 0.8723\n",
            "Epoch 130/300\n",
            "378/377 [==============================] - 12s 31ms/step - loss: 0.3187 - acc: 0.8724 - val_loss: 0.3035 - val_acc: 0.8706\n",
            "Epoch 131/300\n",
            "378/377 [==============================] - 12s 31ms/step - loss: 0.3148 - acc: 0.8715 - val_loss: 0.2938 - val_acc: 0.8709\n",
            "Epoch 132/300\n",
            "378/377 [==============================] - 12s 31ms/step - loss: 0.3167 - acc: 0.8712 - val_loss: 0.3505 - val_acc: 0.8451\n",
            "Epoch 133/300\n",
            "378/377 [==============================] - 12s 31ms/step - loss: 0.3218 - acc: 0.8706 - val_loss: 0.2950 - val_acc: 0.8756\n",
            "Epoch 134/300\n",
            "378/377 [==============================] - 12s 31ms/step - loss: 0.3148 - acc: 0.8712 - val_loss: 0.3268 - val_acc: 0.8590\n",
            "Epoch 135/300\n",
            "378/377 [==============================] - 12s 31ms/step - loss: 0.3171 - acc: 0.8710 - val_loss: 0.3274 - val_acc: 0.8610\n",
            "Epoch 136/300\n",
            "378/377 [==============================] - 12s 32ms/step - loss: 0.3161 - acc: 0.8713 - val_loss: 0.3012 - val_acc: 0.8752\n",
            "Epoch 137/300\n",
            "378/377 [==============================] - 12s 31ms/step - loss: 0.3203 - acc: 0.8708 - val_loss: 0.3038 - val_acc: 0.8703\n",
            "Epoch 138/300\n",
            "378/377 [==============================] - 12s 31ms/step - loss: 0.3202 - acc: 0.8707 - val_loss: 0.2935 - val_acc: 0.8789\n",
            "Epoch 139/300\n",
            "378/377 [==============================] - 12s 31ms/step - loss: 0.3116 - acc: 0.8713 - val_loss: 0.2985 - val_acc: 0.8719\n",
            "Epoch 140/300\n",
            "378/377 [==============================] - 12s 31ms/step - loss: 0.3159 - acc: 0.8730 - val_loss: 0.2949 - val_acc: 0.8772\n",
            "Epoch 141/300\n",
            "378/377 [==============================] - 12s 31ms/step - loss: 0.3163 - acc: 0.8721 - val_loss: 0.3088 - val_acc: 0.8756\n",
            "Epoch 142/300\n",
            "378/377 [==============================] - 12s 32ms/step - loss: 0.3118 - acc: 0.8731 - val_loss: 0.2905 - val_acc: 0.8749\n",
            "Epoch 143/300\n",
            "378/377 [==============================] - 12s 31ms/step - loss: 0.3182 - acc: 0.8700 - val_loss: 0.3045 - val_acc: 0.8693\n",
            "Epoch 144/300\n",
            "378/377 [==============================] - 12s 31ms/step - loss: 0.3148 - acc: 0.8712 - val_loss: 0.2914 - val_acc: 0.8743\n",
            "Epoch 145/300\n",
            "378/377 [==============================] - 12s 31ms/step - loss: 0.3094 - acc: 0.8741 - val_loss: 0.2961 - val_acc: 0.8789\n",
            "Epoch 146/300\n",
            "378/377 [==============================] - 12s 31ms/step - loss: 0.3140 - acc: 0.8730 - val_loss: 0.2969 - val_acc: 0.8752\n",
            "Epoch 147/300\n",
            "378/377 [==============================] - 12s 32ms/step - loss: 0.3131 - acc: 0.8732 - val_loss: 0.3002 - val_acc: 0.8726\n",
            "Epoch 148/300\n",
            "378/377 [==============================] - 12s 31ms/step - loss: 0.3174 - acc: 0.8718 - val_loss: 0.2947 - val_acc: 0.8683\n",
            "Epoch 149/300\n",
            "378/377 [==============================] - 12s 31ms/step - loss: 0.3141 - acc: 0.8742 - val_loss: 0.3144 - val_acc: 0.8650\n",
            "Epoch 150/300\n",
            "378/377 [==============================] - 12s 31ms/step - loss: 0.3132 - acc: 0.8716 - val_loss: 0.3156 - val_acc: 0.8683\n",
            "Epoch 151/300\n",
            "378/377 [==============================] - 12s 32ms/step - loss: 0.3130 - acc: 0.8757 - val_loss: 0.2891 - val_acc: 0.8759\n",
            "Epoch 152/300\n",
            "378/377 [==============================] - 12s 31ms/step - loss: 0.3140 - acc: 0.8719 - val_loss: 0.3063 - val_acc: 0.8670\n",
            "Epoch 153/300\n",
            "378/377 [==============================] - 12s 31ms/step - loss: 0.3095 - acc: 0.8744 - val_loss: 0.3092 - val_acc: 0.8663\n",
            "Epoch 154/300\n",
            "378/377 [==============================] - 12s 31ms/step - loss: 0.3146 - acc: 0.8749 - val_loss: 0.2952 - val_acc: 0.8706\n",
            "Epoch 155/300\n",
            "378/377 [==============================] - 12s 32ms/step - loss: 0.3149 - acc: 0.8714 - val_loss: 0.2961 - val_acc: 0.8736\n",
            "Epoch 156/300\n",
            "378/377 [==============================] - 12s 32ms/step - loss: 0.3119 - acc: 0.8747 - val_loss: 0.2896 - val_acc: 0.8752\n",
            "Epoch 157/300\n",
            "378/377 [==============================] - 12s 31ms/step - loss: 0.3117 - acc: 0.8747 - val_loss: 0.2925 - val_acc: 0.8756\n",
            "Epoch 158/300\n",
            "378/377 [==============================] - 12s 31ms/step - loss: 0.3132 - acc: 0.8746 - val_loss: 0.2963 - val_acc: 0.8713\n",
            "Epoch 159/300\n",
            "378/377 [==============================] - 12s 31ms/step - loss: 0.3101 - acc: 0.8732 - val_loss: 0.3120 - val_acc: 0.8610\n",
            "Epoch 160/300\n",
            "378/377 [==============================] - 12s 31ms/step - loss: 0.3106 - acc: 0.8709 - val_loss: 0.3044 - val_acc: 0.8663\n",
            "Epoch 161/300\n",
            "378/377 [==============================] - 12s 32ms/step - loss: 0.3082 - acc: 0.8783 - val_loss: 0.2870 - val_acc: 0.8762\n",
            "Epoch 162/300\n",
            "378/377 [==============================] - 12s 31ms/step - loss: 0.3135 - acc: 0.8733 - val_loss: 0.3155 - val_acc: 0.8680\n",
            "Epoch 163/300\n",
            "378/377 [==============================] - 12s 31ms/step - loss: 0.3084 - acc: 0.8726 - val_loss: 0.2882 - val_acc: 0.8762\n",
            "Epoch 164/300\n",
            "378/377 [==============================] - 12s 31ms/step - loss: 0.3118 - acc: 0.8732 - val_loss: 0.3145 - val_acc: 0.8670\n",
            "Epoch 165/300\n",
            "378/377 [==============================] - 12s 32ms/step - loss: 0.3095 - acc: 0.8757 - val_loss: 0.2997 - val_acc: 0.8729\n",
            "Epoch 166/300\n",
            "378/377 [==============================] - 12s 32ms/step - loss: 0.3090 - acc: 0.8769 - val_loss: 0.3129 - val_acc: 0.8620\n",
            "Epoch 167/300\n",
            "378/377 [==============================] - 12s 31ms/step - loss: 0.3110 - acc: 0.8736 - val_loss: 0.3211 - val_acc: 0.8673\n",
            "Epoch 168/300\n",
            "378/377 [==============================] - 12s 31ms/step - loss: 0.3080 - acc: 0.8733 - val_loss: 0.2958 - val_acc: 0.8706\n",
            "Epoch 169/300\n",
            "378/377 [==============================] - 12s 31ms/step - loss: 0.3077 - acc: 0.8744 - val_loss: 0.3087 - val_acc: 0.8670\n",
            "Epoch 170/300\n",
            "378/377 [==============================] - 12s 32ms/step - loss: 0.3053 - acc: 0.8759 - val_loss: 0.3409 - val_acc: 0.8716\n",
            "Epoch 171/300\n",
            "378/377 [==============================] - 12s 31ms/step - loss: 0.3140 - acc: 0.8712 - val_loss: 0.3037 - val_acc: 0.8709\n",
            "Epoch 172/300\n",
            "378/377 [==============================] - 12s 32ms/step - loss: 0.3090 - acc: 0.8734 - val_loss: 0.2947 - val_acc: 0.8752\n",
            "Epoch 173/300\n",
            "378/377 [==============================] - 12s 32ms/step - loss: 0.3056 - acc: 0.8735 - val_loss: 0.2957 - val_acc: 0.8726\n",
            "Epoch 174/300\n",
            "378/377 [==============================] - 12s 32ms/step - loss: 0.3075 - acc: 0.8744 - val_loss: 0.3131 - val_acc: 0.8670\n",
            "Epoch 175/300\n",
            "378/377 [==============================] - 12s 32ms/step - loss: 0.3092 - acc: 0.8786 - val_loss: 0.2838 - val_acc: 0.8749\n",
            "Epoch 176/300\n",
            "378/377 [==============================] - 12s 32ms/step - loss: 0.3080 - acc: 0.8740 - val_loss: 0.2991 - val_acc: 0.8792\n",
            "Epoch 177/300\n",
            "378/377 [==============================] - 12s 32ms/step - loss: 0.3056 - acc: 0.8756 - val_loss: 0.2882 - val_acc: 0.8739\n",
            "Epoch 178/300\n",
            "378/377 [==============================] - 12s 32ms/step - loss: 0.3083 - acc: 0.8756 - val_loss: 0.2952 - val_acc: 0.8713\n",
            "Epoch 179/300\n",
            "378/377 [==============================] - 12s 32ms/step - loss: 0.3101 - acc: 0.8750 - val_loss: 0.3103 - val_acc: 0.8703\n",
            "Epoch 180/300\n",
            "378/377 [==============================] - 12s 32ms/step - loss: 0.3089 - acc: 0.8744 - val_loss: 0.2902 - val_acc: 0.8743\n",
            "Epoch 181/300\n",
            "378/377 [==============================] - 12s 31ms/step - loss: 0.3113 - acc: 0.8746 - val_loss: 0.2780 - val_acc: 0.8766\n",
            "Epoch 182/300\n",
            "378/377 [==============================] - 12s 31ms/step - loss: 0.3065 - acc: 0.8765 - val_loss: 0.2872 - val_acc: 0.8822\n",
            "Epoch 183/300\n",
            "378/377 [==============================] - 12s 31ms/step - loss: 0.3032 - acc: 0.8776 - val_loss: 0.3277 - val_acc: 0.8604\n",
            "Epoch 184/300\n",
            "378/377 [==============================] - 12s 32ms/step - loss: 0.3133 - acc: 0.8741 - val_loss: 0.2885 - val_acc: 0.8822\n",
            "Epoch 185/300\n",
            "378/377 [==============================] - 12s 31ms/step - loss: 0.3115 - acc: 0.8706 - val_loss: 0.2885 - val_acc: 0.8716\n",
            "Epoch 186/300\n",
            "378/377 [==============================] - 12s 31ms/step - loss: 0.3037 - acc: 0.8779 - val_loss: 0.2824 - val_acc: 0.8815\n",
            "Epoch 187/300\n",
            "378/377 [==============================] - 12s 32ms/step - loss: 0.3006 - acc: 0.8755 - val_loss: 0.2860 - val_acc: 0.8749\n",
            "Epoch 188/300\n",
            "378/377 [==============================] - 12s 31ms/step - loss: 0.3070 - acc: 0.8758 - val_loss: 0.3054 - val_acc: 0.8779\n",
            "Epoch 189/300\n",
            "378/377 [==============================] - 12s 31ms/step - loss: 0.3104 - acc: 0.8770 - val_loss: 0.3287 - val_acc: 0.8637\n",
            "Epoch 190/300\n",
            "378/377 [==============================] - 12s 32ms/step - loss: 0.3043 - acc: 0.8767 - val_loss: 0.2999 - val_acc: 0.8726\n",
            "Epoch 191/300\n",
            "378/377 [==============================] - 12s 31ms/step - loss: 0.3066 - acc: 0.8756 - val_loss: 0.2825 - val_acc: 0.8789\n",
            "Epoch 192/300\n",
            "378/377 [==============================] - 12s 32ms/step - loss: 0.2986 - acc: 0.8792 - val_loss: 0.3095 - val_acc: 0.8723\n",
            "Epoch 193/300\n",
            "378/377 [==============================] - 12s 32ms/step - loss: 0.3111 - acc: 0.8764 - val_loss: 0.3003 - val_acc: 0.8736\n",
            "Epoch 194/300\n",
            "378/377 [==============================] - 12s 31ms/step - loss: 0.2989 - acc: 0.8774 - val_loss: 0.3152 - val_acc: 0.8719\n",
            "Epoch 195/300\n",
            "378/377 [==============================] - 12s 32ms/step - loss: 0.3069 - acc: 0.8723 - val_loss: 0.3102 - val_acc: 0.8670\n",
            "Epoch 196/300\n",
            "378/377 [==============================] - 12s 32ms/step - loss: 0.3022 - acc: 0.8783 - val_loss: 0.2982 - val_acc: 0.8726\n",
            "Epoch 197/300\n",
            "378/377 [==============================] - 12s 32ms/step - loss: 0.3020 - acc: 0.8779 - val_loss: 0.2770 - val_acc: 0.8809\n",
            "Epoch 198/300\n",
            "378/377 [==============================] - 12s 32ms/step - loss: 0.3016 - acc: 0.8763 - val_loss: 0.2866 - val_acc: 0.8812\n",
            "Epoch 199/300\n",
            "378/377 [==============================] - 12s 33ms/step - loss: 0.3086 - acc: 0.8787 - val_loss: 0.3233 - val_acc: 0.8627\n",
            "Epoch 200/300\n",
            "378/377 [==============================] - 12s 31ms/step - loss: 0.3062 - acc: 0.8759 - val_loss: 0.2947 - val_acc: 0.8686\n",
            "Epoch 201/300\n",
            "378/377 [==============================] - 12s 32ms/step - loss: 0.3034 - acc: 0.8756 - val_loss: 0.2866 - val_acc: 0.8759\n",
            "Epoch 202/300\n",
            "378/377 [==============================] - 12s 32ms/step - loss: 0.3041 - acc: 0.8752 - val_loss: 0.3099 - val_acc: 0.8716\n",
            "Epoch 203/300\n",
            "378/377 [==============================] - 12s 31ms/step - loss: 0.3082 - acc: 0.8770 - val_loss: 0.3158 - val_acc: 0.8719\n",
            "Epoch 204/300\n",
            "378/377 [==============================] - 12s 32ms/step - loss: 0.3116 - acc: 0.8760 - val_loss: 0.2980 - val_acc: 0.8756\n",
            "Epoch 205/300\n",
            "378/377 [==============================] - 12s 32ms/step - loss: 0.3078 - acc: 0.8744 - val_loss: 0.2928 - val_acc: 0.8749\n",
            "Epoch 206/300\n",
            "378/377 [==============================] - 12s 32ms/step - loss: 0.3061 - acc: 0.8738 - val_loss: 0.2884 - val_acc: 0.8779\n",
            "Epoch 207/300\n",
            "378/377 [==============================] - 12s 32ms/step - loss: 0.3052 - acc: 0.8753 - val_loss: 0.2863 - val_acc: 0.8812\n",
            "Epoch 208/300\n",
            "378/377 [==============================] - 12s 32ms/step - loss: 0.3055 - acc: 0.8743 - val_loss: 0.2997 - val_acc: 0.8663\n",
            "Epoch 209/300\n",
            "378/377 [==============================] - 12s 32ms/step - loss: 0.3046 - acc: 0.8742 - val_loss: 0.3039 - val_acc: 0.8660\n",
            "Epoch 210/300\n",
            "378/377 [==============================] - 12s 32ms/step - loss: 0.3092 - acc: 0.8798 - val_loss: 0.3160 - val_acc: 0.8676\n",
            "Epoch 211/300\n",
            "378/377 [==============================] - 12s 32ms/step - loss: 0.3092 - acc: 0.8757 - val_loss: 0.3017 - val_acc: 0.8756\n",
            "Epoch 212/300\n",
            "378/377 [==============================] - 12s 31ms/step - loss: 0.3058 - acc: 0.8760 - val_loss: 0.2865 - val_acc: 0.8766\n",
            "Epoch 213/300\n",
            "378/377 [==============================] - 12s 32ms/step - loss: 0.3006 - acc: 0.8764 - val_loss: 0.3067 - val_acc: 0.8739\n",
            "Epoch 214/300\n",
            "378/377 [==============================] - 12s 32ms/step - loss: 0.3061 - acc: 0.8768 - val_loss: 0.2826 - val_acc: 0.8802\n",
            "Epoch 215/300\n",
            "378/377 [==============================] - 12s 32ms/step - loss: 0.3043 - acc: 0.8772 - val_loss: 0.2849 - val_acc: 0.8802\n",
            "Epoch 216/300\n",
            "378/377 [==============================] - 12s 32ms/step - loss: 0.3008 - acc: 0.8764 - val_loss: 0.2907 - val_acc: 0.8756\n",
            "Epoch 217/300\n",
            "378/377 [==============================] - 12s 31ms/step - loss: 0.3011 - acc: 0.8779 - val_loss: 0.3261 - val_acc: 0.8630\n",
            "Epoch 218/300\n",
            "378/377 [==============================] - 12s 31ms/step - loss: 0.3049 - acc: 0.8773 - val_loss: 0.2929 - val_acc: 0.8723\n",
            "Epoch 219/300\n",
            "378/377 [==============================] - 12s 32ms/step - loss: 0.3046 - acc: 0.8747 - val_loss: 0.3045 - val_acc: 0.8736\n",
            "Epoch 220/300\n",
            "378/377 [==============================] - 12s 31ms/step - loss: 0.2987 - acc: 0.8813 - val_loss: 0.2895 - val_acc: 0.8759\n",
            "Epoch 221/300\n",
            "378/377 [==============================] - 12s 32ms/step - loss: 0.3034 - acc: 0.8773 - val_loss: 0.3022 - val_acc: 0.8822\n",
            "Epoch 222/300\n",
            "378/377 [==============================] - 12s 32ms/step - loss: 0.3042 - acc: 0.8795 - val_loss: 0.3088 - val_acc: 0.8713\n",
            "Epoch 223/300\n",
            "378/377 [==============================] - 12s 31ms/step - loss: 0.3015 - acc: 0.8767 - val_loss: 0.3009 - val_acc: 0.8723\n",
            "Epoch 224/300\n",
            "378/377 [==============================] - 12s 32ms/step - loss: 0.3012 - acc: 0.8781 - val_loss: 0.2835 - val_acc: 0.8809\n",
            "Epoch 225/300\n",
            "378/377 [==============================] - 12s 32ms/step - loss: 0.3005 - acc: 0.8774 - val_loss: 0.2857 - val_acc: 0.8792\n",
            "Epoch 226/300\n",
            "378/377 [==============================] - 12s 31ms/step - loss: 0.3007 - acc: 0.8803 - val_loss: 0.3148 - val_acc: 0.8673\n",
            "Epoch 227/300\n",
            "378/377 [==============================] - 12s 32ms/step - loss: 0.3036 - acc: 0.8793 - val_loss: 0.2806 - val_acc: 0.8825\n",
            "Epoch 228/300\n",
            "378/377 [==============================] - 12s 31ms/step - loss: 0.3012 - acc: 0.8790 - val_loss: 0.3074 - val_acc: 0.8729\n",
            "Epoch 229/300\n",
            "378/377 [==============================] - 12s 32ms/step - loss: 0.3074 - acc: 0.8758 - val_loss: 0.3103 - val_acc: 0.8743\n",
            "Epoch 230/300\n",
            "378/377 [==============================] - 12s 32ms/step - loss: 0.3044 - acc: 0.8812 - val_loss: 0.3076 - val_acc: 0.8706\n",
            "Epoch 231/300\n",
            "378/377 [==============================] - 12s 32ms/step - loss: 0.3021 - acc: 0.8785 - val_loss: 0.3100 - val_acc: 0.8670\n",
            "Epoch 232/300\n",
            "378/377 [==============================] - 12s 31ms/step - loss: 0.3012 - acc: 0.8797 - val_loss: 0.2750 - val_acc: 0.8858\n",
            "Epoch 233/300\n",
            "378/377 [==============================] - 12s 32ms/step - loss: 0.3002 - acc: 0.8780 - val_loss: 0.3045 - val_acc: 0.8709\n",
            "Epoch 234/300\n",
            "378/377 [==============================] - 12s 32ms/step - loss: 0.3039 - acc: 0.8804 - val_loss: 0.2916 - val_acc: 0.8842\n",
            "Epoch 235/300\n",
            "378/377 [==============================] - 12s 32ms/step - loss: 0.3005 - acc: 0.8808 - val_loss: 0.2815 - val_acc: 0.8756\n",
            "Epoch 236/300\n",
            "378/377 [==============================] - 12s 32ms/step - loss: 0.3055 - acc: 0.8759 - val_loss: 0.3011 - val_acc: 0.8736\n",
            "Epoch 237/300\n",
            "378/377 [==============================] - 12s 32ms/step - loss: 0.2963 - acc: 0.8818 - val_loss: 0.2960 - val_acc: 0.8716\n",
            "Epoch 238/300\n",
            "378/377 [==============================] - 12s 32ms/step - loss: 0.3062 - acc: 0.8767 - val_loss: 0.2932 - val_acc: 0.8805\n",
            "Epoch 239/300\n",
            "378/377 [==============================] - 12s 32ms/step - loss: 0.3023 - acc: 0.8817 - val_loss: 0.2944 - val_acc: 0.8786\n",
            "Epoch 240/300\n",
            "378/377 [==============================] - 12s 32ms/step - loss: 0.3010 - acc: 0.8778 - val_loss: 0.2916 - val_acc: 0.8756\n",
            "Epoch 241/300\n",
            "378/377 [==============================] - 12s 32ms/step - loss: 0.3026 - acc: 0.8769 - val_loss: 0.3010 - val_acc: 0.8716\n",
            "Epoch 242/300\n",
            "378/377 [==============================] - 12s 32ms/step - loss: 0.2962 - acc: 0.8836 - val_loss: 0.3131 - val_acc: 0.8666\n",
            "Epoch 243/300\n",
            "378/377 [==============================] - 12s 31ms/step - loss: 0.3021 - acc: 0.8757 - val_loss: 0.2829 - val_acc: 0.8799\n",
            "Epoch 244/300\n",
            "378/377 [==============================] - 12s 31ms/step - loss: 0.2985 - acc: 0.8833 - val_loss: 0.3062 - val_acc: 0.8713\n",
            "Epoch 245/300\n",
            "378/377 [==============================] - 12s 32ms/step - loss: 0.2993 - acc: 0.8805 - val_loss: 0.2882 - val_acc: 0.8759\n",
            "Epoch 246/300\n",
            "378/377 [==============================] - 12s 31ms/step - loss: 0.2979 - acc: 0.8802 - val_loss: 0.3073 - val_acc: 0.8739\n",
            "Epoch 247/300\n",
            "378/377 [==============================] - 12s 32ms/step - loss: 0.3043 - acc: 0.8820 - val_loss: 0.2808 - val_acc: 0.8782\n",
            "Epoch 248/300\n",
            "378/377 [==============================] - 12s 32ms/step - loss: 0.3034 - acc: 0.8790 - val_loss: 0.2807 - val_acc: 0.8786\n",
            "Epoch 249/300\n",
            "378/377 [==============================] - 12s 31ms/step - loss: 0.3017 - acc: 0.8811 - val_loss: 0.3013 - val_acc: 0.8782\n",
            "Epoch 250/300\n",
            "378/377 [==============================] - 12s 32ms/step - loss: 0.2922 - acc: 0.8788 - val_loss: 0.2861 - val_acc: 0.8786\n",
            "Epoch 251/300\n",
            "378/377 [==============================] - 12s 32ms/step - loss: 0.3036 - acc: 0.8801 - val_loss: 0.2852 - val_acc: 0.8762\n",
            "Epoch 252/300\n",
            "378/377 [==============================] - 12s 31ms/step - loss: 0.3021 - acc: 0.8781 - val_loss: 0.2964 - val_acc: 0.8776\n",
            "Epoch 253/300\n",
            "378/377 [==============================] - 12s 31ms/step - loss: 0.3016 - acc: 0.8794 - val_loss: 0.2862 - val_acc: 0.8779\n",
            "Epoch 254/300\n",
            "378/377 [==============================] - 12s 31ms/step - loss: 0.3016 - acc: 0.8789 - val_loss: 0.2834 - val_acc: 0.8822\n",
            "Epoch 255/300\n",
            "378/377 [==============================] - 12s 32ms/step - loss: 0.2966 - acc: 0.8829 - val_loss: 0.3483 - val_acc: 0.8541\n",
            "Epoch 256/300\n",
            "378/377 [==============================] - 12s 31ms/step - loss: 0.3011 - acc: 0.8809 - val_loss: 0.2932 - val_acc: 0.8789\n",
            "Epoch 257/300\n",
            "378/377 [==============================] - 12s 32ms/step - loss: 0.3017 - acc: 0.8816 - val_loss: 0.3077 - val_acc: 0.8703\n",
            "Epoch 258/300\n",
            "378/377 [==============================] - 12s 31ms/step - loss: 0.3014 - acc: 0.8781 - val_loss: 0.3032 - val_acc: 0.8769\n",
            "Epoch 259/300\n",
            "378/377 [==============================] - 12s 31ms/step - loss: 0.2985 - acc: 0.8791 - val_loss: 0.2964 - val_acc: 0.8769\n",
            "Epoch 260/300\n",
            "378/377 [==============================] - 12s 31ms/step - loss: 0.3008 - acc: 0.8811 - val_loss: 0.3252 - val_acc: 0.8647\n",
            "Epoch 261/300\n",
            "378/377 [==============================] - 12s 31ms/step - loss: 0.3005 - acc: 0.8779 - val_loss: 0.3033 - val_acc: 0.8709\n",
            "Epoch 262/300\n",
            "378/377 [==============================] - 12s 32ms/step - loss: 0.3014 - acc: 0.8796 - val_loss: 0.3440 - val_acc: 0.8653\n",
            "Epoch 263/300\n",
            "378/377 [==============================] - 12s 32ms/step - loss: 0.2992 - acc: 0.8797 - val_loss: 0.2764 - val_acc: 0.8809\n",
            "Epoch 264/300\n",
            "378/377 [==============================] - 12s 31ms/step - loss: 0.2992 - acc: 0.8774 - val_loss: 0.3148 - val_acc: 0.8693\n",
            "Epoch 265/300\n",
            "378/377 [==============================] - 12s 31ms/step - loss: 0.2993 - acc: 0.8796 - val_loss: 0.2924 - val_acc: 0.8805\n",
            "Epoch 266/300\n",
            "378/377 [==============================] - 12s 31ms/step - loss: 0.3022 - acc: 0.8795 - val_loss: 0.2994 - val_acc: 0.8762\n",
            "Epoch 267/300\n",
            "378/377 [==============================] - 12s 31ms/step - loss: 0.3008 - acc: 0.8793 - val_loss: 0.2996 - val_acc: 0.8713\n",
            "Epoch 268/300\n",
            "378/377 [==============================] - 12s 31ms/step - loss: 0.3004 - acc: 0.8793 - val_loss: 0.3080 - val_acc: 0.8809\n",
            "Epoch 269/300\n",
            "378/377 [==============================] - 12s 31ms/step - loss: 0.2952 - acc: 0.8815 - val_loss: 0.2897 - val_acc: 0.8805\n",
            "Epoch 270/300\n",
            "378/377 [==============================] - 12s 32ms/step - loss: 0.2973 - acc: 0.8836 - val_loss: 0.3068 - val_acc: 0.8683\n",
            "Epoch 271/300\n",
            "378/377 [==============================] - 12s 31ms/step - loss: 0.2979 - acc: 0.8828 - val_loss: 0.2947 - val_acc: 0.8746\n",
            "Epoch 272/300\n",
            "378/377 [==============================] - 12s 31ms/step - loss: 0.2976 - acc: 0.8818 - val_loss: 0.2840 - val_acc: 0.8815\n",
            "Epoch 273/300\n",
            "378/377 [==============================] - 12s 31ms/step - loss: 0.3033 - acc: 0.8803 - val_loss: 0.2952 - val_acc: 0.8789\n",
            "Epoch 274/300\n",
            "378/377 [==============================] - 12s 31ms/step - loss: 0.2981 - acc: 0.8806 - val_loss: 0.2856 - val_acc: 0.8829\n",
            "Epoch 275/300\n",
            "378/377 [==============================] - 12s 31ms/step - loss: 0.2983 - acc: 0.8822 - val_loss: 0.2940 - val_acc: 0.8812\n",
            "Epoch 276/300\n",
            "378/377 [==============================] - 12s 32ms/step - loss: 0.2944 - acc: 0.8841 - val_loss: 0.3122 - val_acc: 0.8716\n",
            "Epoch 277/300\n",
            "378/377 [==============================] - 12s 32ms/step - loss: 0.2985 - acc: 0.8813 - val_loss: 0.2994 - val_acc: 0.8746\n",
            "Epoch 278/300\n",
            "378/377 [==============================] - 12s 31ms/step - loss: 0.3010 - acc: 0.8763 - val_loss: 0.3037 - val_acc: 0.8739\n",
            "Epoch 279/300\n",
            "378/377 [==============================] - 12s 31ms/step - loss: 0.2975 - acc: 0.8801 - val_loss: 0.3054 - val_acc: 0.8660\n",
            "Epoch 280/300\n",
            "378/377 [==============================] - 12s 31ms/step - loss: 0.3010 - acc: 0.8810 - val_loss: 0.3117 - val_acc: 0.8693\n",
            "Epoch 281/300\n",
            "378/377 [==============================] - 12s 31ms/step - loss: 0.2991 - acc: 0.8772 - val_loss: 0.3900 - val_acc: 0.8455\n",
            "Epoch 282/300\n",
            "378/377 [==============================] - 12s 31ms/step - loss: 0.2965 - acc: 0.8813 - val_loss: 0.2725 - val_acc: 0.8862\n",
            "Epoch 283/300\n",
            "378/377 [==============================] - 12s 32ms/step - loss: 0.3013 - acc: 0.8795 - val_loss: 0.3290 - val_acc: 0.8623\n",
            "Epoch 284/300\n",
            "378/377 [==============================] - 12s 31ms/step - loss: 0.3019 - acc: 0.8811 - val_loss: 0.2883 - val_acc: 0.8752\n",
            "Epoch 285/300\n",
            "378/377 [==============================] - 12s 31ms/step - loss: 0.2992 - acc: 0.8814 - val_loss: 0.3594 - val_acc: 0.8504\n",
            "Epoch 286/300\n",
            "378/377 [==============================] - 12s 31ms/step - loss: 0.2997 - acc: 0.8783 - val_loss: 0.2963 - val_acc: 0.8832\n",
            "Epoch 287/300\n",
            "378/377 [==============================] - 12s 31ms/step - loss: 0.3003 - acc: 0.8810 - val_loss: 0.2834 - val_acc: 0.8819\n",
            "Epoch 288/300\n",
            "378/377 [==============================] - 12s 31ms/step - loss: 0.3004 - acc: 0.8832 - val_loss: 0.2966 - val_acc: 0.8802\n",
            "Epoch 289/300\n",
            "378/377 [==============================] - 12s 32ms/step - loss: 0.2978 - acc: 0.8848 - val_loss: 0.2963 - val_acc: 0.8762\n",
            "Epoch 290/300\n",
            "378/377 [==============================] - 12s 31ms/step - loss: 0.2987 - acc: 0.8800 - val_loss: 0.3415 - val_acc: 0.8623\n",
            "Epoch 291/300\n",
            "378/377 [==============================] - 12s 31ms/step - loss: 0.2980 - acc: 0.8855 - val_loss: 0.2956 - val_acc: 0.8743\n",
            "Epoch 292/300\n",
            "378/377 [==============================] - 12s 31ms/step - loss: 0.2957 - acc: 0.8845 - val_loss: 0.2861 - val_acc: 0.8829\n",
            "Epoch 293/300\n",
            "378/377 [==============================] - 12s 31ms/step - loss: 0.2986 - acc: 0.8819 - val_loss: 0.2803 - val_acc: 0.8819\n",
            "Epoch 294/300\n",
            "378/377 [==============================] - 12s 32ms/step - loss: 0.2969 - acc: 0.8821 - val_loss: 0.3108 - val_acc: 0.8690\n",
            "Epoch 295/300\n",
            "378/377 [==============================] - 12s 31ms/step - loss: 0.3003 - acc: 0.8820 - val_loss: 0.2904 - val_acc: 0.8782\n",
            "Epoch 296/300\n",
            "378/377 [==============================] - 12s 31ms/step - loss: 0.2982 - acc: 0.8788 - val_loss: 0.2823 - val_acc: 0.8815\n",
            "Epoch 297/300\n",
            "378/377 [==============================] - 12s 31ms/step - loss: 0.2968 - acc: 0.8805 - val_loss: 0.2755 - val_acc: 0.8829\n",
            "Epoch 298/300\n",
            "378/377 [==============================] - 12s 31ms/step - loss: 0.3002 - acc: 0.8795 - val_loss: 0.3151 - val_acc: 0.8739\n",
            "Epoch 299/300\n",
            "378/377 [==============================] - 12s 31ms/step - loss: 0.2997 - acc: 0.8789 - val_loss: 0.2985 - val_acc: 0.8776\n",
            "Epoch 300/300\n",
            "378/377 [==============================] - 12s 32ms/step - loss: 0.2975 - acc: 0.8777 - val_loss: 0.2885 - val_acc: 0.8772\n"
          ],
          "name": "stdout"
        }
      ]
    },
    {
      "cell_type": "code",
      "metadata": {
        "id": "n9n9PK40OIkw",
        "colab_type": "code",
        "outputId": "362a82ca-d48f-4cdd-9015-2105440c4d07",
        "colab": {
          "base_uri": "https://localhost:8080/",
          "height": 51
        }
      },
      "source": [
        "score = model.evaluate(X_test_reshape,Y_test_c)\n",
        "print(score)"
      ],
      "execution_count": 0,
      "outputs": [
        {
          "output_type": "stream",
          "text": [
            "3778/3778 [==============================] - 0s 98us/step\n",
            "[0.2875535483316747, 0.8734780307040763]\n"
          ],
          "name": "stdout"
        }
      ]
    },
    {
      "cell_type": "code",
      "metadata": {
        "id": "GxiSNlEYOOA2",
        "colab_type": "code",
        "outputId": "d0f2175e-f9e2-4680-f0c0-ce1a6e13cae5",
        "colab": {
          "base_uri": "https://localhost:8080/",
          "height": 864
        }
      },
      "source": [
        "y_pred = model.predict(X_test_reshape)\n",
        "Y_pred_classes = np.argmax(y_pred,axis=1) \n",
        "Y_true = np.argmax(Y_test_c,axis=1)\n",
        "dict_characters = {0: 'IDC(-)', 1: 'IDC(+)'}\n",
        "confusion_mtx = confusion_matrix(Y_true, Y_pred_classes) \n",
        "plot_cm(confusion_mtx, classes = list(dict_characters.values())) \n",
        "plt.show()\n",
        "plot_lc(history)\n",
        "plt.show()\n"
      ],
      "execution_count": 0,
      "outputs": [
        {
          "output_type": "display_data",
          "data": {
            "image/png": "[encoded data removed]",
            "text/plain": [
              "<Figure size 360x360 with 2 Axes>"
            ]
          },
          "metadata": {
            "tags": []
          }
        },
        {
          "output_type": "display_data",
          "data": {
            "image/png": "[encoded data removed]",
            "text/plain": [
              "<Figure size 576x576 with 2 Axes>"
            ]
          },
          "metadata": {
            "tags": []
          }
        }
      ]
    },
    {
      "cell_type": "code",
      "metadata": {
        "id": "k8u69rUnYxve",
        "colab_type": "code",
        "outputId": "89fc8bab-0d6d-42b5-e544-a998412fc245",
        "colab": {
          "base_uri": "https://localhost:8080/",
          "height": 204
        }
      },
      "source": [
        "print(confusion_matrix(Y_true, Y_pred_classes))\n",
        "\n",
        "from sklearn import metrics\n",
        "print(metrics.classification_report(Y_true, Y_pred_classes))\n"
      ],
      "execution_count": 0,
      "outputs": [
        {
          "output_type": "stream",
          "text": [
            "[[1703  172]\n",
            " [ 306 1597]]\n",
            "              precision    recall  f1-score   support\n",
            "\n",
            "           0       0.85      0.91      0.88      1875\n",
            "           1       0.90      0.84      0.87      1903\n",
            "\n",
            "    accuracy                           0.87      3778\n",
            "   macro avg       0.88      0.87      0.87      3778\n",
            "weighted avg       0.88      0.87      0.87      3778\n",
            "\n"
          ],
          "name": "stdout"
        }
      ]
    },
    {
      "cell_type": "code",
      "metadata": {
        "id": "xp0iNTcJUtT2",
        "colab_type": "code",
        "outputId": "232d5872-598d-4e13-a4d8-3397d1a9a02b",
        "colab": {
          "base_uri": "https://localhost:8080/",
          "height": 51
        }
      },
      "source": [
        "cm= confusion_matrix(Y_true, Y_pred_classes)\n",
        "sensitivity= cm[1,1]/(cm[1,1]+cm[1,0])\n",
        "print('Sensitivity : ', sensitivity )\n",
        "secificity= cm[0,0]/(cm[0,0]+cm[0,1])\n",
        "print('Specificity : ',secificity)"
      ],
      "execution_count": 0,
      "outputs": [
        {
          "output_type": "stream",
          "text": [
            "Sensitivity :  0.8392012611665791\n",
            "Specificity :  0.9082666666666667\n"
          ],
          "name": "stdout"
        }
      ]
    },
    {
      "cell_type": "code",
      "metadata": {
        "id": "IOR1nzuOOQhR",
        "colab_type": "code",
        "outputId": "639c77a4-33d4-46f6-ce3e-556874b40296",
        "colab": {
          "base_uri": "https://localhost:8080/",
          "height": 34
        }
      },
      "source": [
        "from sklearn.metrics import auc,roc_curve\n",
        "#  ROC curve\n",
        "fpr, tpr, thresholds = roc_curve(Y_true, y_pred[:,1], pos_label=1)\n",
        "\n",
        "#  ROC area\n",
        "pred_score = auc(fpr, tpr)\n",
        "print(f'Area Under Curve is {pred_score}')"
      ],
      "execution_count": 0,
      "outputs": [
        {
          "output_type": "stream",
          "text": [
            "Area Under Curve is 0.952517078297425\n"
          ],
          "name": "stdout"
        }
      ]
    },
    {
      "cell_type": "code",
      "metadata": {
        "id": "A5HemaB7OTZv",
        "colab_type": "code",
        "outputId": "eb10e1f2-b7a6-4b57-a2b4-745df1621363",
        "colab": {
          "base_uri": "https://localhost:8080/",
          "height": 312
        }
      },
      "source": [
        "plt.figure()\n",
        "plt.plot(fpr, tpr, color='orange', label='ROC curve (area = %0.2f)' % pred_score)\n",
        "plt.plot([0, 1], [0, 1], color='navy', linestyle='--')\n",
        "plt.xlim([-0.01, 1.0])\n",
        "plt.ylim([0.0, 1.01])\n",
        "plt.xlabel('False Positive Rate')\n",
        "plt.ylabel('True Positive Rate')\n",
        "plt.title('ROC curve of CNN Model')\n",
        "plt.legend(loc=\"lower right\")"
      ],
      "execution_count": 0,
      "outputs": [
        {
          "output_type": "execute_result",
          "data": {
            "text/plain": [
              "<matplotlib.legend.Legend at 0x7fc58b967390>"
            ]
          },
          "metadata": {
            "tags": []
          },
          "execution_count": 29
        },
        {
          "output_type": "display_data",
          "data": {
            "image/png": "[encoded data removed]",
            "text/plain": [
              "<Figure size 432x288 with 1 Axes>"
            ]
          },
          "metadata": {
            "tags": []
          }
        }
      ]
    },
    {
      "cell_type": "code",
      "metadata": {
        "id": "N_a4KTsIOaP7",
        "colab_type": "code",
        "outputId": "3070bcad-f860-4c65-b6ae-e344ba30f986",
        "colab": {
          "base_uri": "https://localhost:8080/",
          "height": 255
        }
      },
      "source": [
        "pred = model.predict(X_test_reshape)\n",
        "pred_x = []\n",
        "for i in range(len(pred)):\n",
        "  if pred[i,1]>0.5:\n",
        "    pred_x.append(1)\n",
        "  else:\n",
        "    pred_x.append(0)\n",
        "\n",
        "a = []\n",
        "b = 0\n",
        "for i in range(len(pred)):\n",
        "  if pred_x[i] == Y_test_c[i,1]:\n",
        "    a.append('yes')\n",
        "    b=b+1\n",
        "  else:\n",
        "    a.append('no')\n",
        "type(a)\n",
        "df = pd.DataFrame(a, columns=['CNN'])\n",
        "print(df)\n",
        "df.to_csv('cnn-yes-no_new.csv', index=False, header=True)"
      ],
      "execution_count": 0,
      "outputs": [
        {
          "output_type": "stream",
          "text": [
            "      CNN\n",
            "0     yes\n",
            "1      no\n",
            "2     yes\n",
            "3     yes\n",
            "4     yes\n",
            "...   ...\n",
            "3773  yes\n",
            "3774  yes\n",
            "3775  yes\n",
            "3776  yes\n",
            "3777  yes\n",
            "\n",
            "[3778 rows x 1 columns]\n"
          ],
          "name": "stdout"
        }
      ]
    },
    {
      "cell_type": "code",
      "metadata": {
        "id": "vyKl4BC9dpJB",
        "colab_type": "code",
        "colab": {}
      },
      "source": [
        "X_12242=np.load('./X_patient12242.npy')\n",
        "\n",
        "X_12242.shape\n",
        "X_12242=X_12242/255"
      ],
      "execution_count": 0,
      "outputs": []
    },
    {
      "cell_type": "code",
      "metadata": {
        "id": "kDvF4guVS7am",
        "colab_type": "code",
        "colab": {}
      },
      "source": [
        "y_pred_12242 = model.predict(X_12242)\n",
        "np.save('./y_pred_12242_cnn.npy',y_pred_12242)"
      ],
      "execution_count": 0,
      "outputs": []
    },
    {
      "cell_type": "code",
      "metadata": {
        "id": "mIIpwwcOS_78",
        "colab_type": "code",
        "colab": {}
      },
      "source": [
        "y_pred_12242=np.load('y_pred_12242_cnn.npy')"
      ],
      "execution_count": 0,
      "outputs": []
    },
    {
      "cell_type": "code",
      "metadata": {
        "id": "7rE9osH1TDyx",
        "colab_type": "code",
        "outputId": "2b629f9e-04c6-43f9-f74b-bb4c2e2286da",
        "colab": {
          "base_uri": "https://localhost:8080/",
          "height": 1000
        }
      },
      "source": [
        "print(y_pred_12242[0:100])"
      ],
      "execution_count": 0,
      "outputs": [
        {
          "output_type": "stream",
          "text": [
            "[[1.00000000e+00 0.00000000e+00]\n",
            " [7.78539360e-01 2.21460655e-01]\n",
            " [9.03806627e-01 9.61933360e-02]\n",
            " [6.87199116e-01 3.12800854e-01]\n",
            " [7.20647037e-01 2.79353023e-01]\n",
            " [6.29961193e-01 3.70038807e-01]\n",
            " [7.88213789e-01 2.11786151e-01]\n",
            " [1.00000000e+00 7.37803698e-24]\n",
            " [7.92334497e-01 2.07665503e-01]\n",
            " [8.60186636e-01 1.39813349e-01]\n",
            " [7.89493322e-01 2.10506648e-01]\n",
            " [6.96797252e-01 3.03202808e-01]\n",
            " [5.81622064e-01 4.18377966e-01]\n",
            " [5.83631217e-01 4.16368783e-01]\n",
            " [9.50942576e-01 4.90574203e-02]\n",
            " [9.54913318e-01 4.50866297e-02]\n",
            " [6.38063192e-01 3.61936837e-01]\n",
            " [6.61182344e-01 3.38817716e-01]\n",
            " [7.47082591e-01 2.52917409e-01]\n",
            " [9.32852268e-01 6.71477467e-02]\n",
            " [8.19625556e-01 1.80374429e-01]\n",
            " [7.60026872e-01 2.39973187e-01]\n",
            " [7.11165249e-01 2.88834751e-01]\n",
            " [6.67592585e-01 3.32407445e-01]\n",
            " [9.81177688e-01 1.88223124e-02]\n",
            " [7.29196250e-01 2.70803720e-01]\n",
            " [8.39720488e-01 1.60279512e-01]\n",
            " [6.81977093e-01 3.18022937e-01]\n",
            " [6.92189336e-01 3.07810634e-01]\n",
            " [8.75864327e-01 1.24135688e-01]\n",
            " [7.06101120e-01 2.93898851e-01]\n",
            " [6.53259873e-01 3.46740156e-01]\n",
            " [7.25934088e-01 2.74065882e-01]\n",
            " [6.84226632e-01 3.15773368e-01]\n",
            " [8.93883228e-01 1.06116794e-01]\n",
            " [6.18334949e-01 3.81664991e-01]\n",
            " [1.00000000e+00 1.43468176e-22]\n",
            " [8.85215819e-01 1.14784151e-01]\n",
            " [7.47658014e-01 2.52341926e-01]\n",
            " [6.05563164e-01 3.94436836e-01]\n",
            " [7.38587022e-01 2.61412948e-01]\n",
            " [7.19744742e-01 2.80255198e-01]\n",
            " [8.69374990e-01 1.30625054e-01]\n",
            " [7.71871388e-01 2.28128627e-01]\n",
            " [7.68165886e-01 2.31834173e-01]\n",
            " [8.39106798e-01 1.60893157e-01]\n",
            " [6.64508641e-01 3.35491329e-01]\n",
            " [6.83205187e-01 3.16794842e-01]\n",
            " [7.53277361e-01 2.46722683e-01]\n",
            " [9.17409420e-01 8.25905874e-02]\n",
            " [7.29254067e-01 2.70745993e-01]\n",
            " [7.38107383e-01 2.61892617e-01]\n",
            " [9.08237994e-01 9.17620361e-02]\n",
            " [6.53998435e-01 3.46001595e-01]\n",
            " [6.16941750e-01 3.83058250e-01]\n",
            " [9.97654021e-01 2.34605907e-03]\n",
            " [8.50946367e-01 1.49053603e-01]\n",
            " [6.75950289e-01 3.24049681e-01]\n",
            " [7.56619394e-01 2.43380651e-01]\n",
            " [8.42933536e-01 1.57066464e-01]\n",
            " [3.56842160e-01 6.43157840e-01]\n",
            " [6.46128118e-01 3.53871912e-01]\n",
            " [8.19260776e-01 1.80739224e-01]\n",
            " [6.84532166e-01 3.15467834e-01]\n",
            " [6.42260909e-01 3.57739151e-01]\n",
            " [4.60626841e-01 5.39373100e-01]\n",
            " [6.94501698e-01 3.05498302e-01]\n",
            " [7.67786384e-01 2.32213691e-01]\n",
            " [3.30736071e-01 6.69263899e-01]\n",
            " [9.63434756e-01 3.65652926e-02]\n",
            " [8.59917164e-01 1.40082836e-01]\n",
            " [1.00000000e+00 1.24952219e-11]\n",
            " [8.30963135e-01 1.69036835e-01]\n",
            " [7.61573911e-01 2.38426104e-01]\n",
            " [5.96429408e-01 4.03570533e-01]\n",
            " [7.80608654e-01 2.19391301e-01]\n",
            " [7.15721250e-01 2.84278721e-01]\n",
            " [7.16578782e-01 2.83421248e-01]\n",
            " [7.41321087e-01 2.58678883e-01]\n",
            " [6.76589668e-01 3.23410332e-01]\n",
            " [5.56731761e-01 4.43268210e-01]\n",
            " [8.43362153e-01 1.56637877e-01]\n",
            " [9.98647630e-01 1.35240052e-03]\n",
            " [5.69561899e-01 4.30438131e-01]\n",
            " [9.71581221e-01 2.84187514e-02]\n",
            " [6.71313345e-01 3.28686684e-01]\n",
            " [6.92124248e-01 3.07875782e-01]\n",
            " [6.93139434e-01 3.06860507e-01]\n",
            " [6.23544037e-01 3.76455992e-01]\n",
            " [5.69105923e-01 4.30894077e-01]\n",
            " [1.00000000e+00 2.01362466e-14]\n",
            " [7.46504188e-01 2.53495783e-01]\n",
            " [7.40402818e-01 2.59597123e-01]\n",
            " [5.52285790e-01 4.47714239e-01]\n",
            " [1.00000000e+00 2.22870184e-13]\n",
            " [8.97741437e-01 1.02258556e-01]\n",
            " [1.00000000e+00 5.67711432e-14]\n",
            " [6.26774192e-01 3.73225749e-01]\n",
            " [7.10985601e-01 2.89014369e-01]\n",
            " [8.94057691e-01 1.05942272e-01]]\n"
          ],
          "name": "stdout"
        }
      ]
    },
    {
      "cell_type": "code",
      "metadata": {
        "id": "FeL67OTwTFtT",
        "colab_type": "code",
        "colab": {}
      },
      "source": [
        "label=[]\n",
        "i=0\n",
        "for line in y_pred_12242:\n",
        "  if line[0]>=0.5:\n",
        "    label.append(0)\n",
        "  else:\n",
        "    label.append(1)\n",
        "  i=i+1"
      ],
      "execution_count": 0,
      "outputs": []
    },
    {
      "cell_type": "code",
      "metadata": {
        "id": "e87NIOT8TJMf",
        "colab_type": "code",
        "colab": {}
      },
      "source": [
        "y_pred_12242_new=np.c_[y_pred_12242,label]"
      ],
      "execution_count": 0,
      "outputs": []
    },
    {
      "cell_type": "code",
      "metadata": {
        "id": "hqEZHNkrTMER",
        "colab_type": "code",
        "colab": {}
      },
      "source": [
        "example_df=pd.read_pickle(\"patient12242_coordinate.pkl\")\n",
        "example_df['target_new']=y_pred_12242_new[:,2].tolist()"
      ],
      "execution_count": 0,
      "outputs": []
    },
    {
      "cell_type": "code",
      "metadata": {
        "id": "4KJdHJFTTNg-",
        "colab_type": "code",
        "outputId": "61d0c084-a183-4e6d-da66-23a008ddd713",
        "colab": {
          "base_uri": "https://localhost:8080/",
          "height": 419
        }
      },
      "source": [
        "example_df[\"target_new\"]=example_df['target_new'].astype(int)\n",
        "example_df"
      ],
      "execution_count": 0,
      "outputs": [
        {
          "output_type": "execute_result",
          "data": {
            "text/html": [
              "<div>\n",
              "<style scoped>\n",
              "    .dataframe tbody tr th:only-of-type {\n",
              "        vertical-align: middle;\n",
              "    }\n",
              "\n",
              "    .dataframe tbody tr th {\n",
              "        vertical-align: top;\n",
              "    }\n",
              "\n",
              "    .dataframe thead th {\n",
              "        text-align: right;\n",
              "    }\n",
              "</style>\n",
              "<table border=\"1\" class=\"dataframe\">\n",
              "  <thead>\n",
              "    <tr style=\"text-align: right;\">\n",
              "      <th></th>\n",
              "      <th>x</th>\n",
              "      <th>y</th>\n",
              "      <th>target</th>\n",
              "      <th>path</th>\n",
              "      <th>target_new</th>\n",
              "    </tr>\n",
              "  </thead>\n",
              "  <tbody>\n",
              "    <tr>\n",
              "      <th>0</th>\n",
              "      <td>1001</td>\n",
              "      <td>251</td>\n",
              "      <td>0</td>\n",
              "      <td>/content/drive/My Drive/IDC/12242/0/12242_idx5...</td>\n",
              "      <td>0</td>\n",
              "    </tr>\n",
              "    <tr>\n",
              "      <th>1</th>\n",
              "      <td>1001</td>\n",
              "      <td>301</td>\n",
              "      <td>0</td>\n",
              "      <td>/content/drive/My Drive/IDC/12242/0/12242_idx5...</td>\n",
              "      <td>0</td>\n",
              "    </tr>\n",
              "    <tr>\n",
              "      <th>2</th>\n",
              "      <td>1001</td>\n",
              "      <td>451</td>\n",
              "      <td>0</td>\n",
              "      <td>/content/drive/My Drive/IDC/12242/0/12242_idx5...</td>\n",
              "      <td>0</td>\n",
              "    </tr>\n",
              "    <tr>\n",
              "      <th>3</th>\n",
              "      <td>1001</td>\n",
              "      <td>401</td>\n",
              "      <td>0</td>\n",
              "      <td>/content/drive/My Drive/IDC/12242/0/12242_idx5...</td>\n",
              "      <td>0</td>\n",
              "    </tr>\n",
              "    <tr>\n",
              "      <th>4</th>\n",
              "      <td>1001</td>\n",
              "      <td>351</td>\n",
              "      <td>0</td>\n",
              "      <td>/content/drive/My Drive/IDC/12242/0/12242_idx5...</td>\n",
              "      <td>0</td>\n",
              "    </tr>\n",
              "    <tr>\n",
              "      <th>...</th>\n",
              "      <td>...</td>\n",
              "      <td>...</td>\n",
              "      <td>...</td>\n",
              "      <td>...</td>\n",
              "      <td>...</td>\n",
              "    </tr>\n",
              "    <tr>\n",
              "      <th>424</th>\n",
              "      <td>2501</td>\n",
              "      <td>951</td>\n",
              "      <td>1</td>\n",
              "      <td>/content/drive/My Drive/IDC/12242/1/12242_idx5...</td>\n",
              "      <td>0</td>\n",
              "    </tr>\n",
              "    <tr>\n",
              "      <th>425</th>\n",
              "      <td>2451</td>\n",
              "      <td>851</td>\n",
              "      <td>1</td>\n",
              "      <td>/content/drive/My Drive/IDC/12242/1/12242_idx5...</td>\n",
              "      <td>1</td>\n",
              "    </tr>\n",
              "    <tr>\n",
              "      <th>426</th>\n",
              "      <td>2451</td>\n",
              "      <td>951</td>\n",
              "      <td>1</td>\n",
              "      <td>/content/drive/My Drive/IDC/12242/1/12242_idx5...</td>\n",
              "      <td>1</td>\n",
              "    </tr>\n",
              "    <tr>\n",
              "      <th>427</th>\n",
              "      <td>2451</td>\n",
              "      <td>901</td>\n",
              "      <td>1</td>\n",
              "      <td>/content/drive/My Drive/IDC/12242/1/12242_idx5...</td>\n",
              "      <td>1</td>\n",
              "    </tr>\n",
              "    <tr>\n",
              "      <th>428</th>\n",
              "      <td>2501</td>\n",
              "      <td>901</td>\n",
              "      <td>1</td>\n",
              "      <td>/content/drive/My Drive/IDC/12242/1/12242_idx5...</td>\n",
              "      <td>0</td>\n",
              "    </tr>\n",
              "  </tbody>\n",
              "</table>\n",
              "<p>1097 rows × 5 columns</p>\n",
              "</div>"
            ],
            "text/plain": [
              "        x    y  ...                                               path target_new\n",
              "0    1001  251  ...  /content/drive/My Drive/IDC/12242/0/12242_idx5...          0\n",
              "1    1001  301  ...  /content/drive/My Drive/IDC/12242/0/12242_idx5...          0\n",
              "2    1001  451  ...  /content/drive/My Drive/IDC/12242/0/12242_idx5...          0\n",
              "3    1001  401  ...  /content/drive/My Drive/IDC/12242/0/12242_idx5...          0\n",
              "4    1001  351  ...  /content/drive/My Drive/IDC/12242/0/12242_idx5...          0\n",
              "..    ...  ...  ...                                                ...        ...\n",
              "424  2501  951  ...  /content/drive/My Drive/IDC/12242/1/12242_idx5...          0\n",
              "425  2451  851  ...  /content/drive/My Drive/IDC/12242/1/12242_idx5...          1\n",
              "426  2451  951  ...  /content/drive/My Drive/IDC/12242/1/12242_idx5...          1\n",
              "427  2451  901  ...  /content/drive/My Drive/IDC/12242/1/12242_idx5...          1\n",
              "428  2501  901  ...  /content/drive/My Drive/IDC/12242/1/12242_idx5...          0\n",
              "\n",
              "[1097 rows x 5 columns]"
            ]
          },
          "metadata": {
            "tags": []
          },
          "execution_count": 74
        }
      ]
    },
    {
      "cell_type": "code",
      "metadata": {
        "id": "fEzR2I-TTP0W",
        "colab_type": "code",
        "colab": {}
      },
      "source": [
        "from pandas import api \n",
        "from pandas.api import types \n",
        "from pandas.api.types import is_numeric_dtype"
      ],
      "execution_count": 0,
      "outputs": []
    },
    {
      "cell_type": "code",
      "metadata": {
        "id": "_rcHZ82ITSeF",
        "colab_type": "code",
        "outputId": "8d6a103a-76f4-40ca-f6f4-4f2365a61b55",
        "colab": {
          "base_uri": "https://localhost:8080/",
          "height": 281
        }
      },
      "source": [
        "import numpy as np\n",
        "\n",
        "import matplotlib.pyplot as plt\n",
        "from  matplotlib.pyplot import scatter\n",
        "\n",
        "x=example_df['x']\n",
        "y=example_df['y']\n",
        "data = example_df[['x','y', 'target_new']]\n",
        "colors = (\"grey\", \"red\")\n",
        "groups = (\"0\",\"1\")\n",
        "\n",
        "# Create plot\n",
        "fig = plt.figure()\n",
        "ax = fig.add_subplot()\n",
        "ax.scatter(x,y, alpha=0.8, edgecolor='none', s=30, c=data.target_new )\n",
        "#for data, color, group in zip(data, colors, groups):\n",
        "# x,y=data\n",
        "#  ax.scatter(x, y, alpha=0.8, c=colors, edgecolor='none', s=30, label=group)\n",
        "plt.title('patient 12242 _predicted')\n",
        "\n",
        "\n",
        "plt.show()"
      ],
      "execution_count": 0,
      "outputs": [
        {
          "output_type": "display_data",
          "data": {
            "image/png": "[encoded data removed]",
            "text/plain": [
              "<Figure size 432x288 with 1 Axes>"
            ]
          },
          "metadata": {
            "tags": []
          }
        }
      ]
    },
    {
      "cell_type": "code",
      "metadata": {
        "id": "HHbqFnGOTU3y",
        "colab_type": "code",
        "outputId": "e46ec534-ef64-470d-89ad-39a8b3d17c36",
        "colab": {
          "base_uri": "https://localhost:8080/",
          "height": 88
        }
      },
      "source": [
        "from sklearn.externals import joblib\n",
        "joblib.dump(model, \"cnn_train_model.m\")"
      ],
      "execution_count": 0,
      "outputs": [
        {
          "output_type": "stream",
          "text": [
            "/usr/local/lib/python3.6/dist-packages/sklearn/externals/joblib/__init__.py:15: DeprecationWarning: sklearn.externals.joblib is deprecated in 0.21 and will be removed in 0.23. Please import this functionality directly from joblib, which can be installed with: pip install joblib. If this warning is raised when loading pickled models, you may need to re-serialize those models with scikit-learn 0.21+.\n",
            "  warnings.warn(msg, category=DeprecationWarning)\n"
          ],
          "name": "stderr"
        },
        {
          "output_type": "execute_result",
          "data": {
            "text/plain": [
              "['cnn_train_model.m']"
            ]
          },
          "metadata": {
            "tags": []
          },
          "execution_count": 77
        }
      ]
    },
    {
      "cell_type": "code",
      "metadata": {
        "id": "rCcoXyp5kQjy",
        "colab_type": "code",
        "colab": {}
      },
      "source": [
        "X_10253=np.load('./X_patient10253_CNN.npy')\n",
        "XX_10253 = X_10253/255"
      ],
      "execution_count": 0,
      "outputs": []
    },
    {
      "cell_type": "code",
      "metadata": {
        "id": "Y4fk4riWomyd",
        "colab_type": "code",
        "colab": {}
      },
      "source": [
        "y_pred_10253=model.predict(XX_10253)\n",
        "np.save('./y_pred_10253_cnn.npy',y_pred_10253)"
      ],
      "execution_count": 0,
      "outputs": []
    },
    {
      "cell_type": "code",
      "metadata": {
        "id": "5XYMYwdzop9G",
        "colab_type": "code",
        "colab": {}
      },
      "source": [
        "y_pred_10253=np.load('y_pred_10253_cnn.npy')"
      ],
      "execution_count": 0,
      "outputs": []
    },
    {
      "cell_type": "code",
      "metadata": {
        "id": "Vxrri6rmosSo",
        "colab_type": "code",
        "outputId": "a3979d91-b956-48ac-bec2-5a14c93978ae",
        "colab": {
          "base_uri": "https://localhost:8080/",
          "height": 187
        }
      },
      "source": [
        "print(y_pred_10253[0:10])"
      ],
      "execution_count": 0,
      "outputs": [
        {
          "output_type": "stream",
          "text": [
            "[[9.9998844e-01 1.1587192e-05]\n",
            " [9.0277588e-01 9.7224072e-02]\n",
            " [9.0672129e-01 9.3278691e-02]\n",
            " [9.9568093e-01 4.3190988e-03]\n",
            " [9.9999988e-01 1.0202876e-07]\n",
            " [9.9999857e-01 1.3898135e-06]\n",
            " [9.7335309e-01 2.6646914e-02]\n",
            " [9.9586910e-01 4.1308994e-03]\n",
            " [9.9765283e-01 2.3472202e-03]\n",
            " [9.5965368e-01 4.0346343e-02]]\n"
          ],
          "name": "stdout"
        }
      ]
    },
    {
      "cell_type": "code",
      "metadata": {
        "id": "b0IG_JxpotvX",
        "colab_type": "code",
        "colab": {}
      },
      "source": [
        "label=[]\n",
        "i=0\n",
        "for line in y_pred_10253:\n",
        "  if line[0]>=0.5:\n",
        "    label.append(0)\n",
        "  else:\n",
        "    label.append(1)\n",
        "  i=i+1"
      ],
      "execution_count": 0,
      "outputs": []
    },
    {
      "cell_type": "code",
      "metadata": {
        "id": "0-rIFKtrovhU",
        "colab_type": "code",
        "colab": {}
      },
      "source": [
        "y_pred_10253_new=np.c_[y_pred_10253,label]"
      ],
      "execution_count": 0,
      "outputs": []
    },
    {
      "cell_type": "code",
      "metadata": {
        "id": "jDHXEUfboxvY",
        "colab_type": "code",
        "colab": {}
      },
      "source": [
        "example_df=pd.read_pickle(\"patient10253_coordinate.pkl\")\n",
        "example_df['target_new']=y_pred_10253_new[:,2].tolist()"
      ],
      "execution_count": 0,
      "outputs": []
    },
    {
      "cell_type": "code",
      "metadata": {
        "id": "bqGW_E__ozV8",
        "colab_type": "code",
        "outputId": "e929ad8c-d1a6-4bb6-dbe1-b33e0200b7b5",
        "colab": {
          "base_uri": "https://localhost:8080/",
          "height": 419
        }
      },
      "source": [
        "example_df[\"target_new\"]=example_df['target_new'].astype(int)\n",
        "example_df"
      ],
      "execution_count": 0,
      "outputs": [
        {
          "output_type": "execute_result",
          "data": {
            "text/html": [
              "<div>\n",
              "<style scoped>\n",
              "    .dataframe tbody tr th:only-of-type {\n",
              "        vertical-align: middle;\n",
              "    }\n",
              "\n",
              "    .dataframe tbody tr th {\n",
              "        vertical-align: top;\n",
              "    }\n",
              "\n",
              "    .dataframe thead th {\n",
              "        text-align: right;\n",
              "    }\n",
              "</style>\n",
              "<table border=\"1\" class=\"dataframe\">\n",
              "  <thead>\n",
              "    <tr style=\"text-align: right;\">\n",
              "      <th></th>\n",
              "      <th>x</th>\n",
              "      <th>y</th>\n",
              "      <th>target</th>\n",
              "      <th>path</th>\n",
              "      <th>target_new</th>\n",
              "    </tr>\n",
              "  </thead>\n",
              "  <tbody>\n",
              "    <tr>\n",
              "      <th>0</th>\n",
              "      <td>1001</td>\n",
              "      <td>1001</td>\n",
              "      <td>0</td>\n",
              "      <td>/content/drive/My Drive/IDC_regular_ps50_idx5/...</td>\n",
              "      <td>0</td>\n",
              "    </tr>\n",
              "    <tr>\n",
              "      <th>1</th>\n",
              "      <td>1001</td>\n",
              "      <td>1151</td>\n",
              "      <td>0</td>\n",
              "      <td>/content/drive/My Drive/IDC_regular_ps50_idx5/...</td>\n",
              "      <td>0</td>\n",
              "    </tr>\n",
              "    <tr>\n",
              "      <th>2</th>\n",
              "      <td>1001</td>\n",
              "      <td>1551</td>\n",
              "      <td>0</td>\n",
              "      <td>/content/drive/My Drive/IDC_regular_ps50_idx5/...</td>\n",
              "      <td>0</td>\n",
              "    </tr>\n",
              "    <tr>\n",
              "      <th>3</th>\n",
              "      <td>1001</td>\n",
              "      <td>1201</td>\n",
              "      <td>0</td>\n",
              "      <td>/content/drive/My Drive/IDC_regular_ps50_idx5/...</td>\n",
              "      <td>0</td>\n",
              "    </tr>\n",
              "    <tr>\n",
              "      <th>4</th>\n",
              "      <td>1001</td>\n",
              "      <td>1301</td>\n",
              "      <td>0</td>\n",
              "      <td>/content/drive/My Drive/IDC_regular_ps50_idx5/...</td>\n",
              "      <td>0</td>\n",
              "    </tr>\n",
              "    <tr>\n",
              "      <th>...</th>\n",
              "      <td>...</td>\n",
              "      <td>...</td>\n",
              "      <td>...</td>\n",
              "      <td>...</td>\n",
              "      <td>...</td>\n",
              "    </tr>\n",
              "    <tr>\n",
              "      <th>65</th>\n",
              "      <td>851</td>\n",
              "      <td>501</td>\n",
              "      <td>1</td>\n",
              "      <td>/content/drive/My Drive/IDC_regular_ps50_idx5/...</td>\n",
              "      <td>1</td>\n",
              "    </tr>\n",
              "    <tr>\n",
              "      <th>66</th>\n",
              "      <td>851</td>\n",
              "      <td>751</td>\n",
              "      <td>1</td>\n",
              "      <td>/content/drive/My Drive/IDC_regular_ps50_idx5/...</td>\n",
              "      <td>0</td>\n",
              "    </tr>\n",
              "    <tr>\n",
              "      <th>67</th>\n",
              "      <td>851</td>\n",
              "      <td>551</td>\n",
              "      <td>1</td>\n",
              "      <td>/content/drive/My Drive/IDC_regular_ps50_idx5/...</td>\n",
              "      <td>1</td>\n",
              "    </tr>\n",
              "    <tr>\n",
              "      <th>68</th>\n",
              "      <td>851</td>\n",
              "      <td>651</td>\n",
              "      <td>1</td>\n",
              "      <td>/content/drive/My Drive/IDC_regular_ps50_idx5/...</td>\n",
              "      <td>1</td>\n",
              "    </tr>\n",
              "    <tr>\n",
              "      <th>69</th>\n",
              "      <td>901</td>\n",
              "      <td>351</td>\n",
              "      <td>1</td>\n",
              "      <td>/content/drive/My Drive/IDC_regular_ps50_idx5/...</td>\n",
              "      <td>0</td>\n",
              "    </tr>\n",
              "  </tbody>\n",
              "</table>\n",
              "<p>549 rows × 5 columns</p>\n",
              "</div>"
            ],
            "text/plain": [
              "       x     y  ...                                               path target_new\n",
              "0   1001  1001  ...  /content/drive/My Drive/IDC_regular_ps50_idx5/...          0\n",
              "1   1001  1151  ...  /content/drive/My Drive/IDC_regular_ps50_idx5/...          0\n",
              "2   1001  1551  ...  /content/drive/My Drive/IDC_regular_ps50_idx5/...          0\n",
              "3   1001  1201  ...  /content/drive/My Drive/IDC_regular_ps50_idx5/...          0\n",
              "4   1001  1301  ...  /content/drive/My Drive/IDC_regular_ps50_idx5/...          0\n",
              "..   ...   ...  ...                                                ...        ...\n",
              "65   851   501  ...  /content/drive/My Drive/IDC_regular_ps50_idx5/...          1\n",
              "66   851   751  ...  /content/drive/My Drive/IDC_regular_ps50_idx5/...          0\n",
              "67   851   551  ...  /content/drive/My Drive/IDC_regular_ps50_idx5/...          1\n",
              "68   851   651  ...  /content/drive/My Drive/IDC_regular_ps50_idx5/...          1\n",
              "69   901   351  ...  /content/drive/My Drive/IDC_regular_ps50_idx5/...          0\n",
              "\n",
              "[549 rows x 5 columns]"
            ]
          },
          "metadata": {
            "tags": []
          },
          "execution_count": 85
        }
      ]
    },
    {
      "cell_type": "code",
      "metadata": {
        "id": "juCqsahGo0ov",
        "colab_type": "code",
        "colab": {}
      },
      "source": [
        "from pandas import api \n",
        "from pandas.api import types \n",
        "from pandas.api.types import is_numeric_dtype"
      ],
      "execution_count": 0,
      "outputs": []
    },
    {
      "cell_type": "code",
      "metadata": {
        "id": "czTgJ3luo2hB",
        "colab_type": "code",
        "outputId": "35ffe3a8-092d-4505-eecd-543199e50b63",
        "colab": {
          "base_uri": "https://localhost:8080/",
          "height": 281
        }
      },
      "source": [
        "import numpy as np\n",
        "\n",
        "import matplotlib.pyplot as plt\n",
        "from  matplotlib.pyplot import scatter\n",
        "\n",
        "x=example_df['x']\n",
        "y=example_df['y']\n",
        "data = example_df[['x','y', 'target_new']]\n",
        "colors = (\"grey\", \"red\")\n",
        "groups = (\"0\",\"1\")\n",
        "\n",
        "# Create plot\n",
        "fig = plt.figure()\n",
        "ax = fig.add_subplot()\n",
        "ax.scatter(x,y, alpha=0.8, edgecolor='none', s=30, c=data.target_new )\n",
        "#for data, color, group in zip(data, colors, groups):\n",
        "# x,y=data\n",
        "#  ax.scatter(x, y, alpha=0.8, c=colors, edgecolor='none', s=30, label=group)\n",
        "plt.title('patient 10253 _predicted')\n",
        "\n",
        "\n",
        "plt.show()"
      ],
      "execution_count": 0,
      "outputs": [
        {
          "output_type": "display_data",
          "data": {
            "image/png": "[encoded data removed]",
            "text/plain": [
              "<Figure size 432x288 with 1 Axes>"
            ]
          },
          "metadata": {
            "tags": []
          }
        }
      ]
    },
    {
      "cell_type": "code",
      "metadata": {
        "id": "92Tkl_Lfo47V",
        "colab_type": "code",
        "colab": {}
      },
      "source": [
        ""
      ],
      "execution_count": 0,
      "outputs": []
    }
  ]
}