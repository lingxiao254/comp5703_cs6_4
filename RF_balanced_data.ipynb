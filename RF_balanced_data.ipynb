{
  "nbformat": 4,
  "nbformat_minor": 0,
  "metadata": {
    "colab": {
      "name": "RF_balanced_data.ipynb",
      "provenance": [],
      "collapsed_sections": []
    },
    "kernelspec": {
      "name": "python3",
      "display_name": "Python 3"
    },
    "accelerator": "GPU"
  },
  "cells": [
    {
      "cell_type": "code",
      "metadata": {
        "id": "kc_-QOokQYvq",
        "colab_type": "code",
        "colab": {}
      },
      "source": [
        "# Use GPU\n",
        "import os\n",
        "os.environ[\"CUDA_VISIBLE_DEVICES\"] = \"0\""
      ],
      "execution_count": 0,
      "outputs": []
    },
    {
      "cell_type": "code",
      "metadata": {
        "id": "Zi8z1jP-Qbrg",
        "colab_type": "code",
        "outputId": "792eee42-4726-4525-a646-7b1c3ce85a1c",
        "colab": {
          "base_uri": "https://localhost:8080/",
          "height": 224
        }
      },
      "source": [
        "!apt-get install -y -qq software-properties-common python-software-properties module-init-tools\n",
        "!add-apt-repository -y ppa:alessandro-strada/ppa 2>&1 > /dev/null\n",
        "!apt-get update -qq 2>&1 > /dev/null\n",
        "!apt-get -y install -qq google-drive-ocamlfuse fuse\n",
        "from google.colab import auth\n",
        "auth.authenticate_user()\n",
        "from oauth2client.client import GoogleCredentials\n",
        "creds = GoogleCredentials.get_application_default()\n",
        "import getpass\n",
        "!google-drive-ocamlfuse -headless -id={creds.client_id} -secret={creds.client_secret} < /dev/null 2>&1 | grep URL\n",
        "vcode = getpass.getpass()\n",
        "!echo {vcode} | google-drive-ocamlfuse -headless -id={creds.client_id} -secret={creds.client_secret}"
      ],
      "execution_count": 2,
      "outputs": [
        {
          "output_type": "stream",
          "text": [
            "E: Package 'python-software-properties' has no installation candidate\n",
            "Selecting previously unselected package google-drive-ocamlfuse.\n",
            "(Reading database ... 132681 files and directories currently installed.)\n",
            "Preparing to unpack .../google-drive-ocamlfuse_0.7.13-0ubuntu1~ubuntu18.04.1_amd64.deb ...\n",
            "Unpacking google-drive-ocamlfuse (0.7.13-0ubuntu1~ubuntu18.04.1) ...\n",
            "Setting up google-drive-ocamlfuse (0.7.13-0ubuntu1~ubuntu18.04.1) ...\n",
            "Processing triggers for man-db (2.8.3-2ubuntu0.1) ...\n",
            "Please, open the following URL in a web browser: https://accounts.google.com/o/oauth2/auth?client_id=32555940559.apps.googleusercontent.com&redirect_uri=urn%3Aietf%3Awg%3Aoauth%3A2.0%3Aoob&scope=https%3A%2F%2Fwww.googleapis.com%2Fauth%2Fdrive&response_type=code&access_type=offline&approval_prompt=force\n",
            "··········\n",
            "Please, open the following URL in a web browser: https://accounts.google.com/o/oauth2/auth?client_id=32555940559.apps.googleusercontent.com&redirect_uri=urn%3Aietf%3Awg%3Aoauth%3A2.0%3Aoob&scope=https%3A%2F%2Fwww.googleapis.com%2Fauth%2Fdrive&response_type=code&access_type=offline&approval_prompt=force\n",
            "Please enter the verification code: Access token retrieved correctly.\n"
          ],
          "name": "stdout"
        }
      ]
    },
    {
      "cell_type": "code",
      "metadata": {
        "id": "ETJTTFblQf7K",
        "colab_type": "code",
        "colab": {}
      },
      "source": [
        "!mkdir -p drive\n",
        "!google-drive-ocamlfuse -o nonempty drive"
      ],
      "execution_count": 0,
      "outputs": []
    },
    {
      "cell_type": "code",
      "metadata": {
        "id": "-mqNC4RRQmmr",
        "colab_type": "code",
        "outputId": "c942e303-f2b2-4208-cfe5-13731283cd10",
        "colab": {
          "base_uri": "https://localhost:8080/",
          "height": 122
        }
      },
      "source": [
        "from google.colab import drive\n",
        "drive.mount('/content/drive')"
      ],
      "execution_count": 4,
      "outputs": [
        {
          "output_type": "stream",
          "text": [
            "Go to this URL in a browser: https://accounts.google.com/o/oauth2/auth?client_id=947318989803-6bn6qk8qdgf4n4g3pfee6491hc0brc4i.apps.googleusercontent.com&redirect_uri=urn%3Aietf%3Awg%3Aoauth%3A2.0%3Aoob&scope=email%20https%3A%2F%2Fwww.googleapis.com%2Fauth%2Fdocs.test%20https%3A%2F%2Fwww.googleapis.com%2Fauth%2Fdrive%20https%3A%2F%2Fwww.googleapis.com%2Fauth%2Fdrive.photos.readonly%20https%3A%2F%2Fwww.googleapis.com%2Fauth%2Fpeopleapi.readonly&response_type=code\n",
            "\n",
            "Enter your authorization code:\n",
            "··········\n",
            "Mounted at /content/drive\n"
          ],
          "name": "stdout"
        }
      ]
    },
    {
      "cell_type": "code",
      "metadata": {
        "id": "t_1C_MzpRdfI",
        "colab_type": "code",
        "outputId": "099443f6-63ce-41f3-91a9-683497d75937",
        "colab": {
          "base_uri": "https://localhost:8080/",
          "height": 34
        }
      },
      "source": [
        "import os\n",
        "os.getcwd()\n",
        "os.chdir('/content/drive/My Drive/')\n",
        "os.getcwd()"
      ],
      "execution_count": 5,
      "outputs": [
        {
          "output_type": "execute_result",
          "data": {
            "text/plain": [
              "'/content/drive/My Drive'"
            ]
          },
          "metadata": {
            "tags": []
          },
          "execution_count": 5
        }
      ]
    },
    {
      "cell_type": "code",
      "metadata": {
        "id": "NBPIgrPuQmow",
        "colab_type": "code",
        "outputId": "63113f5d-cd9e-4f4f-9c00-e5328d963743",
        "colab": {
          "base_uri": "https://localhost:8080/",
          "height": 71
        }
      },
      "source": [
        "#import library\n",
        "from glob import glob\n",
        "import pandas as pd\n",
        "import numpy as np\n",
        "import fnmatch\n",
        "import cv2\n",
        "from sklearn.model_selection import train_test_split\n",
        "from sklearn.model_selection import GridSearchCV\n",
        "from imblearn.under_sampling import RandomUnderSampler\n",
        "from sklearn.ensemble import RandomForestClassifier\n",
        "from sklearn.metrics import accuracy_score\n",
        "from sklearn.metrics import accuracy_score,confusion_matrix,classification_report\n",
        "from sklearn import metrics"
      ],
      "execution_count": 6,
      "outputs": [
        {
          "output_type": "stream",
          "text": [
            "/usr/local/lib/python3.6/dist-packages/sklearn/externals/six.py:31: DeprecationWarning: The module is deprecated in version 0.21 and will be removed in version 0.23 since we've dropped support for Python 2.7. Please rely on the official version of six (https://pypi.org/project/six/).\n",
            "  \"(https://pypi.org/project/six/).\", DeprecationWarning)\n"
          ],
          "name": "stderr"
        }
      ]
    },
    {
      "cell_type": "code",
      "metadata": {
        "id": "gsgYMDl2Qmq0",
        "colab_type": "code",
        "colab": {}
      },
      "source": [
        "x_sub=np.load('X_new.npy')\n",
        "y_sub=np.load('Y_new.npy')\n",
        "x_sub=x_sub[0:40000]\n",
        "y_sub=y_sub[0:40000]"
      ],
      "execution_count": 0,
      "outputs": []
    },
    {
      "cell_type": "code",
      "metadata": {
        "id": "EQlPqLDsQms2",
        "colab_type": "code",
        "outputId": "665bb614-5f07-4db6-a214-944005525de1",
        "colab": {
          "base_uri": "https://localhost:8080/",
          "height": 68
        }
      },
      "source": [
        "x_sub = np.array(x_sub)\n",
        "x_sub_shape = x_sub.shape[1] * x_sub.shape[2] * x_sub.shape[3]\n",
        "x_flat = x_sub.reshape(x_sub.shape[0], x_sub_shape)\n",
        "r = pd.value_counts(y_sub)\n",
        "print(r)"
      ],
      "execution_count": 8,
      "outputs": [
        {
          "output_type": "stream",
          "text": [
            "0    30556\n",
            "1     9444\n",
            "dtype: int64\n"
          ],
          "name": "stdout"
        }
      ]
    },
    {
      "cell_type": "code",
      "metadata": {
        "id": "jCiCLPlBRndY",
        "colab_type": "code",
        "outputId": "da106e7f-6717-47e8-983d-1fc488973ef4",
        "colab": {
          "base_uri": "https://localhost:8080/",
          "height": 68
        }
      },
      "source": [
        "rus=RandomUnderSampler(ratio='auto')\n",
        "x_flat_resample,y_sub_resample=rus.fit_sample(x_flat,y_sub)\n",
        "len(x_flat_resample)\n",
        "r = pd.value_counts(y_sub_resample)\n",
        "print(r)"
      ],
      "execution_count": 9,
      "outputs": [
        {
          "output_type": "stream",
          "text": [
            "1    9444\n",
            "0    9444\n",
            "dtype: int64\n"
          ],
          "name": "stdout"
        }
      ]
    },
    {
      "cell_type": "code",
      "metadata": {
        "id": "_IHzXaGpRn9I",
        "colab_type": "code",
        "colab": {}
      },
      "source": [
        "#split\n",
        "from numpy import random\n",
        "random.seed(1)\n",
        "x_train,x_test,y_train,y_test=train_test_split(x_flat_resample,y_sub_resample,test_size=0.2)"
      ],
      "execution_count": 0,
      "outputs": []
    },
    {
      "cell_type": "code",
      "metadata": {
        "id": "jDl0WzaR3jCy",
        "colab_type": "code",
        "outputId": "e99ccaa8-ff02-422e-894d-bb1f8d1f9962",
        "colab": {
          "base_uri": "https://localhost:8080/",
          "height": 85
        }
      },
      "source": [
        "print(len(x_train))\n",
        "print(len(x_test))\n",
        "print(len(y_train))\n",
        "print(len(y_test))"
      ],
      "execution_count": 11,
      "outputs": [
        {
          "output_type": "stream",
          "text": [
            "15110\n",
            "3778\n",
            "15110\n",
            "3778\n"
          ],
          "name": "stdout"
        }
      ]
    },
    {
      "cell_type": "code",
      "metadata": {
        "id": "PdiEBYClRq0M",
        "colab_type": "code",
        "colab": {}
      },
      "source": [
        "#random forest\n",
        "rf=RandomForestClassifier(n_estimators=20,max_depth=50,max_features='auto')\n",
        "rf.fit(x_train,y_train)"
      ],
      "execution_count": 0,
      "outputs": []
    },
    {
      "cell_type": "code",
      "metadata": {
        "id": "4ToHMQnTRtJ-",
        "colab_type": "code",
        "colab": {}
      },
      "source": [
        "test_prediction=rf.predict(x_test)\n",
        "print(accuracy_score(y_test,test_prediction))\n",
        "print(confusion_matrix(y_test,test_prediction))\n",
        "print(metrics.classification_report(y_test,test_prediction))"
      ],
      "execution_count": 0,
      "outputs": []
    },
    {
      "cell_type": "code",
      "metadata": {
        "id": "M1HNJiIGRvku",
        "colab_type": "code",
        "colab": {}
      },
      "source": [
        "#Tuning Parameter\n",
        "test1={'n_estimators':range(10,100,10)}\n",
        "grid_search1 = GridSearchCV(estimator = RandomForestClassifier(min_samples_split=100,min_samples_leaf=20,max_depth=8,max_features='auto' ,random_state=20),param_grid =test1, scoring='roc_auc',cv=5)\n",
        "grid_search1.fit(x_train,y_train)\n",
        "grid_search1.best_params_\n",
        "rf1=RandomForestClassifier(n_estimators=90,max_depth=8,min_samples_split=100,max_features='auto')\n",
        "rf1.fit(x_train,y_train)\n",
        "test_prediction1=rf1.predict(x_test)\n",
        "print('accuracy_1:',accuracy_score(y_test,test_prediction1))"
      ],
      "execution_count": 0,
      "outputs": []
    },
    {
      "cell_type": "code",
      "metadata": {
        "id": "ZexE3EcfR7Ps",
        "colab_type": "code",
        "colab": {}
      },
      "source": [
        "test2 = {'max_depth':range(50,201,50), 'min_samples_split':range(50,201,50)}\n",
        "grid_search2= GridSearchCV(estimator = RandomForestClassifier(n_estimators= 90,min_samples_leaf=20,max_features='sqrt' ,oob_score=True, random_state=20),param_grid=test2, scoring='roc_auc',iid=False, cv=5)\n",
        "grid_search2.fit(x_train,y_train)\n",
        "grid_search2.best_params_\n",
        "rf2=RandomForestClassifier(n_estimators=90,max_depth=50,min_samples_split=50,max_features='auto')\n",
        "rf2.fit(x_train,y_train)\n",
        "test_prediction2=rf2.predict(x_test)\n",
        "print('accuracy_2:',accuracy_score(y_test,test_prediction2))\n"
      ],
      "execution_count": 0,
      "outputs": []
    },
    {
      "cell_type": "code",
      "metadata": {
        "id": "vfA7tmboRvnR",
        "colab_type": "code",
        "colab": {}
      },
      "source": [
        "test3={'min_samples_split':range(10,100,30), 'min_samples_leaf':range(10,100,30)}\n",
        "grid_search3 = GridSearchCV(estimator = RandomForestClassifier(n_estimators= 90, max_depth=50,max_features='auto' ,oob_score=True, random_state=20),param_grid =test3, scoring='roc_auc',iid=False, cv=5)\n",
        "grid_search3.fit(x_train,y_train)\n",
        "grid_search3.best_params_"
      ],
      "execution_count": 0,
      "outputs": []
    },
    {
      "cell_type": "code",
      "metadata": {
        "id": "JLq9hlcLRvpj",
        "colab_type": "code",
        "outputId": "c4fa8979-40ec-4963-a188-9ed76fd6632a",
        "colab": {
          "base_uri": "https://localhost:8080/",
          "height": 221
        }
      },
      "source": [
        "rf3=RandomForestClassifier(n_estimators=90,max_depth=50,min_samples_split=10,min_samples_leaf=10,max_features='auto')\n",
        "rf3.fit(x_train,y_train)\n",
        "test_prediction3=rf3.predict(x_test)\n",
        "print('accuracy_3:',accuracy_score(y_test,test_prediction3))\n",
        "print(confusion_matrix(y_test,test_prediction3))\n",
        "print(metrics.classification_report(y_test,test_prediction3))"
      ],
      "execution_count": 12,
      "outputs": [
        {
          "output_type": "stream",
          "text": [
            "accuracy_3: 0.8028057173107465\n",
            "[[1493  397]\n",
            " [ 348 1540]]\n",
            "              precision    recall  f1-score   support\n",
            "\n",
            "           0       0.81      0.79      0.80      1890\n",
            "           1       0.80      0.82      0.81      1888\n",
            "\n",
            "    accuracy                           0.80      3778\n",
            "   macro avg       0.80      0.80      0.80      3778\n",
            "weighted avg       0.80      0.80      0.80      3778\n",
            "\n"
          ],
          "name": "stdout"
        }
      ]
    },
    {
      "cell_type": "code",
      "metadata": {
        "id": "26PB-eq-R4kQ",
        "colab_type": "code",
        "colab": {}
      },
      "source": [
        "from sklearn import metrics\n",
        "from sklearn.metrics import precision_score\n",
        "from sklearn.metrics import recall_score\n",
        "from sklearn.metrics import f1_score\n",
        "from sklearn.metrics import cohen_kappa_score\n",
        "from sklearn.metrics import roc_auc_score\n",
        "import itertools\n",
        "from sklearn.metrics import accuracy_score,confusion_matrix,classification_report\n",
        "import matplotlib.pyplot as plt\n",
        "def plot_cm(cm, classes, normalize=False, title='Confusion matrix', cmap=plt.cm.Blues):\n",
        "    plt.figure(figsize = (5,5))\n",
        "    plt.imshow(cm, interpolation='nearest', cmap=cmap)\n",
        "    plt.title(title)\n",
        "    plt.colorbar()\n",
        "    tick_marks = np.arange(len(classes))\n",
        "    plt.xticks(tick_marks, classes, rotation=90)\n",
        "    plt.yticks(tick_marks, classes)\n",
        "    if normalize:\n",
        "        cm = cm.astype('float') / cm.sum(axis=1)[:, np.newaxis]\n",
        "\n",
        "    thresh = cm.max() / 2.\n",
        "    for i, j in itertools.product(range(cm.shape[0]), range(cm.shape[1])):\n",
        "        plt.text(j, i, cm[i, j],\n",
        "                 horizontalalignment=\"center\",\n",
        "                 color=\"white\" if cm[i, j] > thresh else \"black\")\n",
        "    plt.tight_layout()\n",
        "    plt.ylabel('True label')\n",
        "    plt.xlabel('Predicted label')\n",
        "    \n",
        "def plot_lc(history):\n",
        "    plt.figure(figsize=(8,8))\n",
        "    plt.subplot(1,2,1)\n",
        "    plt.plot(history.history['acc'])\n",
        "    plt.plot(history.history['val_acc'])\n",
        "    plt.title('model accuracy')\n",
        "    plt.ylabel('accuracy')\n",
        "    plt.xlabel('epoch')\n",
        "    plt.legend(['train', 'test'], loc='upper left')\n",
        "    plt.savefig('./accuracy_curve.png')\n",
        "    plt.subplot(1,2,2)\n",
        "    plt.plot(history.history['loss'])\n",
        "    plt.plot(history.history['val_loss'])\n",
        "    plt.title('model loss')\n",
        "    plt.ylabel('loss')\n",
        "    plt.xlabel('epoch')\n",
        "    plt.legend(['train', 'test'], loc='upper left')"
      ],
      "execution_count": 0,
      "outputs": []
    },
    {
      "cell_type": "code",
      "metadata": {
        "id": "UmR5wsqu3_nn",
        "colab_type": "code",
        "outputId": "182e259b-5dbf-4d5b-b839-e3c2bf0bbd8b",
        "colab": {
          "base_uri": "https://localhost:8080/",
          "height": 369
        }
      },
      "source": [
        "dict_characters = {0: 'IDC(-)', 1: 'IDC(+)'}\n",
        "confusion_mtx = confusion_matrix(y_test, test_prediction3) \n",
        "plot_cm(confusion_mtx, classes = list(dict_characters.values())) \n",
        "plt.show()\n"
      ],
      "execution_count": 0,
      "outputs": [
        {
          "output_type": "display_data",
          "data": {
            "image/png": "[encoded data removed]",
            "text/plain": [
              "<Figure size 360x360 with 2 Axes>"
            ]
          },
          "metadata": {
            "tags": []
          }
        }
      ]
    },
    {
      "cell_type": "code",
      "metadata": {
        "id": "5F6TnGnN4JQY",
        "colab_type": "code",
        "colab": {}
      },
      "source": [
        ""
      ],
      "execution_count": 0,
      "outputs": []
    }
  ]
}